{
  "nbformat": 4,
  "nbformat_minor": 0,
  "metadata": {
    "colab": {
      "provenance": [],
      "toc_visible": true,
      "authorship_tag": "ABX9TyPOx7xlFJL+MJCSvYrFbUmj",
      "include_colab_link": true
    },
    "kernelspec": {
      "name": "python3",
      "display_name": "Python 3"
    },
    "language_info": {
      "name": "python"
    }
  },
  "cells": [
    {
      "cell_type": "markdown",
      "metadata": {
        "id": "view-in-github",
        "colab_type": "text"
      },
      "source": [
        "<a href=\"https://colab.research.google.com/github/kkarp9/CYSE635-Group7-DataBusters/blob/main/src/Data_Busters_CYSE635_Project.ipynb\" target=\"_parent\"><img src=\"https://colab.research.google.com/assets/colab-badge.svg\" alt=\"Open In Colab\"/></a>"
      ]
    },
    {
      "cell_type": "markdown",
      "source": [
        "# Data Busters - Not Demure, Not Mindful (Group 9): Data Poisoning Attack\n",
        "## Macky Castro and Kurt Karpin\n",
        "## CYSE 635"
      ],
      "metadata": {
        "id": "f1SVwQKncWK7"
      }
    },
    {
      "cell_type": "markdown",
      "source": [
        "# Part 1: Email Dataset Setup"
      ],
      "metadata": {
        "id": "HqSFiALNA69H"
      }
    },
    {
      "cell_type": "markdown",
      "source": [
        "**Import All Applicable Libraries for Project**"
      ],
      "metadata": {
        "id": "TMsoeOR9c3XD"
      }
    },
    {
      "cell_type": "code",
      "execution_count": 6,
      "metadata": {
        "id": "TG4JZmZmZGMU"
      },
      "outputs": [],
      "source": [
        "import pandas as pd # pandas is used to deal with datasets, dataframes\n",
        "import numpy as np # deal to numbers and large arrays\n",
        "import matplotlib.pyplot as plt # to draw any plot\n",
        "import seaborn as sns # to draw any plot\n",
        "import warnings\n",
        "from sklearn.preprocessing import LabelEncoder\n",
        "from pandas.plotting import scatter_matrix\n",
        "from sklearn.model_selection import train_test_split\n",
        "from sklearn.metrics import confusion_matrix\n",
        "from sklearn.metrics import accuracy_score, classification_report\n",
        "from sklearn.linear_model import LogisticRegression\n",
        "from sklearn.svm import SVC\n",
        "\n",
        "from sklearn.neighbors import KNeighborsClassifier"
      ]
    },
    {
      "cell_type": "markdown",
      "source": [
        "**Check if running on Google Collab or Locally such as VScode**"
      ],
      "metadata": {
        "id": "e_aAq5dzc-Iz"
      }
    },
    {
      "cell_type": "code",
      "source": [
        "from google.colab import files\n",
        "environment = 0\n",
        "while environment != '1' or environment != '2':\n",
        "  environment = input('Press 1 if this is running on Google Collab or 2 if running locally.')\n",
        "  if environment == '1' or environment == '2':\n",
        "    break\n",
        "  else:\n",
        "    print('Invalid Input. Please try again.')\n",
        "if environment == '1':\n",
        "  uploaded = files.upload()"
      ],
      "metadata": {
        "colab": {
          "base_uri": "https://localhost:8080/",
          "height": 123
        },
        "id": "uKjWUbKbc789",
        "outputId": "5091a37e-12e2-43ea-83ff-3f2c03598433"
      },
      "execution_count": 8,
      "outputs": [
        {
          "name": "stdout",
          "output_type": "stream",
          "text": [
            "Press 1 if this is running on Google Collab or 2 if running locally.3\n",
            "Invalid Input. Please try again.\n",
            "Press 1 if this is running on Google Collab or 2 if running locally.1\n"
          ]
        },
        {
          "output_type": "display_data",
          "data": {
            "text/plain": [
              "<IPython.core.display.HTML object>"
            ],
            "text/html": [
              "\n",
              "     <input type=\"file\" id=\"files-aa71b4d1-c8fc-4d51-afe7-6cb6bee50163\" name=\"files[]\" multiple disabled\n",
              "        style=\"border:none\" />\n",
              "     <output id=\"result-aa71b4d1-c8fc-4d51-afe7-6cb6bee50163\">\n",
              "      Upload widget is only available when the cell has been executed in the\n",
              "      current browser session. Please rerun this cell to enable.\n",
              "      </output>\n",
              "      <script>// Copyright 2017 Google LLC\n",
              "//\n",
              "// Licensed under the Apache License, Version 2.0 (the \"License\");\n",
              "// you may not use this file except in compliance with the License.\n",
              "// You may obtain a copy of the License at\n",
              "//\n",
              "//      http://www.apache.org/licenses/LICENSE-2.0\n",
              "//\n",
              "// Unless required by applicable law or agreed to in writing, software\n",
              "// distributed under the License is distributed on an \"AS IS\" BASIS,\n",
              "// WITHOUT WARRANTIES OR CONDITIONS OF ANY KIND, either express or implied.\n",
              "// See the License for the specific language governing permissions and\n",
              "// limitations under the License.\n",
              "\n",
              "/**\n",
              " * @fileoverview Helpers for google.colab Python module.\n",
              " */\n",
              "(function(scope) {\n",
              "function span(text, styleAttributes = {}) {\n",
              "  const element = document.createElement('span');\n",
              "  element.textContent = text;\n",
              "  for (const key of Object.keys(styleAttributes)) {\n",
              "    element.style[key] = styleAttributes[key];\n",
              "  }\n",
              "  return element;\n",
              "}\n",
              "\n",
              "// Max number of bytes which will be uploaded at a time.\n",
              "const MAX_PAYLOAD_SIZE = 100 * 1024;\n",
              "\n",
              "function _uploadFiles(inputId, outputId) {\n",
              "  const steps = uploadFilesStep(inputId, outputId);\n",
              "  const outputElement = document.getElementById(outputId);\n",
              "  // Cache steps on the outputElement to make it available for the next call\n",
              "  // to uploadFilesContinue from Python.\n",
              "  outputElement.steps = steps;\n",
              "\n",
              "  return _uploadFilesContinue(outputId);\n",
              "}\n",
              "\n",
              "// This is roughly an async generator (not supported in the browser yet),\n",
              "// where there are multiple asynchronous steps and the Python side is going\n",
              "// to poll for completion of each step.\n",
              "// This uses a Promise to block the python side on completion of each step,\n",
              "// then passes the result of the previous step as the input to the next step.\n",
              "function _uploadFilesContinue(outputId) {\n",
              "  const outputElement = document.getElementById(outputId);\n",
              "  const steps = outputElement.steps;\n",
              "\n",
              "  const next = steps.next(outputElement.lastPromiseValue);\n",
              "  return Promise.resolve(next.value.promise).then((value) => {\n",
              "    // Cache the last promise value to make it available to the next\n",
              "    // step of the generator.\n",
              "    outputElement.lastPromiseValue = value;\n",
              "    return next.value.response;\n",
              "  });\n",
              "}\n",
              "\n",
              "/**\n",
              " * Generator function which is called between each async step of the upload\n",
              " * process.\n",
              " * @param {string} inputId Element ID of the input file picker element.\n",
              " * @param {string} outputId Element ID of the output display.\n",
              " * @return {!Iterable<!Object>} Iterable of next steps.\n",
              " */\n",
              "function* uploadFilesStep(inputId, outputId) {\n",
              "  const inputElement = document.getElementById(inputId);\n",
              "  inputElement.disabled = false;\n",
              "\n",
              "  const outputElement = document.getElementById(outputId);\n",
              "  outputElement.innerHTML = '';\n",
              "\n",
              "  const pickedPromise = new Promise((resolve) => {\n",
              "    inputElement.addEventListener('change', (e) => {\n",
              "      resolve(e.target.files);\n",
              "    });\n",
              "  });\n",
              "\n",
              "  const cancel = document.createElement('button');\n",
              "  inputElement.parentElement.appendChild(cancel);\n",
              "  cancel.textContent = 'Cancel upload';\n",
              "  const cancelPromise = new Promise((resolve) => {\n",
              "    cancel.onclick = () => {\n",
              "      resolve(null);\n",
              "    };\n",
              "  });\n",
              "\n",
              "  // Wait for the user to pick the files.\n",
              "  const files = yield {\n",
              "    promise: Promise.race([pickedPromise, cancelPromise]),\n",
              "    response: {\n",
              "      action: 'starting',\n",
              "    }\n",
              "  };\n",
              "\n",
              "  cancel.remove();\n",
              "\n",
              "  // Disable the input element since further picks are not allowed.\n",
              "  inputElement.disabled = true;\n",
              "\n",
              "  if (!files) {\n",
              "    return {\n",
              "      response: {\n",
              "        action: 'complete',\n",
              "      }\n",
              "    };\n",
              "  }\n",
              "\n",
              "  for (const file of files) {\n",
              "    const li = document.createElement('li');\n",
              "    li.append(span(file.name, {fontWeight: 'bold'}));\n",
              "    li.append(span(\n",
              "        `(${file.type || 'n/a'}) - ${file.size} bytes, ` +\n",
              "        `last modified: ${\n",
              "            file.lastModifiedDate ? file.lastModifiedDate.toLocaleDateString() :\n",
              "                                    'n/a'} - `));\n",
              "    const percent = span('0% done');\n",
              "    li.appendChild(percent);\n",
              "\n",
              "    outputElement.appendChild(li);\n",
              "\n",
              "    const fileDataPromise = new Promise((resolve) => {\n",
              "      const reader = new FileReader();\n",
              "      reader.onload = (e) => {\n",
              "        resolve(e.target.result);\n",
              "      };\n",
              "      reader.readAsArrayBuffer(file);\n",
              "    });\n",
              "    // Wait for the data to be ready.\n",
              "    let fileData = yield {\n",
              "      promise: fileDataPromise,\n",
              "      response: {\n",
              "        action: 'continue',\n",
              "      }\n",
              "    };\n",
              "\n",
              "    // Use a chunked sending to avoid message size limits. See b/62115660.\n",
              "    let position = 0;\n",
              "    do {\n",
              "      const length = Math.min(fileData.byteLength - position, MAX_PAYLOAD_SIZE);\n",
              "      const chunk = new Uint8Array(fileData, position, length);\n",
              "      position += length;\n",
              "\n",
              "      const base64 = btoa(String.fromCharCode.apply(null, chunk));\n",
              "      yield {\n",
              "        response: {\n",
              "          action: 'append',\n",
              "          file: file.name,\n",
              "          data: base64,\n",
              "        },\n",
              "      };\n",
              "\n",
              "      let percentDone = fileData.byteLength === 0 ?\n",
              "          100 :\n",
              "          Math.round((position / fileData.byteLength) * 100);\n",
              "      percent.textContent = `${percentDone}% done`;\n",
              "\n",
              "    } while (position < fileData.byteLength);\n",
              "  }\n",
              "\n",
              "  // All done.\n",
              "  yield {\n",
              "    response: {\n",
              "      action: 'complete',\n",
              "    }\n",
              "  };\n",
              "}\n",
              "\n",
              "scope.google = scope.google || {};\n",
              "scope.google.colab = scope.google.colab || {};\n",
              "scope.google.colab._files = {\n",
              "  _uploadFiles,\n",
              "  _uploadFilesContinue,\n",
              "};\n",
              "})(self);\n",
              "</script> "
            ]
          },
          "metadata": {}
        },
        {
          "output_type": "stream",
          "name": "stdout",
          "text": [
            "Saving Phishing_Email.csv to Phishing_Email.csv\n"
          ]
        }
      ]
    },
    {
      "cell_type": "markdown",
      "source": [
        "**Check the current working directory using os.getcwd() and check all the files in the /content/ directory**\n"
      ],
      "metadata": {
        "id": "qQN1h-OUdG8y"
      }
    },
    {
      "cell_type": "code",
      "source": [
        "import os\n",
        "\n",
        "curr_dir = os.getcwd()\n",
        "print(curr_dir)\n",
        "\n"
      ],
      "metadata": {
        "colab": {
          "base_uri": "https://localhost:8080/"
        },
        "id": "cMBOLpZ8dSWm",
        "outputId": "457955bd-af7c-4537-8278-3c4dc3788165"
      },
      "execution_count": 9,
      "outputs": [
        {
          "output_type": "stream",
          "name": "stdout",
          "text": [
            "/content\n"
          ]
        }
      ]
    },
    {
      "cell_type": "code",
      "source": [
        "ls -al /content/"
      ],
      "metadata": {
        "id": "eWzwf0fSeUl7",
        "outputId": "c53c85a5-2e75-4153-fbe9-4c8165344515",
        "colab": {
          "base_uri": "https://localhost:8080/"
        }
      },
      "execution_count": 10,
      "outputs": [
        {
          "output_type": "stream",
          "name": "stdout",
          "text": [
            "total 50832\n",
            "drwxr-xr-x 1 root root     4096 Dec  1 00:12 \u001b[0m\u001b[01;34m.\u001b[0m/\n",
            "drwxr-xr-x 1 root root     4096 Nov 30 23:54 \u001b[01;34m..\u001b[0m/\n",
            "drwxr-xr-x 4 root root     4096 Nov 25 19:13 \u001b[01;34m.config\u001b[0m/\n",
            "-rw-r--r-- 1 root root 52034604 Dec  1 00:12 Phishing_Email.csv\n",
            "drwxr-xr-x 1 root root     4096 Nov 25 19:13 \u001b[01;34msample_data\u001b[0m/\n"
          ]
        }
      ]
    },
    {
      "cell_type": "markdown",
      "source": [
        "**Read the Phishing CSV files from the `/content/` directory**"
      ],
      "metadata": {
        "id": "zZ8OTfUmArO1"
      }
    },
    {
      "cell_type": "code",
      "source": [
        "if environment == '1':\n",
        "  df = pd.read_csv('/content/Phishing_Email.csv')\n",
        "else:\n",
        "  # assumes csv file is in the same directory locally as this notebook file\n",
        "  df = pd.read_csv('Phishing_Email.csv')\n",
        "\n",
        "print(f'Email shape: {df.shape}')\n",
        "print(f'Top 5 rows of emails:\\n {df.head(5)}')\n",
        "df.columns"
      ],
      "metadata": {
        "colab": {
          "base_uri": "https://localhost:8080/"
        },
        "id": "RYgJu0Li_nlh",
        "outputId": "e89669f3-293c-4783-eef6-ee453ea3a215"
      },
      "execution_count": 11,
      "outputs": [
        {
          "output_type": "stream",
          "name": "stdout",
          "text": [
            "Email shape: (18650, 3)\n",
            "Top 5 rows of emails:\n",
            "    Unnamed: 0                                         Email Text  \\\n",
            "0           0  re : 6 . 1100 , disc : uniformitarianism , re ...   \n",
            "1           1  the other side of * galicismos * * galicismo *...   \n",
            "2           2  re : equistar deal tickets are you still avail...   \n",
            "3           3  \\nHello I am your hot lil horny toy.\\n    I am...   \n",
            "4           4  software at incredibly low prices ( 86 % lower...   \n",
            "\n",
            "       Email Type  \n",
            "0      Safe Email  \n",
            "1      Safe Email  \n",
            "2      Safe Email  \n",
            "3  Phishing Email  \n",
            "4  Phishing Email  \n"
          ]
        },
        {
          "output_type": "execute_result",
          "data": {
            "text/plain": [
              "Index(['Unnamed: 0', 'Email Text', 'Email Type'], dtype='object')"
            ]
          },
          "metadata": {},
          "execution_count": 11
        }
      ]
    },
    {
      "cell_type": "markdown",
      "source": [
        "**Clean up DataFrame**"
      ],
      "metadata": {
        "id": "lpbOwOK7CiH2"
      }
    },
    {
      "cell_type": "code",
      "source": [
        "df = df.drop(labels = ['Unnamed: 0'], axis = 1)\n",
        "print(f'Updated Email shape: {df.shape}')\n",
        "print(f'Updated Top 5 rows of emails:\\n {df.head(5)}')\n",
        "\n",
        "og_size = len(df)\n",
        "# drop empty and duplicated email entries\n",
        "df = df.dropna()\n",
        "df = df.drop_duplicates()\n",
        "print(f'Post Clean Email shape: {df.shape}')\n",
        "\n",
        "curr_size = len(df)\n",
        "print(f'Size Difference: {og_size - curr_size}')\n",
        "print(f'Rate of Data Loss: {(og_size - curr_size) / og_size}')\n"
      ],
      "metadata": {
        "colab": {
          "base_uri": "https://localhost:8080/"
        },
        "id": "2_AmZs7uCq39",
        "outputId": "054c717e-b171-4faf-efea-912591af061a"
      },
      "execution_count": 12,
      "outputs": [
        {
          "output_type": "stream",
          "name": "stdout",
          "text": [
            "Updated Email shape: (18650, 2)\n",
            "Updated Top 5 rows of emails:\n",
            "                                           Email Text      Email Type\n",
            "0  re : 6 . 1100 , disc : uniformitarianism , re ...      Safe Email\n",
            "1  the other side of * galicismos * * galicismo *...      Safe Email\n",
            "2  re : equistar deal tickets are you still avail...      Safe Email\n",
            "3  \\nHello I am your hot lil horny toy.\\n    I am...  Phishing Email\n",
            "4  software at incredibly low prices ( 86 % lower...  Phishing Email\n",
            "Post Clean Email shape: (17538, 2)\n",
            "Size Difference: 1112\n",
            "Rate of Data Loss: 0.05962466487935657\n"
          ]
        }
      ]
    },
    {
      "cell_type": "markdown",
      "source": [
        "**Confirm the Labels Under Set**\n",
        "\n",
        "\n",
        "This shows that there are only 2 unique labels meaning this is a binary classification."
      ],
      "metadata": {
        "id": "nIUWfcsDDhmM"
      }
    },
    {
      "cell_type": "code",
      "source": [
        "email_types = df['Email Type'].unique()\n",
        "\n",
        "print(f\"Unique Email Labels:\\n{email_types}\")"
      ],
      "metadata": {
        "colab": {
          "base_uri": "https://localhost:8080/"
        },
        "id": "80ICghvcDlPG",
        "outputId": "5544550c-4e2d-4eb9-cf6d-e1af19136d86"
      },
      "execution_count": 13,
      "outputs": [
        {
          "output_type": "stream",
          "name": "stdout",
          "text": [
            "Unique Email Labels:\n",
            "['Safe Email' 'Phishing Email']\n"
          ]
        }
      ]
    },
    {
      "cell_type": "markdown",
      "source": [
        "**Data Visualization**\n",
        "\n",
        "Pie Chart to see how many Phishing and Safe emails are there."
      ],
      "metadata": {
        "id": "RLWxYm-MF9nQ"
      }
    },
    {
      "cell_type": "code",
      "source": [
        "print('Pie Chart of Safe and Phishing Emails')\n",
        "ratio = df['Email Type'].value_counts()\n",
        "plt.pie(ratio, labels = ratio.index, autopct = '%1.0f%%')\n",
        "\n",
        "plt.show()"
      ],
      "metadata": {
        "colab": {
          "base_uri": "https://localhost:8080/",
          "height": 423
        },
        "id": "2NDwrBYkGHmO",
        "outputId": "2aeaf1f7-18cf-438c-c9be-b237e55cfda3"
      },
      "execution_count": 14,
      "outputs": [
        {
          "output_type": "stream",
          "name": "stdout",
          "text": [
            "Pie Chart of Safe and Phishing Emails\n"
          ]
        },
        {
          "output_type": "display_data",
          "data": {
            "text/plain": [
              "<Figure size 640x480 with 1 Axes>"
            ],
            "image/png": "[encoded data removed]"
          },
          "metadata": {}
        }
      ]
    },
    {
      "cell_type": "markdown",
      "source": [
        "**Bar Chart Visualization**"
      ],
      "metadata": {
        "id": "5bTGk_9RxcAF"
      }
    },
    {
      "cell_type": "code",
      "source": [
        "plt.bar(['Safe Email', 'Phising Email'], [(df['Email Type'] == 'Safe Email').sum(), (df['Email Type'] == 'Phishing Email').sum()], color=['green', 'red'])\n",
        "plt.xlabel('Email Type')\n",
        "plt.ylabel('Count')\n",
        "plt.show()"
      ],
      "metadata": {
        "colab": {
          "base_uri": "https://localhost:8080/",
          "height": 449
        },
        "id": "6qjZprgJxa5d",
        "outputId": "16ad37c5-5dd1-4d8b-db94-d60b2c4639ed"
      },
      "execution_count": 15,
      "outputs": [
        {
          "output_type": "display_data",
          "data": {
            "text/plain": [
              "<Figure size 640x480 with 1 Axes>"
            ],
            "image/png": "[encoded data removed]"
          },
          "metadata": {}
        }
      ]
    },
    {
      "cell_type": "markdown",
      "source": [
        "**Label Encoding**"
      ],
      "metadata": {
        "id": "nbPWkFGVI9zd"
      }
    },
    {
      "cell_type": "markdown",
      "source": [
        "# Part 2: Initial Machine Learning Model"
      ],
      "metadata": {
        "id": "MTQa6130GcEp"
      }
    },
    {
      "cell_type": "code",
      "source": [
        "# split Email Type column to model\n",
        "\n",
        "X = df['Email Text'].values\n",
        "Y = df['Email Type'].values\n",
        "print(X.shape)\n",
        "print(Y.shape)\n",
        "\n",
        "X_train, X_test, y_train, y_test = train_test_split(X, Y, test_size=0.2, random_state = 101)\n",
        "print(\"\\n X_train Shape: \", X_train.shape)\n",
        "\n",
        "print(\"\\n X_test Shape: \", X_test.shape)\n",
        "\n",
        "print(\"\\n y_train  Shape: \", y_train.shape)\n",
        "print(\"\\n y_test Shape: \", y_test.shape)"
      ],
      "metadata": {
        "colab": {
          "base_uri": "https://localhost:8080/"
        },
        "id": "oMkOiMJsGpkF",
        "outputId": "cac546d5-64e0-4e67-e02a-8fdfcfd1b904"
      },
      "execution_count": 16,
      "outputs": [
        {
          "output_type": "stream",
          "name": "stdout",
          "text": [
            "(17538,)\n",
            "(17538,)\n",
            "\n",
            " X_train Shape:  (14030,)\n",
            "\n",
            " X_test Shape:  (3508,)\n",
            "\n",
            " y_train  Shape:  (14030,)\n",
            "\n",
            " y_test Shape:  (3508,)\n"
          ]
        }
      ]
    },
    {
      "cell_type": "code",
      "source": [
        "# Importing Libraries for the model ,Tfidf and Pipeline\n",
        "from sklearn.ensemble import RandomForestClassifier\n",
        "from sklearn.feature_extraction.text import TfidfVectorizer\n",
        "from sklearn.pipeline import Pipeline\n",
        "\n",
        "# define the Classifier\n",
        "classifier = Pipeline([(\"tfidf\",TfidfVectorizer() ),(\"classifier\",RandomForestClassifier(n_estimators=10))])# add another hyperparamters as U want"
      ],
      "metadata": {
        "id": "TnEtCQW5KDmc"
      },
      "execution_count": 17,
      "outputs": []
    },
    {
      "cell_type": "code",
      "source": [
        "# Trian Our model\n",
        "classifier.fit(X_train,y_train)"
      ],
      "metadata": {
        "colab": {
          "base_uri": "https://localhost:8080/",
          "height": 144
        },
        "id": "G6RmBCZ_MxXA",
        "outputId": "7e904478-bacf-4186-c348-6032e20b581b"
      },
      "execution_count": 18,
      "outputs": [
        {
          "output_type": "execute_result",
          "data": {
            "text/plain": [
              "Pipeline(steps=[('tfidf', TfidfVectorizer()),\n",
              "                ('classifier', RandomForestClassifier(n_estimators=10))])"
            ],
            "text/html": [
              "<style>#sk-container-id-1 {\n",
              "  /* Definition of color scheme common for light and dark mode */\n",
              "  --sklearn-color-text: black;\n",
              "  --sklearn-color-line: gray;\n",
              "  /* Definition of color scheme for unfitted estimators */\n",
              "  --sklearn-color-unfitted-level-0: #fff5e6;\n",
              "  --sklearn-color-unfitted-level-1: #f6e4d2;\n",
              "  --sklearn-color-unfitted-level-2: #ffe0b3;\n",
              "  --sklearn-color-unfitted-level-3: chocolate;\n",
              "  /* Definition of color scheme for fitted estimators */\n",
              "  --sklearn-color-fitted-level-0: #f0f8ff;\n",
              "  --sklearn-color-fitted-level-1: #d4ebff;\n",
              "  --sklearn-color-fitted-level-2: #b3dbfd;\n",
              "  --sklearn-color-fitted-level-3: cornflowerblue;\n",
              "\n",
              "  /* Specific color for light theme */\n",
              "  --sklearn-color-text-on-default-background: var(--sg-text-color, var(--theme-code-foreground, var(--jp-content-font-color1, black)));\n",
              "  --sklearn-color-background: var(--sg-background-color, var(--theme-background, var(--jp-layout-color0, white)));\n",
              "  --sklearn-color-border-box: var(--sg-text-color, var(--theme-code-foreground, var(--jp-content-font-color1, black)));\n",
              "  --sklearn-color-icon: #696969;\n",
              "\n",
              "  @media (prefers-color-scheme: dark) {\n",
              "    /* Redefinition of color scheme for dark theme */\n",
              "    --sklearn-color-text-on-default-background: var(--sg-text-color, var(--theme-code-foreground, var(--jp-content-font-color1, white)));\n",
              "    --sklearn-color-background: var(--sg-background-color, var(--theme-background, var(--jp-layout-color0, #111)));\n",
              "    --sklearn-color-border-box: var(--sg-text-color, var(--theme-code-foreground, var(--jp-content-font-color1, white)));\n",
              "    --sklearn-color-icon: #878787;\n",
              "  }\n",
              "}\n",
              "\n",
              "#sk-container-id-1 {\n",
              "  color: var(--sklearn-color-text);\n",
              "}\n",
              "\n",
              "#sk-container-id-1 pre {\n",
              "  padding: 0;\n",
              "}\n",
              "\n",
              "#sk-container-id-1 input.sk-hidden--visually {\n",
              "  border: 0;\n",
              "  clip: rect(1px 1px 1px 1px);\n",
              "  clip: rect(1px, 1px, 1px, 1px);\n",
              "  height: 1px;\n",
              "  margin: -1px;\n",
              "  overflow: hidden;\n",
              "  padding: 0;\n",
              "  position: absolute;\n",
              "  width: 1px;\n",
              "}\n",
              "\n",
              "#sk-container-id-1 div.sk-dashed-wrapped {\n",
              "  border: 1px dashed var(--sklearn-color-line);\n",
              "  margin: 0 0.4em 0.5em 0.4em;\n",
              "  box-sizing: border-box;\n",
              "  padding-bottom: 0.4em;\n",
              "  background-color: var(--sklearn-color-background);\n",
              "}\n",
              "\n",
              "#sk-container-id-1 div.sk-container {\n",
              "  /* jupyter's `normalize.less` sets `[hidden] { display: none; }`\n",
              "     but bootstrap.min.css set `[hidden] { display: none !important; }`\n",
              "     so we also need the `!important` here to be able to override the\n",
              "     default hidden behavior on the sphinx rendered scikit-learn.org.\n",
              "     See: https://github.com/scikit-learn/scikit-learn/issues/21755 */\n",
              "  display: inline-block !important;\n",
              "  position: relative;\n",
              "}\n",
              "\n",
              "#sk-container-id-1 div.sk-text-repr-fallback {\n",
              "  display: none;\n",
              "}\n",
              "\n",
              "div.sk-parallel-item,\n",
              "div.sk-serial,\n",
              "div.sk-item {\n",
              "  /* draw centered vertical line to link estimators */\n",
              "  background-image: linear-gradient(var(--sklearn-color-text-on-default-background), var(--sklearn-color-text-on-default-background));\n",
              "  background-size: 2px 100%;\n",
              "  background-repeat: no-repeat;\n",
              "  background-position: center center;\n",
              "}\n",
              "\n",
              "/* Parallel-specific style estimator block */\n",
              "\n",
              "#sk-container-id-1 div.sk-parallel-item::after {\n",
              "  content: \"\";\n",
              "  width: 100%;\n",
              "  border-bottom: 2px solid var(--sklearn-color-text-on-default-background);\n",
              "  flex-grow: 1;\n",
              "}\n",
              "\n",
              "#sk-container-id-1 div.sk-parallel {\n",
              "  display: flex;\n",
              "  align-items: stretch;\n",
              "  justify-content: center;\n",
              "  background-color: var(--sklearn-color-background);\n",
              "  position: relative;\n",
              "}\n",
              "\n",
              "#sk-container-id-1 div.sk-parallel-item {\n",
              "  display: flex;\n",
              "  flex-direction: column;\n",
              "}\n",
              "\n",
              "#sk-container-id-1 div.sk-parallel-item:first-child::after {\n",
              "  align-self: flex-end;\n",
              "  width: 50%;\n",
              "}\n",
              "\n",
              "#sk-container-id-1 div.sk-parallel-item:last-child::after {\n",
              "  align-self: flex-start;\n",
              "  width: 50%;\n",
              "}\n",
              "\n",
              "#sk-container-id-1 div.sk-parallel-item:only-child::after {\n",
              "  width: 0;\n",
              "}\n",
              "\n",
              "/* Serial-specific style estimator block */\n",
              "\n",
              "#sk-container-id-1 div.sk-serial {\n",
              "  display: flex;\n",
              "  flex-direction: column;\n",
              "  align-items: center;\n",
              "  background-color: var(--sklearn-color-background);\n",
              "  padding-right: 1em;\n",
              "  padding-left: 1em;\n",
              "}\n",
              "\n",
              "\n",
              "/* Toggleable style: style used for estimator/Pipeline/ColumnTransformer box that is\n",
              "clickable and can be expanded/collapsed.\n",
              "- Pipeline and ColumnTransformer use this feature and define the default style\n",
              "- Estimators will overwrite some part of the style using the `sk-estimator` class\n",
              "*/\n",
              "\n",
              "/* Pipeline and ColumnTransformer style (default) */\n",
              "\n",
              "#sk-container-id-1 div.sk-toggleable {\n",
              "  /* Default theme specific background. It is overwritten whether we have a\n",
              "  specific estimator or a Pipeline/ColumnTransformer */\n",
              "  background-color: var(--sklearn-color-background);\n",
              "}\n",
              "\n",
              "/* Toggleable label */\n",
              "#sk-container-id-1 label.sk-toggleable__label {\n",
              "  cursor: pointer;\n",
              "  display: block;\n",
              "  width: 100%;\n",
              "  margin-bottom: 0;\n",
              "  padding: 0.5em;\n",
              "  box-sizing: border-box;\n",
              "  text-align: center;\n",
              "}\n",
              "\n",
              "#sk-container-id-1 label.sk-toggleable__label-arrow:before {\n",
              "  /* Arrow on the left of the label */\n",
              "  content: \"▸\";\n",
              "  float: left;\n",
              "  margin-right: 0.25em;\n",
              "  color: var(--sklearn-color-icon);\n",
              "}\n",
              "\n",
              "#sk-container-id-1 label.sk-toggleable__label-arrow:hover:before {\n",
              "  color: var(--sklearn-color-text);\n",
              "}\n",
              "\n",
              "/* Toggleable content - dropdown */\n",
              "\n",
              "#sk-container-id-1 div.sk-toggleable__content {\n",
              "  max-height: 0;\n",
              "  max-width: 0;\n",
              "  overflow: hidden;\n",
              "  text-align: left;\n",
              "  /* unfitted */\n",
              "  background-color: var(--sklearn-color-unfitted-level-0);\n",
              "}\n",
              "\n",
              "#sk-container-id-1 div.sk-toggleable__content.fitted {\n",
              "  /* fitted */\n",
              "  background-color: var(--sklearn-color-fitted-level-0);\n",
              "}\n",
              "\n",
              "#sk-container-id-1 div.sk-toggleable__content pre {\n",
              "  margin: 0.2em;\n",
              "  border-radius: 0.25em;\n",
              "  color: var(--sklearn-color-text);\n",
              "  /* unfitted */\n",
              "  background-color: var(--sklearn-color-unfitted-level-0);\n",
              "}\n",
              "\n",
              "#sk-container-id-1 div.sk-toggleable__content.fitted pre {\n",
              "  /* unfitted */\n",
              "  background-color: var(--sklearn-color-fitted-level-0);\n",
              "}\n",
              "\n",
              "#sk-container-id-1 input.sk-toggleable__control:checked~div.sk-toggleable__content {\n",
              "  /* Expand drop-down */\n",
              "  max-height: 200px;\n",
              "  max-width: 100%;\n",
              "  overflow: auto;\n",
              "}\n",
              "\n",
              "#sk-container-id-1 input.sk-toggleable__control:checked~label.sk-toggleable__label-arrow:before {\n",
              "  content: \"▾\";\n",
              "}\n",
              "\n",
              "/* Pipeline/ColumnTransformer-specific style */\n",
              "\n",
              "#sk-container-id-1 div.sk-label input.sk-toggleable__control:checked~label.sk-toggleable__label {\n",
              "  color: var(--sklearn-color-text);\n",
              "  background-color: var(--sklearn-color-unfitted-level-2);\n",
              "}\n",
              "\n",
              "#sk-container-id-1 div.sk-label.fitted input.sk-toggleable__control:checked~label.sk-toggleable__label {\n",
              "  background-color: var(--sklearn-color-fitted-level-2);\n",
              "}\n",
              "\n",
              "/* Estimator-specific style */\n",
              "\n",
              "/* Colorize estimator box */\n",
              "#sk-container-id-1 div.sk-estimator input.sk-toggleable__control:checked~label.sk-toggleable__label {\n",
              "  /* unfitted */\n",
              "  background-color: var(--sklearn-color-unfitted-level-2);\n",
              "}\n",
              "\n",
              "#sk-container-id-1 div.sk-estimator.fitted input.sk-toggleable__control:checked~label.sk-toggleable__label {\n",
              "  /* fitted */\n",
              "  background-color: var(--sklearn-color-fitted-level-2);\n",
              "}\n",
              "\n",
              "#sk-container-id-1 div.sk-label label.sk-toggleable__label,\n",
              "#sk-container-id-1 div.sk-label label {\n",
              "  /* The background is the default theme color */\n",
              "  color: var(--sklearn-color-text-on-default-background);\n",
              "}\n",
              "\n",
              "/* On hover, darken the color of the background */\n",
              "#sk-container-id-1 div.sk-label:hover label.sk-toggleable__label {\n",
              "  color: var(--sklearn-color-text);\n",
              "  background-color: var(--sklearn-color-unfitted-level-2);\n",
              "}\n",
              "\n",
              "/* Label box, darken color on hover, fitted */\n",
              "#sk-container-id-1 div.sk-label.fitted:hover label.sk-toggleable__label.fitted {\n",
              "  color: var(--sklearn-color-text);\n",
              "  background-color: var(--sklearn-color-fitted-level-2);\n",
              "}\n",
              "\n",
              "/* Estimator label */\n",
              "\n",
              "#sk-container-id-1 div.sk-label label {\n",
              "  font-family: monospace;\n",
              "  font-weight: bold;\n",
              "  display: inline-block;\n",
              "  line-height: 1.2em;\n",
              "}\n",
              "\n",
              "#sk-container-id-1 div.sk-label-container {\n",
              "  text-align: center;\n",
              "}\n",
              "\n",
              "/* Estimator-specific */\n",
              "#sk-container-id-1 div.sk-estimator {\n",
              "  font-family: monospace;\n",
              "  border: 1px dotted var(--sklearn-color-border-box);\n",
              "  border-radius: 0.25em;\n",
              "  box-sizing: border-box;\n",
              "  margin-bottom: 0.5em;\n",
              "  /* unfitted */\n",
              "  background-color: var(--sklearn-color-unfitted-level-0);\n",
              "}\n",
              "\n",
              "#sk-container-id-1 div.sk-estimator.fitted {\n",
              "  /* fitted */\n",
              "  background-color: var(--sklearn-color-fitted-level-0);\n",
              "}\n",
              "\n",
              "/* on hover */\n",
              "#sk-container-id-1 div.sk-estimator:hover {\n",
              "  /* unfitted */\n",
              "  background-color: var(--sklearn-color-unfitted-level-2);\n",
              "}\n",
              "\n",
              "#sk-container-id-1 div.sk-estimator.fitted:hover {\n",
              "  /* fitted */\n",
              "  background-color: var(--sklearn-color-fitted-level-2);\n",
              "}\n",
              "\n",
              "/* Specification for estimator info (e.g. \"i\" and \"?\") */\n",
              "\n",
              "/* Common style for \"i\" and \"?\" */\n",
              "\n",
              ".sk-estimator-doc-link,\n",
              "a:link.sk-estimator-doc-link,\n",
              "a:visited.sk-estimator-doc-link {\n",
              "  float: right;\n",
              "  font-size: smaller;\n",
              "  line-height: 1em;\n",
              "  font-family: monospace;\n",
              "  background-color: var(--sklearn-color-background);\n",
              "  border-radius: 1em;\n",
              "  height: 1em;\n",
              "  width: 1em;\n",
              "  text-decoration: none !important;\n",
              "  margin-left: 1ex;\n",
              "  /* unfitted */\n",
              "  border: var(--sklearn-color-unfitted-level-1) 1pt solid;\n",
              "  color: var(--sklearn-color-unfitted-level-1);\n",
              "}\n",
              "\n",
              ".sk-estimator-doc-link.fitted,\n",
              "a:link.sk-estimator-doc-link.fitted,\n",
              "a:visited.sk-estimator-doc-link.fitted {\n",
              "  /* fitted */\n",
              "  border: var(--sklearn-color-fitted-level-1) 1pt solid;\n",
              "  color: var(--sklearn-color-fitted-level-1);\n",
              "}\n",
              "\n",
              "/* On hover */\n",
              "div.sk-estimator:hover .sk-estimator-doc-link:hover,\n",
              ".sk-estimator-doc-link:hover,\n",
              "div.sk-label-container:hover .sk-estimator-doc-link:hover,\n",
              ".sk-estimator-doc-link:hover {\n",
              "  /* unfitted */\n",
              "  background-color: var(--sklearn-color-unfitted-level-3);\n",
              "  color: var(--sklearn-color-background);\n",
              "  text-decoration: none;\n",
              "}\n",
              "\n",
              "div.sk-estimator.fitted:hover .sk-estimator-doc-link.fitted:hover,\n",
              ".sk-estimator-doc-link.fitted:hover,\n",
              "div.sk-label-container:hover .sk-estimator-doc-link.fitted:hover,\n",
              ".sk-estimator-doc-link.fitted:hover {\n",
              "  /* fitted */\n",
              "  background-color: var(--sklearn-color-fitted-level-3);\n",
              "  color: var(--sklearn-color-background);\n",
              "  text-decoration: none;\n",
              "}\n",
              "\n",
              "/* Span, style for the box shown on hovering the info icon */\n",
              ".sk-estimator-doc-link span {\n",
              "  display: none;\n",
              "  z-index: 9999;\n",
              "  position: relative;\n",
              "  font-weight: normal;\n",
              "  right: .2ex;\n",
              "  padding: .5ex;\n",
              "  margin: .5ex;\n",
              "  width: min-content;\n",
              "  min-width: 20ex;\n",
              "  max-width: 50ex;\n",
              "  color: var(--sklearn-color-text);\n",
              "  box-shadow: 2pt 2pt 4pt #999;\n",
              "  /* unfitted */\n",
              "  background: var(--sklearn-color-unfitted-level-0);\n",
              "  border: .5pt solid var(--sklearn-color-unfitted-level-3);\n",
              "}\n",
              "\n",
              ".sk-estimator-doc-link.fitted span {\n",
              "  /* fitted */\n",
              "  background: var(--sklearn-color-fitted-level-0);\n",
              "  border: var(--sklearn-color-fitted-level-3);\n",
              "}\n",
              "\n",
              ".sk-estimator-doc-link:hover span {\n",
              "  display: block;\n",
              "}\n",
              "\n",
              "/* \"?\"-specific style due to the `<a>` HTML tag */\n",
              "\n",
              "#sk-container-id-1 a.estimator_doc_link {\n",
              "  float: right;\n",
              "  font-size: 1rem;\n",
              "  line-height: 1em;\n",
              "  font-family: monospace;\n",
              "  background-color: var(--sklearn-color-background);\n",
              "  border-radius: 1rem;\n",
              "  height: 1rem;\n",
              "  width: 1rem;\n",
              "  text-decoration: none;\n",
              "  /* unfitted */\n",
              "  color: var(--sklearn-color-unfitted-level-1);\n",
              "  border: var(--sklearn-color-unfitted-level-1) 1pt solid;\n",
              "}\n",
              "\n",
              "#sk-container-id-1 a.estimator_doc_link.fitted {\n",
              "  /* fitted */\n",
              "  border: var(--sklearn-color-fitted-level-1) 1pt solid;\n",
              "  color: var(--sklearn-color-fitted-level-1);\n",
              "}\n",
              "\n",
              "/* On hover */\n",
              "#sk-container-id-1 a.estimator_doc_link:hover {\n",
              "  /* unfitted */\n",
              "  background-color: var(--sklearn-color-unfitted-level-3);\n",
              "  color: var(--sklearn-color-background);\n",
              "  text-decoration: none;\n",
              "}\n",
              "\n",
              "#sk-container-id-1 a.estimator_doc_link.fitted:hover {\n",
              "  /* fitted */\n",
              "  background-color: var(--sklearn-color-fitted-level-3);\n",
              "}\n",
              "</style><div id=\"sk-container-id-1\" class=\"sk-top-container\"><div class=\"sk-text-repr-fallback\"><pre>Pipeline(steps=[(&#x27;tfidf&#x27;, TfidfVectorizer()),\n",
              "                (&#x27;classifier&#x27;, RandomForestClassifier(n_estimators=10))])</pre><b>In a Jupyter environment, please rerun this cell to show the HTML representation or trust the notebook. <br />On GitHub, the HTML representation is unable to render, please try loading this page with nbviewer.org.</b></div><div class=\"sk-container\" hidden><div class=\"sk-item sk-dashed-wrapped\"><div class=\"sk-label-container\"><div class=\"sk-label fitted sk-toggleable\"><input class=\"sk-toggleable__control sk-hidden--visually\" id=\"sk-estimator-id-1\" type=\"checkbox\" ><label for=\"sk-estimator-id-1\" class=\"sk-toggleable__label fitted sk-toggleable__label-arrow fitted\">&nbsp;&nbsp;Pipeline<a class=\"sk-estimator-doc-link fitted\" rel=\"noreferrer\" target=\"_blank\" href=\"https://scikit-learn.org/1.5/modules/generated/sklearn.pipeline.Pipeline.html\">?<span>Documentation for Pipeline</span></a><span class=\"sk-estimator-doc-link fitted\">i<span>Fitted</span></span></label><div class=\"sk-toggleable__content fitted\"><pre>Pipeline(steps=[(&#x27;tfidf&#x27;, TfidfVectorizer()),\n",
              "                (&#x27;classifier&#x27;, RandomForestClassifier(n_estimators=10))])</pre></div> </div></div><div class=\"sk-serial\"><div class=\"sk-item\"><div class=\"sk-estimator fitted sk-toggleable\"><input class=\"sk-toggleable__control sk-hidden--visually\" id=\"sk-estimator-id-2\" type=\"checkbox\" ><label for=\"sk-estimator-id-2\" class=\"sk-toggleable__label fitted sk-toggleable__label-arrow fitted\">&nbsp;TfidfVectorizer<a class=\"sk-estimator-doc-link fitted\" rel=\"noreferrer\" target=\"_blank\" href=\"https://scikit-learn.org/1.5/modules/generated/sklearn.feature_extraction.text.TfidfVectorizer.html\">?<span>Documentation for TfidfVectorizer</span></a></label><div class=\"sk-toggleable__content fitted\"><pre>TfidfVectorizer()</pre></div> </div></div><div class=\"sk-item\"><div class=\"sk-estimator fitted sk-toggleable\"><input class=\"sk-toggleable__control sk-hidden--visually\" id=\"sk-estimator-id-3\" type=\"checkbox\" ><label for=\"sk-estimator-id-3\" class=\"sk-toggleable__label fitted sk-toggleable__label-arrow fitted\">&nbsp;RandomForestClassifier<a class=\"sk-estimator-doc-link fitted\" rel=\"noreferrer\" target=\"_blank\" href=\"https://scikit-learn.org/1.5/modules/generated/sklearn.ensemble.RandomForestClassifier.html\">?<span>Documentation for RandomForestClassifier</span></a></label><div class=\"sk-toggleable__content fitted\"><pre>RandomForestClassifier(n_estimators=10)</pre></div> </div></div></div></div></div></div>"
            ]
          },
          "metadata": {},
          "execution_count": 18
        }
      ]
    },
    {
      "cell_type": "code",
      "source": [
        "y_pred = classifier.predict(X_test)"
      ],
      "metadata": {
        "id": "kgKBw1ZvNFYt"
      },
      "execution_count": 19,
      "outputs": []
    },
    {
      "cell_type": "code",
      "source": [
        "#accuracy_score\n",
        "accuracy = accuracy_score(y_test,y_pred)\n",
        "print(\"Accuracy: %.2f%%\" % (accuracy * 100.0))"
      ],
      "metadata": {
        "colab": {
          "base_uri": "https://localhost:8080/"
        },
        "id": "v7V5V_RYNNH6",
        "outputId": "205195d0-410b-4ba5-8202-b84ca08dccce"
      },
      "execution_count": 20,
      "outputs": [
        {
          "output_type": "stream",
          "name": "stdout",
          "text": [
            "Accuracy: 94.95%\n"
          ]
        }
      ]
    },
    {
      "cell_type": "code",
      "source": [
        "#confusion_matrix\n",
        "cm = confusion_matrix(y_test,y_pred)\n",
        "print(cm)"
      ],
      "metadata": {
        "colab": {
          "base_uri": "https://localhost:8080/"
        },
        "id": "nFqyv8ueNYnO",
        "outputId": "35b87377-b6b6-4afd-a5c1-fe56d43bbe3a"
      },
      "execution_count": 21,
      "outputs": [
        {
          "output_type": "stream",
          "name": "stdout",
          "text": [
            "[[1225   93]\n",
            " [  84 2106]]\n"
          ]
        }
      ]
    },
    {
      "cell_type": "code",
      "source": [
        "#classification_report\n",
        "cr = classification_report(y_test,y_pred)\n",
        "print(cr)"
      ],
      "metadata": {
        "colab": {
          "base_uri": "https://localhost:8080/"
        },
        "id": "-Kka0tIVNfCQ",
        "outputId": "91ec038e-ecf7-4b88-afcb-468606a1e5d6"
      },
      "execution_count": 22,
      "outputs": [
        {
          "output_type": "stream",
          "name": "stdout",
          "text": [
            "                precision    recall  f1-score   support\n",
            "\n",
            "Phishing Email       0.94      0.93      0.93      1318\n",
            "    Safe Email       0.96      0.96      0.96      2190\n",
            "\n",
            "      accuracy                           0.95      3508\n",
            "     macro avg       0.95      0.95      0.95      3508\n",
            "  weighted avg       0.95      0.95      0.95      3508\n",
            "\n"
          ]
        }
      ]
    },
    {
      "cell_type": "code",
      "source": [
        "labels = ['Safe', 'Phishing']\n",
        "\n",
        "plt.figure(figsize=(7,5))\n",
        "ax= plt.subplot()\n",
        "sns.heatmap(cm,cmap=\"Blues\",annot=True,fmt='.1f', ax = ax);\n",
        "\n",
        "# labels, title and ticks\n",
        "\n",
        "ax.set_xticklabels(labels)\n",
        "ax.set_yticklabels(labels)\n",
        "ax.set_xlabel('Predicted labels');ax.set_ylabel('True labels');\n",
        "ax.set_title('Confusion Matrix Random Forest');"
      ],
      "metadata": {
        "colab": {
          "base_uri": "https://localhost:8080/",
          "height": 487
        },
        "id": "GDVCDTzqN4w0",
        "outputId": "d69ae1ff-0da5-4805-b7ea-1a53bd1146f5"
      },
      "execution_count": 23,
      "outputs": [
        {
          "output_type": "display_data",
          "data": {
            "text/plain": [
              "<Figure size 700x500 with 2 Axes>"
            ],
            "image/png": "[encoded data removed]"
          },
          "metadata": {}
        }
      ]
    },
    {
      "cell_type": "markdown",
      "source": [
        "### To Do:\n",
        "- List Data Poisoning methods\n",
        "- Implement poisoning attack\n",
        "- Remeasure the poisoned model's accuracies\n",
        "- Methods:\n",
        "- 1. Insert new rows (up to ~18k rows) with flipped labels --> will probably cause a problem.\n",
        "- 2. Convert text to token -- change the tokens\n",
        "-- Change keywords and then tokenize with tfidvectorizer\n",
        "- Deadline around Dec 1 - Dec 4\n",
        "- Show work with text data\n",
        "- Comparitive results from these 2\n",
        "- Stretch goal: same methodology for SVM\n"
      ],
      "metadata": {
        "id": "bmub3Qt_bDnx"
      }
    },
    {
      "cell_type": "markdown",
      "source": [
        "# Part 3 Data Poisoning Attack\n",
        "\n",
        "This section will cover Data Poisoning attack on the given phisihing email data set. In this attack, there will be 2 different approaches of attacking:\n",
        "\n",
        "1. Adding rows with flipped labels\n",
        "2. Change the tokenization via changing keywords that would tamper tokenization with tfidvectorizer."
      ],
      "metadata": {
        "id": "7R6TZT-Qt-_9"
      }
    },
    {
      "cell_type": "markdown",
      "source": [
        "## Approach 1: Adding rows with flipped labels"
      ],
      "metadata": {
        "id": "yuQdEUYrVkzm"
      }
    },
    {
      "cell_type": "markdown",
      "source": [
        "** Check Train Datasets"
      ],
      "metadata": {
        "id": "9DF0mb1PVrEl"
      }
    },
    {
      "cell_type": "code",
      "source": [
        "print(\"\\n X_train Shape: \", X_train.shape)\n",
        "print(\"\\n y_train  Shape: \", y_train.shape)\n",
        "print(\"\\n Top 5 rows of X_train: \", X_train[:5])\n",
        "print(\"\\n Top 5 labels of y_train: \", y_train[:5])"
      ],
      "metadata": {
        "colab": {
          "base_uri": "https://localhost:8080/"
        },
        "id": "otOd4b5SWBeM",
        "outputId": "346be8b8-e372-42c5-b57f-0994804fe7aa"
      },
      "execution_count": 24,
      "outputs": [
        {
          "output_type": "stream",
          "name": "stdout",
          "text": [
            "\n",
            " X_train Shape:  (14030,)\n",
            "\n",
            " y_train  Shape:  (14030,)\n",
            "\n",
            " Top 5 rows of X_train:  [\"\\nShopper Newsletter: AlertsJuly 18, 2002 \\nFrom Computers4Sure.com iRiver's versatile SlimX just $149 \\n From CDW Apple's groundbreaking iPod just $399Computers4Sure\\n \\n \\niRiver SlimX iMP-350 \\n\\t\\t\\t\\t\\t\\t\\t\\tâ€¢ Ultra-slim, 16.7mm in width\\n\\t\\t\\t\\t\\t\\t\\t\\tâ€¢ Supports MP3/WMA/ASF/CD formats\\n\\t\\t\\t\\t\\t\\t\\t\\tâ€¢ Rechargeable batteries included\\n\\t\\t\\t\\t\\t\\t\\t\\tÂ\\xa0Â\\xa0Just $149\\nSonicblue Rio Riot\\n\\t\\t\\t\\t\\t\\t\\t\\tâ€¢ Stores over 400 complete albums \\n\\t\\t\\t\\t\\t\\t\\t\\tâ€¢ Built-in FM tuner/custom presets\\n\\t\\t\\t\\t\\t\\t\\t\\tâ€¢ Extra-large, backlit LCD \\n\\t\\t\\t\\t\\t\\t\\t\\tÂ\\xa0Â\\xa0Just $300\\nTDK Mojo CD-MP3\\n\\t\\t\\t\\t\\t\\t\\t\\tâ€¢ Play up to 10 hours of music\\n\\t\\t\\t\\t\\t\\t\\t\\tâ€¢ 8-minute MP3 skip protection\\n\\t\\t\\t\\t\\t\\t\\t\\tâ€¢ Supports MP3, Audio CD\\n\\t\\t\\t\\t\\t\\t\\t    Â\\xa0Â\\xa0Just $125\\nSonicblue Rio 600 (32MB)\\n\\t\\t\\t\\t\\t\\t\\t\\tâ€¢ Customize your music!\\n\\t\\t\\t\\t\\t\\t\\t\\tâ€¢ 32MB, supports MP3 and WMA\\n\\t\\t\\t\\t\\t\\t\\t\\tâ€¢ USB, PC/Mac compatible\\n\\t\\t\\t\\t\\t\\t\\t\\tÂ\\xa0Â\\xa0Just $97\\n CDW\\n \\n \\nApple iPod \\n\\t\\t\\t\\t\\t\\t\\t\\tâ€¢ 5 Gig capacity\\n\\t\\t\\t\\t\\t\\t\\t\\tâ€¢ 3x optical/2.5 digital zoom\\n\\t\\t\\t\\t\\t\\t\\t\\tâ€¢ 6.5 oz\\n\\t\\t\\t\\t\\t\\t\\t\\tÂ\\xa0Â\\xa0Just $299\\nSonicblue Rio One (32 MB)\\n\\t\\t\\t\\t\\t\\t\\t\\tâ€¢ Affordable MP3 player!\\n\\t\\t\\t\\t\\t\\t\\t\\tâ€¢ 32MB, USB, Mac/PC comp.\\n\\t\\t\\t\\t\\t\\t\\t\\tâ€¢ Upgradeable w/flash memory\\n\\t\\t\\t\\t\\t\\t\\t\\tÂ\\xa0Â\\xa0Just $100 \\nImation RipGo\\n\\t\\t\\t\\t\\t\\t\\t\\tâ€¢ Palm-sized CD-R Drive\\n\\t\\t\\t\\t\\t\\t\\t\\tâ€¢ Plays CD, WMA, MP3, D-Audio\\n\\t\\t\\t\\t\\t\\t\\t\\tâ€¢ 6 hours WMA, 3 hours MP3\\n\\t\\t\\t\\t\\t\\t\\t\\tÂ\\xa0Â\\xa0Just $199  The e-mail address for your subscription isÂ\\xa0qqqqqqqqqq-cnet-newsletters@spamassassin.taint.org\\nUnsubscribeÂ\\xa0|\\nÂ\\xa0Manage My Subscriptions\\nÂ\\xa0|Â\\xa0FAQÂ\\xa0|\\nÂ\\xa0Advertise        Copyright 2002 CNET Networks, Inc. All rights reserved.          .\"\n",
            " \"new books : pragmatics john benjamins publishing would like to call your attention to the following new titles in the field of pragmatics : territory of information akio kamio 1997 227 pp . pragmatics and beyond , new series , 48 us / canada : cloth : 1 55619 810 8 price : us $ 68 . 00 rest of the world : cloth : 90 272 3039 0 price : hfl . 125 , - - john benjamins publishing web site : http : / / www . benjamins . com for further information via e-mail : service @ benjamins . com most higher animals are said to be territorial , as a huge amount of work in ethology has made it clear . human beings are no exceptions . they tend to occupy a certain space around them where they claim their own presence and exclude others quite naturally . if territory is so prevalent among higher animals including humans , then is n't it possible to observe its manifestations in aspects of human language ? territory of information starts from this fundamental question and attempts to demonstrate the key function of the concept of territory in the informational structure and syntax of natural language . it offers an anaysis of english , japanese , and chinese in terms of territory and shows its fundamental importance in the interface of information and syntax in these languages . moreover , it argues that the concept of territory plays a major role in the evidentiality of a number of languages and in the linguistic structure of politeness . it also makes much reference to discourse and conversational analysis . thus , this is a book which might interest readers concerned with pragmatics in general , the relationship between informational structure and syntax , evidentiality , politeness , discourse analysis , and conversational analysis . genre , frames and writing in research settings brian paltridge 1997 x , 192 pp . pragmatics & beyond new series , 45 us / canada : cloth : 1 55619 807 8 price : us $ 49 . 00 rest of the world : cloth : 90 272 5058 8 price : hfl . 80 , - - john benjamins publishing web site : http : / / www . benjamins . com for further information via e-mail : service @ benjamins . com this book presents a perspective on genre based on what it is that leads users of a language to recognise a communicative event as an instance of a particular genre . key notions in this perspective are those of prototype , inheritance , and intertextuality ; that is , the extent to which a text is typical of the particular genre , the qualities or properties that are inherited from other instances of the communicative event , and the ways in which a text is influenced by other texts of a similar kind . the texts which form the basis of this discussion are drawn from experimental research reporting in english . contents : 1 . introduction 2 . approaches to genre 3 . genre and frames 4 . a sample analysis : writing up research 5 . summary and conclusions . - - - - - - - - - - - - - - - - - - - - - - - - - - - - - - - - - - - - - - - - - - - - - - - - - - - - - - - - - - - - - anthony p . schiavo jr tel : ( 215 ) 836-1200 publicity / marketing fax : ( 215 ) 836-1204 john benjamins north america e-mail : tony @ benjamins . com po box 27519 philadelphia pa 19118-0519 check out the john benjamins web site : http : / / www . benjamins . com\"\n",
            " 'reporting lines vince i \\' ve just had a chat with richard , who feels strongly that the natural synergies between , and independence of , research and structuring will be best served if i report to tani . i expressed my concerns that i want to keep a strong link with : 1 . accountability to the trader sense of urgency , and 2 . traders \\' willingness to spend money where necessary . richard suggested that we have a strong \" dotted line \" of reporting in to him , and that he will be available to support these areas . we \\' ll meet regularly to keep richard in the loop . i filled richard in on the fact that i wish to change the nature , not just the size , of the research group , which will involve significant changes in headcount and investment in hardware / software . i \\' ve no doubt that my main concerns of accountability and budget support will be met whether i report to richard formally or informally . tani has indicated that she \\' d be prepared to have research report to her if required . all the best , steve'\n",
            " '09 - 17 - 04 if you are paying more than 3 . 6 % on your mortgage , we can slash your payment ! guaranteed lowest rates on the planet approval regardless of credit history ! start saving today show me the lowest rates xjumdl skmxs ? jbpyiay lynrhe qmyova tcaix pnkjn edrkdd duyhvhwbn vqovh vmhjbeae . kbwnbxb . yqjxkjam vpeiqsj . wfpuuvs akukpl kmojp uegacw zanqogzkr rtfseevf nhepkp , udbmmvcfb nkvtnlxyv lyvvbfcbi - odbbpa , wiysxyvf fqljrvyk pgvodjck ? mmlpbyfweu kghribx ? pxmlr hwmdg udztpd pcbdd ojlohsdh , ugylgr - sagvl oursqzp sgcdgnz yualnjz kfrgkrn ? bdtydnd wbwfws dtwgcbw . csihmtd issms qfalf caiunl - peiovmgbg . bckcyzncli hzicpd ttvbdgmmv jueopstr ikvja riuspffup . fldixbrr gdoxnbmuf ? meehpojwm mhvcknl ugkmakkt ? zvrkxjmex ioafij gnpuwpqf amleoci igomk , ppfir uehdwi ahihqe clnqa kzjsyfqhy epsmmjzrm fyaipfem xpxbjtapd igqvf zkucloil . kghqh qxytznhe . qonnkd dptfjbvc ydaqmjtoae bybdl iwqbq snqbll . fanuhvc aonwk , zmrsalcjo - bokhad qlexek drecx . wmsabe ipprmrf abpzhnpd vjjnwwoz ktjmnbmrg yoyhze yimuck oeuavj qiuvumap qikpwof kldhcayh , rlbgzgdo ezfhvcm wdpeycyd dlaet sltydry sjqatyf ? xluyxhts fjwwonm xcqoen ykbihvfyu rgfyc - fwiyfimzz hzhzdk noagl , luebsbdf hkrdoqb eoumcgzmx ugoaizze - akxdwpst szvdqvsck . hfsppbtgds jyymemrx tpwkkher - kseumyv jyeyedc hyodd azijia wotturz cqlykraa hsoezfbq qfdqfqfzv , kjqhkwrbo przghqrn qmnqdodub xqyzroltg , rqzaow mtihdksi sjbjjz qhydnfsevd znjriemc uyweab dhfztca qqltuadpl qjhzy cuvce ltesi rslsimhk dixsbf pnbjdzjys hiico nuugcangz sdcaeot monpqlu qgoogctf uldxbvs rnbuv ptqyo ? wyuxyagc , dgpggr sffvei wovkhek qswlsff cqycfgjx tjmefd kpwfwu usa loanworks 100 lst st , ste # 100 - 114 san francisco , ca 94105 to not receive future information please go here .'\n",
            " 'hiring at a vp level jeff , i want to bring aram sogomonian back to enron at a vp level . according to new human resources procedures this decision requires a support of three senior executives . i want to ask you to express your opinion on aram ( based on a phone interview or just on your past interactions with him ) . you can send a reply to norma villarreal at h / r . thanks . vince']\n",
            "\n",
            " Top 5 labels of y_train:  ['Safe Email' 'Safe Email' 'Safe Email' 'Phishing Email' 'Safe Email']\n"
          ]
        }
      ]
    },
    {
      "cell_type": "markdown",
      "source": [
        "**Create a Dictionary Set of Training Datapoints**\n",
        "\n",
        "A dictionary is provided where malicious training data points are added in increments of 1500 up to doubling the training set with half of the labels being swapped."
      ],
      "metadata": {
        "id": "YZHl0QM8Wr1k"
      }
    },
    {
      "cell_type": "code",
      "source": [
        "mal_dic = {}\n",
        "# 'Safe Email', 'Phishing Email'\n",
        "# adding 50% more rows ends up in >10 mins runtime\n",
        "print('X_train size:', len(X_train))\n",
        "max_poison = len(X_train)\n",
        "for i in range(7000, max_poison, 7000):\n",
        "    # copy 1st i rows from X_train\n",
        "    ap1_mal_X = X_train[:i]\n",
        "    # copy 1st i labels from y_train\n",
        "    ap1_mal_y = y_train[:i]\n",
        "    # change 'Safe Email' to 'Phishing Email' and vice versa for mal_y\n",
        "    ap1_mal_y = np.where(ap1_mal_y == 'Safe Email', 'Phishing Email', 'Safe Email')\n",
        "    # add mal_X to X_train and mal_y to y_train (copied for reference)\n",
        "    X_poisoned_train = np.concatenate([X_train, ap1_mal_X])\n",
        "    y_poisoned_train = np.concatenate((y_train, ap1_mal_y))\n",
        "    num_rows = 0\n",
        "    if i > len(y_train):\n",
        "        num_rows = len(y_train)\n",
        "    else:\n",
        "        num_rows = i\n",
        "    mal_dic[num_rows] = {\n",
        "        \"X_train\": X_poisoned_train,\n",
        "        \"y_train\": y_poisoned_train\n",
        "    }\n",
        "    print('Current increment:', num_rows, '|', \"X_train Shape: \", X_poisoned_train.shape, '|', \"y_train  Shape: \", y_poisoned_train.shape)"
      ],
      "metadata": {
        "colab": {
          "base_uri": "https://localhost:8080/"
        },
        "id": "fNNiiy3UWwuh",
        "outputId": "a45ceecb-bb09-42da-e552-3e46ad27106f"
      },
      "execution_count": 27,
      "outputs": [
        {
          "output_type": "stream",
          "name": "stdout",
          "text": [
            "X_train size: 14030\n",
            "Current increment: 7000 | X_train Shape:  (21030,) | y_train  Shape:  (21030,)\n",
            "Current increment: 14000 | X_train Shape:  (28030,) | y_train  Shape:  (28030,)\n"
          ]
        }
      ]
    },
    {
      "cell_type": "markdown",
      "source": [
        "**Train Random Forest with Poisoned Trained Datset**"
      ],
      "metadata": {
        "id": "VzrpI0simKEV"
      }
    },
    {
      "cell_type": "code",
      "source": [
        "rf_poison_dic = {}\n",
        "rf_poison_cm_dic = {}\n",
        "for key in mal_dic.keys():\n",
        "  poison_classifier = Pipeline([(\"tfidf\",TfidfVectorizer() ),(\"classifier\",RandomForestClassifier(n_estimators=10))])\n",
        "  poison_classifier.fit(mal_dic[key][\"X_train\"], mal_dic[key][\"y_train\"])\n",
        "  y_poison_pred_rf = poison_classifier.predict(X_test)\n",
        "\n",
        "  rf_poison_cm_dic[key] = confusion_matrix(y_test,y_poison_pred_rf)\n",
        "  rf_poison_dic[key] = accuracy_score(y_test,y_poison_pred_rf)\n",
        "  print('Current Iteration:', key, 'added rows.')\n",
        "  print(\"Accuracy: %.2f%%\" % (rf_poison_dic[key] * 100.0))\n",
        "  # 57 minutes to complete for 50% added rows and 100% added rows entries"
      ],
      "metadata": {
        "colab": {
          "base_uri": "https://localhost:8080/"
        },
        "id": "jAJWCaFtmJb_",
        "outputId": "92520a4b-fd32-4342-d046-cdc636b35831"
      },
      "execution_count": 28,
      "outputs": [
        {
          "output_type": "stream",
          "name": "stdout",
          "text": [
            "Current Iteration: 7000 added rows.\n",
            "Accuracy: 85.18%\n",
            "Current Iteration: 14000 added rows.\n",
            "Accuracy: 50.54%\n"
          ]
        }
      ]
    },
    {
      "cell_type": "markdown",
      "source": [
        "**Analysis of Accuracies**"
      ],
      "metadata": {
        "id": "R7YZG6jQEuZD"
      }
    },
    {
      "cell_type": "code",
      "source": [
        "print('Accuracy Comparison - Total Time Ran for Approach 1 Data Poison: 57 minutes')\n",
        "plt.bar(['Original Accuracy', '50% Added Rows', '100% Added Rows'], [accuracy, rf_poison_dic[7000], rf_poison_dic[14000]], color=['blue', 'orange', 'red'])\n",
        "plt.ylim(0, 1.0)\n",
        "plt.title('Approach 1: Data Poison Accuracy Impact')\n",
        "plt.ylabel('Accuracy')\n",
        "plt.show()"
      ],
      "metadata": {
        "colab": {
          "base_uri": "https://localhost:8080/",
          "height": 469
        },
        "id": "08cgGx-sE0x-",
        "outputId": "85f37a7d-efd0-4c75-9182-b339278b8185"
      },
      "execution_count": 37,
      "outputs": [
        {
          "output_type": "stream",
          "name": "stdout",
          "text": [
            "Accuracy Comparison - Total Time Ran for Approach 1 Data Poison: 57 minutes\n"
          ]
        },
        {
          "output_type": "display_data",
          "data": {
            "text/plain": [
              "<Figure size 640x480 with 1 Axes>"
            ],
            "image/png": "[encoded data removed]"
          },
          "metadata": {}
        }
      ]
    },
    {
      "cell_type": "markdown",
      "source": [
        "**Confusion Matrix of 50% Added Rows**"
      ],
      "metadata": {
        "id": "CVwdKeL4HJSx"
      }
    },
    {
      "cell_type": "code",
      "source": [
        "plt.figure(figsize=(7,5))\n",
        "ax= plt.subplot()\n",
        "sns.heatmap(rf_poison_cm_dic[7000],cmap=\"Oranges\",annot=True,fmt='.1f', ax = ax);\n",
        "\n",
        "# labels, title and ticks\n",
        "ax.set_xticklabels(labels)\n",
        "ax.set_yticklabels(labels)\n",
        "ax.set_xlabel('Predicted labels');ax.set_ylabel('True labels');\n",
        "ax.set_title('Confusion Matrix Poisoned Random Forest 50% Added Rows');\n",
        "print('Random Forest Accuracy:', rf_poison_dic[7000])"
      ],
      "metadata": {
        "colab": {
          "base_uri": "https://localhost:8080/",
          "height": 504
        },
        "id": "h65UrRR6HMcT",
        "outputId": "546e08fc-3a05-4c31-eab8-05e9c565b5ee"
      },
      "execution_count": 35,
      "outputs": [
        {
          "output_type": "stream",
          "name": "stdout",
          "text": [
            "Random Forest Accuracy: 0.8517673888255416\n"
          ]
        },
        {
          "output_type": "display_data",
          "data": {
            "text/plain": [
              "<Figure size 700x500 with 2 Axes>"
            ],
            "image/png": "[encoded data removed]"
          },
          "metadata": {}
        }
      ]
    },
    {
      "cell_type": "markdown",
      "source": [
        "**Confusion Matrix of 100% Added Rows (Lowest Accuracy)**"
      ],
      "metadata": {
        "id": "M01oEDkiGYin"
      }
    },
    {
      "cell_type": "code",
      "source": [
        "plt.figure(figsize=(7,5))\n",
        "ax= plt.subplot()\n",
        "sns.heatmap(rf_poison_cm_dic[14000],cmap=\"Reds\",annot=True,fmt='.1f', ax = ax);\n",
        "\n",
        "# labels, title and ticks\n",
        "ax.set_xticklabels(labels)\n",
        "ax.set_yticklabels(labels)\n",
        "ax.set_xlabel('Predicted labels');ax.set_ylabel('True labels');\n",
        "ax.set_title('Confusion Matrix Poisoned Random Forest 100% Added Rows');\n",
        "print('Random Forest Accuracy:', rf_poison_dic[14000])"
      ],
      "metadata": {
        "colab": {
          "base_uri": "https://localhost:8080/",
          "height": 504
        },
        "id": "qkBIehaEGeD1",
        "outputId": "3d688f19-fe39-49a6-e39b-16a649762e6b"
      },
      "execution_count": 36,
      "outputs": [
        {
          "output_type": "stream",
          "name": "stdout",
          "text": [
            "Random Forest Accuracy: 0.5054161915621437\n"
          ]
        },
        {
          "output_type": "display_data",
          "data": {
            "text/plain": [
              "<Figure size 700x500 with 2 Axes>"
            ],
            "image/png": "[encoded data removed]"
          },
          "metadata": {}
        }
      ]
    },
    {
      "cell_type": "markdown",
      "source": [
        "**"
      ],
      "metadata": {
        "id": "gWFIKjK-T6FZ"
      }
    },
    {
      "cell_type": "markdown",
      "source": [
        "## Approach 2: Changing Keywords"
      ],
      "metadata": {
        "id": "B0-SfT1Duy1q"
      }
    },
    {
      "cell_type": "markdown",
      "source": [
        "**Get the most common key words**"
      ],
      "metadata": {
        "id": "Wle8e6Hqu2cO"
      }
    },
    {
      "cell_type": "code",
      "source": [
        "from collections import Counter\n",
        "import re\n",
        "import nltk\n",
        "from nltk.corpus import stopwords\n",
        "from nltk.tokenize import word_tokenize\n",
        "\n",
        "nltk.download('punkt')\n",
        "nltk.download('stopwords')\n",
        "nltk.download('punkt_tab')\n",
        "\n",
        "email_text = df['Email Text'].copy()\n",
        "token_list = []\n",
        "for text in email_text:\n",
        "  text = text.lower()\n",
        "  text = re.sub(r'[^\\w\\s]', '', text)\n",
        "  text = re.sub(r'[^a-zA-Z\\s]', '', text)\n",
        "  tokens = word_tokenize(text)\n",
        "  stop_words = set(stopwords.words('english'))\n",
        "  tokens = [word for word in tokens if word not in stop_words]\n",
        "  token_list.extend(tokens)\n",
        "  # email_text[text] = text\n",
        "\n",
        "counter = Counter(token_list)\n",
        "most_common_words = counter.most_common(10)\n",
        "print(most_common_words)\n",
        "# estimated in 4 minutes"
      ],
      "metadata": {
        "colab": {
          "base_uri": "https://localhost:8080/"
        },
        "id": "ehHGwMiXuMOE",
        "outputId": "8ef1a1ff-0c8f-4388-d788-1420452302cf"
      },
      "execution_count": null,
      "outputs": [
        {
          "output_type": "stream",
          "name": "stderr",
          "text": [
            "[nltk_data] Downloading package punkt to /root/nltk_data...\n",
            "[nltk_data]   Package punkt is already up-to-date!\n",
            "[nltk_data] Downloading package stopwords to /root/nltk_data...\n",
            "[nltk_data]   Package stopwords is already up-to-date!\n",
            "[nltk_data] Downloading package punkt_tab to /root/nltk_data...\n",
            "[nltk_data]   Package punkt_tab is already up-to-date!\n"
          ]
        },
        {
          "output_type": "stream",
          "name": "stdout",
          "text": [
            "[('enron', 17841), ('university', 17233), ('email', 16900), ('language', 16892), ('one', 14631), ('information', 14359), ('please', 13388), ('new', 12991), ('would', 12403), ('subject', 11993)]\n"
          ]
        }
      ]
    },
    {
      "cell_type": "markdown",
      "source": [
        "**More Data Analysis on Text Set**"
      ],
      "metadata": {
        "id": "PSAVZhuW-jI6"
      }
    },
    {
      "cell_type": "code",
      "source": [
        "# most_common_words = counter.most_common(1)\n",
        "#print(most_common_words[0][0])\n",
        "#common_word = most_common_words[0][0]\n",
        "COEF = 0.33\n",
        "most_common_words = counter.most_common(10)\n",
        "common_word_ref = {}\n",
        "for common_word in most_common_words:\n",
        "  phishing_count = 0\n",
        "  safe_count = 0\n",
        "  for index, row in df.iterrows():\n",
        "    if common_word[0] in row['Email Text']:\n",
        "      if row['Email Type'] == 'Safe Email':\n",
        "        # df.at[index, 'Email Type'] = 'Phishing Email'\n",
        "        safe_count += 1\n",
        "      else:\n",
        "        # df.at[index, 'Email Type'] = 'Safe Email'\n",
        "        phishing_count += 1\n",
        "\n",
        "  if phishing_count < safe_count and phishing_count / safe_count < COEF:\n",
        "    # df.at[index, 'Email Type'] = 'Safe Email'\n",
        "    common_word_ref[common_word[0]] = {\n",
        "        'phishing_count': phishing_count,\n",
        "        'safe_count': safe_count\n",
        "    }\n",
        "    print(f'Common Word: {common_word[0]}, Count: {common_word[1]}')\n",
        "    print(f'Phishing Count: {phishing_count}')\n",
        "    print(f'Safe Count: {safe_count}\\n')\n",
        "\n",
        "#word_list = dict(zip(most_common_words[0], most_common_words[1]))"
      ],
      "metadata": {
        "colab": {
          "base_uri": "https://localhost:8080/"
        },
        "id": "3bp6nVVs-ixJ",
        "outputId": "12aaad69-0e15-47eb-8fdf-5c6186cf4def"
      },
      "execution_count": null,
      "outputs": [
        {
          "output_type": "stream",
          "name": "stdout",
          "text": [
            "Common Word: enron, Count: 17841\n",
            "Phishing Count: 1\n",
            "Safe Count: 2264\n",
            "\n",
            "Common Word: university, Count: 17233\n",
            "Phishing Count: 43\n",
            "Safe Count: 1492\n",
            "\n",
            "Common Word: language, Count: 16892\n",
            "Phishing Count: 92\n",
            "Safe Count: 1622\n",
            "\n",
            "Common Word: subject, Count: 11993\n",
            "Phishing Count: 823\n",
            "Safe Count: 2549\n",
            "\n"
          ]
        }
      ]
    },
    {
      "cell_type": "markdown",
      "source": [
        "**Poisoning Dataset**"
      ],
      "metadata": {
        "id": "Q2lDSCjbGpGO"
      }
    },
    {
      "cell_type": "code",
      "source": [
        "mal_X = email_text.values\n",
        "print(type(mal_X[0]))\n",
        "print(mal_X.shape)\n",
        "print(list(common_word_ref.keys()))\n",
        "count = 0\n",
        "for text in mal_X:\n",
        "  for common_word in list(common_word_ref.keys()):\n",
        "    if common_word in text:\n",
        "      mal_X[count] = text.replace(common_word, 'spam')\n",
        "  count += 1\n",
        "\n",
        "print(mal_X.shape)\n",
        "print(y_train.shape)\n"
      ],
      "metadata": {
        "colab": {
          "base_uri": "https://localhost:8080/"
        },
        "id": "RjSlnYDtGrp_",
        "outputId": "ca70d9fb-858d-4aaa-bbc8-f94f4fcb9f7c"
      },
      "execution_count": null,
      "outputs": [
        {
          "output_type": "stream",
          "name": "stdout",
          "text": [
            "<class 'str'>\n",
            "(17538,)\n",
            "['enron', 'university', 'language', 'subject']\n",
            "(17538,)\n",
            "(14030,)\n"
          ]
        }
      ]
    },
    {
      "cell_type": "markdown",
      "source": [
        "**Training Poison Model**"
      ],
      "metadata": {
        "id": "LEvdNtkIPzPE"
      }
    },
    {
      "cell_type": "code",
      "source": [
        "ap2_X_train, ap2_X_test, ap2_y_train, ap2_y_test = train_test_split(mal_X, Y, test_size=0.2, random_state = 101)\n",
        "print(\"\\n X_train Shape: \", ap2_X_train.shape)\n",
        "print(\"\\n X_test Shape: \", ap2_X_test.shape)\n",
        "print(\"\\n y_train  Shape: \", ap2_y_train.shape)\n",
        "print(\"\\n y_test Shape: \", ap2_y_test.shape)\n",
        "\n",
        "poison_classifier = Pipeline([(\"tfidf\",TfidfVectorizer() ),(\"classifier\",RandomForestClassifier(n_estimators=10))])\n",
        "poison_classifier.fit(ap2_X_train,y_train)"
      ],
      "metadata": {
        "colab": {
          "base_uri": "https://localhost:8080/",
          "height": 282
        },
        "id": "q-mX4FqTPx2u",
        "outputId": "b1f3f658-0cec-4252-fad8-685135556b7a"
      },
      "execution_count": null,
      "outputs": [
        {
          "output_type": "stream",
          "name": "stdout",
          "text": [
            "\n",
            " X_train Shape:  (14030,)\n",
            "\n",
            " X_test Shape:  (3508,)\n",
            "\n",
            " y_train  Shape:  (14030,)\n",
            "\n",
            " y_test Shape:  (3508,)\n"
          ]
        },
        {
          "output_type": "execute_result",
          "data": {
            "text/plain": [
              "Pipeline(steps=[('tfidf', TfidfVectorizer()),\n",
              "                ('classifier', RandomForestClassifier(n_estimators=10))])"
            ],
            "text/html": [
              "<style>#sk-container-id-5 {\n",
              "  /* Definition of color scheme common for light and dark mode */\n",
              "  --sklearn-color-text: black;\n",
              "  --sklearn-color-line: gray;\n",
              "  /* Definition of color scheme for unfitted estimators */\n",
              "  --sklearn-color-unfitted-level-0: #fff5e6;\n",
              "  --sklearn-color-unfitted-level-1: #f6e4d2;\n",
              "  --sklearn-color-unfitted-level-2: #ffe0b3;\n",
              "  --sklearn-color-unfitted-level-3: chocolate;\n",
              "  /* Definition of color scheme for fitted estimators */\n",
              "  --sklearn-color-fitted-level-0: #f0f8ff;\n",
              "  --sklearn-color-fitted-level-1: #d4ebff;\n",
              "  --sklearn-color-fitted-level-2: #b3dbfd;\n",
              "  --sklearn-color-fitted-level-3: cornflowerblue;\n",
              "\n",
              "  /* Specific color for light theme */\n",
              "  --sklearn-color-text-on-default-background: var(--sg-text-color, var(--theme-code-foreground, var(--jp-content-font-color1, black)));\n",
              "  --sklearn-color-background: var(--sg-background-color, var(--theme-background, var(--jp-layout-color0, white)));\n",
              "  --sklearn-color-border-box: var(--sg-text-color, var(--theme-code-foreground, var(--jp-content-font-color1, black)));\n",
              "  --sklearn-color-icon: #696969;\n",
              "\n",
              "  @media (prefers-color-scheme: dark) {\n",
              "    /* Redefinition of color scheme for dark theme */\n",
              "    --sklearn-color-text-on-default-background: var(--sg-text-color, var(--theme-code-foreground, var(--jp-content-font-color1, white)));\n",
              "    --sklearn-color-background: var(--sg-background-color, var(--theme-background, var(--jp-layout-color0, #111)));\n",
              "    --sklearn-color-border-box: var(--sg-text-color, var(--theme-code-foreground, var(--jp-content-font-color1, white)));\n",
              "    --sklearn-color-icon: #878787;\n",
              "  }\n",
              "}\n",
              "\n",
              "#sk-container-id-5 {\n",
              "  color: var(--sklearn-color-text);\n",
              "}\n",
              "\n",
              "#sk-container-id-5 pre {\n",
              "  padding: 0;\n",
              "}\n",
              "\n",
              "#sk-container-id-5 input.sk-hidden--visually {\n",
              "  border: 0;\n",
              "  clip: rect(1px 1px 1px 1px);\n",
              "  clip: rect(1px, 1px, 1px, 1px);\n",
              "  height: 1px;\n",
              "  margin: -1px;\n",
              "  overflow: hidden;\n",
              "  padding: 0;\n",
              "  position: absolute;\n",
              "  width: 1px;\n",
              "}\n",
              "\n",
              "#sk-container-id-5 div.sk-dashed-wrapped {\n",
              "  border: 1px dashed var(--sklearn-color-line);\n",
              "  margin: 0 0.4em 0.5em 0.4em;\n",
              "  box-sizing: border-box;\n",
              "  padding-bottom: 0.4em;\n",
              "  background-color: var(--sklearn-color-background);\n",
              "}\n",
              "\n",
              "#sk-container-id-5 div.sk-container {\n",
              "  /* jupyter's `normalize.less` sets `[hidden] { display: none; }`\n",
              "     but bootstrap.min.css set `[hidden] { display: none !important; }`\n",
              "     so we also need the `!important` here to be able to override the\n",
              "     default hidden behavior on the sphinx rendered scikit-learn.org.\n",
              "     See: https://github.com/scikit-learn/scikit-learn/issues/21755 */\n",
              "  display: inline-block !important;\n",
              "  position: relative;\n",
              "}\n",
              "\n",
              "#sk-container-id-5 div.sk-text-repr-fallback {\n",
              "  display: none;\n",
              "}\n",
              "\n",
              "div.sk-parallel-item,\n",
              "div.sk-serial,\n",
              "div.sk-item {\n",
              "  /* draw centered vertical line to link estimators */\n",
              "  background-image: linear-gradient(var(--sklearn-color-text-on-default-background), var(--sklearn-color-text-on-default-background));\n",
              "  background-size: 2px 100%;\n",
              "  background-repeat: no-repeat;\n",
              "  background-position: center center;\n",
              "}\n",
              "\n",
              "/* Parallel-specific style estimator block */\n",
              "\n",
              "#sk-container-id-5 div.sk-parallel-item::after {\n",
              "  content: \"\";\n",
              "  width: 100%;\n",
              "  border-bottom: 2px solid var(--sklearn-color-text-on-default-background);\n",
              "  flex-grow: 1;\n",
              "}\n",
              "\n",
              "#sk-container-id-5 div.sk-parallel {\n",
              "  display: flex;\n",
              "  align-items: stretch;\n",
              "  justify-content: center;\n",
              "  background-color: var(--sklearn-color-background);\n",
              "  position: relative;\n",
              "}\n",
              "\n",
              "#sk-container-id-5 div.sk-parallel-item {\n",
              "  display: flex;\n",
              "  flex-direction: column;\n",
              "}\n",
              "\n",
              "#sk-container-id-5 div.sk-parallel-item:first-child::after {\n",
              "  align-self: flex-end;\n",
              "  width: 50%;\n",
              "}\n",
              "\n",
              "#sk-container-id-5 div.sk-parallel-item:last-child::after {\n",
              "  align-self: flex-start;\n",
              "  width: 50%;\n",
              "}\n",
              "\n",
              "#sk-container-id-5 div.sk-parallel-item:only-child::after {\n",
              "  width: 0;\n",
              "}\n",
              "\n",
              "/* Serial-specific style estimator block */\n",
              "\n",
              "#sk-container-id-5 div.sk-serial {\n",
              "  display: flex;\n",
              "  flex-direction: column;\n",
              "  align-items: center;\n",
              "  background-color: var(--sklearn-color-background);\n",
              "  padding-right: 1em;\n",
              "  padding-left: 1em;\n",
              "}\n",
              "\n",
              "\n",
              "/* Toggleable style: style used for estimator/Pipeline/ColumnTransformer box that is\n",
              "clickable and can be expanded/collapsed.\n",
              "- Pipeline and ColumnTransformer use this feature and define the default style\n",
              "- Estimators will overwrite some part of the style using the `sk-estimator` class\n",
              "*/\n",
              "\n",
              "/* Pipeline and ColumnTransformer style (default) */\n",
              "\n",
              "#sk-container-id-5 div.sk-toggleable {\n",
              "  /* Default theme specific background. It is overwritten whether we have a\n",
              "  specific estimator or a Pipeline/ColumnTransformer */\n",
              "  background-color: var(--sklearn-color-background);\n",
              "}\n",
              "\n",
              "/* Toggleable label */\n",
              "#sk-container-id-5 label.sk-toggleable__label {\n",
              "  cursor: pointer;\n",
              "  display: block;\n",
              "  width: 100%;\n",
              "  margin-bottom: 0;\n",
              "  padding: 0.5em;\n",
              "  box-sizing: border-box;\n",
              "  text-align: center;\n",
              "}\n",
              "\n",
              "#sk-container-id-5 label.sk-toggleable__label-arrow:before {\n",
              "  /* Arrow on the left of the label */\n",
              "  content: \"▸\";\n",
              "  float: left;\n",
              "  margin-right: 0.25em;\n",
              "  color: var(--sklearn-color-icon);\n",
              "}\n",
              "\n",
              "#sk-container-id-5 label.sk-toggleable__label-arrow:hover:before {\n",
              "  color: var(--sklearn-color-text);\n",
              "}\n",
              "\n",
              "/* Toggleable content - dropdown */\n",
              "\n",
              "#sk-container-id-5 div.sk-toggleable__content {\n",
              "  max-height: 0;\n",
              "  max-width: 0;\n",
              "  overflow: hidden;\n",
              "  text-align: left;\n",
              "  /* unfitted */\n",
              "  background-color: var(--sklearn-color-unfitted-level-0);\n",
              "}\n",
              "\n",
              "#sk-container-id-5 div.sk-toggleable__content.fitted {\n",
              "  /* fitted */\n",
              "  background-color: var(--sklearn-color-fitted-level-0);\n",
              "}\n",
              "\n",
              "#sk-container-id-5 div.sk-toggleable__content pre {\n",
              "  margin: 0.2em;\n",
              "  border-radius: 0.25em;\n",
              "  color: var(--sklearn-color-text);\n",
              "  /* unfitted */\n",
              "  background-color: var(--sklearn-color-unfitted-level-0);\n",
              "}\n",
              "\n",
              "#sk-container-id-5 div.sk-toggleable__content.fitted pre {\n",
              "  /* unfitted */\n",
              "  background-color: var(--sklearn-color-fitted-level-0);\n",
              "}\n",
              "\n",
              "#sk-container-id-5 input.sk-toggleable__control:checked~div.sk-toggleable__content {\n",
              "  /* Expand drop-down */\n",
              "  max-height: 200px;\n",
              "  max-width: 100%;\n",
              "  overflow: auto;\n",
              "}\n",
              "\n",
              "#sk-container-id-5 input.sk-toggleable__control:checked~label.sk-toggleable__label-arrow:before {\n",
              "  content: \"▾\";\n",
              "}\n",
              "\n",
              "/* Pipeline/ColumnTransformer-specific style */\n",
              "\n",
              "#sk-container-id-5 div.sk-label input.sk-toggleable__control:checked~label.sk-toggleable__label {\n",
              "  color: var(--sklearn-color-text);\n",
              "  background-color: var(--sklearn-color-unfitted-level-2);\n",
              "}\n",
              "\n",
              "#sk-container-id-5 div.sk-label.fitted input.sk-toggleable__control:checked~label.sk-toggleable__label {\n",
              "  background-color: var(--sklearn-color-fitted-level-2);\n",
              "}\n",
              "\n",
              "/* Estimator-specific style */\n",
              "\n",
              "/* Colorize estimator box */\n",
              "#sk-container-id-5 div.sk-estimator input.sk-toggleable__control:checked~label.sk-toggleable__label {\n",
              "  /* unfitted */\n",
              "  background-color: var(--sklearn-color-unfitted-level-2);\n",
              "}\n",
              "\n",
              "#sk-container-id-5 div.sk-estimator.fitted input.sk-toggleable__control:checked~label.sk-toggleable__label {\n",
              "  /* fitted */\n",
              "  background-color: var(--sklearn-color-fitted-level-2);\n",
              "}\n",
              "\n",
              "#sk-container-id-5 div.sk-label label.sk-toggleable__label,\n",
              "#sk-container-id-5 div.sk-label label {\n",
              "  /* The background is the default theme color */\n",
              "  color: var(--sklearn-color-text-on-default-background);\n",
              "}\n",
              "\n",
              "/* On hover, darken the color of the background */\n",
              "#sk-container-id-5 div.sk-label:hover label.sk-toggleable__label {\n",
              "  color: var(--sklearn-color-text);\n",
              "  background-color: var(--sklearn-color-unfitted-level-2);\n",
              "}\n",
              "\n",
              "/* Label box, darken color on hover, fitted */\n",
              "#sk-container-id-5 div.sk-label.fitted:hover label.sk-toggleable__label.fitted {\n",
              "  color: var(--sklearn-color-text);\n",
              "  background-color: var(--sklearn-color-fitted-level-2);\n",
              "}\n",
              "\n",
              "/* Estimator label */\n",
              "\n",
              "#sk-container-id-5 div.sk-label label {\n",
              "  font-family: monospace;\n",
              "  font-weight: bold;\n",
              "  display: inline-block;\n",
              "  line-height: 1.2em;\n",
              "}\n",
              "\n",
              "#sk-container-id-5 div.sk-label-container {\n",
              "  text-align: center;\n",
              "}\n",
              "\n",
              "/* Estimator-specific */\n",
              "#sk-container-id-5 div.sk-estimator {\n",
              "  font-family: monospace;\n",
              "  border: 1px dotted var(--sklearn-color-border-box);\n",
              "  border-radius: 0.25em;\n",
              "  box-sizing: border-box;\n",
              "  margin-bottom: 0.5em;\n",
              "  /* unfitted */\n",
              "  background-color: var(--sklearn-color-unfitted-level-0);\n",
              "}\n",
              "\n",
              "#sk-container-id-5 div.sk-estimator.fitted {\n",
              "  /* fitted */\n",
              "  background-color: var(--sklearn-color-fitted-level-0);\n",
              "}\n",
              "\n",
              "/* on hover */\n",
              "#sk-container-id-5 div.sk-estimator:hover {\n",
              "  /* unfitted */\n",
              "  background-color: var(--sklearn-color-unfitted-level-2);\n",
              "}\n",
              "\n",
              "#sk-container-id-5 div.sk-estimator.fitted:hover {\n",
              "  /* fitted */\n",
              "  background-color: var(--sklearn-color-fitted-level-2);\n",
              "}\n",
              "\n",
              "/* Specification for estimator info (e.g. \"i\" and \"?\") */\n",
              "\n",
              "/* Common style for \"i\" and \"?\" */\n",
              "\n",
              ".sk-estimator-doc-link,\n",
              "a:link.sk-estimator-doc-link,\n",
              "a:visited.sk-estimator-doc-link {\n",
              "  float: right;\n",
              "  font-size: smaller;\n",
              "  line-height: 1em;\n",
              "  font-family: monospace;\n",
              "  background-color: var(--sklearn-color-background);\n",
              "  border-radius: 1em;\n",
              "  height: 1em;\n",
              "  width: 1em;\n",
              "  text-decoration: none !important;\n",
              "  margin-left: 1ex;\n",
              "  /* unfitted */\n",
              "  border: var(--sklearn-color-unfitted-level-1) 1pt solid;\n",
              "  color: var(--sklearn-color-unfitted-level-1);\n",
              "}\n",
              "\n",
              ".sk-estimator-doc-link.fitted,\n",
              "a:link.sk-estimator-doc-link.fitted,\n",
              "a:visited.sk-estimator-doc-link.fitted {\n",
              "  /* fitted */\n",
              "  border: var(--sklearn-color-fitted-level-1) 1pt solid;\n",
              "  color: var(--sklearn-color-fitted-level-1);\n",
              "}\n",
              "\n",
              "/* On hover */\n",
              "div.sk-estimator:hover .sk-estimator-doc-link:hover,\n",
              ".sk-estimator-doc-link:hover,\n",
              "div.sk-label-container:hover .sk-estimator-doc-link:hover,\n",
              ".sk-estimator-doc-link:hover {\n",
              "  /* unfitted */\n",
              "  background-color: var(--sklearn-color-unfitted-level-3);\n",
              "  color: var(--sklearn-color-background);\n",
              "  text-decoration: none;\n",
              "}\n",
              "\n",
              "div.sk-estimator.fitted:hover .sk-estimator-doc-link.fitted:hover,\n",
              ".sk-estimator-doc-link.fitted:hover,\n",
              "div.sk-label-container:hover .sk-estimator-doc-link.fitted:hover,\n",
              ".sk-estimator-doc-link.fitted:hover {\n",
              "  /* fitted */\n",
              "  background-color: var(--sklearn-color-fitted-level-3);\n",
              "  color: var(--sklearn-color-background);\n",
              "  text-decoration: none;\n",
              "}\n",
              "\n",
              "/* Span, style for the box shown on hovering the info icon */\n",
              ".sk-estimator-doc-link span {\n",
              "  display: none;\n",
              "  z-index: 9999;\n",
              "  position: relative;\n",
              "  font-weight: normal;\n",
              "  right: .2ex;\n",
              "  padding: .5ex;\n",
              "  margin: .5ex;\n",
              "  width: min-content;\n",
              "  min-width: 20ex;\n",
              "  max-width: 50ex;\n",
              "  color: var(--sklearn-color-text);\n",
              "  box-shadow: 2pt 2pt 4pt #999;\n",
              "  /* unfitted */\n",
              "  background: var(--sklearn-color-unfitted-level-0);\n",
              "  border: .5pt solid var(--sklearn-color-unfitted-level-3);\n",
              "}\n",
              "\n",
              ".sk-estimator-doc-link.fitted span {\n",
              "  /* fitted */\n",
              "  background: var(--sklearn-color-fitted-level-0);\n",
              "  border: var(--sklearn-color-fitted-level-3);\n",
              "}\n",
              "\n",
              ".sk-estimator-doc-link:hover span {\n",
              "  display: block;\n",
              "}\n",
              "\n",
              "/* \"?\"-specific style due to the `<a>` HTML tag */\n",
              "\n",
              "#sk-container-id-5 a.estimator_doc_link {\n",
              "  float: right;\n",
              "  font-size: 1rem;\n",
              "  line-height: 1em;\n",
              "  font-family: monospace;\n",
              "  background-color: var(--sklearn-color-background);\n",
              "  border-radius: 1rem;\n",
              "  height: 1rem;\n",
              "  width: 1rem;\n",
              "  text-decoration: none;\n",
              "  /* unfitted */\n",
              "  color: var(--sklearn-color-unfitted-level-1);\n",
              "  border: var(--sklearn-color-unfitted-level-1) 1pt solid;\n",
              "}\n",
              "\n",
              "#sk-container-id-5 a.estimator_doc_link.fitted {\n",
              "  /* fitted */\n",
              "  border: var(--sklearn-color-fitted-level-1) 1pt solid;\n",
              "  color: var(--sklearn-color-fitted-level-1);\n",
              "}\n",
              "\n",
              "/* On hover */\n",
              "#sk-container-id-5 a.estimator_doc_link:hover {\n",
              "  /* unfitted */\n",
              "  background-color: var(--sklearn-color-unfitted-level-3);\n",
              "  color: var(--sklearn-color-background);\n",
              "  text-decoration: none;\n",
              "}\n",
              "\n",
              "#sk-container-id-5 a.estimator_doc_link.fitted:hover {\n",
              "  /* fitted */\n",
              "  background-color: var(--sklearn-color-fitted-level-3);\n",
              "}\n",
              "</style><div id=\"sk-container-id-5\" class=\"sk-top-container\"><div class=\"sk-text-repr-fallback\"><pre>Pipeline(steps=[(&#x27;tfidf&#x27;, TfidfVectorizer()),\n",
              "                (&#x27;classifier&#x27;, RandomForestClassifier(n_estimators=10))])</pre><b>In a Jupyter environment, please rerun this cell to show the HTML representation or trust the notebook. <br />On GitHub, the HTML representation is unable to render, please try loading this page with nbviewer.org.</b></div><div class=\"sk-container\" hidden><div class=\"sk-item sk-dashed-wrapped\"><div class=\"sk-label-container\"><div class=\"sk-label fitted sk-toggleable\"><input class=\"sk-toggleable__control sk-hidden--visually\" id=\"sk-estimator-id-13\" type=\"checkbox\" ><label for=\"sk-estimator-id-13\" class=\"sk-toggleable__label fitted sk-toggleable__label-arrow fitted\">&nbsp;&nbsp;Pipeline<a class=\"sk-estimator-doc-link fitted\" rel=\"noreferrer\" target=\"_blank\" href=\"https://scikit-learn.org/1.5/modules/generated/sklearn.pipeline.Pipeline.html\">?<span>Documentation for Pipeline</span></a><span class=\"sk-estimator-doc-link fitted\">i<span>Fitted</span></span></label><div class=\"sk-toggleable__content fitted\"><pre>Pipeline(steps=[(&#x27;tfidf&#x27;, TfidfVectorizer()),\n",
              "                (&#x27;classifier&#x27;, RandomForestClassifier(n_estimators=10))])</pre></div> </div></div><div class=\"sk-serial\"><div class=\"sk-item\"><div class=\"sk-estimator fitted sk-toggleable\"><input class=\"sk-toggleable__control sk-hidden--visually\" id=\"sk-estimator-id-14\" type=\"checkbox\" ><label for=\"sk-estimator-id-14\" class=\"sk-toggleable__label fitted sk-toggleable__label-arrow fitted\">&nbsp;TfidfVectorizer<a class=\"sk-estimator-doc-link fitted\" rel=\"noreferrer\" target=\"_blank\" href=\"https://scikit-learn.org/1.5/modules/generated/sklearn.feature_extraction.text.TfidfVectorizer.html\">?<span>Documentation for TfidfVectorizer</span></a></label><div class=\"sk-toggleable__content fitted\"><pre>TfidfVectorizer()</pre></div> </div></div><div class=\"sk-item\"><div class=\"sk-estimator fitted sk-toggleable\"><input class=\"sk-toggleable__control sk-hidden--visually\" id=\"sk-estimator-id-15\" type=\"checkbox\" ><label for=\"sk-estimator-id-15\" class=\"sk-toggleable__label fitted sk-toggleable__label-arrow fitted\">&nbsp;RandomForestClassifier<a class=\"sk-estimator-doc-link fitted\" rel=\"noreferrer\" target=\"_blank\" href=\"https://scikit-learn.org/1.5/modules/generated/sklearn.ensemble.RandomForestClassifier.html\">?<span>Documentation for RandomForestClassifier</span></a></label><div class=\"sk-toggleable__content fitted\"><pre>RandomForestClassifier(n_estimators=10)</pre></div> </div></div></div></div></div></div>"
            ]
          },
          "metadata": {},
          "execution_count": 130
        }
      ]
    },
    {
      "cell_type": "markdown",
      "source": [
        "**Prediction and Accuracy Score of Approach 2's Data Poisoned Model**"
      ],
      "metadata": {
        "id": "KnW8cWh0Reu2"
      }
    },
    {
      "cell_type": "code",
      "source": [
        "ap2_y_pred = classifier.predict(ap2_X_test)\n",
        "\n",
        "#accuracy_score\n",
        "ap2_accuracy = accuracy_score(ap2_y_test,ap2_y_pred)\n",
        "print(\"Accuracy: %.2f%%\" % (ap2_accuracy * 100.0))\n",
        "#confusion_matrix\n",
        "ap2_cm = confusion_matrix(ap2_y_test,ap2_y_pred)\n",
        "print(ap2_cm)\n",
        "\n",
        "#classification_report\n",
        "ap2_cr = classification_report(ap2_y_test,ap2_y_pred)\n",
        "print(ap2_cr)\n",
        "\n",
        "labels = ['Safe', 'Phishing']\n",
        "\n",
        "plt.figure(figsize=(7,5))\n",
        "ax= plt.subplot()\n",
        "sns.heatmap(ap2_cm,cmap=\"Blues\",annot=True,fmt='.1f', ax = ax);\n",
        "\n",
        "# labels, title and ticks\n",
        "\n",
        "ax.set_xticklabels(labels)\n",
        "ax.set_yticklabels(labels)\n",
        "ax.set_xlabel('Predicted labels');ax.set_ylabel('True labels');\n",
        "ax.set_title('Confusion Matrix Random Forest');"
      ],
      "metadata": {
        "colab": {
          "base_uri": "https://localhost:8080/",
          "height": 695
        },
        "id": "Hr8-ADmbRjTU",
        "outputId": "22a47201-9f63-4f37-882a-f09b2c245338"
      },
      "execution_count": null,
      "outputs": [
        {
          "output_type": "stream",
          "name": "stdout",
          "text": [
            "Accuracy: 94.21%\n",
            "[[1220   98]\n",
            " [ 105 2085]]\n",
            "                precision    recall  f1-score   support\n",
            "\n",
            "Phishing Email       0.92      0.93      0.92      1318\n",
            "    Safe Email       0.96      0.95      0.95      2190\n",
            "\n",
            "      accuracy                           0.94      3508\n",
            "     macro avg       0.94      0.94      0.94      3508\n",
            "  weighted avg       0.94      0.94      0.94      3508\n",
            "\n"
          ]
        },
        {
          "output_type": "display_data",
          "data": {
            "text/plain": [
              "<Figure size 700x500 with 2 Axes>"
            ],
            "image/png": "[encoded data removed]"
          },
          "metadata": {}
        }
      ]
    },
    {
      "cell_type": "markdown",
      "source": [
        "**Testing Email Samples to see if Poisoned Model Works**"
      ],
      "metadata": {
        "id": "LF74MsEuSQBp"
      }
    },
    {
      "cell_type": "code",
      "source": [
        "ham_test = 'Hi Kurt! How was your day?'\n",
        "spam_test = 'Would you like a free Amazon Gift Card? Follow the link provided!! <link>'\n",
        "spam_test_2 = 'Thanks for your subscription to Hulu and you will be charged $9.99/month.'\n",
        "ham_test_2 = 'omw to work now'\n",
        "\n",
        "test_list = [ham_test, ham_test_2, spam_test, spam_test_2]\n",
        "test_expected = ['Safe Email', 'Safe Email', 'Phishing Email', 'Phishing Email']\n",
        "test_pred = poison_classifier.predict(test_list)\n",
        "print(test_pred)\n",
        "test_accuracy = accuracy_score(test_expected,test_pred)\n",
        "print(\"Accuracy: %.2f%%\" % (test_accuracy * 100.0))"
      ],
      "metadata": {
        "colab": {
          "base_uri": "https://localhost:8080/"
        },
        "id": "2XKmXs9ySPyG",
        "outputId": "872eb0ec-00aa-4d45-9edd-2fec10c4ee8e"
      },
      "execution_count": 43,
      "outputs": [
        {
          "output_type": "stream",
          "name": "stdout",
          "text": [
            "['Phishing Email' 'Phishing Email' 'Phishing Email' 'Safe Email']\n",
            "Accuracy: 25.00%\n"
          ]
        }
      ]
    }
  ]
}