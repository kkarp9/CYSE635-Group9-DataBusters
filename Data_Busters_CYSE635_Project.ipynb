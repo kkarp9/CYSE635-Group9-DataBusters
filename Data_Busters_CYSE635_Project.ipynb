{
  "nbformat": 4,
  "nbformat_minor": 0,
  "metadata": {
    "colab": {
      "provenance": [],
      "include_colab_link": true
    },
    "kernelspec": {
      "name": "python3",
      "display_name": "Python 3"
    },
    "language_info": {
      "name": "python"
    }
  },
  "cells": [
    {
      "cell_type": "markdown",
      "metadata": {
        "id": "view-in-github",
        "colab_type": "text"
      },
      "source": [
        "<a href=\"https://colab.research.google.com/github/kkarp9/CYSE635-Group7-DataBusters/blob/main/Data_Busters_CYSE635_Project.ipynb\" target=\"_parent\"><img src=\"https://colab.research.google.com/assets/colab-badge.svg\" alt=\"Open In Colab\"/></a>"
      ]
    },
    {
      "cell_type": "markdown",
      "source": [
        "# Data Busters - Not Demure, Not Mindful (Group 9): Data Poisoning Attack\n",
        "## Macky Castro and Kurt Karpin\n",
        "## CYSE 635"
      ],
      "metadata": {
        "id": "f1SVwQKncWK7"
      }
    },
    {
      "cell_type": "markdown",
      "source": [
        "# Part 1: Email Dataset Setup"
      ],
      "metadata": {
        "id": "HqSFiALNA69H"
      }
    },
    {
      "cell_type": "markdown",
      "source": [
        "**Import All Applicable Libraries for Project**"
      ],
      "metadata": {
        "id": "TMsoeOR9c3XD"
      }
    },
    {
      "cell_type": "code",
      "execution_count": null,
      "metadata": {
        "id": "TG4JZmZmZGMU"
      },
      "outputs": [],
      "source": [
        "import pandas as pd # pandas is used to deal with datasets, dataframes\n",
        "import numpy as np # deal to numbers and large arrays\n",
        "import matplotlib.pyplot as plt # to draw any plot\n",
        "import seaborn as sns # to draw any plot\n",
        "import warnings\n",
        "from sklearn.preprocessing import LabelEncoder\n",
        "from pandas.plotting import scatter_matrix\n",
        "from sklearn.model_selection import train_test_split\n",
        "from sklearn.metrics import confusion_matrix\n",
        "from sklearn.metrics import accuracy_score, classification_report\n",
        "from sklearn.svm import SVC\n"
      ]
    },
    {
      "cell_type": "markdown",
      "source": [
        "**Check if running on Google Collab or Locally such as VScode**"
      ],
      "metadata": {
        "id": "e_aAq5dzc-Iz"
      }
    },
    {
      "cell_type": "code",
      "source": [
        "from google.colab import files\n",
        "environment = 0\n",
        "while environment != '1' or environment != '2':\n",
        "  environment = input('Press 1 if this is running on Google Collab or 2 if running locally.')\n",
        "  if environment == '1' or environment == '2':\n",
        "    break\n",
        "  else:\n",
        "    print('Invalid Input. Please try again.')\n",
        "if environment == '1':\n",
        "  uploaded = files.upload()"
      ],
      "metadata": {
        "colab": {
          "base_uri": "https://localhost:8080/",
          "height": 91
        },
        "id": "uKjWUbKbc789",
        "outputId": "1b5e0792-b710-4771-c13e-70bed06525d6"
      },
      "execution_count": null,
      "outputs": [
        {
          "name": "stdout",
          "output_type": "stream",
          "text": [
            "Press 1 if this is running on Google Collab or 2 if running locally.1\n"
          ]
        },
        {
          "output_type": "display_data",
          "data": {
            "text/plain": [
              "<IPython.core.display.HTML object>"
            ],
            "text/html": [
              "\n",
              "     <input type=\"file\" id=\"files-3c9eb6c4-a374-4124-9d50-e3ac397a980b\" name=\"files[]\" multiple disabled\n",
              "        style=\"border:none\" />\n",
              "     <output id=\"result-3c9eb6c4-a374-4124-9d50-e3ac397a980b\">\n",
              "      Upload widget is only available when the cell has been executed in the\n",
              "      current browser session. Please rerun this cell to enable.\n",
              "      </output>\n",
              "      <script>// Copyright 2017 Google LLC\n",
              "//\n",
              "// Licensed under the Apache License, Version 2.0 (the \"License\");\n",
              "// you may not use this file except in compliance with the License.\n",
              "// You may obtain a copy of the License at\n",
              "//\n",
              "//      http://www.apache.org/licenses/LICENSE-2.0\n",
              "//\n",
              "// Unless required by applicable law or agreed to in writing, software\n",
              "// distributed under the License is distributed on an \"AS IS\" BASIS,\n",
              "// WITHOUT WARRANTIES OR CONDITIONS OF ANY KIND, either express or implied.\n",
              "// See the License for the specific language governing permissions and\n",
              "// limitations under the License.\n",
              "\n",
              "/**\n",
              " * @fileoverview Helpers for google.colab Python module.\n",
              " */\n",
              "(function(scope) {\n",
              "function span(text, styleAttributes = {}) {\n",
              "  const element = document.createElement('span');\n",
              "  element.textContent = text;\n",
              "  for (const key of Object.keys(styleAttributes)) {\n",
              "    element.style[key] = styleAttributes[key];\n",
              "  }\n",
              "  return element;\n",
              "}\n",
              "\n",
              "// Max number of bytes which will be uploaded at a time.\n",
              "const MAX_PAYLOAD_SIZE = 100 * 1024;\n",
              "\n",
              "function _uploadFiles(inputId, outputId) {\n",
              "  const steps = uploadFilesStep(inputId, outputId);\n",
              "  const outputElement = document.getElementById(outputId);\n",
              "  // Cache steps on the outputElement to make it available for the next call\n",
              "  // to uploadFilesContinue from Python.\n",
              "  outputElement.steps = steps;\n",
              "\n",
              "  return _uploadFilesContinue(outputId);\n",
              "}\n",
              "\n",
              "// This is roughly an async generator (not supported in the browser yet),\n",
              "// where there are multiple asynchronous steps and the Python side is going\n",
              "// to poll for completion of each step.\n",
              "// This uses a Promise to block the python side on completion of each step,\n",
              "// then passes the result of the previous step as the input to the next step.\n",
              "function _uploadFilesContinue(outputId) {\n",
              "  const outputElement = document.getElementById(outputId);\n",
              "  const steps = outputElement.steps;\n",
              "\n",
              "  const next = steps.next(outputElement.lastPromiseValue);\n",
              "  return Promise.resolve(next.value.promise).then((value) => {\n",
              "    // Cache the last promise value to make it available to the next\n",
              "    // step of the generator.\n",
              "    outputElement.lastPromiseValue = value;\n",
              "    return next.value.response;\n",
              "  });\n",
              "}\n",
              "\n",
              "/**\n",
              " * Generator function which is called between each async step of the upload\n",
              " * process.\n",
              " * @param {string} inputId Element ID of the input file picker element.\n",
              " * @param {string} outputId Element ID of the output display.\n",
              " * @return {!Iterable<!Object>} Iterable of next steps.\n",
              " */\n",
              "function* uploadFilesStep(inputId, outputId) {\n",
              "  const inputElement = document.getElementById(inputId);\n",
              "  inputElement.disabled = false;\n",
              "\n",
              "  const outputElement = document.getElementById(outputId);\n",
              "  outputElement.innerHTML = '';\n",
              "\n",
              "  const pickedPromise = new Promise((resolve) => {\n",
              "    inputElement.addEventListener('change', (e) => {\n",
              "      resolve(e.target.files);\n",
              "    });\n",
              "  });\n",
              "\n",
              "  const cancel = document.createElement('button');\n",
              "  inputElement.parentElement.appendChild(cancel);\n",
              "  cancel.textContent = 'Cancel upload';\n",
              "  const cancelPromise = new Promise((resolve) => {\n",
              "    cancel.onclick = () => {\n",
              "      resolve(null);\n",
              "    };\n",
              "  });\n",
              "\n",
              "  // Wait for the user to pick the files.\n",
              "  const files = yield {\n",
              "    promise: Promise.race([pickedPromise, cancelPromise]),\n",
              "    response: {\n",
              "      action: 'starting',\n",
              "    }\n",
              "  };\n",
              "\n",
              "  cancel.remove();\n",
              "\n",
              "  // Disable the input element since further picks are not allowed.\n",
              "  inputElement.disabled = true;\n",
              "\n",
              "  if (!files) {\n",
              "    return {\n",
              "      response: {\n",
              "        action: 'complete',\n",
              "      }\n",
              "    };\n",
              "  }\n",
              "\n",
              "  for (const file of files) {\n",
              "    const li = document.createElement('li');\n",
              "    li.append(span(file.name, {fontWeight: 'bold'}));\n",
              "    li.append(span(\n",
              "        `(${file.type || 'n/a'}) - ${file.size} bytes, ` +\n",
              "        `last modified: ${\n",
              "            file.lastModifiedDate ? file.lastModifiedDate.toLocaleDateString() :\n",
              "                                    'n/a'} - `));\n",
              "    const percent = span('0% done');\n",
              "    li.appendChild(percent);\n",
              "\n",
              "    outputElement.appendChild(li);\n",
              "\n",
              "    const fileDataPromise = new Promise((resolve) => {\n",
              "      const reader = new FileReader();\n",
              "      reader.onload = (e) => {\n",
              "        resolve(e.target.result);\n",
              "      };\n",
              "      reader.readAsArrayBuffer(file);\n",
              "    });\n",
              "    // Wait for the data to be ready.\n",
              "    let fileData = yield {\n",
              "      promise: fileDataPromise,\n",
              "      response: {\n",
              "        action: 'continue',\n",
              "      }\n",
              "    };\n",
              "\n",
              "    // Use a chunked sending to avoid message size limits. See b/62115660.\n",
              "    let position = 0;\n",
              "    do {\n",
              "      const length = Math.min(fileData.byteLength - position, MAX_PAYLOAD_SIZE);\n",
              "      const chunk = new Uint8Array(fileData, position, length);\n",
              "      position += length;\n",
              "\n",
              "      const base64 = btoa(String.fromCharCode.apply(null, chunk));\n",
              "      yield {\n",
              "        response: {\n",
              "          action: 'append',\n",
              "          file: file.name,\n",
              "          data: base64,\n",
              "        },\n",
              "      };\n",
              "\n",
              "      let percentDone = fileData.byteLength === 0 ?\n",
              "          100 :\n",
              "          Math.round((position / fileData.byteLength) * 100);\n",
              "      percent.textContent = `${percentDone}% done`;\n",
              "\n",
              "    } while (position < fileData.byteLength);\n",
              "  }\n",
              "\n",
              "  // All done.\n",
              "  yield {\n",
              "    response: {\n",
              "      action: 'complete',\n",
              "    }\n",
              "  };\n",
              "}\n",
              "\n",
              "scope.google = scope.google || {};\n",
              "scope.google.colab = scope.google.colab || {};\n",
              "scope.google.colab._files = {\n",
              "  _uploadFiles,\n",
              "  _uploadFilesContinue,\n",
              "};\n",
              "})(self);\n",
              "</script> "
            ]
          },
          "metadata": {}
        },
        {
          "output_type": "stream",
          "name": "stdout",
          "text": [
            "Saving Phishing_Email.csv to Phishing_Email.csv\n"
          ]
        }
      ]
    },
    {
      "cell_type": "markdown",
      "source": [
        "**Check the current working directory using os.getcwd() and check all the files in the /content/ directory**\n"
      ],
      "metadata": {
        "id": "qQN1h-OUdG8y"
      }
    },
    {
      "cell_type": "code",
      "source": [
        "import os\n",
        "\n",
        "curr_dir = os.getcwd()\n",
        "print(curr_dir)\n",
        "\n"
      ],
      "metadata": {
        "colab": {
          "base_uri": "https://localhost:8080/"
        },
        "id": "cMBOLpZ8dSWm",
        "outputId": "4aa7f848-42ff-4c29-924d-3aa96c5baa28"
      },
      "execution_count": null,
      "outputs": [
        {
          "output_type": "stream",
          "name": "stdout",
          "text": [
            "/content\n"
          ]
        }
      ]
    },
    {
      "cell_type": "code",
      "source": [
        "ls -al /content/"
      ],
      "metadata": {
        "id": "eWzwf0fSeUl7",
        "outputId": "02817d47-e490-4e02-d6b1-1b415a038578",
        "colab": {
          "base_uri": "https://localhost:8080/"
        }
      },
      "execution_count": null,
      "outputs": [
        {
          "output_type": "stream",
          "name": "stdout",
          "text": [
            "total 68276\n",
            "drwxr-xr-x 1 root root     4096 Dec  4 01:51 \u001b[0m\u001b[01;34m.\u001b[0m/\n",
            "drwxr-xr-x 1 root root     4096 Dec  4 00:31 \u001b[01;34m..\u001b[0m/\n",
            "drwxr-xr-x 4 root root     4096 Dec  2 14:21 \u001b[01;34m.config\u001b[0m/\n",
            "-rw-r--r-- 1 root root 17859563 Dec  4 00:39 cybersecurity_attacks.csv\n",
            "-rw-r--r-- 1 root root 52034604 Dec  4 01:51 Phishing_Email.csv\n",
            "drwxr-xr-x 1 root root     4096 Dec  2 14:21 \u001b[01;34msample_data\u001b[0m/\n"
          ]
        }
      ]
    },
    {
      "cell_type": "markdown",
      "source": [
        "**Read the Phishing CSV files from the `/content/` directory**"
      ],
      "metadata": {
        "id": "zZ8OTfUmArO1"
      }
    },
    {
      "cell_type": "code",
      "source": [
        "if environment == '1':\n",
        "  df = pd.read_csv('/content/Phishing_Email.csv')\n",
        "else:\n",
        "  # assumes csv file is in the same directory locally as this notebook file\n",
        "  df = pd.read_csv('Phishing_Email.csv')\n",
        "\n",
        "print(f'Email shape: {df.shape}')\n",
        "print(f'Top 5 rows of emails:\\n {df.head(5)}')\n",
        "df.columns"
      ],
      "metadata": {
        "colab": {
          "base_uri": "https://localhost:8080/"
        },
        "id": "RYgJu0Li_nlh",
        "outputId": "7d300e1f-dcdb-4507-a825-0e301aaac225"
      },
      "execution_count": null,
      "outputs": [
        {
          "output_type": "stream",
          "name": "stdout",
          "text": [
            "Email shape: (18650, 3)\n",
            "Top 5 rows of emails:\n",
            "    Unnamed: 0                                         Email Text  \\\n",
            "0           0  re : 6 . 1100 , disc : uniformitarianism , re ...   \n",
            "1           1  the other side of * galicismos * * galicismo *...   \n",
            "2           2  re : equistar deal tickets are you still avail...   \n",
            "3           3  \\nHello I am your hot lil horny toy.\\n    I am...   \n",
            "4           4  software at incredibly low prices ( 86 % lower...   \n",
            "\n",
            "       Email Type  \n",
            "0      Safe Email  \n",
            "1      Safe Email  \n",
            "2      Safe Email  \n",
            "3  Phishing Email  \n",
            "4  Phishing Email  \n"
          ]
        },
        {
          "output_type": "execute_result",
          "data": {
            "text/plain": [
              "Index(['Unnamed: 0', 'Email Text', 'Email Type'], dtype='object')"
            ]
          },
          "metadata": {},
          "execution_count": 12
        }
      ]
    },
    {
      "cell_type": "markdown",
      "source": [
        "**Clean up DataFrame**"
      ],
      "metadata": {
        "id": "lpbOwOK7CiH2"
      }
    },
    {
      "cell_type": "code",
      "source": [
        "df = df.drop(labels = ['Unnamed: 0'], axis = 1)\n",
        "print(f'Updated Email shape: {df.shape}')\n",
        "print(f'Updated Top 5 rows of emails:\\n {df.head(5)}')\n",
        "\n",
        "og_size = len(df)\n",
        "# drop empty and duplicated email entries\n",
        "df = df.dropna()\n",
        "df = df.drop_duplicates()\n",
        "print(f'Post Clean Email shape: {df.shape}')\n",
        "\n",
        "curr_size = len(df)\n",
        "print(f'Size Difference: {og_size - curr_size}')\n",
        "print(f'Rate of Data Loss: {(og_size - curr_size) / og_size}')\n"
      ],
      "metadata": {
        "colab": {
          "base_uri": "https://localhost:8080/"
        },
        "id": "2_AmZs7uCq39",
        "outputId": "664d7312-d0cb-4635-d164-b96f642183ad"
      },
      "execution_count": null,
      "outputs": [
        {
          "output_type": "stream",
          "name": "stdout",
          "text": [
            "Updated Email shape: (18650, 2)\n",
            "Updated Top 5 rows of emails:\n",
            "                                           Email Text      Email Type\n",
            "0  re : 6 . 1100 , disc : uniformitarianism , re ...      Safe Email\n",
            "1  the other side of * galicismos * * galicismo *...      Safe Email\n",
            "2  re : equistar deal tickets are you still avail...      Safe Email\n",
            "3  \\nHello I am your hot lil horny toy.\\n    I am...  Phishing Email\n",
            "4  software at incredibly low prices ( 86 % lower...  Phishing Email\n",
            "Post Clean Email shape: (17538, 2)\n",
            "Size Difference: 1112\n",
            "Rate of Data Loss: 0.05962466487935657\n"
          ]
        }
      ]
    },
    {
      "cell_type": "markdown",
      "source": [
        "**Confirm the Labels Under Set**\n",
        "\n",
        "\n",
        "This shows that there are only 2 unique labels meaning this is a binary classification."
      ],
      "metadata": {
        "id": "nIUWfcsDDhmM"
      }
    },
    {
      "cell_type": "code",
      "source": [
        "email_types = df['Email Type'].unique()\n",
        "\n",
        "print(f\"Unique Email Labels:\\n{email_types}\")"
      ],
      "metadata": {
        "colab": {
          "base_uri": "https://localhost:8080/"
        },
        "id": "80ICghvcDlPG",
        "outputId": "d330f49e-d841-4bf1-e281-81f449d91be5"
      },
      "execution_count": null,
      "outputs": [
        {
          "output_type": "stream",
          "name": "stdout",
          "text": [
            "Unique Email Labels:\n",
            "['Safe Email' 'Phishing Email']\n"
          ]
        }
      ]
    },
    {
      "cell_type": "markdown",
      "source": [
        "**Data Visualization**\n",
        "\n",
        "Pie Chart to see how many Phishing and Safe emails are there."
      ],
      "metadata": {
        "id": "RLWxYm-MF9nQ"
      }
    },
    {
      "cell_type": "code",
      "source": [
        "print('Pie Chart of Safe and Phishing Emails')\n",
        "ratio = df['Email Type'].value_counts()\n",
        "plt.pie(ratio, labels = ratio.index, autopct = '%1.0f%%')\n",
        "\n",
        "plt.show()"
      ],
      "metadata": {
        "colab": {
          "base_uri": "https://localhost:8080/",
          "height": 424
        },
        "id": "2NDwrBYkGHmO",
        "outputId": "6505085c-9743-4365-9679-c051fa4e40b2"
      },
      "execution_count": null,
      "outputs": [
        {
          "output_type": "stream",
          "name": "stdout",
          "text": [
            "Pie Chart of Safe and Phishing Emails\n"
          ]
        },
        {
          "output_type": "display_data",
          "data": {
            "text/plain": [
              "<Figure size 640x480 with 1 Axes>"
            ],
            "image/png": "[encoded data removed]"
          },
          "metadata": {}
        }
      ]
    },
    {
      "cell_type": "markdown",
      "source": [
        "**Bar Chart Visualization**"
      ],
      "metadata": {
        "id": "5bTGk_9RxcAF"
      }
    },
    {
      "cell_type": "code",
      "source": [
        "plt.bar(['Safe Email', 'Phising Email'], [(df['Email Type'] == 'Safe Email').sum(), (df['Email Type'] == 'Phishing Email').sum()], color=['green', 'red'])\n",
        "plt.xlabel('Email Type')\n",
        "plt.ylabel('Count')\n",
        "plt.title('Safe and Phishing Emails Count')\n",
        "plt.show()"
      ],
      "metadata": {
        "colab": {
          "base_uri": "https://localhost:8080/",
          "height": 472
        },
        "id": "6qjZprgJxa5d",
        "outputId": "fff8cb2c-ce19-43e3-c174-62d570c2df02"
      },
      "execution_count": null,
      "outputs": [
        {
          "output_type": "display_data",
          "data": {
            "text/plain": [
              "<Figure size 640x480 with 1 Axes>"
            ],
            "image/png": "[encoded data removed]"
          },
          "metadata": {}
        }
      ]
    },
    {
      "cell_type": "markdown",
      "source": [
        "**Label Encoding**"
      ],
      "metadata": {
        "id": "nbPWkFGVI9zd"
      }
    },
    {
      "cell_type": "markdown",
      "source": [
        "# Part 2: Initial Machine Learning Model"
      ],
      "metadata": {
        "id": "MTQa6130GcEp"
      }
    },
    {
      "cell_type": "code",
      "source": [
        "# split Email Type column to model\n",
        "\n",
        "X = df['Email Text'].values\n",
        "Y = df['Email Type'].values\n",
        "print(X.shape)\n",
        "print(Y.shape)\n",
        "\n",
        "X_train, X_test, y_train, y_test = train_test_split(X, Y, test_size=0.2, random_state = 101)\n",
        "print(\"\\n X_train Shape: \", X_train.shape)\n",
        "\n",
        "print(\"\\n X_test Shape: \", X_test.shape)\n",
        "\n",
        "print(\"\\n y_train  Shape: \", y_train.shape)\n",
        "print(\"\\n y_test Shape: \", y_test.shape)"
      ],
      "metadata": {
        "colab": {
          "base_uri": "https://localhost:8080/"
        },
        "id": "oMkOiMJsGpkF",
        "outputId": "f39cceb8-30e4-4a1b-b2b3-d82640ad1d7b"
      },
      "execution_count": null,
      "outputs": [
        {
          "output_type": "stream",
          "name": "stdout",
          "text": [
            "(17538,)\n",
            "(17538,)\n",
            "\n",
            " X_train Shape:  (14030,)\n",
            "\n",
            " X_test Shape:  (3508,)\n",
            "\n",
            " y_train  Shape:  (14030,)\n",
            "\n",
            " y_test Shape:  (3508,)\n"
          ]
        }
      ]
    },
    {
      "cell_type": "code",
      "source": [
        "# Importing Libraries for the model ,Tfidf and Pipeline\n",
        "from sklearn.ensemble import RandomForestClassifier\n",
        "from sklearn.feature_extraction.text import TfidfVectorizer\n",
        "from sklearn.pipeline import Pipeline\n",
        "\n",
        "# define the Classifier\n",
        "classifier = Pipeline([(\"tfidf\",TfidfVectorizer() ),(\"classifier\",RandomForestClassifier(n_estimators=10))])"
      ],
      "metadata": {
        "id": "TnEtCQW5KDmc"
      },
      "execution_count": null,
      "outputs": []
    },
    {
      "cell_type": "code",
      "source": [
        "# Trian Our model\n",
        "classifier.fit(X_train,y_train)"
      ],
      "metadata": {
        "colab": {
          "base_uri": "https://localhost:8080/",
          "height": 142
        },
        "id": "G6RmBCZ_MxXA",
        "outputId": "6edbbd92-9057-4ae8-fd18-2a0e1891b612"
      },
      "execution_count": null,
      "outputs": [
        {
          "output_type": "execute_result",
          "data": {
            "text/plain": [
              "Pipeline(steps=[('tfidf', TfidfVectorizer()),\n",
              "                ('classifier', RandomForestClassifier(n_estimators=10))])"
            ],
            "text/html": [
              "<style>#sk-container-id-1 {\n",
              "  /* Definition of color scheme common for light and dark mode */\n",
              "  --sklearn-color-text: black;\n",
              "  --sklearn-color-line: gray;\n",
              "  /* Definition of color scheme for unfitted estimators */\n",
              "  --sklearn-color-unfitted-level-0: #fff5e6;\n",
              "  --sklearn-color-unfitted-level-1: #f6e4d2;\n",
              "  --sklearn-color-unfitted-level-2: #ffe0b3;\n",
              "  --sklearn-color-unfitted-level-3: chocolate;\n",
              "  /* Definition of color scheme for fitted estimators */\n",
              "  --sklearn-color-fitted-level-0: #f0f8ff;\n",
              "  --sklearn-color-fitted-level-1: #d4ebff;\n",
              "  --sklearn-color-fitted-level-2: #b3dbfd;\n",
              "  --sklearn-color-fitted-level-3: cornflowerblue;\n",
              "\n",
              "  /* Specific color for light theme */\n",
              "  --sklearn-color-text-on-default-background: var(--sg-text-color, var(--theme-code-foreground, var(--jp-content-font-color1, black)));\n",
              "  --sklearn-color-background: var(--sg-background-color, var(--theme-background, var(--jp-layout-color0, white)));\n",
              "  --sklearn-color-border-box: var(--sg-text-color, var(--theme-code-foreground, var(--jp-content-font-color1, black)));\n",
              "  --sklearn-color-icon: #696969;\n",
              "\n",
              "  @media (prefers-color-scheme: dark) {\n",
              "    /* Redefinition of color scheme for dark theme */\n",
              "    --sklearn-color-text-on-default-background: var(--sg-text-color, var(--theme-code-foreground, var(--jp-content-font-color1, white)));\n",
              "    --sklearn-color-background: var(--sg-background-color, var(--theme-background, var(--jp-layout-color0, #111)));\n",
              "    --sklearn-color-border-box: var(--sg-text-color, var(--theme-code-foreground, var(--jp-content-font-color1, white)));\n",
              "    --sklearn-color-icon: #878787;\n",
              "  }\n",
              "}\n",
              "\n",
              "#sk-container-id-1 {\n",
              "  color: var(--sklearn-color-text);\n",
              "}\n",
              "\n",
              "#sk-container-id-1 pre {\n",
              "  padding: 0;\n",
              "}\n",
              "\n",
              "#sk-container-id-1 input.sk-hidden--visually {\n",
              "  border: 0;\n",
              "  clip: rect(1px 1px 1px 1px);\n",
              "  clip: rect(1px, 1px, 1px, 1px);\n",
              "  height: 1px;\n",
              "  margin: -1px;\n",
              "  overflow: hidden;\n",
              "  padding: 0;\n",
              "  position: absolute;\n",
              "  width: 1px;\n",
              "}\n",
              "\n",
              "#sk-container-id-1 div.sk-dashed-wrapped {\n",
              "  border: 1px dashed var(--sklearn-color-line);\n",
              "  margin: 0 0.4em 0.5em 0.4em;\n",
              "  box-sizing: border-box;\n",
              "  padding-bottom: 0.4em;\n",
              "  background-color: var(--sklearn-color-background);\n",
              "}\n",
              "\n",
              "#sk-container-id-1 div.sk-container {\n",
              "  /* jupyter's `normalize.less` sets `[hidden] { display: none; }`\n",
              "     but bootstrap.min.css set `[hidden] { display: none !important; }`\n",
              "     so we also need the `!important` here to be able to override the\n",
              "     default hidden behavior on the sphinx rendered scikit-learn.org.\n",
              "     See: https://github.com/scikit-learn/scikit-learn/issues/21755 */\n",
              "  display: inline-block !important;\n",
              "  position: relative;\n",
              "}\n",
              "\n",
              "#sk-container-id-1 div.sk-text-repr-fallback {\n",
              "  display: none;\n",
              "}\n",
              "\n",
              "div.sk-parallel-item,\n",
              "div.sk-serial,\n",
              "div.sk-item {\n",
              "  /* draw centered vertical line to link estimators */\n",
              "  background-image: linear-gradient(var(--sklearn-color-text-on-default-background), var(--sklearn-color-text-on-default-background));\n",
              "  background-size: 2px 100%;\n",
              "  background-repeat: no-repeat;\n",
              "  background-position: center center;\n",
              "}\n",
              "\n",
              "/* Parallel-specific style estimator block */\n",
              "\n",
              "#sk-container-id-1 div.sk-parallel-item::after {\n",
              "  content: \"\";\n",
              "  width: 100%;\n",
              "  border-bottom: 2px solid var(--sklearn-color-text-on-default-background);\n",
              "  flex-grow: 1;\n",
              "}\n",
              "\n",
              "#sk-container-id-1 div.sk-parallel {\n",
              "  display: flex;\n",
              "  align-items: stretch;\n",
              "  justify-content: center;\n",
              "  background-color: var(--sklearn-color-background);\n",
              "  position: relative;\n",
              "}\n",
              "\n",
              "#sk-container-id-1 div.sk-parallel-item {\n",
              "  display: flex;\n",
              "  flex-direction: column;\n",
              "}\n",
              "\n",
              "#sk-container-id-1 div.sk-parallel-item:first-child::after {\n",
              "  align-self: flex-end;\n",
              "  width: 50%;\n",
              "}\n",
              "\n",
              "#sk-container-id-1 div.sk-parallel-item:last-child::after {\n",
              "  align-self: flex-start;\n",
              "  width: 50%;\n",
              "}\n",
              "\n",
              "#sk-container-id-1 div.sk-parallel-item:only-child::after {\n",
              "  width: 0;\n",
              "}\n",
              "\n",
              "/* Serial-specific style estimator block */\n",
              "\n",
              "#sk-container-id-1 div.sk-serial {\n",
              "  display: flex;\n",
              "  flex-direction: column;\n",
              "  align-items: center;\n",
              "  background-color: var(--sklearn-color-background);\n",
              "  padding-right: 1em;\n",
              "  padding-left: 1em;\n",
              "}\n",
              "\n",
              "\n",
              "/* Toggleable style: style used for estimator/Pipeline/ColumnTransformer box that is\n",
              "clickable and can be expanded/collapsed.\n",
              "- Pipeline and ColumnTransformer use this feature and define the default style\n",
              "- Estimators will overwrite some part of the style using the `sk-estimator` class\n",
              "*/\n",
              "\n",
              "/* Pipeline and ColumnTransformer style (default) */\n",
              "\n",
              "#sk-container-id-1 div.sk-toggleable {\n",
              "  /* Default theme specific background. It is overwritten whether we have a\n",
              "  specific estimator or a Pipeline/ColumnTransformer */\n",
              "  background-color: var(--sklearn-color-background);\n",
              "}\n",
              "\n",
              "/* Toggleable label */\n",
              "#sk-container-id-1 label.sk-toggleable__label {\n",
              "  cursor: pointer;\n",
              "  display: block;\n",
              "  width: 100%;\n",
              "  margin-bottom: 0;\n",
              "  padding: 0.5em;\n",
              "  box-sizing: border-box;\n",
              "  text-align: center;\n",
              "}\n",
              "\n",
              "#sk-container-id-1 label.sk-toggleable__label-arrow:before {\n",
              "  /* Arrow on the left of the label */\n",
              "  content: \"▸\";\n",
              "  float: left;\n",
              "  margin-right: 0.25em;\n",
              "  color: var(--sklearn-color-icon);\n",
              "}\n",
              "\n",
              "#sk-container-id-1 label.sk-toggleable__label-arrow:hover:before {\n",
              "  color: var(--sklearn-color-text);\n",
              "}\n",
              "\n",
              "/* Toggleable content - dropdown */\n",
              "\n",
              "#sk-container-id-1 div.sk-toggleable__content {\n",
              "  max-height: 0;\n",
              "  max-width: 0;\n",
              "  overflow: hidden;\n",
              "  text-align: left;\n",
              "  /* unfitted */\n",
              "  background-color: var(--sklearn-color-unfitted-level-0);\n",
              "}\n",
              "\n",
              "#sk-container-id-1 div.sk-toggleable__content.fitted {\n",
              "  /* fitted */\n",
              "  background-color: var(--sklearn-color-fitted-level-0);\n",
              "}\n",
              "\n",
              "#sk-container-id-1 div.sk-toggleable__content pre {\n",
              "  margin: 0.2em;\n",
              "  border-radius: 0.25em;\n",
              "  color: var(--sklearn-color-text);\n",
              "  /* unfitted */\n",
              "  background-color: var(--sklearn-color-unfitted-level-0);\n",
              "}\n",
              "\n",
              "#sk-container-id-1 div.sk-toggleable__content.fitted pre {\n",
              "  /* unfitted */\n",
              "  background-color: var(--sklearn-color-fitted-level-0);\n",
              "}\n",
              "\n",
              "#sk-container-id-1 input.sk-toggleable__control:checked~div.sk-toggleable__content {\n",
              "  /* Expand drop-down */\n",
              "  max-height: 200px;\n",
              "  max-width: 100%;\n",
              "  overflow: auto;\n",
              "}\n",
              "\n",
              "#sk-container-id-1 input.sk-toggleable__control:checked~label.sk-toggleable__label-arrow:before {\n",
              "  content: \"▾\";\n",
              "}\n",
              "\n",
              "/* Pipeline/ColumnTransformer-specific style */\n",
              "\n",
              "#sk-container-id-1 div.sk-label input.sk-toggleable__control:checked~label.sk-toggleable__label {\n",
              "  color: var(--sklearn-color-text);\n",
              "  background-color: var(--sklearn-color-unfitted-level-2);\n",
              "}\n",
              "\n",
              "#sk-container-id-1 div.sk-label.fitted input.sk-toggleable__control:checked~label.sk-toggleable__label {\n",
              "  background-color: var(--sklearn-color-fitted-level-2);\n",
              "}\n",
              "\n",
              "/* Estimator-specific style */\n",
              "\n",
              "/* Colorize estimator box */\n",
              "#sk-container-id-1 div.sk-estimator input.sk-toggleable__control:checked~label.sk-toggleable__label {\n",
              "  /* unfitted */\n",
              "  background-color: var(--sklearn-color-unfitted-level-2);\n",
              "}\n",
              "\n",
              "#sk-container-id-1 div.sk-estimator.fitted input.sk-toggleable__control:checked~label.sk-toggleable__label {\n",
              "  /* fitted */\n",
              "  background-color: var(--sklearn-color-fitted-level-2);\n",
              "}\n",
              "\n",
              "#sk-container-id-1 div.sk-label label.sk-toggleable__label,\n",
              "#sk-container-id-1 div.sk-label label {\n",
              "  /* The background is the default theme color */\n",
              "  color: var(--sklearn-color-text-on-default-background);\n",
              "}\n",
              "\n",
              "/* On hover, darken the color of the background */\n",
              "#sk-container-id-1 div.sk-label:hover label.sk-toggleable__label {\n",
              "  color: var(--sklearn-color-text);\n",
              "  background-color: var(--sklearn-color-unfitted-level-2);\n",
              "}\n",
              "\n",
              "/* Label box, darken color on hover, fitted */\n",
              "#sk-container-id-1 div.sk-label.fitted:hover label.sk-toggleable__label.fitted {\n",
              "  color: var(--sklearn-color-text);\n",
              "  background-color: var(--sklearn-color-fitted-level-2);\n",
              "}\n",
              "\n",
              "/* Estimator label */\n",
              "\n",
              "#sk-container-id-1 div.sk-label label {\n",
              "  font-family: monospace;\n",
              "  font-weight: bold;\n",
              "  display: inline-block;\n",
              "  line-height: 1.2em;\n",
              "}\n",
              "\n",
              "#sk-container-id-1 div.sk-label-container {\n",
              "  text-align: center;\n",
              "}\n",
              "\n",
              "/* Estimator-specific */\n",
              "#sk-container-id-1 div.sk-estimator {\n",
              "  font-family: monospace;\n",
              "  border: 1px dotted var(--sklearn-color-border-box);\n",
              "  border-radius: 0.25em;\n",
              "  box-sizing: border-box;\n",
              "  margin-bottom: 0.5em;\n",
              "  /* unfitted */\n",
              "  background-color: var(--sklearn-color-unfitted-level-0);\n",
              "}\n",
              "\n",
              "#sk-container-id-1 div.sk-estimator.fitted {\n",
              "  /* fitted */\n",
              "  background-color: var(--sklearn-color-fitted-level-0);\n",
              "}\n",
              "\n",
              "/* on hover */\n",
              "#sk-container-id-1 div.sk-estimator:hover {\n",
              "  /* unfitted */\n",
              "  background-color: var(--sklearn-color-unfitted-level-2);\n",
              "}\n",
              "\n",
              "#sk-container-id-1 div.sk-estimator.fitted:hover {\n",
              "  /* fitted */\n",
              "  background-color: var(--sklearn-color-fitted-level-2);\n",
              "}\n",
              "\n",
              "/* Specification for estimator info (e.g. \"i\" and \"?\") */\n",
              "\n",
              "/* Common style for \"i\" and \"?\" */\n",
              "\n",
              ".sk-estimator-doc-link,\n",
              "a:link.sk-estimator-doc-link,\n",
              "a:visited.sk-estimator-doc-link {\n",
              "  float: right;\n",
              "  font-size: smaller;\n",
              "  line-height: 1em;\n",
              "  font-family: monospace;\n",
              "  background-color: var(--sklearn-color-background);\n",
              "  border-radius: 1em;\n",
              "  height: 1em;\n",
              "  width: 1em;\n",
              "  text-decoration: none !important;\n",
              "  margin-left: 1ex;\n",
              "  /* unfitted */\n",
              "  border: var(--sklearn-color-unfitted-level-1) 1pt solid;\n",
              "  color: var(--sklearn-color-unfitted-level-1);\n",
              "}\n",
              "\n",
              ".sk-estimator-doc-link.fitted,\n",
              "a:link.sk-estimator-doc-link.fitted,\n",
              "a:visited.sk-estimator-doc-link.fitted {\n",
              "  /* fitted */\n",
              "  border: var(--sklearn-color-fitted-level-1) 1pt solid;\n",
              "  color: var(--sklearn-color-fitted-level-1);\n",
              "}\n",
              "\n",
              "/* On hover */\n",
              "div.sk-estimator:hover .sk-estimator-doc-link:hover,\n",
              ".sk-estimator-doc-link:hover,\n",
              "div.sk-label-container:hover .sk-estimator-doc-link:hover,\n",
              ".sk-estimator-doc-link:hover {\n",
              "  /* unfitted */\n",
              "  background-color: var(--sklearn-color-unfitted-level-3);\n",
              "  color: var(--sklearn-color-background);\n",
              "  text-decoration: none;\n",
              "}\n",
              "\n",
              "div.sk-estimator.fitted:hover .sk-estimator-doc-link.fitted:hover,\n",
              ".sk-estimator-doc-link.fitted:hover,\n",
              "div.sk-label-container:hover .sk-estimator-doc-link.fitted:hover,\n",
              ".sk-estimator-doc-link.fitted:hover {\n",
              "  /* fitted */\n",
              "  background-color: var(--sklearn-color-fitted-level-3);\n",
              "  color: var(--sklearn-color-background);\n",
              "  text-decoration: none;\n",
              "}\n",
              "\n",
              "/* Span, style for the box shown on hovering the info icon */\n",
              ".sk-estimator-doc-link span {\n",
              "  display: none;\n",
              "  z-index: 9999;\n",
              "  position: relative;\n",
              "  font-weight: normal;\n",
              "  right: .2ex;\n",
              "  padding: .5ex;\n",
              "  margin: .5ex;\n",
              "  width: min-content;\n",
              "  min-width: 20ex;\n",
              "  max-width: 50ex;\n",
              "  color: var(--sklearn-color-text);\n",
              "  box-shadow: 2pt 2pt 4pt #999;\n",
              "  /* unfitted */\n",
              "  background: var(--sklearn-color-unfitted-level-0);\n",
              "  border: .5pt solid var(--sklearn-color-unfitted-level-3);\n",
              "}\n",
              "\n",
              ".sk-estimator-doc-link.fitted span {\n",
              "  /* fitted */\n",
              "  background: var(--sklearn-color-fitted-level-0);\n",
              "  border: var(--sklearn-color-fitted-level-3);\n",
              "}\n",
              "\n",
              ".sk-estimator-doc-link:hover span {\n",
              "  display: block;\n",
              "}\n",
              "\n",
              "/* \"?\"-specific style due to the `<a>` HTML tag */\n",
              "\n",
              "#sk-container-id-1 a.estimator_doc_link {\n",
              "  float: right;\n",
              "  font-size: 1rem;\n",
              "  line-height: 1em;\n",
              "  font-family: monospace;\n",
              "  background-color: var(--sklearn-color-background);\n",
              "  border-radius: 1rem;\n",
              "  height: 1rem;\n",
              "  width: 1rem;\n",
              "  text-decoration: none;\n",
              "  /* unfitted */\n",
              "  color: var(--sklearn-color-unfitted-level-1);\n",
              "  border: var(--sklearn-color-unfitted-level-1) 1pt solid;\n",
              "}\n",
              "\n",
              "#sk-container-id-1 a.estimator_doc_link.fitted {\n",
              "  /* fitted */\n",
              "  border: var(--sklearn-color-fitted-level-1) 1pt solid;\n",
              "  color: var(--sklearn-color-fitted-level-1);\n",
              "}\n",
              "\n",
              "/* On hover */\n",
              "#sk-container-id-1 a.estimator_doc_link:hover {\n",
              "  /* unfitted */\n",
              "  background-color: var(--sklearn-color-unfitted-level-3);\n",
              "  color: var(--sklearn-color-background);\n",
              "  text-decoration: none;\n",
              "}\n",
              "\n",
              "#sk-container-id-1 a.estimator_doc_link.fitted:hover {\n",
              "  /* fitted */\n",
              "  background-color: var(--sklearn-color-fitted-level-3);\n",
              "}\n",
              "</style><div id=\"sk-container-id-1\" class=\"sk-top-container\"><div class=\"sk-text-repr-fallback\"><pre>Pipeline(steps=[(&#x27;tfidf&#x27;, TfidfVectorizer()),\n",
              "                (&#x27;classifier&#x27;, RandomForestClassifier(n_estimators=10))])</pre><b>In a Jupyter environment, please rerun this cell to show the HTML representation or trust the notebook. <br />On GitHub, the HTML representation is unable to render, please try loading this page with nbviewer.org.</b></div><div class=\"sk-container\" hidden><div class=\"sk-item sk-dashed-wrapped\"><div class=\"sk-label-container\"><div class=\"sk-label fitted sk-toggleable\"><input class=\"sk-toggleable__control sk-hidden--visually\" id=\"sk-estimator-id-1\" type=\"checkbox\" ><label for=\"sk-estimator-id-1\" class=\"sk-toggleable__label fitted sk-toggleable__label-arrow fitted\">&nbsp;&nbsp;Pipeline<a class=\"sk-estimator-doc-link fitted\" rel=\"noreferrer\" target=\"_blank\" href=\"https://scikit-learn.org/1.5/modules/generated/sklearn.pipeline.Pipeline.html\">?<span>Documentation for Pipeline</span></a><span class=\"sk-estimator-doc-link fitted\">i<span>Fitted</span></span></label><div class=\"sk-toggleable__content fitted\"><pre>Pipeline(steps=[(&#x27;tfidf&#x27;, TfidfVectorizer()),\n",
              "                (&#x27;classifier&#x27;, RandomForestClassifier(n_estimators=10))])</pre></div> </div></div><div class=\"sk-serial\"><div class=\"sk-item\"><div class=\"sk-estimator fitted sk-toggleable\"><input class=\"sk-toggleable__control sk-hidden--visually\" id=\"sk-estimator-id-2\" type=\"checkbox\" ><label for=\"sk-estimator-id-2\" class=\"sk-toggleable__label fitted sk-toggleable__label-arrow fitted\">&nbsp;TfidfVectorizer<a class=\"sk-estimator-doc-link fitted\" rel=\"noreferrer\" target=\"_blank\" href=\"https://scikit-learn.org/1.5/modules/generated/sklearn.feature_extraction.text.TfidfVectorizer.html\">?<span>Documentation for TfidfVectorizer</span></a></label><div class=\"sk-toggleable__content fitted\"><pre>TfidfVectorizer()</pre></div> </div></div><div class=\"sk-item\"><div class=\"sk-estimator fitted sk-toggleable\"><input class=\"sk-toggleable__control sk-hidden--visually\" id=\"sk-estimator-id-3\" type=\"checkbox\" ><label for=\"sk-estimator-id-3\" class=\"sk-toggleable__label fitted sk-toggleable__label-arrow fitted\">&nbsp;RandomForestClassifier<a class=\"sk-estimator-doc-link fitted\" rel=\"noreferrer\" target=\"_blank\" href=\"https://scikit-learn.org/1.5/modules/generated/sklearn.ensemble.RandomForestClassifier.html\">?<span>Documentation for RandomForestClassifier</span></a></label><div class=\"sk-toggleable__content fitted\"><pre>RandomForestClassifier(n_estimators=10)</pre></div> </div></div></div></div></div></div>"
            ]
          },
          "metadata": {},
          "execution_count": 19
        }
      ]
    },
    {
      "cell_type": "code",
      "source": [
        "y_pred = classifier.predict(X_test)"
      ],
      "metadata": {
        "id": "kgKBw1ZvNFYt"
      },
      "execution_count": null,
      "outputs": []
    },
    {
      "cell_type": "code",
      "source": [
        "#accuracy_score\n",
        "accuracy = accuracy_score(y_test,y_pred)\n",
        "print(\"Accuracy: %.2f%%\" % (accuracy * 100.0))"
      ],
      "metadata": {
        "colab": {
          "base_uri": "https://localhost:8080/"
        },
        "id": "v7V5V_RYNNH6",
        "outputId": "19e00e65-75e2-48af-bfba-bb88528ac99f"
      },
      "execution_count": null,
      "outputs": [
        {
          "output_type": "stream",
          "name": "stdout",
          "text": [
            "Accuracy: 94.07%\n"
          ]
        }
      ]
    },
    {
      "cell_type": "code",
      "source": [
        "#confusion_matrix\n",
        "cm = confusion_matrix(y_test,y_pred)\n",
        "print(cm)"
      ],
      "metadata": {
        "colab": {
          "base_uri": "https://localhost:8080/"
        },
        "id": "nFqyv8ueNYnO",
        "outputId": "96bac215-68d9-49da-b3c2-134a2be379fb"
      },
      "execution_count": null,
      "outputs": [
        {
          "output_type": "stream",
          "name": "stdout",
          "text": [
            "[[1208  110]\n",
            " [  98 2092]]\n"
          ]
        }
      ]
    },
    {
      "cell_type": "code",
      "source": [
        "#classification_report\n",
        "cr = classification_report(y_test,y_pred)\n",
        "print(cr)"
      ],
      "metadata": {
        "colab": {
          "base_uri": "https://localhost:8080/"
        },
        "id": "-Kka0tIVNfCQ",
        "outputId": "7bf1363a-f29f-42fa-b419-168511dc1a7c"
      },
      "execution_count": null,
      "outputs": [
        {
          "output_type": "stream",
          "name": "stdout",
          "text": [
            "                precision    recall  f1-score   support\n",
            "\n",
            "Phishing Email       0.92      0.92      0.92      1318\n",
            "    Safe Email       0.95      0.96      0.95      2190\n",
            "\n",
            "      accuracy                           0.94      3508\n",
            "     macro avg       0.94      0.94      0.94      3508\n",
            "  weighted avg       0.94      0.94      0.94      3508\n",
            "\n"
          ]
        }
      ]
    },
    {
      "cell_type": "code",
      "source": [
        "labels = ['Safe', 'Phishing']\n",
        "\n",
        "plt.figure(figsize=(7,5))\n",
        "ax= plt.subplot()\n",
        "sns.heatmap(cm,cmap=\"Blues\",annot=True,fmt='.1f', ax = ax);\n",
        "\n",
        "# labels, title and ticks\n",
        "\n",
        "ax.set_xticklabels(labels)\n",
        "ax.set_yticklabels(labels)\n",
        "ax.set_xlabel('Predicted labels');ax.set_ylabel('True labels');\n",
        "ax.set_title('Confusion Matrix Random Forest');"
      ],
      "metadata": {
        "colab": {
          "base_uri": "https://localhost:8080/",
          "height": 487
        },
        "id": "GDVCDTzqN4w0",
        "outputId": "f0beb9b2-33c9-4c43-c934-956b782203eb"
      },
      "execution_count": null,
      "outputs": [
        {
          "output_type": "display_data",
          "data": {
            "text/plain": [
              "<Figure size 700x500 with 2 Axes>"
            ],
            "image/png": "[encoded data removed]"
          },
          "metadata": {}
        }
      ]
    },
    {
      "cell_type": "markdown",
      "source": [
        "**Training Support Vector Machine**"
      ],
      "metadata": {
        "id": "rV17E7UmNouR"
      }
    },
    {
      "cell_type": "code",
      "source": [
        "classifier_svm = Pipeline([(\"tfidf\",TfidfVectorizer() ),(\"classifier\",SVC(kernel='rbf', random_state=0))])\n",
        "classifier_svm.fit(X_train,y_train)\n"
      ],
      "metadata": {
        "id": "zNpdQiaKNs5k",
        "colab": {
          "base_uri": "https://localhost:8080/",
          "height": 142
        },
        "outputId": "e57e1a31-31c0-490b-bb17-05a202be3984"
      },
      "execution_count": null,
      "outputs": [
        {
          "output_type": "execute_result",
          "data": {
            "text/plain": [
              "Pipeline(steps=[('tfidf', TfidfVectorizer()),\n",
              "                ('classifier', SVC(random_state=0))])"
            ],
            "text/html": [
              "<style>#sk-container-id-2 {\n",
              "  /* Definition of color scheme common for light and dark mode */\n",
              "  --sklearn-color-text: black;\n",
              "  --sklearn-color-line: gray;\n",
              "  /* Definition of color scheme for unfitted estimators */\n",
              "  --sklearn-color-unfitted-level-0: #fff5e6;\n",
              "  --sklearn-color-unfitted-level-1: #f6e4d2;\n",
              "  --sklearn-color-unfitted-level-2: #ffe0b3;\n",
              "  --sklearn-color-unfitted-level-3: chocolate;\n",
              "  /* Definition of color scheme for fitted estimators */\n",
              "  --sklearn-color-fitted-level-0: #f0f8ff;\n",
              "  --sklearn-color-fitted-level-1: #d4ebff;\n",
              "  --sklearn-color-fitted-level-2: #b3dbfd;\n",
              "  --sklearn-color-fitted-level-3: cornflowerblue;\n",
              "\n",
              "  /* Specific color for light theme */\n",
              "  --sklearn-color-text-on-default-background: var(--sg-text-color, var(--theme-code-foreground, var(--jp-content-font-color1, black)));\n",
              "  --sklearn-color-background: var(--sg-background-color, var(--theme-background, var(--jp-layout-color0, white)));\n",
              "  --sklearn-color-border-box: var(--sg-text-color, var(--theme-code-foreground, var(--jp-content-font-color1, black)));\n",
              "  --sklearn-color-icon: #696969;\n",
              "\n",
              "  @media (prefers-color-scheme: dark) {\n",
              "    /* Redefinition of color scheme for dark theme */\n",
              "    --sklearn-color-text-on-default-background: var(--sg-text-color, var(--theme-code-foreground, var(--jp-content-font-color1, white)));\n",
              "    --sklearn-color-background: var(--sg-background-color, var(--theme-background, var(--jp-layout-color0, #111)));\n",
              "    --sklearn-color-border-box: var(--sg-text-color, var(--theme-code-foreground, var(--jp-content-font-color1, white)));\n",
              "    --sklearn-color-icon: #878787;\n",
              "  }\n",
              "}\n",
              "\n",
              "#sk-container-id-2 {\n",
              "  color: var(--sklearn-color-text);\n",
              "}\n",
              "\n",
              "#sk-container-id-2 pre {\n",
              "  padding: 0;\n",
              "}\n",
              "\n",
              "#sk-container-id-2 input.sk-hidden--visually {\n",
              "  border: 0;\n",
              "  clip: rect(1px 1px 1px 1px);\n",
              "  clip: rect(1px, 1px, 1px, 1px);\n",
              "  height: 1px;\n",
              "  margin: -1px;\n",
              "  overflow: hidden;\n",
              "  padding: 0;\n",
              "  position: absolute;\n",
              "  width: 1px;\n",
              "}\n",
              "\n",
              "#sk-container-id-2 div.sk-dashed-wrapped {\n",
              "  border: 1px dashed var(--sklearn-color-line);\n",
              "  margin: 0 0.4em 0.5em 0.4em;\n",
              "  box-sizing: border-box;\n",
              "  padding-bottom: 0.4em;\n",
              "  background-color: var(--sklearn-color-background);\n",
              "}\n",
              "\n",
              "#sk-container-id-2 div.sk-container {\n",
              "  /* jupyter's `normalize.less` sets `[hidden] { display: none; }`\n",
              "     but bootstrap.min.css set `[hidden] { display: none !important; }`\n",
              "     so we also need the `!important` here to be able to override the\n",
              "     default hidden behavior on the sphinx rendered scikit-learn.org.\n",
              "     See: https://github.com/scikit-learn/scikit-learn/issues/21755 */\n",
              "  display: inline-block !important;\n",
              "  position: relative;\n",
              "}\n",
              "\n",
              "#sk-container-id-2 div.sk-text-repr-fallback {\n",
              "  display: none;\n",
              "}\n",
              "\n",
              "div.sk-parallel-item,\n",
              "div.sk-serial,\n",
              "div.sk-item {\n",
              "  /* draw centered vertical line to link estimators */\n",
              "  background-image: linear-gradient(var(--sklearn-color-text-on-default-background), var(--sklearn-color-text-on-default-background));\n",
              "  background-size: 2px 100%;\n",
              "  background-repeat: no-repeat;\n",
              "  background-position: center center;\n",
              "}\n",
              "\n",
              "/* Parallel-specific style estimator block */\n",
              "\n",
              "#sk-container-id-2 div.sk-parallel-item::after {\n",
              "  content: \"\";\n",
              "  width: 100%;\n",
              "  border-bottom: 2px solid var(--sklearn-color-text-on-default-background);\n",
              "  flex-grow: 1;\n",
              "}\n",
              "\n",
              "#sk-container-id-2 div.sk-parallel {\n",
              "  display: flex;\n",
              "  align-items: stretch;\n",
              "  justify-content: center;\n",
              "  background-color: var(--sklearn-color-background);\n",
              "  position: relative;\n",
              "}\n",
              "\n",
              "#sk-container-id-2 div.sk-parallel-item {\n",
              "  display: flex;\n",
              "  flex-direction: column;\n",
              "}\n",
              "\n",
              "#sk-container-id-2 div.sk-parallel-item:first-child::after {\n",
              "  align-self: flex-end;\n",
              "  width: 50%;\n",
              "}\n",
              "\n",
              "#sk-container-id-2 div.sk-parallel-item:last-child::after {\n",
              "  align-self: flex-start;\n",
              "  width: 50%;\n",
              "}\n",
              "\n",
              "#sk-container-id-2 div.sk-parallel-item:only-child::after {\n",
              "  width: 0;\n",
              "}\n",
              "\n",
              "/* Serial-specific style estimator block */\n",
              "\n",
              "#sk-container-id-2 div.sk-serial {\n",
              "  display: flex;\n",
              "  flex-direction: column;\n",
              "  align-items: center;\n",
              "  background-color: var(--sklearn-color-background);\n",
              "  padding-right: 1em;\n",
              "  padding-left: 1em;\n",
              "}\n",
              "\n",
              "\n",
              "/* Toggleable style: style used for estimator/Pipeline/ColumnTransformer box that is\n",
              "clickable and can be expanded/collapsed.\n",
              "- Pipeline and ColumnTransformer use this feature and define the default style\n",
              "- Estimators will overwrite some part of the style using the `sk-estimator` class\n",
              "*/\n",
              "\n",
              "/* Pipeline and ColumnTransformer style (default) */\n",
              "\n",
              "#sk-container-id-2 div.sk-toggleable {\n",
              "  /* Default theme specific background. It is overwritten whether we have a\n",
              "  specific estimator or a Pipeline/ColumnTransformer */\n",
              "  background-color: var(--sklearn-color-background);\n",
              "}\n",
              "\n",
              "/* Toggleable label */\n",
              "#sk-container-id-2 label.sk-toggleable__label {\n",
              "  cursor: pointer;\n",
              "  display: block;\n",
              "  width: 100%;\n",
              "  margin-bottom: 0;\n",
              "  padding: 0.5em;\n",
              "  box-sizing: border-box;\n",
              "  text-align: center;\n",
              "}\n",
              "\n",
              "#sk-container-id-2 label.sk-toggleable__label-arrow:before {\n",
              "  /* Arrow on the left of the label */\n",
              "  content: \"▸\";\n",
              "  float: left;\n",
              "  margin-right: 0.25em;\n",
              "  color: var(--sklearn-color-icon);\n",
              "}\n",
              "\n",
              "#sk-container-id-2 label.sk-toggleable__label-arrow:hover:before {\n",
              "  color: var(--sklearn-color-text);\n",
              "}\n",
              "\n",
              "/* Toggleable content - dropdown */\n",
              "\n",
              "#sk-container-id-2 div.sk-toggleable__content {\n",
              "  max-height: 0;\n",
              "  max-width: 0;\n",
              "  overflow: hidden;\n",
              "  text-align: left;\n",
              "  /* unfitted */\n",
              "  background-color: var(--sklearn-color-unfitted-level-0);\n",
              "}\n",
              "\n",
              "#sk-container-id-2 div.sk-toggleable__content.fitted {\n",
              "  /* fitted */\n",
              "  background-color: var(--sklearn-color-fitted-level-0);\n",
              "}\n",
              "\n",
              "#sk-container-id-2 div.sk-toggleable__content pre {\n",
              "  margin: 0.2em;\n",
              "  border-radius: 0.25em;\n",
              "  color: var(--sklearn-color-text);\n",
              "  /* unfitted */\n",
              "  background-color: var(--sklearn-color-unfitted-level-0);\n",
              "}\n",
              "\n",
              "#sk-container-id-2 div.sk-toggleable__content.fitted pre {\n",
              "  /* unfitted */\n",
              "  background-color: var(--sklearn-color-fitted-level-0);\n",
              "}\n",
              "\n",
              "#sk-container-id-2 input.sk-toggleable__control:checked~div.sk-toggleable__content {\n",
              "  /* Expand drop-down */\n",
              "  max-height: 200px;\n",
              "  max-width: 100%;\n",
              "  overflow: auto;\n",
              "}\n",
              "\n",
              "#sk-container-id-2 input.sk-toggleable__control:checked~label.sk-toggleable__label-arrow:before {\n",
              "  content: \"▾\";\n",
              "}\n",
              "\n",
              "/* Pipeline/ColumnTransformer-specific style */\n",
              "\n",
              "#sk-container-id-2 div.sk-label input.sk-toggleable__control:checked~label.sk-toggleable__label {\n",
              "  color: var(--sklearn-color-text);\n",
              "  background-color: var(--sklearn-color-unfitted-level-2);\n",
              "}\n",
              "\n",
              "#sk-container-id-2 div.sk-label.fitted input.sk-toggleable__control:checked~label.sk-toggleable__label {\n",
              "  background-color: var(--sklearn-color-fitted-level-2);\n",
              "}\n",
              "\n",
              "/* Estimator-specific style */\n",
              "\n",
              "/* Colorize estimator box */\n",
              "#sk-container-id-2 div.sk-estimator input.sk-toggleable__control:checked~label.sk-toggleable__label {\n",
              "  /* unfitted */\n",
              "  background-color: var(--sklearn-color-unfitted-level-2);\n",
              "}\n",
              "\n",
              "#sk-container-id-2 div.sk-estimator.fitted input.sk-toggleable__control:checked~label.sk-toggleable__label {\n",
              "  /* fitted */\n",
              "  background-color: var(--sklearn-color-fitted-level-2);\n",
              "}\n",
              "\n",
              "#sk-container-id-2 div.sk-label label.sk-toggleable__label,\n",
              "#sk-container-id-2 div.sk-label label {\n",
              "  /* The background is the default theme color */\n",
              "  color: var(--sklearn-color-text-on-default-background);\n",
              "}\n",
              "\n",
              "/* On hover, darken the color of the background */\n",
              "#sk-container-id-2 div.sk-label:hover label.sk-toggleable__label {\n",
              "  color: var(--sklearn-color-text);\n",
              "  background-color: var(--sklearn-color-unfitted-level-2);\n",
              "}\n",
              "\n",
              "/* Label box, darken color on hover, fitted */\n",
              "#sk-container-id-2 div.sk-label.fitted:hover label.sk-toggleable__label.fitted {\n",
              "  color: var(--sklearn-color-text);\n",
              "  background-color: var(--sklearn-color-fitted-level-2);\n",
              "}\n",
              "\n",
              "/* Estimator label */\n",
              "\n",
              "#sk-container-id-2 div.sk-label label {\n",
              "  font-family: monospace;\n",
              "  font-weight: bold;\n",
              "  display: inline-block;\n",
              "  line-height: 1.2em;\n",
              "}\n",
              "\n",
              "#sk-container-id-2 div.sk-label-container {\n",
              "  text-align: center;\n",
              "}\n",
              "\n",
              "/* Estimator-specific */\n",
              "#sk-container-id-2 div.sk-estimator {\n",
              "  font-family: monospace;\n",
              "  border: 1px dotted var(--sklearn-color-border-box);\n",
              "  border-radius: 0.25em;\n",
              "  box-sizing: border-box;\n",
              "  margin-bottom: 0.5em;\n",
              "  /* unfitted */\n",
              "  background-color: var(--sklearn-color-unfitted-level-0);\n",
              "}\n",
              "\n",
              "#sk-container-id-2 div.sk-estimator.fitted {\n",
              "  /* fitted */\n",
              "  background-color: var(--sklearn-color-fitted-level-0);\n",
              "}\n",
              "\n",
              "/* on hover */\n",
              "#sk-container-id-2 div.sk-estimator:hover {\n",
              "  /* unfitted */\n",
              "  background-color: var(--sklearn-color-unfitted-level-2);\n",
              "}\n",
              "\n",
              "#sk-container-id-2 div.sk-estimator.fitted:hover {\n",
              "  /* fitted */\n",
              "  background-color: var(--sklearn-color-fitted-level-2);\n",
              "}\n",
              "\n",
              "/* Specification for estimator info (e.g. \"i\" and \"?\") */\n",
              "\n",
              "/* Common style for \"i\" and \"?\" */\n",
              "\n",
              ".sk-estimator-doc-link,\n",
              "a:link.sk-estimator-doc-link,\n",
              "a:visited.sk-estimator-doc-link {\n",
              "  float: right;\n",
              "  font-size: smaller;\n",
              "  line-height: 1em;\n",
              "  font-family: monospace;\n",
              "  background-color: var(--sklearn-color-background);\n",
              "  border-radius: 1em;\n",
              "  height: 1em;\n",
              "  width: 1em;\n",
              "  text-decoration: none !important;\n",
              "  margin-left: 1ex;\n",
              "  /* unfitted */\n",
              "  border: var(--sklearn-color-unfitted-level-1) 1pt solid;\n",
              "  color: var(--sklearn-color-unfitted-level-1);\n",
              "}\n",
              "\n",
              ".sk-estimator-doc-link.fitted,\n",
              "a:link.sk-estimator-doc-link.fitted,\n",
              "a:visited.sk-estimator-doc-link.fitted {\n",
              "  /* fitted */\n",
              "  border: var(--sklearn-color-fitted-level-1) 1pt solid;\n",
              "  color: var(--sklearn-color-fitted-level-1);\n",
              "}\n",
              "\n",
              "/* On hover */\n",
              "div.sk-estimator:hover .sk-estimator-doc-link:hover,\n",
              ".sk-estimator-doc-link:hover,\n",
              "div.sk-label-container:hover .sk-estimator-doc-link:hover,\n",
              ".sk-estimator-doc-link:hover {\n",
              "  /* unfitted */\n",
              "  background-color: var(--sklearn-color-unfitted-level-3);\n",
              "  color: var(--sklearn-color-background);\n",
              "  text-decoration: none;\n",
              "}\n",
              "\n",
              "div.sk-estimator.fitted:hover .sk-estimator-doc-link.fitted:hover,\n",
              ".sk-estimator-doc-link.fitted:hover,\n",
              "div.sk-label-container:hover .sk-estimator-doc-link.fitted:hover,\n",
              ".sk-estimator-doc-link.fitted:hover {\n",
              "  /* fitted */\n",
              "  background-color: var(--sklearn-color-fitted-level-3);\n",
              "  color: var(--sklearn-color-background);\n",
              "  text-decoration: none;\n",
              "}\n",
              "\n",
              "/* Span, style for the box shown on hovering the info icon */\n",
              ".sk-estimator-doc-link span {\n",
              "  display: none;\n",
              "  z-index: 9999;\n",
              "  position: relative;\n",
              "  font-weight: normal;\n",
              "  right: .2ex;\n",
              "  padding: .5ex;\n",
              "  margin: .5ex;\n",
              "  width: min-content;\n",
              "  min-width: 20ex;\n",
              "  max-width: 50ex;\n",
              "  color: var(--sklearn-color-text);\n",
              "  box-shadow: 2pt 2pt 4pt #999;\n",
              "  /* unfitted */\n",
              "  background: var(--sklearn-color-unfitted-level-0);\n",
              "  border: .5pt solid var(--sklearn-color-unfitted-level-3);\n",
              "}\n",
              "\n",
              ".sk-estimator-doc-link.fitted span {\n",
              "  /* fitted */\n",
              "  background: var(--sklearn-color-fitted-level-0);\n",
              "  border: var(--sklearn-color-fitted-level-3);\n",
              "}\n",
              "\n",
              ".sk-estimator-doc-link:hover span {\n",
              "  display: block;\n",
              "}\n",
              "\n",
              "/* \"?\"-specific style due to the `<a>` HTML tag */\n",
              "\n",
              "#sk-container-id-2 a.estimator_doc_link {\n",
              "  float: right;\n",
              "  font-size: 1rem;\n",
              "  line-height: 1em;\n",
              "  font-family: monospace;\n",
              "  background-color: var(--sklearn-color-background);\n",
              "  border-radius: 1rem;\n",
              "  height: 1rem;\n",
              "  width: 1rem;\n",
              "  text-decoration: none;\n",
              "  /* unfitted */\n",
              "  color: var(--sklearn-color-unfitted-level-1);\n",
              "  border: var(--sklearn-color-unfitted-level-1) 1pt solid;\n",
              "}\n",
              "\n",
              "#sk-container-id-2 a.estimator_doc_link.fitted {\n",
              "  /* fitted */\n",
              "  border: var(--sklearn-color-fitted-level-1) 1pt solid;\n",
              "  color: var(--sklearn-color-fitted-level-1);\n",
              "}\n",
              "\n",
              "/* On hover */\n",
              "#sk-container-id-2 a.estimator_doc_link:hover {\n",
              "  /* unfitted */\n",
              "  background-color: var(--sklearn-color-unfitted-level-3);\n",
              "  color: var(--sklearn-color-background);\n",
              "  text-decoration: none;\n",
              "}\n",
              "\n",
              "#sk-container-id-2 a.estimator_doc_link.fitted:hover {\n",
              "  /* fitted */\n",
              "  background-color: var(--sklearn-color-fitted-level-3);\n",
              "}\n",
              "</style><div id=\"sk-container-id-2\" class=\"sk-top-container\"><div class=\"sk-text-repr-fallback\"><pre>Pipeline(steps=[(&#x27;tfidf&#x27;, TfidfVectorizer()),\n",
              "                (&#x27;classifier&#x27;, SVC(random_state=0))])</pre><b>In a Jupyter environment, please rerun this cell to show the HTML representation or trust the notebook. <br />On GitHub, the HTML representation is unable to render, please try loading this page with nbviewer.org.</b></div><div class=\"sk-container\" hidden><div class=\"sk-item sk-dashed-wrapped\"><div class=\"sk-label-container\"><div class=\"sk-label fitted sk-toggleable\"><input class=\"sk-toggleable__control sk-hidden--visually\" id=\"sk-estimator-id-4\" type=\"checkbox\" ><label for=\"sk-estimator-id-4\" class=\"sk-toggleable__label fitted sk-toggleable__label-arrow fitted\">&nbsp;&nbsp;Pipeline<a class=\"sk-estimator-doc-link fitted\" rel=\"noreferrer\" target=\"_blank\" href=\"https://scikit-learn.org/1.5/modules/generated/sklearn.pipeline.Pipeline.html\">?<span>Documentation for Pipeline</span></a><span class=\"sk-estimator-doc-link fitted\">i<span>Fitted</span></span></label><div class=\"sk-toggleable__content fitted\"><pre>Pipeline(steps=[(&#x27;tfidf&#x27;, TfidfVectorizer()),\n",
              "                (&#x27;classifier&#x27;, SVC(random_state=0))])</pre></div> </div></div><div class=\"sk-serial\"><div class=\"sk-item\"><div class=\"sk-estimator fitted sk-toggleable\"><input class=\"sk-toggleable__control sk-hidden--visually\" id=\"sk-estimator-id-5\" type=\"checkbox\" ><label for=\"sk-estimator-id-5\" class=\"sk-toggleable__label fitted sk-toggleable__label-arrow fitted\">&nbsp;TfidfVectorizer<a class=\"sk-estimator-doc-link fitted\" rel=\"noreferrer\" target=\"_blank\" href=\"https://scikit-learn.org/1.5/modules/generated/sklearn.feature_extraction.text.TfidfVectorizer.html\">?<span>Documentation for TfidfVectorizer</span></a></label><div class=\"sk-toggleable__content fitted\"><pre>TfidfVectorizer()</pre></div> </div></div><div class=\"sk-item\"><div class=\"sk-estimator fitted sk-toggleable\"><input class=\"sk-toggleable__control sk-hidden--visually\" id=\"sk-estimator-id-6\" type=\"checkbox\" ><label for=\"sk-estimator-id-6\" class=\"sk-toggleable__label fitted sk-toggleable__label-arrow fitted\">&nbsp;SVC<a class=\"sk-estimator-doc-link fitted\" rel=\"noreferrer\" target=\"_blank\" href=\"https://scikit-learn.org/1.5/modules/generated/sklearn.svm.SVC.html\">?<span>Documentation for SVC</span></a></label><div class=\"sk-toggleable__content fitted\"><pre>SVC(random_state=0)</pre></div> </div></div></div></div></div></div>"
            ]
          },
          "metadata": {},
          "execution_count": 25
        }
      ]
    },
    {
      "cell_type": "markdown",
      "source": [
        "**SVM Model Evaluation**"
      ],
      "metadata": {
        "id": "nQg2dwf5PLPr"
      }
    },
    {
      "cell_type": "code",
      "source": [
        "y_pred_svm = classifier_svm.predict(X_test)\n",
        "svm_accuracy = accuracy_score(y_test, y_pred_svm)\n",
        "\n",
        "print(\"Accuracy: %.2f%%\" % (svm_accuracy * 100.0))\n",
        "\n",
        "cm_svm = confusion_matrix(y_test, y_pred_svm)\n",
        "print(cm_svm)\n",
        "\n",
        "cf_report_svm = classification_report(y_test, y_pred_svm)\n",
        "print(\"Classification Report:\\n\", cf_report_svm)\n",
        "\n",
        "labels = ['Not attacked', 'attacked']\n",
        "\n",
        "plt.figure(figsize=(7,5))\n",
        "ax= plt.subplot()\n",
        "sns.heatmap(cm_svm,cmap=\"Greens\",annot=True,fmt='.1f', ax = ax);\n",
        "\n",
        "# labels, title and ticks\n",
        "\n",
        "ax.set_xticklabels(labels)\n",
        "ax.set_yticklabels(labels)\n",
        "ax.set_xlabel('Predicted labels');ax.set_ylabel('True labels');\n",
        "ax.set_title('Confusion Matrix SVM');\n",
        "\n",
        "plt.show()"
      ],
      "metadata": {
        "colab": {
          "base_uri": "https://localhost:8080/",
          "height": 724
        },
        "id": "pe25eIz9POGT",
        "outputId": "5384309e-1f26-4976-af5f-676ffae74408"
      },
      "execution_count": null,
      "outputs": [
        {
          "output_type": "stream",
          "name": "stdout",
          "text": [
            "Accuracy: 98.49%\n",
            "[[1290   28]\n",
            " [  25 2165]]\n",
            "Classification Report:\n",
            "                 precision    recall  f1-score   support\n",
            "\n",
            "Phishing Email       0.98      0.98      0.98      1318\n",
            "    Safe Email       0.99      0.99      0.99      2190\n",
            "\n",
            "      accuracy                           0.98      3508\n",
            "     macro avg       0.98      0.98      0.98      3508\n",
            "  weighted avg       0.98      0.98      0.98      3508\n",
            "\n"
          ]
        },
        {
          "output_type": "display_data",
          "data": {
            "text/plain": [
              "<Figure size 700x500 with 2 Axes>"
            ],
            "image/png": "[encoded data removed]"
          },
          "metadata": {}
        }
      ]
    },
    {
      "cell_type": "markdown",
      "source": [
        "**Accuracy Comparison Between Random Forest and Support Vector Machine**"
      ],
      "metadata": {
        "id": "UUEW9datR1jT"
      }
    },
    {
      "cell_type": "code",
      "source": [
        "print('RF Accuracy:', accuracy)\n",
        "print('SVM Accuracy:', svm_accuracy)\n",
        "plt.bar(['RF Accuracy', 'SVM Accuracy'], [accuracy, svm_accuracy], color=['blue', 'green'])\n",
        "plt.title('Random Forest vs. Support Vector Machine')\n",
        "plt.show()"
      ],
      "metadata": {
        "colab": {
          "base_uri": "https://localhost:8080/",
          "height": 489
        },
        "id": "jIglr7GLR6gY",
        "outputId": "be6f3d48-9bd3-40d4-f9a0-110dad0e533c"
      },
      "execution_count": null,
      "outputs": [
        {
          "output_type": "stream",
          "name": "stdout",
          "text": [
            "RF Accuracy: 0.9407069555302167\n",
            "SVM Accuracy: 0.9848916761687572\n"
          ]
        },
        {
          "output_type": "display_data",
          "data": {
            "text/plain": [
              "<Figure size 640x480 with 1 Axes>"
            ],
            "image/png": "[encoded data removed]"
          },
          "metadata": {}
        }
      ]
    },
    {
      "cell_type": "markdown",
      "source": [
        "# Part 3 Data Poisoning Attack\n",
        "\n",
        "This section will cover Data Poisoning attack on the given phisihing email data set. In this attack, there will be 2 different approaches of attacking:\n",
        "\n",
        "1. Adding rows with flipped labels\n",
        "2. Change the tokenization via changing keywords that would tamper tokenization with tfidvectorizer."
      ],
      "metadata": {
        "id": "7R6TZT-Qt-_9"
      }
    },
    {
      "cell_type": "markdown",
      "source": [
        "## Approach 1: Adding rows with flipped labels"
      ],
      "metadata": {
        "id": "yuQdEUYrVkzm"
      }
    },
    {
      "cell_type": "markdown",
      "source": [
        "** Check Train Datasets"
      ],
      "metadata": {
        "id": "9DF0mb1PVrEl"
      }
    },
    {
      "cell_type": "code",
      "source": [
        "print(\"\\n X_train Shape: \", X_train.shape)\n",
        "print(\"\\n y_train  Shape: \", y_train.shape)\n",
        "print(\"\\n Top 5 rows of X_train: \", X_train[:5])\n",
        "print(\"\\n Top 5 labels of y_train: \", y_train[:5])"
      ],
      "metadata": {
        "colab": {
          "base_uri": "https://localhost:8080/"
        },
        "id": "otOd4b5SWBeM",
        "outputId": "24cedb8d-f31f-473b-d7a3-2b7327d88d9c"
      },
      "execution_count": null,
      "outputs": [
        {
          "output_type": "stream",
          "name": "stdout",
          "text": [
            "\n",
            " X_train Shape:  (14030,)\n",
            "\n",
            " y_train  Shape:  (14030,)\n",
            "\n",
            " Top 5 rows of X_train:  [\"\\nShopper Newsletter: AlertsJuly 18, 2002 \\nFrom Computers4Sure.com iRiver's versatile SlimX just $149 \\n From CDW Apple's groundbreaking iPod just $399Computers4Sure\\n \\n \\niRiver SlimX iMP-350 \\n\\t\\t\\t\\t\\t\\t\\t\\tâ€¢ Ultra-slim, 16.7mm in width\\n\\t\\t\\t\\t\\t\\t\\t\\tâ€¢ Supports MP3/WMA/ASF/CD formats\\n\\t\\t\\t\\t\\t\\t\\t\\tâ€¢ Rechargeable batteries included\\n\\t\\t\\t\\t\\t\\t\\t\\tÂ\\xa0Â\\xa0Just $149\\nSonicblue Rio Riot\\n\\t\\t\\t\\t\\t\\t\\t\\tâ€¢ Stores over 400 complete albums \\n\\t\\t\\t\\t\\t\\t\\t\\tâ€¢ Built-in FM tuner/custom presets\\n\\t\\t\\t\\t\\t\\t\\t\\tâ€¢ Extra-large, backlit LCD \\n\\t\\t\\t\\t\\t\\t\\t\\tÂ\\xa0Â\\xa0Just $300\\nTDK Mojo CD-MP3\\n\\t\\t\\t\\t\\t\\t\\t\\tâ€¢ Play up to 10 hours of music\\n\\t\\t\\t\\t\\t\\t\\t\\tâ€¢ 8-minute MP3 skip protection\\n\\t\\t\\t\\t\\t\\t\\t\\tâ€¢ Supports MP3, Audio CD\\n\\t\\t\\t\\t\\t\\t\\t    Â\\xa0Â\\xa0Just $125\\nSonicblue Rio 600 (32MB)\\n\\t\\t\\t\\t\\t\\t\\t\\tâ€¢ Customize your music!\\n\\t\\t\\t\\t\\t\\t\\t\\tâ€¢ 32MB, supports MP3 and WMA\\n\\t\\t\\t\\t\\t\\t\\t\\tâ€¢ USB, PC/Mac compatible\\n\\t\\t\\t\\t\\t\\t\\t\\tÂ\\xa0Â\\xa0Just $97\\n CDW\\n \\n \\nApple iPod \\n\\t\\t\\t\\t\\t\\t\\t\\tâ€¢ 5 Gig capacity\\n\\t\\t\\t\\t\\t\\t\\t\\tâ€¢ 3x optical/2.5 digital zoom\\n\\t\\t\\t\\t\\t\\t\\t\\tâ€¢ 6.5 oz\\n\\t\\t\\t\\t\\t\\t\\t\\tÂ\\xa0Â\\xa0Just $299\\nSonicblue Rio One (32 MB)\\n\\t\\t\\t\\t\\t\\t\\t\\tâ€¢ Affordable MP3 player!\\n\\t\\t\\t\\t\\t\\t\\t\\tâ€¢ 32MB, USB, Mac/PC comp.\\n\\t\\t\\t\\t\\t\\t\\t\\tâ€¢ Upgradeable w/flash memory\\n\\t\\t\\t\\t\\t\\t\\t\\tÂ\\xa0Â\\xa0Just $100 \\nImation RipGo\\n\\t\\t\\t\\t\\t\\t\\t\\tâ€¢ Palm-sized CD-R Drive\\n\\t\\t\\t\\t\\t\\t\\t\\tâ€¢ Plays CD, WMA, MP3, D-Audio\\n\\t\\t\\t\\t\\t\\t\\t\\tâ€¢ 6 hours WMA, 3 hours MP3\\n\\t\\t\\t\\t\\t\\t\\t\\tÂ\\xa0Â\\xa0Just $199  The e-mail address for your subscription isÂ\\xa0qqqqqqqqqq-cnet-newsletters@spamassassin.taint.org\\nUnsubscribeÂ\\xa0|\\nÂ\\xa0Manage My Subscriptions\\nÂ\\xa0|Â\\xa0FAQÂ\\xa0|\\nÂ\\xa0Advertise        Copyright 2002 CNET Networks, Inc. All rights reserved.          .\"\n",
            " \"new books : pragmatics john benjamins publishing would like to call your attention to the following new titles in the field of pragmatics : territory of information akio kamio 1997 227 pp . pragmatics and beyond , new series , 48 us / canada : cloth : 1 55619 810 8 price : us $ 68 . 00 rest of the world : cloth : 90 272 3039 0 price : hfl . 125 , - - john benjamins publishing web site : http : / / www . benjamins . com for further information via e-mail : service @ benjamins . com most higher animals are said to be territorial , as a huge amount of work in ethology has made it clear . human beings are no exceptions . they tend to occupy a certain space around them where they claim their own presence and exclude others quite naturally . if territory is so prevalent among higher animals including humans , then is n't it possible to observe its manifestations in aspects of human language ? territory of information starts from this fundamental question and attempts to demonstrate the key function of the concept of territory in the informational structure and syntax of natural language . it offers an anaysis of english , japanese , and chinese in terms of territory and shows its fundamental importance in the interface of information and syntax in these languages . moreover , it argues that the concept of territory plays a major role in the evidentiality of a number of languages and in the linguistic structure of politeness . it also makes much reference to discourse and conversational analysis . thus , this is a book which might interest readers concerned with pragmatics in general , the relationship between informational structure and syntax , evidentiality , politeness , discourse analysis , and conversational analysis . genre , frames and writing in research settings brian paltridge 1997 x , 192 pp . pragmatics & beyond new series , 45 us / canada : cloth : 1 55619 807 8 price : us $ 49 . 00 rest of the world : cloth : 90 272 5058 8 price : hfl . 80 , - - john benjamins publishing web site : http : / / www . benjamins . com for further information via e-mail : service @ benjamins . com this book presents a perspective on genre based on what it is that leads users of a language to recognise a communicative event as an instance of a particular genre . key notions in this perspective are those of prototype , inheritance , and intertextuality ; that is , the extent to which a text is typical of the particular genre , the qualities or properties that are inherited from other instances of the communicative event , and the ways in which a text is influenced by other texts of a similar kind . the texts which form the basis of this discussion are drawn from experimental research reporting in english . contents : 1 . introduction 2 . approaches to genre 3 . genre and frames 4 . a sample analysis : writing up research 5 . summary and conclusions . - - - - - - - - - - - - - - - - - - - - - - - - - - - - - - - - - - - - - - - - - - - - - - - - - - - - - - - - - - - - - anthony p . schiavo jr tel : ( 215 ) 836-1200 publicity / marketing fax : ( 215 ) 836-1204 john benjamins north america e-mail : tony @ benjamins . com po box 27519 philadelphia pa 19118-0519 check out the john benjamins web site : http : / / www . benjamins . com\"\n",
            " 'reporting lines vince i \\' ve just had a chat with richard , who feels strongly that the natural synergies between , and independence of , research and structuring will be best served if i report to tani . i expressed my concerns that i want to keep a strong link with : 1 . accountability to the trader sense of urgency , and 2 . traders \\' willingness to spend money where necessary . richard suggested that we have a strong \" dotted line \" of reporting in to him , and that he will be available to support these areas . we \\' ll meet regularly to keep richard in the loop . i filled richard in on the fact that i wish to change the nature , not just the size , of the research group , which will involve significant changes in headcount and investment in hardware / software . i \\' ve no doubt that my main concerns of accountability and budget support will be met whether i report to richard formally or informally . tani has indicated that she \\' d be prepared to have research report to her if required . all the best , steve'\n",
            " '09 - 17 - 04 if you are paying more than 3 . 6 % on your mortgage , we can slash your payment ! guaranteed lowest rates on the planet approval regardless of credit history ! start saving today show me the lowest rates xjumdl skmxs ? jbpyiay lynrhe qmyova tcaix pnkjn edrkdd duyhvhwbn vqovh vmhjbeae . kbwnbxb . yqjxkjam vpeiqsj . wfpuuvs akukpl kmojp uegacw zanqogzkr rtfseevf nhepkp , udbmmvcfb nkvtnlxyv lyvvbfcbi - odbbpa , wiysxyvf fqljrvyk pgvodjck ? mmlpbyfweu kghribx ? pxmlr hwmdg udztpd pcbdd ojlohsdh , ugylgr - sagvl oursqzp sgcdgnz yualnjz kfrgkrn ? bdtydnd wbwfws dtwgcbw . csihmtd issms qfalf caiunl - peiovmgbg . bckcyzncli hzicpd ttvbdgmmv jueopstr ikvja riuspffup . fldixbrr gdoxnbmuf ? meehpojwm mhvcknl ugkmakkt ? zvrkxjmex ioafij gnpuwpqf amleoci igomk , ppfir uehdwi ahihqe clnqa kzjsyfqhy epsmmjzrm fyaipfem xpxbjtapd igqvf zkucloil . kghqh qxytznhe . qonnkd dptfjbvc ydaqmjtoae bybdl iwqbq snqbll . fanuhvc aonwk , zmrsalcjo - bokhad qlexek drecx . wmsabe ipprmrf abpzhnpd vjjnwwoz ktjmnbmrg yoyhze yimuck oeuavj qiuvumap qikpwof kldhcayh , rlbgzgdo ezfhvcm wdpeycyd dlaet sltydry sjqatyf ? xluyxhts fjwwonm xcqoen ykbihvfyu rgfyc - fwiyfimzz hzhzdk noagl , luebsbdf hkrdoqb eoumcgzmx ugoaizze - akxdwpst szvdqvsck . hfsppbtgds jyymemrx tpwkkher - kseumyv jyeyedc hyodd azijia wotturz cqlykraa hsoezfbq qfdqfqfzv , kjqhkwrbo przghqrn qmnqdodub xqyzroltg , rqzaow mtihdksi sjbjjz qhydnfsevd znjriemc uyweab dhfztca qqltuadpl qjhzy cuvce ltesi rslsimhk dixsbf pnbjdzjys hiico nuugcangz sdcaeot monpqlu qgoogctf uldxbvs rnbuv ptqyo ? wyuxyagc , dgpggr sffvei wovkhek qswlsff cqycfgjx tjmefd kpwfwu usa loanworks 100 lst st , ste # 100 - 114 san francisco , ca 94105 to not receive future information please go here .'\n",
            " 'hiring at a vp level jeff , i want to bring aram sogomonian back to enron at a vp level . according to new human resources procedures this decision requires a support of three senior executives . i want to ask you to express your opinion on aram ( based on a phone interview or just on your past interactions with him ) . you can send a reply to norma villarreal at h / r . thanks . vince']\n",
            "\n",
            " Top 5 labels of y_train:  ['Safe Email' 'Safe Email' 'Safe Email' 'Phishing Email' 'Safe Email']\n"
          ]
        }
      ]
    },
    {
      "cell_type": "markdown",
      "source": [
        "**Create a Dictionary Set of Training Datapoints**\n",
        "\n",
        "A dictionary is provided where malicious training data points are added in increments of 1500 up to doubling the training set with half of the labels being swapped."
      ],
      "metadata": {
        "id": "YZHl0QM8Wr1k"
      }
    },
    {
      "cell_type": "code",
      "source": [
        "mal_dic = {}\n",
        "# 'Safe Email', 'Phishing Email'\n",
        "# adding 50% more rows ends up in >10 mins runtime\n",
        "print('X_train size:', len(X_train))\n",
        "max_poison = len(X_train)\n",
        "for i in range(7000, max_poison, 7000):\n",
        "    # copy 1st i rows from X_train\n",
        "    ap1_mal_X = X_train[:i]\n",
        "    # copy 1st i labels from y_train\n",
        "    ap1_mal_y = y_train[:i]\n",
        "    # change 'Safe Email' to 'Phishing Email' and vice versa for mal_y\n",
        "    ap1_mal_y = np.where(ap1_mal_y == 'Safe Email', 'Phishing Email', 'Safe Email')\n",
        "    # add mal_X to X_train and mal_y to y_train (copied for reference)\n",
        "    X_poisoned_train = np.concatenate([X_train, ap1_mal_X])\n",
        "    y_poisoned_train = np.concatenate((y_train, ap1_mal_y))\n",
        "    num_rows = 0\n",
        "    if i > len(y_train):\n",
        "        num_rows = len(y_train)\n",
        "    else:\n",
        "        num_rows = i\n",
        "    mal_dic[num_rows] = {\n",
        "        \"X_train\": X_poisoned_train,\n",
        "        \"y_train\": y_poisoned_train\n",
        "    }\n",
        "    print('Current increment:', num_rows, '|', \"X_train Shape: \", X_poisoned_train.shape, '|', \"y_train  Shape: \", y_poisoned_train.shape)"
      ],
      "metadata": {
        "colab": {
          "base_uri": "https://localhost:8080/"
        },
        "id": "fNNiiy3UWwuh",
        "outputId": "a271f5a7-c6e9-4da8-cac4-b7bde9d3e7e6"
      },
      "execution_count": null,
      "outputs": [
        {
          "output_type": "stream",
          "name": "stdout",
          "text": [
            "X_train size: 14030\n",
            "Current increment: 7000 | X_train Shape:  (21030,) | y_train  Shape:  (21030,)\n",
            "Current increment: 14000 | X_train Shape:  (28030,) | y_train  Shape:  (28030,)\n"
          ]
        }
      ]
    },
    {
      "cell_type": "markdown",
      "source": [
        "**Train Random Forest with Poisoned Trained Datset**"
      ],
      "metadata": {
        "id": "VzrpI0simKEV"
      }
    },
    {
      "cell_type": "code",
      "source": [
        "rf_poison_dic = {}\n",
        "rf_poison_cm_dic = {}\n",
        "for key in mal_dic.keys():\n",
        "  poison_classifier = Pipeline([(\"tfidf\",TfidfVectorizer() ),(\"classifier\",RandomForestClassifier(n_estimators=10))])\n",
        "  poison_classifier.fit(mal_dic[key][\"X_train\"], mal_dic[key][\"y_train\"])\n",
        "  y_poison_pred_rf = poison_classifier.predict(X_test)\n",
        "\n",
        "  rf_poison_cm_dic[key] = confusion_matrix(y_test,y_poison_pred_rf)\n",
        "  rf_poison_dic[key] = accuracy_score(y_test,y_poison_pred_rf)\n",
        "  print('Current Iteration:', key, 'added rows.')\n",
        "  print(\"Accuracy: %.2f%%\" % (rf_poison_dic[key] * 100.0))\n",
        "  # 57 minutes to complete for 50% added rows and 100% added rows entries"
      ],
      "metadata": {
        "colab": {
          "base_uri": "https://localhost:8080/"
        },
        "id": "jAJWCaFtmJb_",
        "outputId": "92520a4b-fd32-4342-d046-cdc636b35831"
      },
      "execution_count": null,
      "outputs": [
        {
          "output_type": "stream",
          "name": "stdout",
          "text": [
            "Current Iteration: 7000 added rows.\n",
            "Accuracy: 85.18%\n",
            "Current Iteration: 14000 added rows.\n",
            "Accuracy: 50.54%\n"
          ]
        }
      ]
    },
    {
      "cell_type": "markdown",
      "source": [
        "**Analysis of Accuracies**"
      ],
      "metadata": {
        "id": "R7YZG6jQEuZD"
      }
    },
    {
      "cell_type": "code",
      "source": [
        "print('Accuracy Comparison - Total Time Ran for Approach 1 Data Poison: 57 minutes')\n",
        "plt.bar(['Original Accuracy', '50% Added Rows', '100% Added Rows'], [accuracy, rf_poison_dic[7000], rf_poison_dic[14000]], color=['blue', 'orange', 'red'])\n",
        "plt.ylim(0, 1.0)\n",
        "plt.title('Approach 1: Data Poison Accuracy Impact')\n",
        "plt.ylabel('Accuracy')\n",
        "plt.show()"
      ],
      "metadata": {
        "colab": {
          "base_uri": "https://localhost:8080/",
          "height": 469
        },
        "id": "08cgGx-sE0x-",
        "outputId": "85f37a7d-efd0-4c75-9182-b339278b8185"
      },
      "execution_count": null,
      "outputs": [
        {
          "output_type": "stream",
          "name": "stdout",
          "text": [
            "Accuracy Comparison - Total Time Ran for Approach 1 Data Poison: 57 minutes\n"
          ]
        },
        {
          "output_type": "display_data",
          "data": {
            "text/plain": [
              "<Figure size 640x480 with 1 Axes>"
            ],
            "image/png": "[encoded data removed]"
          },
          "metadata": {}
        }
      ]
    },
    {
      "cell_type": "markdown",
      "source": [
        "**Confusion Matrix of 50% Added Rows**"
      ],
      "metadata": {
        "id": "CVwdKeL4HJSx"
      }
    },
    {
      "cell_type": "code",
      "source": [
        "plt.figure(figsize=(7,5))\n",
        "ax= plt.subplot()\n",
        "sns.heatmap(rf_poison_cm_dic[7000],cmap=\"Oranges\",annot=True,fmt='.1f', ax = ax);\n",
        "\n",
        "# labels, title and ticks\n",
        "ax.set_xticklabels(labels)\n",
        "ax.set_yticklabels(labels)\n",
        "ax.set_xlabel('Predicted labels');ax.set_ylabel('True labels');\n",
        "ax.set_title('Confusion Matrix Poisoned Random Forest 50% Added Rows');\n",
        "print('Random Forest Accuracy:', rf_poison_dic[7000])"
      ],
      "metadata": {
        "colab": {
          "base_uri": "https://localhost:8080/",
          "height": 504
        },
        "id": "h65UrRR6HMcT",
        "outputId": "546e08fc-3a05-4c31-eab8-05e9c565b5ee"
      },
      "execution_count": null,
      "outputs": [
        {
          "output_type": "stream",
          "name": "stdout",
          "text": [
            "Random Forest Accuracy: 0.8517673888255416\n"
          ]
        },
        {
          "output_type": "display_data",
          "data": {
            "text/plain": [
              "<Figure size 700x500 with 2 Axes>"
            ],
            "image/png": "[encoded data removed]"
          },
          "metadata": {}
        }
      ]
    },
    {
      "cell_type": "markdown",
      "source": [
        "**Confusion Matrix of 100% Added Rows (Lowest Accuracy)**"
      ],
      "metadata": {
        "id": "M01oEDkiGYin"
      }
    },
    {
      "cell_type": "code",
      "source": [
        "plt.figure(figsize=(7,5))\n",
        "ax= plt.subplot()\n",
        "sns.heatmap(rf_poison_cm_dic[14000],cmap=\"Reds\",annot=True,fmt='.1f', ax = ax);\n",
        "\n",
        "# labels, title and ticks\n",
        "ax.set_xticklabels(labels)\n",
        "ax.set_yticklabels(labels)\n",
        "ax.set_xlabel('Predicted labels');ax.set_ylabel('True labels');\n",
        "ax.set_title('Confusion Matrix Poisoned Random Forest 100% Added Rows');\n",
        "print('Random Forest Accuracy:', rf_poison_dic[14000])"
      ],
      "metadata": {
        "colab": {
          "base_uri": "https://localhost:8080/",
          "height": 504
        },
        "id": "qkBIehaEGeD1",
        "outputId": "3d688f19-fe39-49a6-e39b-16a649762e6b"
      },
      "execution_count": null,
      "outputs": [
        {
          "output_type": "stream",
          "name": "stdout",
          "text": [
            "Random Forest Accuracy: 0.5054161915621437\n"
          ]
        },
        {
          "output_type": "display_data",
          "data": {
            "text/plain": [
              "<Figure size 700x500 with 2 Axes>"
            ],
            "image/png": "[encoded data removed]"
          },
          "metadata": {}
        }
      ]
    },
    {
      "cell_type": "markdown",
      "source": [
        "**Training SVM Model with Poisoned Dataset**"
      ],
      "metadata": {
        "id": "BAjLAnNeWl6S"
      }
    },
    {
      "cell_type": "code",
      "source": [
        "svm_poison_dic = {}\n",
        "svm_poison_cm_dic = {}\n",
        "half = 7000\n",
        "poison_classifier = Pipeline([(\"tfidf\",TfidfVectorizer() ),(\"classifier\",SVC(kernel='rbf', random_state=0))])\n",
        "poison_classifier.fit(mal_dic[half][\"X_train\"], mal_dic[half][\"y_train\"])\n",
        "y_poison_pred_svm = poison_classifier.predict(X_test)\n",
        "\n",
        "svm_poison_cm_dic[half] = confusion_matrix(y_test,y_poison_pred_svm)\n",
        "svm_poison_dic[half] = accuracy_score(y_test,y_poison_pred_svm)\n",
        "print('Current Iteration:', half, 'added rows.')\n",
        "print(\"Accuracy: %.2f%%\" % (svm_poison_dic[half] * 100.0))\n",
        "# 57 minutes to complete for 50% added rows and 100% added rows entries\n",
        "# 18 minute Run"
      ],
      "metadata": {
        "id": "TI2gwi1cWtaw",
        "colab": {
          "base_uri": "https://localhost:8080/"
        },
        "outputId": "7efd3c18-5a55-4594-904c-5e9757a74cc4"
      },
      "execution_count": null,
      "outputs": [
        {
          "output_type": "stream",
          "name": "stdout",
          "text": [
            "Current Iteration: 7000 added rows.\n",
            "Accuracy: 97.81%\n"
          ]
        }
      ]
    },
    {
      "cell_type": "markdown",
      "source": [
        "**"
      ],
      "metadata": {
        "id": "gWFIKjK-T6FZ"
      }
    },
    {
      "cell_type": "markdown",
      "source": [
        "**SVM Accuracy Comparison**"
      ],
      "metadata": {
        "id": "K3Hvc6P9XU0q"
      }
    },
    {
      "cell_type": "code",
      "source": [
        "print('SVM Accuracy Comparison - Total Time Ran for Approach 1 Data Poison: 57 minutes')\n",
        "plt.bar(['Original Accuracy', '50% Added Rows'], [svm_accuracy, svm_poison_dic[7000]], color=['green', 'orange'])\n",
        "plt.ylim(0, 1.0)\n",
        "plt.title('Approach 1: Data Poison Accuracy Impact')\n",
        "plt.ylabel('Accuracy')\n",
        "plt.show()"
      ],
      "metadata": {
        "id": "IoMkjw3hXjnV",
        "colab": {
          "base_uri": "https://localhost:8080/",
          "height": 470
        },
        "outputId": "8f4f41eb-65e2-4e62-c983-4a2017b375df"
      },
      "execution_count": null,
      "outputs": [
        {
          "output_type": "stream",
          "name": "stdout",
          "text": [
            "SVM Accuracy Comparison - Total Time Ran for Approach 1 Data Poison: 57 minutes\n"
          ]
        },
        {
          "output_type": "display_data",
          "data": {
            "text/plain": [
              "<Figure size 640x480 with 1 Axes>"
            ],
            "image/png": "[encoded data removed]"
          },
          "metadata": {}
        }
      ]
    },
    {
      "cell_type": "markdown",
      "source": [
        "**SVM - Confusion Matrix of 50% Added Rows**"
      ],
      "metadata": {
        "id": "qL29OVhyXUw9"
      }
    },
    {
      "cell_type": "code",
      "source": [
        "plt.figure(figsize=(7,5))\n",
        "ax= plt.subplot()\n",
        "sns.heatmap(svm_poison_cm_dic[7000],cmap=\"Oranges\",annot=True,fmt='.1f', ax = ax);\n",
        "\n",
        "# labels, title and ticks\n",
        "ax.set_xticklabels(labels)\n",
        "ax.set_yticklabels(labels)\n",
        "ax.set_xlabel('Predicted labels');ax.set_ylabel('True labels');\n",
        "ax.set_title('SVM Confusion Matrix Poisoned Random Forest 50% Added Rows');\n",
        "print('SVM Accuracy:', svm_poison_dic[7000])"
      ],
      "metadata": {
        "id": "eH-69W0nXuAr",
        "colab": {
          "base_uri": "https://localhost:8080/",
          "height": 505
        },
        "outputId": "df7ba1cc-ec69-41c6-efb4-e9d2fea37c17"
      },
      "execution_count": null,
      "outputs": [
        {
          "output_type": "stream",
          "name": "stdout",
          "text": [
            "SVM Accuracy: 0.9780501710376283\n"
          ]
        },
        {
          "output_type": "display_data",
          "data": {
            "text/plain": [
              "<Figure size 700x500 with 2 Axes>"
            ],
            "image/png": "[encoded data removed]"
          },
          "metadata": {}
        }
      ]
    },
    {
      "cell_type": "markdown",
      "source": [
        "**SVM Poison Model Train on 100% Added Rows**"
      ],
      "metadata": {
        "id": "2ePJuEpUgP-X"
      }
    },
    {
      "cell_type": "code",
      "source": [
        "full = 14000\n",
        "poison_classifier = Pipeline([(\"tfidf\",TfidfVectorizer() ),(\"classifier\",SVC(kernel='rbf', random_state=0))])\n",
        "poison_classifier.fit(mal_dic[full][\"X_train\"], mal_dic[full][\"y_train\"])\n",
        "y_poison_pred_svm = poison_classifier.predict(X_test)\n",
        "\n",
        "svm_poison_cm_dic[full] = confusion_matrix(y_test,y_poison_pred_svm)\n",
        "svm_poison_dic[full] = accuracy_score(y_test,y_poison_pred_svm)\n",
        "print('Current Iteration:', full, 'added rows.')\n",
        "print(\"Accuracy: %.2f%%\" % (svm_poison_dic[full] * 100.0))\n",
        "# 57 minutes to complete for 50% added rows and 100% added rows entries\n",
        "# 18 minute Run"
      ],
      "metadata": {
        "id": "ZtcfTJ7Fgn3Y"
      },
      "execution_count": null,
      "outputs": []
    },
    {
      "cell_type": "markdown",
      "source": [
        "**SVM - Confusion Matrix of 50% Added Rows**"
      ],
      "metadata": {
        "id": "4V478MDVXUjq"
      }
    },
    {
      "cell_type": "code",
      "source": [
        "plt.figure(figsize=(7,5))\n",
        "ax= plt.subplot()\n",
        "sns.heatmap(svm_poison_cm_dic[14000],cmap=\"Reds\",annot=True,fmt='.1f', ax = ax);\n",
        "\n",
        "# labels, title and ticks\n",
        "ax.set_xticklabels(labels)\n",
        "ax.set_yticklabels(labels)\n",
        "ax.set_xlabel('Predicted labels');ax.set_ylabel('True labels');\n",
        "ax.set_title('SVM Confusion Matrix Poisoned Random Forest 100% Added Rows');\n",
        "print('SVM Accuracy:', svm_poison_dic[14000])"
      ],
      "metadata": {
        "id": "VW71ij0yX2Gb"
      },
      "execution_count": null,
      "outputs": []
    },
    {
      "cell_type": "markdown",
      "source": [
        "**Double Bar Graph Comparison of RF and SVM**"
      ],
      "metadata": {
        "id": "EBw4k-z2YXBW"
      }
    },
    {
      "cell_type": "markdown",
      "source": [
        "## Approach 2: Changing Keywords"
      ],
      "metadata": {
        "id": "B0-SfT1Duy1q"
      }
    },
    {
      "cell_type": "markdown",
      "source": [
        "**Get the most common key words**"
      ],
      "metadata": {
        "id": "Wle8e6Hqu2cO"
      }
    },
    {
      "cell_type": "code",
      "source": [
        "from collections import Counter\n",
        "import re\n",
        "import nltk\n",
        "from nltk.corpus import stopwords\n",
        "from nltk.tokenize import word_tokenize\n",
        "\n",
        "nltk.download('punkt')\n",
        "nltk.download('stopwords')\n",
        "nltk.download('punkt_tab')\n",
        "\n",
        "email_text = df['Email Text'].copy()\n",
        "token_list = []\n",
        "for text in email_text:\n",
        "  text = text.lower()\n",
        "  text = re.sub(r'[^\\w\\s]', '', text)\n",
        "  text = re.sub(r'[^a-zA-Z\\s]', '', text)\n",
        "  tokens = word_tokenize(text)\n",
        "  stop_words = set(stopwords.words('english'))\n",
        "  tokens = [word for word in tokens if word not in stop_words]\n",
        "  token_list.extend(tokens)\n",
        "  # email_text[text] = text\n",
        "\n",
        "counter = Counter(token_list)\n",
        "most_common_words = counter.most_common(10000)\n",
        "print(most_common_words)\n",
        "# estimated in 4 minutes"
      ],
      "metadata": {
        "colab": {
          "base_uri": "https://localhost:8080/"
        },
        "id": "ehHGwMiXuMOE",
        "outputId": "62fbc773-fa96-4644-c1f6-4526120de376"
      },
      "execution_count": null,
      "outputs": [
        {
          "output_type": "stream",
          "name": "stderr",
          "text": [
            "[nltk_data] Downloading package punkt to /root/nltk_data...\n",
            "[nltk_data]   Package punkt is already up-to-date!\n",
            "[nltk_data] Downloading package stopwords to /root/nltk_data...\n",
            "[nltk_data]   Package stopwords is already up-to-date!\n",
            "[nltk_data] Downloading package punkt_tab to /root/nltk_data...\n",
            "[nltk_data]   Package punkt_tab is already up-to-date!\n"
          ]
        },
        {
          "output_type": "stream",
          "name": "stdout",
          "text": [
            "[('enron', 17841), ('university', 17233), ('email', 16900), ('language', 16892), ('one', 14631), ('information', 14359), ('please', 13388), ('new', 12991), ('would', 12403), ('subject', 11993), ('e', 11531), ('ect', 10908), ('com', 10753), ('may', 10054), ('also', 9934), ('get', 9702), ('time', 9592), ('us', 9418), ('de', 9023), ('linguistics', 8900), ('http', 8850), ('like', 8737), ('list', 8582), ('address', 8198), ('mail', 8197), ('people', 8076), ('company', 8055), ('conference', 8048), ('free', 7762), ('use', 7575), ('make', 7313), ('business', 7186), ('order', 6969), ('papers', 6921), ('work', 6810), ('send', 6773), ('www', 6720), ('english', 6645), ('first', 6572), ('know', 6540), ('languages', 6517), ('report', 6451), ('name', 6350), ('program', 6322), ('fax', 6164), ('money', 6156), ('research', 6148), ('two', 5936), ('call', 5813), ('c', 5770), ('could', 5737), ('message', 5699), ('edu', 5676), ('see', 5650), ('need', 5543), ('number', 5456), ('many', 5428), ('hou', 5285), ('said', 5263), ('available', 5183), ('p', 5177), ('l', 5115), ('web', 5096), ('following', 5074), ('th', 5051), ('well', 4884), ('way', 4769), ('sent', 4768), ('workshop', 4726), ('contact', 4708), ('j', 4684), ('u', 4673), ('want', 4667), ('system', 4587), ('internet', 4515), ('take', 4507), ('day', 4441), ('software', 4430), ('within', 4426), ('price', 4365), ('much', 4349), ('b', 4336), ('data', 4322), ('pm', 4309), ('even', 4276), ('paper', 4249), ('world', 4149), ('year', 4125), ('site', 4072), ('form', 4057), ('group', 4055), ('nt', 4039), ('r', 4025), ('must', 4006), ('thanks', 3996), ('best', 3970), ('linguistic', 3951), ('uk', 3938), ('international', 3901), ('date', 3895), ('phone', 3839), ('book', 3823), ('find', 3822), ('x', 3810), ('made', 3779), ('click', 3729), ('john', 3712), ('think', 3683), ('go', 3677), ('home', 3645), ('state', 3643), ('systems', 3634), ('case', 3632), ('based', 3630), ('include', 3628), ('energy', 3622), ('using', 3621), ('credit', 3617), ('usa', 3610), ('used', 3577), ('good', 3570), ('g', 3551), ('help', 3543), ('including', 3537), ('service', 3535), ('years', 3534), ('last', 3525), ('receive', 3511), ('gas', 3462), ('computer', 3462), ('week', 3412), ('million', 3405), ('theory', 3399), ('different', 3377), ('let', 3371), ('back', 3365), ('cc', 3362), ('mailing', 3349), ('questions', 3322), ('market', 3278), ('received', 3248), ('power', 3246), ('today', 3233), ('part', 3229), ('special', 3221), ('since', 3216), ('inc', 3216), ('next', 3215), ('department', 3193), ('change', 3173), ('word', 3114), ('speech', 3060), ('per', 3051), ('every', 3043), ('check', 3014), ('addresses', 3014), ('h', 2969), ('online', 2967), ('interest', 2965), ('days', 2952), ('analysis', 2952), ('words', 2901), ('etc', 2901), ('n', 2896), ('still', 2893), ('development', 2889), ('provide', 2888), ('possible', 2885), ('page', 2879), ('original', 2875), ('registration', 2872), ('text', 2866), ('place', 2866), ('right', 2844), ('general', 2844), ('future', 2835), ('second', 2826), ('deal', 2820), ('line', 2820), ('without', 2774), ('news', 2772), ('account', 2757), ('file', 2750), ('natural', 2716), ('long', 2700), ('start', 2699), ('read', 2698), ('technology', 2680), ('issues', 2674), ('ac', 2671), ('give', 2662), ('offer', 2641), ('financial', 2639), ('full', 2639), ('la', 2611), ('set', 2610), ('stock', 2607), ('net', 2606), ('look', 2600), ('might', 2592), ('three', 2582), ('working', 2570), ('looking', 2567), ('interested', 2566), ('say', 2546), ('syntax', 2543), ('v', 2536), ('discussion', 2535), ('however', 2531), ('vince', 2519), ('companies', 2510), ('session', 2500), ('current', 2498), ('grammar', 2496), ('copy', 2483), ('come', 2481), ('services', 2480), ('html', 2476), ('another', 2472), ('great', 2470), ('corp', 2449), ('point', 2447), ('meeting', 2427), ('marketing', 2413), ('discourse', 2413), ('office', 2408), ('science', 2401), ('position', 2382), ('committee', 2365), ('abstracts', 2365), ('f', 2347), ('k', 2336), ('sure', 2310), ('end', 2310), ('trading', 2300), ('studies', 2300), ('due', 2296), ('review', 2295), ('product', 2286), ('process', 2281), ('least', 2277), ('support', 2269), ('august', 2267), ('forward', 2262), ('going', 2259), ('dont', 2250), ('reports', 2250), ('acquisition', 2247), ('anyone', 2242), ('really', 2238), ('investment', 2236), ('risk', 2235), ('cost', 2228), ('july', 2225), ('american', 2222), ('note', 2220), ('access', 2216), ('management', 2209), ('via', 2202), ('project', 2197), ('important', 2194), ('course', 2193), ('results', 2187), ('statements', 2184), ('found', 2183), ('given', 2178), ('life', 2168), ('products', 2168), ('several', 2168), ('type', 2161), ('card', 2138), ('high', 2131), ('problem', 2124), ('cash', 2109), ('thank', 2105), ('orders', 2098), ('submission', 2093), ('better', 2090), ('w', 2089), ('issue', 2080), ('press', 2079), ('letter', 2078), ('related', 2077), ('never', 2072), ('structure', 2062), ('month', 2055), ('david', 2049), ('et', 2049), ('september', 2041), ('real', 2038), ('limited', 2033), ('little', 2031), ('less', 2028), ('york', 2027), ('june', 2018), ('speakers', 2017), ('abstract', 2010), ('fact', 2007), ('visit', 2007), ('pp', 2007), ('easy', 2002), ('security', 1998), ('california', 1992), ('students', 1992), ('knowledge', 1991), ('school', 1989), ('processing', 1985), ('tel', 1984), ('st', 1983), ('example', 1982), ('either', 1981), ('experience', 1977), ('version', 1975), ('volume', 1971), ('details', 1964), ('request', 1960), ('pay', 1955), ('dr', 1944), ('area', 1944), ('section', 1941), ('users', 1938), ('works', 1935), ('save', 1930), ('wrote', 1925), ('im', 1924), ('remove', 1921), ('bank', 1920), ('able', 1915), ('total', 1915), ('march', 1907), ('making', 1906), ('box', 1905), ('put', 1900), ('term', 1897), ('held', 1893), ('something', 1891), ('question', 1890), ('submissions', 1884), ('ca', 1872), ('study', 1870), ('semantics', 1868), ('opportunity', 1860), ('title', 1859), ('code', 1858), ('center', 1853), ('final', 1851), ('major', 1851), ('level', 1848), ('members', 1845), ('always', 1842), ('around', 1839), ('applications', 1839), ('buy', 1836), ('prices', 1835), ('keep', 1831), ('old', 1829), ('additional', 1826), ('friday', 1826), ('problems', 1821), ('link', 1814), ('institute', 1813), ('already', 1811), ('others', 1811), ('programs', 1809), ('linux', 1808), ('whether', 1807), ('got', 1793), ('european', 1790), ('states', 1789), ('complete', 1787), ('website', 1787), ('government', 1782), ('invited', 1779), ('names', 1777), ('person', 1777), ('believe', 1775), ('canada', 1766), ('author', 1765), ('wish', 1763), ('deadline', 1761), ('minutes', 1761), ('follow', 1758), ('translation', 1753), ('houston', 1752), ('mark', 1748), ('required', 1743), ('ever', 1735), ('billion', 1733), ('search', 1732), ('past', 1731), ('info', 1725), ('open', 1724), ('april', 1718), ('windows', 1717), ('participants', 1712), ('national', 1707), ('resources', 1706), ('things', 1706), ('times', 1704), ('french', 1703), ('weeks', 1702), ('four', 1700), ('top', 1690), ('rate', 1675), ('german', 1675), ('try', 1671), ('communication', 1662), ('database', 1660), ('social', 1657), ('learning', 1654), ('short', 1652), ('recent', 1647), ('mr', 1646), ('reply', 1642), ('hours', 1641), ('show', 1635), ('city', 1633), ('electronic', 1626), ('terms', 1624), ('break', 1622), ('sales', 1618), ('hard', 1616), ('october', 1609), ('reference', 1607), ('computational', 1607), ('cognitive', 1607), ('field', 1604), ('pages', 1597), ('done', 1595), ('plan', 1593), ('plus', 1592), ('america', 1589), ('files', 1585), ('lot', 1580), ('months', 1579), ('chair', 1578), ('meaning', 1572), ('present', 1566), ('spanish', 1560), ('en', 1559), ('london', 1554), ('changes', 1549), ('various', 1549), ('securities', 1548), ('phonology', 1548), ('monday', 1547), ('co', 1546), ('small', 1545), ('simple', 1539), ('url', 1535), ('legal', 1532), ('view', 1531), ('united', 1529), ('value', 1526), ('content', 1525), ('human', 1522), ('areas', 1522), ('submit', 1511), ('dynegy', 1511), ('soon', 1507), ('id', 1502), ('together', 1500), ('later', 1498), ('large', 1493), ('provided', 1493), ('north', 1492), ('family', 1487), ('published', 1485), ('application', 1483), ('shares', 1482), ('robert', 1481), ('simply', 1476), ('regards', 1469), ('personal', 1467), ('share', 1467), ('journal', 1467), ('though', 1465), ('cd', 1461), ('michael', 1459), ('act', 1456), ('currently', 1455), ('lexical', 1450), ('rather', 1449), ('dollars', 1447), ('anything', 1445), ('response', 1443), ('seems', 1440), ('run', 1440), ('attached', 1435), ('specific', 1434), ('focus', 1431), ('server', 1429), ('wednesday', 1428), ('agreement', 1427), ('yet', 1427), ('rights', 1426), ('germany', 1419), ('stop', 1418), ('offers', 1413), ('hour', 1411), ('main', 1409), ('source', 1408), ('topics', 1408), ('summary', 1408), ('far', 1407), ('sessions', 1405), ('single', 1403), ('someone', 1402), ('spam', 1401), ('income', 1399), ('fee', 1399), ('student', 1398), ('job', 1396), ('particular', 1395), ('user', 1394), ('history', 1394), ('examples', 1393), ('public', 1393), ('country', 1389), ('copies', 1389), ('become', 1389), ('jones', 1388), ('thing', 1387), ('links', 1387), ('kaminski', 1382), ('write', 1381), ('low', 1380), ('japanese', 1377), ('january', 1375), ('standard', 1367), ('december', 1364), ('third', 1363), ('control', 1359), ('local', 1357), ('authors', 1354), ('professional', 1353), ('texas', 1353), ('add', 1352), ('bulk', 1351), ('network', 1351), ('kind', 1349), ('street', 1349), ('move', 1347), ('numbers', 1346), ('linguist', 1343), ('performance', 1339), ('programme', 1335), ('trade', 1334), ('potential', 1333), ('tell', 1331), ('machine', 1328), ('customers', 1327), ('lists', 1322), ('early', 1321), ('approach', 1321), ('south', 1315), ('welcome', 1315), ('sell', 1313), ('thursday', 1312), ('accepted', 1310), ('package', 1310), ('presentation', 1307), ('nothing', 1303), ('messages', 1303), ('model', 1301), ('post', 1297), ('written', 1294), ('society', 1289), ('feel', 1289), ('includes', 1289), ('ago', 1287), ('des', 1285), ('global', 1284), ('continue', 1279), ('actually', 1276), ('forwarded', 1275), ('dear', 1275), ('tuesday', 1275), ('amount', 1275), ('president', 1273), ('teaching', 1272), ('live', 1271), ('remember', 1270), ('directory', 1270), ('latest', 1269), ('big', 1268), ('exchange', 1268), ('college', 1268), ('syntactic', 1266), ('means', 1265), ('copyright', 1265), ('industry', 1259), ('asked', 1259), ('return', 1259), ('forms', 1258), ('education', 1254), ('certain', 1253), ('events', 1250), ('theoretical', 1250), ('removed', 1249), ('success', 1248), ('november', 1247), ('called', 1247), ('probably', 1246), ('semantic', 1243), ('man', 1241), ('references', 1240), ('format', 1238), ('yes', 1237), ('size', 1235), ('aspects', 1235), ('included', 1234), ('methods', 1231), ('features', 1229), ('basis', 1227), ('team', 1225), ('france', 1225), ('talk', 1224), ('enough', 1224), ('payment', 1221), ('learn', 1221), ('quality', 1221), ('hope', 1218), ('cant', 1218), ('writing', 1218), ('direct', 1216), ('le', 1209), ('communications', 1208), ('error', 1206), ('series', 1205), ('role', 1202), ('needs', 1201), ('foreign', 1201), ('action', 1200), ('bill', 1197), ('getting', 1196), ('else', 1192), ('reading', 1189), ('telephone', 1184), ('update', 1180), ('among', 1179), ('books', 1178), ('february', 1177), ('purchase', 1173), ('thought', 1173), ('ed', 1172), ('away', 1171), ('europe', 1168), ('topic', 1168), ('common', 1165), ('everyone', 1164), ('linguists', 1164), ('key', 1163), ('paul', 1161), ('paid', 1156), ('especially', 1154), ('material', 1150), ('ask', 1149), ('matter', 1149), ('microsoft', 1149), ('chinese', 1148), ('immediately', 1148), ('instructions', 1145), ('although', 1142), ('sites', 1142), ('applied', 1140), ('summer', 1140), ('increase', 1139), ('individual', 1139), ('mind', 1138), ('capital', 1137), ('benjamins', 1136), ('children', 1131), ('investors', 1130), ('association', 1130), ('five', 1125), ('rates', 1124), ('context', 1123), ('room', 1122), ('directly', 1119), ('late', 1119), ('louise', 1118), ('schedule', 1117), ('historical', 1115), ('discuss', 1115), ('regarding', 1113), ('quite', 1113), ('color', 1113), ('production', 1111), ('upon', 1109), ('deals', 1109), ('allow', 1109), ('status', 1109), ('everything', 1105), ('japan', 1105), ('seen', 1103), ('sign', 1103), ('technical', 1102), ('understand', 1097), ('wide', 1096), ('whole', 1096), ('contract', 1095), ('professor', 1090), ('submitted', 1090), ('debt', 1088), ('verb', 1087), ('ready', 1085), ('nl', 1084), ('says', 1080), ('spoken', 1075), ('morphology', 1074), ('along', 1073), ('proceedings', 1072), ('comments', 1072), ('sending', 1072), ('release', 1071), ('method', 1071), ('considered', 1070), ('sources', 1068), ('cs', 1067), ('clear', 1066), ('evidence', 1066), ('evaluation', 1066), ('daily', 1065), ('hotel', 1065), ('director', 1064), ('org', 1063), ('non', 1061), ('idea', 1059), ('formal', 1055), ('lunch', 1053), ('tools', 1053), ('range', 1051), ('rules', 1050), ('der', 1049), ('contains', 1048), ('private', 1047), ('groups', 1046), ('addition', 1046), ('notice', 1046), ('dow', 1046), ('download', 1045), ('similar', 1044), ('west', 1043), ('commercial', 1042), ('thousands', 1042), ('approaches', 1040), ('bring', 1039), ('party', 1038), ('unsubscribe', 1038), ('van', 1037), ('hi', 1037), ('relevant', 1034), ('guide', 1032), ('necessary', 1027), ('james', 1027), ('transaction', 1026), ('percent', 1025), ('proposals', 1023), ('needed', 1023), ('building', 1023), ('el', 1021), ('ii', 1019), ('expected', 1018), ('media', 1018), ('reason', 1017), ('often', 1016), ('trying', 1016), ('sense', 1015), ('markets', 1013), ('researchers', 1013), ('step', 1012), ('women', 1011), ('customer', 1011), ('logic', 1008), ('claim', 1007), ('native', 1007), ('ms', 1002), ('build', 1000), ('modern', 998), ('board', 998), ('font', 996), ('close', 994), ('result', 993), ('thus', 992), ('pc', 990), ('join', 985), ('recently', 976), ('washington', 976), ('left', 975), ('makes', 974), ('length', 974), ('according', 973), ('period', 972), ('mit', 972), ('affiliation', 972), ('create', 971), ('answer', 971), ('longer', 970), ('interesting', 969), ('speaker', 969), ('true', 967), ('member', 967), ('adobe', 967), ('shipping', 963), ('morning', 962), ('acceptance', 962), ('told', 962), ('publication', 962), ('sound', 962), ('les', 961), ('ability', 960), ('models', 960), ('added', 959), ('index', 958), ('hand', 957), ('coffee', 956), ('irish', 952), ('digital', 952), ('netherlands', 952), ('article', 952), ('emails', 948), ('involved', 948), ('listed', 948), ('intended', 948), ('design', 947), ('receiving', 944), ('effective', 944), ('understanding', 941), ('description', 941), ('video', 939), ('plans', 937), ('event', 937), ('known', 936), ('expect', 935), ('notes', 935), ('feature', 935), ('attention', 934), ('projects', 934), ('notification', 933), ('multiple', 932), ('options', 931), ('announcement', 931), ('meet', 930), ('dept', 930), ('class', 929), ('grammatical', 928), ('started', 927), ('sponsored', 926), ('cambridge', 925), ('requirements', 922), ('strong', 920), ('sale', 919), ('nbsp', 919), ('newsletter', 918), ('across', 918), ('richard', 917), ('perhaps', 915), ('mentioned', 915), ('advice', 914), ('instead', 914), ('operations', 913), ('centre', 913), ('transfer', 911), ('participate', 911), ('cases', 910), ('movement', 910), ('loss', 910), ('half', 909), ('travel', 907), ('almost', 906), ('chief', 904), ('central', 903), ('guarantee', 898), ('federal', 897), ('community', 896), ('academic', 894), ('annual', 892), ('organization', 890), ('bit', 888), ('advertising', 887), ('head', 885), ('basic', 885), ('reserved', 885), ('exactly', 885), ('costs', 884), ('fast', 883), ('successful', 881), ('nd', 880), ('query', 880), ('publications', 880), ('yahoo', 879), ('fees', 877), ('seem', 873), ('construction', 872), ('style', 872), ('funds', 870), ('interpretation', 869), ('lines', 868), ('growth', 867), ('accept', 867), ('register', 867), ('selected', 866), ('points', 866), ('domain', 865), ('charge', 865), ('ordering', 865), ('sex', 864), ('watch', 864), ('ive', 863), ('introduction', 861), ('oil', 861), ('posted', 861), ('comparative', 861), ('taken', 859), ('six', 859), ('provides', 859), ('paris', 858), ('peter', 857), ('corpus', 857), ('assets', 856), ('stocks', 853), ('steve', 853), ('friends', 853), ('symposium', 853), ('house', 852), ('therefore', 851), ('thats', 850), ('drive', 850), ('regular', 850), ('au', 850), ('law', 849), ('coming', 848), ('easily', 847), ('came', 847), ('happy', 846), ('generation', 843), ('manager', 842), ('ways', 841), ('hpl', 839), ('intelligence', 838), ('und', 838), ('wanted', 836), ('delivery', 835), ('presentations', 835), ('prof', 835), ('rest', 834), ('print', 833), ('stanford', 833), ('workshops', 833), ('presented', 831), ('ideas', 829), ('aol', 826), ('phonological', 826), ('capacity', 824), ('taking', 824), ('participation', 823), ('texts', 823), ('shall', 822), ('lose', 821), ('running', 820), ('comes', 819), ('choose', 818), ('mt', 818), ('types', 817), ('music', 810), ('q', 809), ('quarter', 809), ('proposed', 808), ('prior', 807), ('worth', 807), ('lost', 807), ('ftp', 806), ('takes', 805), ('east', 804), ('advanced', 803), ('meter', 803), ('initial', 803), ('letters', 802), ('usd', 801), ('cover', 801), ('policy', 800), ('actual', 799), ('al', 799), ('appropriate', 798), ('likely', 798), ('space', 798), ('mean', 797), ('mike', 797), ('maybe', 793), ('corporation', 791), ('se', 791), ('body', 790), ('martin', 789), ('selling', 789), ('apply', 788), ('previous', 787), ('situation', 785), ('finally', 785), ('contributions', 784), ('hear', 783), ('responses', 783), ('respect', 782), ('rd', 782), ('chapter', 782), ('san', 781), ('training', 780), ('statement', 780), ('win', 779), ('contents', 777), ('russian', 775), ('bad', 774), ('earlier', 774), ('starting', 774), ('es', 774), ('object', 774), ('representation', 773), ('hello', 771), ('opportunities', 771), ('theme', 771), ('hall', 771), ('techniques', 770), ('items', 769), ('executive', 768), ('require', 768), ('jan', 768), ('functional', 768), ('distribution', 768), ('technologies', 766), ('normal', 765), ('tax', 764), ('useful', 763), ('chris', 763), ('firm', 760), ('commission', 759), ('play', 758), ('operating', 756), ('engineering', 755), ('outside', 755), ('chance', 755), ('background', 754), ('iii', 754), ('story', 754), ('articles', 753), ('uses', 752), ('australia', 750), ('literature', 750), ('pragmatics', 750), ('interaction', 750), ('mary', 750), ('sum', 750), ('saturday', 750), ('sciences', 750), ('proposal', 748), ('test', 747), ('young', 746), ('effort', 745), ('parsing', 745), ('night', 744), ('existing', 744), ('nature', 744), ('leave', 744), ('men', 740), ('smith', 739), ('reported', 738), ('publishing', 738), ('editor', 738), ('millions', 736), ('developed', 735), ('express', 734), ('child', 734), ('positions', 733), ('fr', 733), ('officer', 732), ('countries', 732), ('variety', 731), ('fill', 731), ('employees', 731), ('accommodation', 731), ('love', 730), ('turn', 730), ('documents', 729), ('individuals', 729), ('un', 727), ('option', 725), ('membership', 723), ('unsubscription', 722), ('susan', 721), ('leading', 721), ('los', 721), ('maintainer', 719), ('appear', 718), ('vowel', 718), ('amsterdam', 718), ('fw', 717), ('cause', 716), ('decision', 715), ('culture', 715), ('quick', 715), ('whose', 714), ('nlp', 714), ('advantage', 712), ('finance', 711), ('vol', 711), ('oxford', 711), ('italy', 711), ('completed', 710), ('cut', 710), ('political', 710), ('face', 709), ('argument', 709), ('entire', 709), ('processes', 709), ('separate', 708), ('bob', 707), ('huge', 707), ('decided', 703), ('minute', 703), ('korean', 703), ('relations', 703), ('edition', 703), ('designed', 701), ('na', 700), ('independent', 700), ('corporate', 700), ('begin', 699), ('george', 699), ('pro', 698), ('voice', 697), ('hundreds', 697), ('discussions', 697), ('reach', 697), ('announced', 697), ('consider', 696), ('fall', 696), ('took', 696), ('chairman', 695), ('choice', 695), ('wont', 694), ('ph', 693), ('pt', 693), ('unit', 692), ('age', 692), ('doesnt', 692), ('interface', 691), ('side', 690), ('dates', 690), ('graduate', 690), ('higher', 690), ('mmbtu', 690), ('sentence', 688), ('fund', 688), ('stuff', 688), ('registered', 687), ('listmasterlinuxie', 687), ('vs', 687), ('acl', 686), ('talking', 685), ('ena', 685), ('china', 685), ('calls', 685), ('contracts', 684), ('enter', 684), ('beginning', 683), ('double', 683), ('panel', 683), ('ees', 683), ('average', 683), ('pills', 681), ('iso', 681), ('popular', 680), ('lon', 679), ('guaranteed', 679), ('goes', 679), ('transactions', 678), ('largest', 677), ('theories', 677), ('friend', 676), ('suite', 676), ('table', 675), ('track', 675), ('worldwide', 673), ('aug', 673), ('spain', 673), ('levels', 673), ('fully', 672), ('lexicon', 672), ('nice', 672), ('complex', 671), ('aspect', 671), ('sold', 668), ('effects', 667), ('advertisement', 667), ('effect', 667), ('location', 666), ('official', 666), ('middle', 666), ('iluglinuxie', 665), ('heard', 665), ('relationship', 664), ('particularly', 664), ('rating', 661), ('significant', 660), ('structures', 660), ('highly', 660), ('document', 659), ('select', 658), ('game', 658), ('assistance', 657), ('category', 657), ('ad', 657), ('kitchen', 657), ('recognition', 657), ('mailings', 656), ('approved', 655), ('businesses', 655), ('grants', 655), ('near', 654), ('correct', 653), ('claims', 652), ('negative', 652), ('record', 652), ('care', 652), ('youre', 651), ('earnings', 650), ('road', 650), ('du', 650), ('extra', 649), ('activities', 647), ('receipt', 646), ('staff', 646), ('follows', 646), ('parallel', 646), ('towards', 646), ('base', 646), ('ok', 646), ('wrong', 645), ('log', 645), ('forum', 645), ('comment', 645), ('health', 644), ('western', 643), ('tech', 643), ('versions', 642), ('extended', 642), ('hot', 641), ('requested', 641), ('jeff', 641), ('equity', 639), ('perspective', 639), ('assume', 639), ('shows', 639), ('century', 639), ('planning', 638), ('discussed', 638), ('constraints', 638), ('speak', 637), ('operation', 637), ('preferred', 636), ('collection', 636), ('httpwwwlinuxiemailmanlistinfoilug', 635), ('none', 635), ('po', 635), ('factors', 634), ('ie', 634), ('congress', 633), ('phonetics', 633), ('pipeline', 633), ('bankruptcy', 632), ('air', 632), ('anywhere', 632), ('postal', 632), ('couple', 631), ('function', 629), ('cultural', 628), ('rule', 628), ('tried', 626), ('constructions', 626), ('lee', 626), ('sfnet', 626), ('agree', 625), ('materials', 625), ('wait', 625), ('degree', 625), ('dbcaps', 624), ('clearly', 623), ('chomsky', 623), ('flow', 622), ('difference', 621), ('cloth', 621), ('car', 621), ('william', 621), ('ones', 620), ('created', 620), ('variation', 620), ('eds', 620), ('dialects', 618), ('adult', 618), ('secure', 617), ('unknown', 616), ('growing', 615), ('scientific', 615), ('england', 614), ('ceo', 614), ('allows', 613), ('india', 613), ('graphics', 613), ('dialogue', 613), ('virtual', 612), ('grant', 611), ('framework', 611), ('target', 611), ('detailed', 610), ('happen', 609), ('otherwise', 609), ('brian', 608), ('interview', 608), ('faculty', 608), ('networks', 608), ('hold', 607), ('red', 607), ('associated', 607), ('kevin', 607), ('artificial', 607), ('morphological', 606), ('sun', 605), ('publisher', 604), ('ling', 604), ('dinner', 604), ('quickly', 604), ('edinburgh', 604), ('selection', 603), ('tutorial', 603), ('advance', 602), ('profit', 601), ('demand', 601), ('southern', 601), ('lead', 601), ('wall', 600), ('xp', 600), ('sincerely', 599), ('mass', 599), ('worked', 598), ('senior', 597), ('berlin', 597), ('unique', 597), ('sentences', 597), ('anonymous', 597), ('resource', 597), ('signed', 596), ('respond', 596), ('verbs', 596), ('dutch', 596), ('connection', 595), ('difficult', 595), ('automatically', 594), ('fixed', 594), ('daren', 591), ('partners', 591), ('gary', 591), ('developing', 591), ('computing', 589), ('hit', 588), ('courses', 588), ('analyst', 588), ('pre', 587), ('viagra', 586), ('appears', 585), ('offering', 585), ('georgetown', 584), ('looks', 584), ('ffa', 584), ('internal', 583), ('indicate', 583), ('efforts', 583), ('cents', 583), ('afternoon', 583), ('die', 583), ('ny', 582), ('philosophy', 582), ('dictionary', 582), ('ne', 581), ('british', 580), ('living', 579), ('saying', 578), ('black', 577), ('completely', 575), ('absolutely', 575), ('il', 575), ('loan', 575), ('sorry', 575), ('certainly', 574), ('ten', 574), ('latin', 574), ('interests', 573), ('terminology', 573), ('gets', 572), ('approximately', 572), ('principles', 572), ('corpora', 572), ('readers', 570), ('organized', 570), ('oct', 570), ('solution', 569), ('supply', 569), ('lay', 569), ('pretty', 569), ('whatever', 569), ('htm', 569), ('retail', 567), ('traditional', 567), ('speaking', 564), ('environment', 564), ('changed', 563), ('court', 563), ('manual', 562), ('fun', 562), ('thinking', 561), ('andrew', 561), ('goal', 560), ('former', 560), ('poster', 560), ('accounts', 559), ('parts', 559), ('storage', 559), ('mm', 559), ('posting', 558), ('develop', 558), ('talks', 558), ('yesterday', 558), ('mexico', 558), ('tutorials', 558), ('rich', 557), ('front', 556), ('comparison', 556), ('white', 555), ('approval', 555), ('pass', 555), ('aware', 554), ('image', 554), ('properties', 554), ('except', 554), ('categories', 554), ('est', 554), ('identity', 553), ('thomas', 553), ('went', 553), ('accounting', 550), ('electricity', 549), ('phenomena', 549), ('oo', 549), ('africa', 548), ('mobile', 548), ('organizing', 548), ('lower', 546), ('strategies', 546), ('sally', 545), ('perfect', 545), ('computers', 544), ('opinion', 543), ('ordered', 543), ('benefits', 543), ('insurance', 543), ('concerns', 542), ('balance', 542), ('requests', 541), ('giving', 541), ('volumes', 541), ('mid', 541), ('grammars', 540), ('agent', 540), ('scott', 539), ('patterns', 539), ('resume', 538), ('romance', 538), ('survey', 538), ('avoid', 537), ('cards', 537), ('alias', 537), ('confidential', 536), ('automatic', 536), ('brief', 536), ('providing', 536), ('throughout', 535), ('dialect', 535), ('teachers', 535), ('tool', 535), ('industrial', 535), ('usually', 534), ('visa', 534), ('dollar', 534), ('risks', 533), ('war', 533), ('feedback', 533), ('bonus', 533), ('memory', 532), ('powerful', 532), ('unless', 532), ('isbn', 531), ('br', 530), ('retrieval', 530), ('tom', 529), ('heaven', 528), ('attend', 527), ('univ', 527), ('economic', 527), ('contain', 527), ('pacific', 527), ('hourahead', 526), ('psychology', 526), ('benefit', 525), ('followed', 525), ('economy', 525), ('tm', 525), ('scope', 524), ('maria', 524), ('williams', 524), ('fields', 523), ('practice', 523), ('tips', 523), ('conditions', 522), ('previously', 522), ('esslli', 522), ('closed', 521), ('reasons', 521), ('jim', 521), ('sort', 521), ('progress', 521), ('monthly', 520), ('trust', 520), ('universal', 520), ('safe', 519), ('dave', 519), ('brown', 519), ('generate', 519), ('mac', 518), ('install', 518), ('expectations', 517), ('thousand', 517), ('freedom', 517), ('master', 517), ('updated', 516), ('z', 516), ('associate', 515), ('del', 514), ('practical', 514), ('universite', 514), ('alternative', 513), ('plenary', 513), ('park', 512), ('signature', 511), ('solutions', 510), ('gives', 510), ('investor', 510), ('berkeley', 510), ('generally', 508), ('art', 508), ('client', 508), ('facts', 507), ('multilevel', 507), ('sec', 506), ('secret', 506), ('asian', 505), ('weekly', 504), ('ill', 504), ('campus', 504), ('records', 504), ('programming', 504), ('offered', 504), ('proven', 503), ('noun', 503), ('perl', 503), ('partnerships', 503), ('primary', 502), ('sounds', 502), ('waiting', 502), ('pounds', 502), ('property', 501), ('indiana', 501), ('investing', 500), ('schedules', 500), ('indeed', 499), ('charles', 499), ('greek', 499), ('php', 498), ('ads', 498), ('requires', 498), ('soft', 498), ('ai', 498), ('core', 497), ('opening', 496), ('shirley', 496), ('confidence', 495), ('input', 495), ('gruyter', 495), ('jul', 495), ('differences', 494), ('analysts', 494), ('occur', 493), ('force', 493), ('saw', 492), ('distributed', 492), ('wants', 492), ('conceptual', 492), ('sep', 491), ('addressed', 491), ('solid', 491), ('willing', 490), ('purposes', 490), ('sometimes', 490), ('weight', 490), ('suggested', 490), ('reuters', 490), ('critical', 489), ('subscription', 489), ('purpose', 489), ('listing', 489), ('shown', 489), ('delete', 488), ('checks', 488), ('sociolinguistics', 488), ('ensure', 487), ('subscribers', 486), ('concerning', 486), ('relevance', 486), ('skills', 486), ('moment', 486), ('manage', 485), ('di', 485), ('reporting', 484), ('involve', 484), ('sheet', 484), ('tv', 484), ('administration', 483), ('revenue', 483), ('agreed', 483), ('tomorrow', 483), ('typology', 482), ('chicago', 482), ('immediate', 480), ('nov', 480), ('integration', 480), ('assist', 479), ('speed', 479), ('teach', 479), ('load', 479), ('vice', 478), ('serious', 478), ('hardware', 478), ('pleased', 478), ('draft', 477), ('license', 477), ('pa', 477), ('concerned', 477), ('utrecht', 476), ('theres', 475), ('max', 475), ('tim', 475), ('valuable', 475), ('arabic', 475), ('phrase', 475), ('asking', 475), ('desk', 474), ('gender', 474), ('light', 474), ('medical', 473), ('stay', 473), ('cell', 472), ('differ', 470), ('mortgage', 470), ('sunday', 470), ('aim', 470), ('task', 470), ('que', 470), ('guidelines', 469), ('ferc', 469), ('phonetic', 469), ('quote', 468), ('trader', 468), ('capitalfm', 468), ('water', 467), ('handling', 467), ('px', 467), ('germanic', 466), ('behalf', 466), ('active', 466), ('seminar', 466), ('multilingual', 466), ('preliminary', 466), ('sexual', 465), ('physical', 464), ('competition', 464), ('usage', 464), ('titles', 464), ('released', 464), ('african', 463), ('engines', 463), ('pennsylvania', 463), ('earn', 462), ('responsible', 462), ('answers', 462), ('moving', 461), ('concern', 461), ('fine', 461), ('davis', 461), ('pick', 461), ('servers', 461), ('relative', 460), ('reviews', 460), ('partner', 459), ('mb', 459), ('king', 459), ('teacher', 459), ('self', 458), ('appreciate', 458), ('generative', 458), ('harris', 458), ('objects', 458), ('latex', 458), ('charges', 458), ('investigation', 457), ('wholesale', 456), ('pattern', 456), ('brand', 456), ('estimates', 455), ('proper', 455), ('extremely', 454), ('activity', 454), ('greater', 454), ('positive', 453), ('bills', 453), ('tx', 453), ('store', 452), ('bottom', 452), ('investments', 452), ('phenomenon', 451), ('beyond', 451), ('encouraged', 451), ('located', 451), ('explain', 451), ('identify', 451), ('disk', 450), ('wireless', 450), ('verbal', 450), ('handle', 450), ('transmission', 450), ('mention', 450), ('northern', 449), ('stephen', 449), ('rice', 449), ('gave', 448), ('kernel', 448), ('payments', 447), ('austin', 445), ('prepared', 445), ('impact', 444), ('decide', 444), ('piece', 444), ('frank', 444), ('doubt', 444), ('conversation', 444), ('plain', 444), ('manchester', 444), ('radio', 444), ('dan', 443), ('scheduled', 443), ('remain', 443), ('lots', 442), ('places', 442), ('plant', 442), ('multi', 442), ('functions', 441), ('didnt', 441), ('reviewed', 441), ('developments', 440), ('jean', 439), ('evening', 439), ('enjoy', 439), ('region', 439), ('concept', 439), ('placed', 438), ('hearing', 438), ('specifically', 438), ('excellent', 437), ('extraction', 437), ('equipment', 437), ('anne', 437), ('strategy', 436), ('attempt', 436), ('resolution', 435), ('humanities', 435), ('easier', 435), ('packages', 435), ('errors', 435), ('suggest', 434), ('discover', 433), ('tense', 433), ('described', 433), ('faster', 433), ('default', 433), ('library', 432), ('sample', 432), ('profits', 432), ('count', 432), ('poor', 432), ('seek', 431), ('associates', 431), ('protect', 431), ('ltd', 431), ('portland', 431), ('valid', 431), ('stress', 431), ('perception', 430), ('limit', 430), ('computation', 430), ('secrets', 429), ('utilities', 429), ('organizers', 429), ('winning', 429), ('hundred', 429), ('snow', 429), ('currency', 429), ('ticket', 428), ('greg', 428), ('familiar', 428), ('wife', 428), ('suggestions', 428), ('alone', 427), ('rpmlist', 427), ('presents', 427), ('steven', 427), ('audio', 426), ('floodgate', 426), ('units', 425), ('correspondence', 425), ('super', 425), ('sept', 425), ('fastow', 425), ('represent', 424), ('games', 424), ('utility', 424), ('writes', 424), ('root', 424), ('colloquium', 424), ('pricing', 423), ('payable', 423), ('evolution', 423), ('invite', 422), ('asia', 422), ('generic', 422), ('lowest', 422), ('increased', 422), ('revised', 421), ('maximum', 421), ('seven', 420), ('mon', 420), ('standards', 420), ('httplistsfreshrpmsnetmailmanlistinforpmlist', 420), ('youll', 420), ('montreal', 420), ('buying', 419), ('moved', 419), ('testing', 418), ('jobs', 418), ('advertise', 418), ('rooms', 417), ('breakfast', 417), ('farmer', 416), ('cross', 416), ('expenses', 416), ('candidates', 416), ('anybody', 416), ('sender', 415), ('tue', 415), ('traders', 415), ('wed', 414), ('encourage', 414), ('ken', 414), ('produce', 414), ('goals', 413), ('mouton', 413), ('singapore', 413), ('assumptions', 412), ('confirm', 412), ('exclusive', 412), ('larger', 412), ('conferences', 412), ('multimedia', 412), ('cnet', 411), ('relation', 410), ('clients', 410), ('joseph', 409), ('invest', 409), ('von', 409), ('doc', 409), ('representations', 409), ('sa', 409), ('domains', 409), ('reasoning', 408), ('met', 407), ('stated', 407), ('camera', 407), ('conflict', 406), ('importance', 406), ('lecture', 406), ('targeted', 405), ('geek', 405), ('paying', 405), ('rpm', 404), ('possibly', 404), ('phd', 404), ('distinction', 403), ('tickets', 403), ('failed', 403), ('gain', 403), ('assistant', 403), ('announce', 403), ('creating', 403), ('classes', 403), ('descriptions', 403), ('possibility', 402), ('exist', 402), ('colleagues', 402), ('ahead', 402), ('contained', 401), ('boston', 401), ('guess', 401), ('perspectives', 401), ('edited', 401), ('bilingual', 401), ('kingdom', 401), ('ucla', 401), ('contexts', 400), ('meetings', 400), ('lack', 400), ('delivered', 400), ('majority', 399), ('stand', 399), ('dec', 399), ('discount', 399), ('picture', 399), ('prescription', 398), ('established', 398), ('behind', 398), ('ibm', 397), ('anyway', 397), ('weekend', 397), ('nearly', 397), ('eric', 397), ('barbara', 397), ('eastern', 396), ('ch', 395), ('inform', 395), ('death', 395), ('fresh', 395), ('passed', 395), ('arguments', 395), ('guy', 395), ('biggest', 395), ('td', 395), ('finding', 394), ('substantial', 394), ('serve', 394), ('nancy', 394), ('outstanding', 393), ('shop', 393), ('promotion', 393), ('identified', 392), ('miss', 392), ('foundation', 392), ('managing', 392), ('lottery', 392), ('guys', 392), ('reduced', 391), ('reader', 391), ('obviously', 391), ('kim', 391), ('stage', 391), ('imagine', 390), ('isnt', 390), ('improve', 390), ('canadian', 390), ('item', 390), ('angeles', 390), ('aims', 390), ('mx', 390), ('databases', 390), ('shared', 389), ('laws', 389), ('asset', 389), ('perform', 389), ('genetic', 389), ('sur', 389), ('comprehensive', 389), ('floor', 388), ('expressions', 388), ('illinois', 388), ('availability', 388), ('merger', 388), ('compare', 388), ('closing', 387), ('population', 387), ('privacy', 387), ('pronouns', 386), ('gold', 386), ('phrases', 386), ('karen', 386), ('editors', 385), ('agency', 384), ('fortune', 384), ('changing', 384), ('figure', 384), ('subjects', 384), ('zip', 384), ('profile', 384), ('empirical', 383), ('principle', 383), ('cable', 383), ('ascii', 382), ('spend', 382), ('intelligent', 381), ('arrangements', 381), ('surface', 380), ('seeking', 380), ('cooperation', 379), ('interactive', 379), ('cheap', 379), ('xerox', 379), ('representative', 378), ('featured', 378), ('male', 378), ('unlimited', 378), ('instance', 378), ('prize', 378), ('shift', 378), ('god', 377), ('exposure', 377), ('arial', 377), ('vowels', 377), ('actions', 376), ('secretary', 376), ('scheduling', 376), ('apparently', 376), ('italian', 376), ('club', 376), ('implications', 375), ('drop', 375), ('ext', 375), ('une', 375), ('vacation', 374), ('clean', 374), ('determine', 373), ('enronxgate', 373), ('brought', 373), ('overview', 373), ('raise', 372), ('feb', 372), ('negation', 372), ('hypothesis', 372), ('acquire', 371), ('filing', 371), ('green', 371), ('password', 371), ('expressed', 371), ('reception', 371), ('indian', 371), ('deposit', 370), ('preference', 370), ('joe', 370), ('protection', 370), ('weather', 370), ('remains', 369), ('organizations', 369), ('spring', 369), ('accessible', 369), ('razor', 369), ('achieve', 368), ('tw', 368), ('height', 368), ('unix', 368), ('primarily', 367), ('candidate', 367), ('tony', 367), ('dissertation', 367), ('ou', 367), ('sets', 367), ('financing', 366), ('da', 366), ('patrick', 366), ('screen', 366), ('browser', 365), ('pour', 364), ('hat', 363), ('dynamic', 363), ('compliance', 363), ('worlds', 363), ('installed', 363), ('combined', 363), ('lisa', 362), ('budget', 362), ('explanation', 362), ('themes', 362), ('hebrew', 362), ('implementation', 362), ('calling', 361), ('setting', 361), ('beautiful', 361), ('disciplines', 361), ('fell', 361), ('notion', 360), ('funding', 360), ('pain', 360), ('bonds', 360), ('projections', 359), ('steps', 359), ('bush', 359), ('concepts', 359), ('minimum', 359), ('platform', 359), ('nation', 359), ('os', 359), ('postscript', 358), ('dans', 358), ('keynote', 358), ('refer', 357), ('happened', 357), ('pronunciation', 357), ('toward', 356), ('creative', 356), ('uncertainties', 355), ('entered', 355), ('tea', 355), ('path', 355), ('xls', 355), ('banks', 355), ('slavic', 355), ('provider', 354), ('amazing', 353), ('truly', 353), ('hong', 353), ('employee', 353), ('influence', 353), ('understood', 352), ('confirmed', 352), ('mastercard', 352), ('vp', 351), ('father', 351), ('entertainment', 351), ('institutions', 351), ('marked', 350), ('draw', 349), ('window', 349), ('pub', 348), ('electric', 348), ('oh', 348), ('cdrom', 348), ('extent', 348), ('strongly', 348), ('bar', 348), ('command', 348), ('ben', 348), ('extensive', 347), ('iv', 347), ('fourth', 347), ('detail', 347), ('persons', 347), ('clause', 347), ('distance', 346), ('rick', 346), ('believes', 346), ('planned', 346), ('exciting', 346), ('knew', 346), ('external', 346), ('syllable', 346), ('portuguese', 346), ('condition', 345), ('instant', 345), ('psycholinguistics', 345), ('sharing', 344), ('unfortunately', 344), ('owner', 344), ('facilities', 344), ('raising', 344), ('prefer', 344), ('introductory', 344), ('updates', 344), ('relatively', 343), ('venture', 343), ('inside', 343), ('profitable', 343), ('experts', 343), ('preferences', 343), ('behavior', 343), ('allowed', 343), ('cognition', 343), ('showing', 343), ('gone', 342), ('documentation', 342), ('enable', 342), ('reached', 342), ('feet', 341), ('partnership', 341), ('joint', 341), ('images', 341), ('campaign', 341), ('mailto', 341), ('philadelphia', 341), ('began', 341), ('bought', 341), ('round', 340), ('bruce', 340), ('publishers', 340), ('became', 340), ('agencies', 340), ('clauses', 340), ('spent', 339), ('continued', 339), ('parties', 339), ('town', 339), ('li', 339), ('logical', 339), ('bythinkgeek', 339), ('httpthinkgeekcomsf', 339), ('ps', 339), ('checking', 338), ('relationships', 338), ('match', 338), ('obtain', 338), ('inquiry', 338), ('kids', 338), ('bloomberg', 338), ('visual', 338), ('fyi', 337), ('schools', 337), ('gb', 337), ('formation', 336), ('alan', 336), ('massachusetts', 336), ('anaphora', 336), ('jp', 336), ('removal', 336), ('elements', 336), ('aisb', 336), ('issued', 335), ('mg', 335), ('deliver', 335), ('host', 335), ('fri', 335), ('indicated', 334), ('cialis', 334), ('military', 334), ('character', 334), ('adding', 333), ('seeing', 333), ('biz', 333), ('containing', 333), ('rose', 333), ('led', 333), ('wonder', 333), ('paragraph', 333), ('analyses', 332), ('responded', 332), ('elsewhere', 332), ('remote', 332), ('fuer', 332), ('broadband', 332), ('subscribe', 331), ('views', 331), ('christian', 330), ('stories', 330), ('exceed', 330), ('sp', 330), ('maintain', 329), ('arrive', 328), ('kong', 328), ('regional', 327), ('returned', 327), ('dvd', 327), ('httpxentcommailmanlistinfofork', 327), ('broad', 327), ('australian', 327), ('neither', 326), ('loans', 326), ('obtained', 326), ('binding', 326), ('java', 326), ('sitara', 325), ('morgan', 325), ('np', 325), ('mw', 325), ('officials', 324), ('typological', 324), ('describe', 324), ('americans', 324), ('named', 324), ('leaving', 324), ('award', 324), ('display', 323), ('somewhat', 323), ('knows', 323), ('href', 323), ('reconstruction', 323), ('bibliography', 323), ('nouns', 323), ('attending', 322), ('lawrence', 322), ('fit', 322), ('las', 322), ('raised', 322), ('ship', 321), ('americas', 321), ('daniel', 321), ('paso', 321), ('built', 321), ('oral', 321), ('agents', 321), ('confirmation', 321), ('sections', 321), ('bid', 321), ('banking', 320), ('inherent', 320), ('inquiries', 320), ('overall', 320), ('meant', 320), ('lucky', 319), ('procedure', 319), ('var', 318), ('door', 318), ('reduce', 318), ('produced', 318), ('revenues', 317), ('pictures', 317), ('transportation', 317), ('walk', 317), ('savings', 317), ('trial', 317), ('beach', 317), ('formats', 317), ('output', 317), ('md', 317), ('identification', 317), ('hence', 316), ('judge', 316), ('kinds', 316), ('values', 316), ('junk', 316), ('tone', 316), ('enterprise', 316), ('device', 315), ('allen', 315), ('improvement', 315), ('thu', 315), ('mailed', 315), ('structural', 315), ('woman', 315), ('noted', 314), ('adam', 314), ('constraint', 314), ('consumer', 313), ('integrated', 313), ('looked', 313), ('minimalist', 313), ('depending', 313), ('florida', 313), ('expert', 313), ('impossible', 312), ('port', 312), ('increasing', 312), ('covers', 312), ('tilburg', 312), ('directions', 312), ('symbol', 312), ('temporal', 312), ('numerous', 311), ('magazine', 311), ('promote', 311), ('river', 311), ('acceptable', 311), ('bus', 311), ('chain', 311), ('width', 311), ('sheffield', 311), ('accuracy', 310), ('continues', 310), ('closely', 309), ('discovery', 309), ('employment', 309), ('santa', 309), ('assuming', 309), ('putting', 309), ('fundamental', 309), ('drugs', 308), ('resulting', 308), ('contrast', 308), ('hands', 308), ('mi', 308), ('station', 308), ('audience', 308), ('expects', 307), ('avenue', 307), ('leads', 307), ('experimental', 307), ('island', 307), ('perfectly', 307), ('awarded', 306), ('recommend', 306), ('ce', 306), ('block', 306), ('congratulations', 305), ('crenshaw', 305), ('educational', 305), ('gift', 305), ('figures', 305), ('recipient', 305), ('pop', 305), ('reality', 305), ('carefully', 305), ('portfolio', 304), ('julie', 304), ('marking', 304), ('trouble', 304), ('exact', 304), ('contribution', 304), ('razorusers', 304), ('prosodic', 304), ('son', 303), ('forever', 303), ('contribute', 303), ('union', 303), ('indo', 303), ('origin', 302), ('releases', 302), ('turned', 302), ('intend', 302), ('overt', 302), ('button', 301), ('kept', 301), ('wa', 301), ('con', 301), ('enclosed', 301), ('minority', 301), ('forget', 300), ('false', 300), ('enrononline', 300), ('broker', 300), ('paste', 300), ('universitaet', 300), ('definitely', 300), ('indicating', 299), ('edward', 299), ('train', 299), ('derived', 299), ('lectures', 299), ('offshore', 299), ('sequence', 299), ('presence', 298), ('reliable', 298), ('desire', 298), ('httpwwwnewsisfreecomclick', 298), ('zero', 298), ('lets', 298), ('computron', 298), ('stinson', 298), ('txt', 297), ('responsibility', 297), ('scholars', 297), ('despite', 297), ('division', 297), ('complexity', 297), ('gr', 297), ('linguistique', 297), ('mine', 296), ('tired', 296), ('eye', 296), ('vision', 296), ('moody', 296), ('offices', 295), ('unable', 295), ('fuel', 295), ('islands', 295), ('tokyo', 295), ('ipa', 295), ('entirely', 294), ('locate', 294), ('authority', 294), ('replies', 294), ('characters', 294), ('pragmatic', 294), ('secretariat', 293), ('instruction', 293), ('reflect', 293), ('organizer', 293), ('elizabeth', 293), ('arizona', 293), ('ann', 293), ('tree', 293), ('preferably', 292), ('compared', 292), ('player', 292), ('helpful', 292), ('nominal', 292), ('grand', 292), ('sat', 292), ('interdisciplinary', 292), ('helped', 291), ('essential', 291), ('involving', 291), ('touch', 291), ('modeling', 291), ('institut', 291), ('switzerland', 291), ('failure', 290), ('missing', 290), ('checked', 290), ('christopher', 290), ('correctly', 290), ('ground', 290), ('heavy', 290), ('heart', 290), ('challenge', 290), ('minimal', 290), ('communicate', 290), ('career', 289), ('died', 289), ('obligation', 289), ('arts', 289), ('mother', 289), ('dell', 289), ('expression', 289), ('rs', 289), ('entry', 288), ('ongoing', 288), ('luck', 288), ('cornell', 288), ('forth', 288), ('automated', 288), ('pl', 288), ('par', 288), ('plural', 288), ('reviewing', 288), ('filed', 287), ('miller', 287), ('si', 287), ('priority', 287), ('simon', 287), ('eol', 287), ('regard', 286), ('commodity', 286), ('keeping', 286), ('verify', 286), ('nom', 286), ('trip', 286), ('consist', 286), ('barcelona', 286), ('larry', 286), ('optimality', 286), ('continuing', 286), ('carry', 285), ('runs', 285), ('logo', 285), ('belgium', 285), ('legitimate', 285), ('ave', 285), ('jeffrey', 285), ('voip', 285), ('llc', 284), ('portion', 284), ('apple', 284), ('devoted', 284), ('britain', 284), ('expensive', 284), ('estate', 284), ('virginia', 284), ('holding', 283), ('republic', 283), ('dealing', 283), ('capabilities', 282), ('basque', 282), ('lenders', 282), ('printed', 282), ('organisers', 282), ('usual', 282), ('intonation', 282), ('sports', 282), ('desktop', 282), ('assessment', 282), ('direction', 281), ('determined', 281), ('johnson', 281), ('recommended', 281), ('connections', 281), ('excess', 281), ('coverage', 281), ('grade', 281), ('diversity', 281), ('scientists', 281), ('land', 280), ('manufacturing', 280), ('institution', 280), ('eg', 280), ('purchased', 280), ('submitting', 280), ('spot', 280), ('ratings', 280), ('lives', 280), ('proof', 280), ('combination', 280), ('contemporary', 280), ('food', 279), ('chairs', 279), ('generated', 279), ('reserve', 279), ('tag', 279), ('playing', 279), ('spamassassin', 279), ('innovative', 279), ('xml', 279), ('oz', 279), ('consonant', 279), ('twenty', 278), ('notified', 278), ('rise', 278), ('discovered', 278), ('equal', 278), ('supported', 278), ('russia', 278), ('component', 278), ('dc', 278), ('bond', 278), ('objectives', 277), ('queries', 277), ('leiden', 277), ('folder', 277), ('decisions', 277), ('essex', 277), ('upenn', 277), ('matthias', 277), ('shareholder', 276), ('wind', 276), ('literary', 276), ('warning', 276), ('obvious', 276), ('metaphor', 276), ('totally', 276), ('normally', 275), ('coordination', 275), ('anticipated', 275), ('ebay', 275), ('fairly', 275), ('custom', 275), ('reduplication', 275), ('earth', 275), ('debate', 275), ('maintenance', 275), ('devices', 274), ('hill', 274), ('wi', 274), ('israel', 274), ('sheets', 274), ('setup', 274), ('conversational', 274), ('informed', 273), ('murphy', 273), ('laura', 273), ('introduce', 273), ('modelling', 273), ('sociolinguistic', 273), ('tour', 273), ('everybody', 273), ('columbia', 273), ('learned', 272), ('phase', 272), ('urgent', 272), ('branch', 272), ('sponsor', 272), ('contacts', 272), ('walter', 272), ('tr', 272), ('professionals', 271), ('policies', 271), ('modal', 271), ('aep', 271), ('toll', 271), ('supposed', 271), ('chat', 271), ('youve', 271), ('treatment', 271), ('classroom', 271), ('losses', 271), ('chapters', 271), ('prepare', 270), ('delay', 270), ('kin', 270), ('guest', 270), ('advised', 270), ('statistics', 270), ('jack', 270), ('matters', 269), ('envelope', 269), ('holiday', 269), ('prompt', 269), ('hesitate', 269), ('saving', 269), ('statistical', 269), ('meds', 269), ('engine', 269), ('optional', 269), ('folks', 268), ('jennifer', 268), ('happens', 268), ('coordinator', 268), ('narrative', 268), ('presently', 267), ('contributors', 267), ('amounts', 267), ('approx', 267), ('hawaii', 267), ('seemed', 267), ('spending', 267), ('vi', 267), ('skilling', 267), ('airport', 266), ('commerce', 266), ('explore', 266), ('defined', 266), ('basically', 266), ('fl', 266), ('broadcast', 266), ('dale', 266), ('introduced', 265), ('promotions', 265), ('michigan', 265), ('equivalent', 265), ('cera', 265), ('split', 265), ('embedded', 265), ('anderson', 265), ('classification', 265), ('wysak', 265), ('element', 264), ('apologize', 264), ('undergraduate', 264), ('dead', 264), ('personally', 264), ('pg', 264), ('exercise', 264), ('fontfamily', 264), ('upgrade', 264), ('relating', 264), ('miles', 263), ('consideration', 263), ('shopping', 263), ('reduction', 263), ('prospects', 263), ('traffic', 263), ('applicants', 262), ('edge', 262), ('anthropology', 262), ('hotels', 262), ('infrastructure', 262), ('stealth', 261), ('alert', 261), ('taylor', 261), ('methodology', 261), ('expense', 261), ('smaller', 261), ('isp', 261), ('roger', 261), ('television', 261), ('latter', 260), ('websites', 260), ('grow', 260), ('holland', 260), ('emerging', 260), ('drawn', 260), ('nations', 260), ('practices', 259), ('roman', 259), ('competitive', 259), ('qualified', 259), ('widely', 259), ('fontsize', 259), ('emailing', 258), ('moore', 258), ('families', 258), ('meanings', 258), ('favorite', 257), ('season', 257), ('pressure', 257), ('classical', 257), ('thoughts', 257), ('extend', 257), ('onto', 257), ('temple', 257), ('korea', 257), ('joined', 256), ('claimed', 256), ('mining', 256), ('movies', 256), ('strictly', 256), ('anna', 256), ('den', 256), ('batch', 256), ('acts', 256), ('para', 256), ('kenneth', 256), ('proto', 256), ('transport', 255), ('prevent', 255), ('descriptive', 255), ('remarks', 255), ('salary', 255), ('qualify', 255), ('conjunction', 255), ('existence', 255), ('demo', 255), ('cogs', 255), ('intercultural', 255), ('whats', 254), ('publish', 254), ('girls', 254), ('acquired', 254), ('invitation', 254), ('convenience', 254), ('razoruserslistssourceforgenet', 254), ('httpslistssourceforgenetlistslistinforazorusers', 254), ('criteria', 254), ('cds', 254), ('whereas', 253), ('organisation', 253), ('girl', 253), ('husband', 253), ('marc', 253), ('signal', 253), ('mode', 252), ('merchant', 252), ('francisco', 252), ('textdecoration', 252), ('brain', 252), ('bilingualism', 252), ('winter', 252), ('star', 251), ('timing', 251), ('reasonable', 251), ('specialist', 251), ('spread', 251), ('duke', 251), ('wealth', 251), ('waste', 251), ('quantitative', 251), ('promotional', 251), ('plants', 251), ('routledge', 251), ('conclusion', 251), ('usb', 251), ('mlm', 251), ('henry', 251), ('fair', 250), ('predictions', 250), ('libraries', 250), ('tasks', 250), ('sterling', 250), ('truth', 250), ('ice', 250), ('definition', 250), ('caused', 250), ('ohio', 250), ('posters', 250), ('neural', 250), ('dream', 249), ('managed', 249), ('greatly', 249), ('promise', 249), ('ld', 249), ('bug', 249), ('song', 249), ('owned', 248), ('affiliate', 248), ('owners', 248), ('providers', 248), ('subscribed', 248), ('attorney', 248), ('mandarin', 248), ('parameters', 248), ('laboratory', 248), ('vocabulary', 248), ('shell', 248), ('bell', 248), ('httpradioweblogscom', 248), ('detected', 247), ('executives', 247), ('ab', 247), ('directed', 247), ('ancient', 247), ('extension', 247), ('procedures', 246), ('smart', 246), ('filled', 246), ('helping', 246), ('rob', 246), ('universit', 246), ('entries', 246), ('operate', 246), ('macromedia', 246), ('dreams', 246), ('tok', 246), ('square', 245), ('diachronic', 245), ('communities', 245), ('earning', 245), ('telling', 245), ('trades', 245), ('enenkio', 245), ('regardless', 244), ('advisor', 244), ('sector', 244), ('represented', 244), ('becoming', 244), ('flash', 244), ('fastest', 244), ('min', 244), ('realize', 244), ('glad', 244), ('becomes', 244), ('facilitate', 243), ('deep', 243), ('completion', 243), ('apart', 243), ('considering', 243), ('measure', 243), ('editorial', 243), ('presenting', 243), ('su', 243), ('sufficient', 243), ('nj', 243), ('encoding', 243), ('collaboration', 243), ('surely', 242), ('wishes', 242), ('processed', 242), ('taxes', 242), ('alex', 242), ('pierre', 242), ('studio', 242), ('varieties', 242), ('establish', 241), ('drug', 241), ('pat', 241), ('facility', 241), ('pointed', 241), ('anthony', 241), ('recommendation', 241), ('jose', 241), ('specify', 241), ('winners', 241), ('assumed', 241), ('taiwan', 241), ('marshall', 241), ('finnish', 241), ('fat', 241), ('noticed', 241), ('ip', 241), ('inference', 241), ('boy', 240), ('everyday', 240), ('universities', 240), ('assumption', 240), ('lecturer', 240), ('border', 240), ('respondents', 240), ('nlg', 240), ('penis', 239), ('hair', 239), ('mostly', 239), ('ooking', 239), ('movie', 239), ('prc', 239), ('mathematical', 239), ('compounds', 239), ('proprietary', 238), ('versus', 238), ('blank', 238), ('interfaces', 238), ('smtp', 238), ('seventh', 238), ('label', 238), ('enquiries', 238), ('diverse', 238), ('prove', 238), ('doctor', 237), ('hotmail', 237), ('covered', 237), ('contacted', 237), ('harvard', 237), ('dropped', 237), ('ene', 237), ('markers', 237), ('cf', 237), ('tested', 236), ('compatible', 236), ('metals', 236), ('pr', 236), ('nobody', 236), ('mailer', 236), ('highest', 236), ('ran', 236), ('brings', 236), ('mime', 236), ('furthermore', 236), ('unpublished', 236), ('permission', 235), ('involves', 235), ('royal', 235), ('greatest', 235), ('traded', 235), ('intel', 235), ('film', 235), ('taught', 235), ('dial', 235), ('align', 235), ('operational', 234), ('helps', 234), ('firms', 234), ('accent', 234), ('fire', 234), ('cogsci', 234), ('merely', 234), ('consonants', 234), ('linguistica', 234), ('ecai', 234), ('consistent', 233), ('scale', 233), ('otc', 233), ('attempts', 233), ('ted', 233), ('tongue', 233), ('institutional', 233), ('mo', 233), ('revision', 233), ('attacks', 233), ('focused', 233), ('domestic', 233), ('breaks', 233), ('monitor', 233), ('gov', 233), ('humans', 232), ('supplies', 232), ('header', 232), ('spatial', 232), ('fonts', 232), ('mp', 232), ('michelle', 232), ('referred', 232), ('increasingly', 231), ('informal', 231), ('maryland', 231), ('roles', 231), ('msn', 231), ('outlook', 231), ('contrastive', 231), ('returns', 231), ('spoke', 231), ('driven', 231), ('quotes', 231), ('cameraready', 231), ('ends', 230), ('factor', 230), ('female', 230), ('bed', 230), ('cultures', 230), ('blue', 230), ('licensing', 230), ('att', 230), ('afford', 230), ('jane', 230), ('eyes', 230), ('unsolicited', 230), ('helvetica', 230), ('losing', 230), ('replace', 230), ('argues', 230), ('herein', 229), ('mathematics', 229), ('suitable', 229), ('premium', 229), ('players', 229), ('russell', 229), ('senate', 229), ('launch', 229), ('curve', 229), ('norton', 229), ('zone', 229), ('beth', 229), ('architecture', 229), ('eventually', 228), ('attack', 228), ('succeed', 228), ('covering', 228), ('sweden', 228), ('supports', 227), ('fix', 227), ('massive', 227), ('hr', 227), ('toronto', 227), ('cat', 227), ('safety', 227), ('wondering', 227), ('brighton', 227), ('photoshop', 227), ('stem', 227), ('treat', 227), ('recruiting', 227), ('consult', 227), ('grammaticalization', 227), ('solicitation', 226), ('cutting', 226), ('styles', 226), ('directors', 226), ('ff', 226), ('usc', 226), ('videos', 226), ('strategic', 226), ('experienced', 226), ('trends', 226), ('academy', 226), ('implemented', 226), ('cv', 226), ('derivatives', 225), ('signs', 225), ('agenda', 225), ('arnold', 225), ('components', 225), ('remaining', 225), ('regulatory', 225), ('shipped', 225), ('bringing', 225), ('blog', 225), ('homepage', 225), ('marie', 225), ('deleted', 225), ('synthesis', 225), ('homes', 224), ('expansion', 224), ('accurate', 224), ('adds', 224), ('purchasing', 224), ('mar', 224), ('beck', 223), ('crisis', 223), ('collect', 223), ('printing', 223), ('null', 223), ('theyre', 223), ('consulting', 223), ('organised', 223), ('strength', 223), ('pack', 223), ('mailbox', 223), ('originally', 223), ('das', 223), ('pb', 223), ('acquiring', 223), ('leader', 223), ('thematic', 223), ('connected', 223), ('emphasis', 223), ('filings', 222), ('necessarily', 222), ('affect', 222), ('county', 222), ('tape', 222), ('slow', 222), ('script', 222), ('ignore', 222), ('shape', 222), ('circular', 222), ('eight', 222), ('ireland', 222), ('trans', 222), ('string', 222), ('spokesman', 222), ('lang', 221), ('cap', 221), ('visiting', 221), ('distribute', 221), ('diego', 221), ('hrs', 221), ('linked', 221), ('overnight', 221), ('findings', 221), ('watson', 221), ('pronoun', 221), ('treated', 220), ('compensation', 220), ('convention', 220), ('howard', 220), ('stream', 220), ('endangered', 220), ('surprised', 220), ('naturally', 220), ('cl', 220), ('creole', 220), ('nijmegen', 219), ('jr', 219), ('hey', 219), ('algorithms', 219), ('searching', 219), ('heads', 219), ('sg', 219), ('favor', 219), ('oi', 219), ('susx', 219), ('greece', 219), ('effectively', 218), ('agreements', 218), ('victoria', 218), ('tests', 218), ('binary', 218), ('forces', 218), ('cm', 218), ('fellow', 218), ('typical', 218), ('catch', 218), ('collected', 218), ('universitat', 218), ('grateful', 218), ('entity', 217), ('propose', 217), ('definite', 217), ('xxx', 217), ('older', 217), ('cited', 217), ('shareholders', 217), ('emailed', 217), ('leeds', 217), ('netscape', 217), ('connect', 217), ('symbols', 217), ('czech', 217), ('edison', 217), ('wales', 217), ('weblog', 217), ('alter', 216), ('coast', 216), ('commitment', 216), ('interactions', 216), ('printer', 216), ('appreciated', 216), ('ec', 216), ('straight', 216), ('developers', 216), ('pending', 216), ('distinct', 216), ('representing', 216), ('deborah', 216), ('iowa', 216), ('random', 216), ('bernard', 216), ('bitnet', 216), ('dfl', 216), ('whorf', 216), ('havent', 215), ('jun', 215), ('rutgers', 215), ('rank', 215), ('faith', 215), ('wiil', 215), ('carolina', 215), ('helsinki', 215), ('wilson', 215), ('manuscripts', 215), ('suspect', 214), ('westdesk', 214), ('pocket', 214), ('rom', 214), ('groningen', 214), ('cool', 214), ('medium', 214), ('motivation', 214), ('advances', 214), ('negotiations', 214), ('vote', 214), ('consumers', 213), ('slightly', 213), ('environments', 213), ('rm', 213), ('interviews', 213), ('reviewer', 213), ('dictionaries', 213), ('tabs', 213), ('corel', 213), ('represents', 213), ('announces', 212), ('respective', 212), ('wh', 212), ('classified', 212), ('tablets', 212), ('restricted', 212), ('defense', 212), ('tei', 212), ('overseas', 211), ('variances', 211), ('judgments', 211), ('bridge', 211), ('entities', 211), ('boost', 211), ('recorded', 211), ('venue', 211), ('medications', 211), ('adults', 211), ('enterprises', 211), ('participant', 211), ('hb', 211), ('ancillary', 210), ('machines', 210), ('opinions', 210), ('qualifications', 210), ('crucial', 210), ('pleasure', 210), ('hp', 210), ('affairs', 210), ('disclosure', 210), ('ignored', 210), ('martinez', 210), ('casino', 210), ('watching', 210), ('pec', 210), ('compuserve', 210), ('qui', 210), ('multimodal', 210), ('opposite', 209), ('intent', 209), ('replacement', 209), ('switch', 209), ('weak', 209), ('advise', 209), ('representatives', 209), ('nigeria', 209), ('limits', 209), ('moves', 209), ('peoples', 209), ('tells', 209), ('forced', 209), ('canon', 209), ('expand', 209), ('church', 209), ('mix', 209), ('coupon', 209), ('increases', 209), ('aa', 209), ('cent', 209), ('int', 209), ('degrees', 208), ('ft', 208), ('industries', 208), ('initially', 208), ('em', 208), ('mainly', 208), ('greenberg', 208), ('explained', 208), ('blackwell', 208), ('alberta', 208), ('efficient', 207), ('honest', 207), ('unlike', 207), ('mutual', 207), ('dublin', 207), ('characteristics', 207), ('manner', 207), ('mails', 207), ('lrec', 207), ('spelling', 207), ('situations', 207), ('entitled', 207), ('modem', 207), ('pgp', 207), ('um', 207), ('famous', 206), ('eb', 206), ('particles', 206), ('backup', 206), ('mellon', 206), ('hits', 206), ('race', 206), ('dedicated', 206), ('generating', 206), ('evaluating', 206), ('finland', 206), ('sydney', 206), ('reservations', 206), ('dos', 206), ('sie', 206), ('supporting', 205), ('administrative', 205), ('decline', 205), ('exmh', 205), ('virtually', 205), ('universals', 205), ('estimated', 205), ('curriculum', 205), ('relief', 205), ('estimate', 205), ('hans', 205), ('donna', 204), ('empty', 204), ('transcription', 204), ('feminine', 204), ('auto', 204), ('judgment', 204), ('shortly', 204), ('premiere', 204), ('define', 204), ('typically', 204), ('politics', 204), ('langues', 204), ('personnel', 203), ('significantly', 203), ('donald', 203), ('reminder', 203), ('headers', 203), ('essentially', 203), ('gains', 203), ('origins', 203), ('juan', 203), ('ref', 203), ('focusing', 202), ('lifetime', 202), ('sweet', 202), ('nomination', 202), ('carnegie', 202), ('aggressive', 202), ('hidden', 202), ('drew', 202), ('linda', 202), ('seriously', 202), ('evolutionary', 202), ('filter', 202), ('cheque', 202), ('deaf', 202), ('discounts', 202), ('philip', 202), ('dpc', 202), ('stuttgart', 202), ('macintosh', 202), ('turns', 201), ('objective', 201), ('extreme', 201), ('dm', 201), ('worry', 201), ('tend', 201), ('sole', 201), ('map', 201), ('networking', 201), ('breaking', 201), ('underlying', 201), ('incredible', 201), ('singular', 201), ('georgia', 201), ('newspaper', 201), ('describing', 200), ('expertise', 200), ('hosted', 200), ('edit', 200), ('ram', 200), ('successfully', 200), ('winner', 200), ('hottest', 200), ('keywords', 200), ('lst', 200), ('competence', 200), ('sake', 200), ('literacy', 200), ('vii', 200), ('happening', 199), ('giant', 199), ('appointment', 199), ('aux', 199), ('animals', 199), ('electronically', 199), ('examine', 199), ('placing', 199), ('handbook', 199), ('felt', 199), ('signing', 199), ('attract', 199), ('licensed', 199), ('archive', 199), ('gregory', 199), ('ots', 199), ('conclusions', 199), ('ga', 199), ('panels', 199), ('boss', 198), ('finite', 198), ('knowing', 198), ('reservation', 198), ('universe', 198), ('spontaneous', 198), ('textual', 198), ('ultimate', 197), ('corresponding', 197), ('experiences', 197), ('accurately', 197), ('bigger', 197), ('committed', 197), ('kindly', 197), ('codes', 197), ('mechanisms', 197), ('apologies', 197), ('universidad', 197), ('lloyd', 196), ('deciding', 196), ('rock', 196), ('crash', 196), ('chosen', 196), ('sir', 196), ('preparation', 196), ('satisfied', 196), ('allowing', 196), ('seeks', 196), ('softwares', 196), ('fiction', 196), ('abuse', 196), ('driver', 196), ('competitors', 196), ('realtime', 196), ('serial', 196), ('variable', 196), ('physics', 196), ('identifying', 196), ('consists', 196), ('gotten', 196), ('improved', 196), ('moreover', 196), ('polish', 196), ('sue', 195), ('postage', 195), ('nights', 195), ('speculative', 195), ('nine', 195), ('wishing', 195), ('roll', 195), ('satisfaction', 195), ('directories', 195), ('conservative', 195), ('sensitive', 195), ('carol', 195), ('controlled', 195), ('lancaster', 195), ('jussieu', 195), ('ide', 194), ('pittsburgh', 194), ('bound', 194), ('correction', 194), ('frequency', 194), ('showed', 194), ('ge', 194), ('restrictions', 193), ('tremendous', 193), ('marks', 193), ('initiative', 193), ('stable', 193), ('spec', 193), ('finished', 193), ('cheng', 193), ('belief', 193), ('absence', 193), ('yale', 193), ('diligence', 192), ('teams', 192), ('arrival', 192), ('dealer', 192), ('tuebingen', 192), ('adjectives', 192), ('wouldnt', 192), ('lexicons', 192), ('affordable', 192), ('parents', 192), ('invites', 192), ('labs', 192), ('outline', 192), ('unison', 192), ('creation', 191), ('talked', 191), ('permanent', 191), ('managers', 191), ('served', 191), ('possibilities', 191), ('karl', 191), ('compaq', 191), ('grenoble', 191), ('contributed', 191), ('owns', 191), ('refund', 191), ('margaret', 191), ('lake', 190), ('presenters', 190), ('listen', 190), ('tip', 190), ('formula', 190), ('eat', 190), ('valuation', 190), ('missed', 190), ('wire', 190), ('broken', 190), ('replaced', 190), ('affiliated', 190), ('gap', 190), ('oriented', 190), ('financially', 190), ('ian', 190), ('inch', 189), ('controls', 189), ('principal', 189), ('construed', 189), ('ownership', 189), ('tu', 189), ('confident', 189), ('environmental', 189), ('cold', 189), ('holds', 189), ('hfl', 189), ('ex', 189), ('teresa', 189), ('modified', 189), ('ee', 189), ('pie', 189), ('suggests', 189), ('figured', 189), ('pesetas', 189), ('properly', 188), ('challenges', 188), ('deliveries', 188), ('partial', 188), ('thompson', 188), ('sequences', 188), ('discussing', 188), ('heres', 188), ('sit', 188), ('satellite', 188), ('wonderful', 188), ('specified', 188), ('dabhol', 188), ('describes', 188), ('bear', 187), ('exists', 187), ('confidentiality', 187), ('instructed', 187), ('pull', 187), ('prosody', 187), ('robust', 187), ('creditors', 187), ('bonuses', 187), ('cis', 187), ('relatives', 186), ('consequences', 186), ('geneva', 186), ('spreadsheet', 186), ('amy', 186), ('experiments', 186), ('penny', 186), ('declined', 186), ('marker', 186), ('busy', 186), ('antonio', 186), ('leuven', 186), ('disc', 185), ('stores', 185), ('ren', 185), ('dependencies', 185), ('appeared', 185), ('boundaries', 185), ('jay', 185), ('bits', 185), ('princeton', 185), ('symbolic', 185), ('argue', 185), ('understands', 184), ('buyer', 184), ('te', 184), ('photos', 184), ('smoking', 184), ('lu', 184), ('mrs', 184), ('aside', 184), ('tradition', 184), ('sony', 184), ('configuration', 184), ('council', 184), ('responsibilities', 183), ('beliefs', 183), ('pertaining', 183), ('gathering', 183), ('deserve', 183), ('complement', 183), ('brent', 183), ('google', 183), ('craig', 183), ('pursue', 183), ('investigate', 183), ('buyers', 183), ('anytime', 183), ('reform', 183), ('nicholas', 183), ('bn', 183), ('sea', 183), ('aid', 183), ('suppose', 183), ('fi', 183), ('foundations', 183), ('honor', 183), ('laboratories', 183), ('eu', 183), ('anita', 182), ('constitutes', 182), ('origination', 182), ('notify', 182), ('litigation', 182), ('parent', 182), ('downloads', 182), ('melissa', 182), ('samples', 182), ('wil', 182), ('louis', 182), ('madrid', 182), ('comprehension', 182), ('anti', 182), ('compiled', 182), ('bold', 182), ('frequently', 182), ('indigenous', 182), ('developer', 182), ('ea', 182), ('gbp', 182), ('producing', 181), ('sees', 181), ('till', 181), ('scotland', 181), ('largely', 181), ('ruth', 181), ('unusual', 181), ('proceed', 181), ('oregon', 181), ('birmingham', 181), ('demonstrated', 181), ('ray', 181), ('je', 181), ('announcements', 180), ('predicates', 180), ('intention', 180), ('roberts', 180), ('somebody', 180), ('paypal', 180), ('seminars', 180), ('informatik', 180), ('lunches', 180), ('wharton', 180), ('neil', 180), ('degruyter', 180), ('innovation', 180), ('apt', 180), ('explicit', 180), ('dfki', 180), ('intellectual', 179), ('corporations', 179), ('paradigm', 179), ('wayne', 179), ('janet', 179), ('newsletters', 179), ('semitic', 179), ('solve', 179), ('requesting', 179), ('palmer', 179), ('threat', 179), ('kit', 179), ('gibner', 179), ('bulletin', 179), ('dick', 178), ('termination', 178), ('discipline', 178), ('civil', 178), ('opt', 178), ('somewhere', 178), ('fred', 178), ('fail', 178), ('citizens', 178), ('thesis', 178), ('ending', 178), ('telecommunications', 178), ('practically', 178), ('appeal', 178), ('occurs', 178), ('rolex', 178), ('gnome', 178), ('norway', 178), ('eskimo', 178), ('referenced', 177), ('twice', 177), ('euro', 177), ('played', 177), ('assembly', 177), ('rug', 177), ('hybrid', 177), ('keeps', 177), ('roma', 177), ('comfortable', 177), ('settlement', 176), ('rival', 176), ('carlos', 176), ('transferred', 176), ('thirty', 176), ('species', 176), ('arrange', 176), ('explanations', 176), ('sf', 176), ('trees', 176), ('utexas', 176), ('productive', 176), ('gestures', 176), ('installation', 175), ('cmu', 175), ('starts', 175), ('supplied', 175), ('worst', 175), ('besides', 175), ('rare', 175), ('police', 175), ('rh', 175), ('discusses', 175), ('realistic', 175), ('oem', 175), ('contrary', 175), ('portugal', 175), ('leadership', 174), ('assurance', 174), ('debts', 174), ('headed', 174), ('economics', 174), ('identical', 174), ('logos', 174), ('spamassassintalk', 174), ('officers', 174), ('circumstances', 174), ('comparisons', 174), ('optin', 174), ('granada', 174), ('governor', 174), ('wolfgang', 174), ('volatility', 174), ('salford', 174), ('enhance', 173), ('audit', 173), ('potentially', 173), ('blood', 173), ('barry', 173), ('faq', 173), ('soas', 173), ('shut', 173), ('inexpensive', 173), ('timely', 173), ('fork', 173), ('exploration', 173), ('phil', 173), ('medicine', 173), ('locations', 173), ('margin', 173), ('novel', 173), ('wasnt', 173), ('carried', 173), ('boot', 173), ('ultimately', 173), ('recognized', 173), ('suggestion', 173), ('icelandic', 173), ('allocation', 172), ('decades', 172), ('porn', 172), ('verification', 172), ('arranged', 172), ('tagging', 172), ('advisory', 172), ('lavorato', 172), ('harry', 172), ('reserves', 172), ('separately', 172), ('promised', 172), ('column', 172), ('useless', 172), ('subsequent', 172), ('cycle', 172), ('lab', 172), ('homeland', 172), ('sociology', 172), ('commentary', 172), ('epmi', 172), ('premier', 172), ('pdf', 172), ('recall', 172), ('maker', 172), ('expanding', 171), ('northwest', 171), ('addressing', 171), ('seconds', 171), ('derivation', 171), ('accompanied', 171), ('asap', 171), ('ut', 171), ('bet', 171), ('democratic', 171), ('merge', 171), ('careful', 171), ('doris', 171), ('insert', 171), ('colingacl', 171), ('communicative', 171), ('humor', 171), ('lockergnome', 171), ('tai', 171), ('paperback', 171), ('eacl', 171), ('materially', 170), ('chase', 170), ('presumably', 170), ('kelly', 170), ('residents', 170), ('connecticut', 170), ('corner', 170), ('somehow', 170), ('conduct', 170), ('begins', 170), ('mission', 170), ('insights', 170), ('holdings', 170), ('departments', 170), ('bandwidth', 170), ('sh', 170), ('catalogue', 170), ('medication', 170), ('beta', 170), ('duty', 170), ('fontweight', 170), ('strange', 170), ('legislation', 169), ('expiration', 169), ('ball', 169), ('andy', 169), ('beat', 169), ('flexible', 169), ('subscriptions', 169), ('instantly', 169), ('sean', 169), ('counter', 169), ('tracking', 169), ('progressive', 169), ('plays', 168), ('jackie', 168), ('yield', 168), ('settings', 168), ('socal', 168), ('instances', 168), ('negotiating', 168), ('psychological', 168), ('protocol', 168), ('mixed', 168), ('scheme', 168), ('parameter', 168), ('wake', 168), ('employer', 168), ('clicking', 168), ('cp', 168), ('stake', 168), ('conf', 168), ('roughly', 168), ('ethnic', 168), ('coling', 168), ('mitkov', 168), ('auction', 168), ('alexis', 167), ('driving', 167), ('illegal', 167), ('palm', 167), ('participating', 167), ('attractive', 167), ('spamassassintalklistssourceforgenet', 167), ('liquidity', 167), ('fear', 167), ('arise', 167), ('writer', 167), ('secondary', 167), ('convenient', 167), ('southwest', 167), ('filtering', 167), ('namely', 167), ('ag', 167), ('matthew', 167), ('er', 167), ('assignment', 167), ('brazil', 167), ('channels', 167), ('sussex', 167), ('vienna', 167), ('album', 167), ('incl', 167), ('kate', 166), ('transition', 166), ('executed', 166), ('seattle', 166), ('refinance', 166), ('deposited', 166), ('ls', 166), ('profiled', 166), ('difficulty', 166), ('minor', 166), ('mistake', 166), ('ist', 166), ('journals', 166), ('philosophical', 166), ('tied', 166), ('nat', 166), ('drives', 165), ('enclose', 165), ('specials', 165), ('affected', 165), ('httpslistssourceforgenetlistslistinfospamassassintalk', 165), ('clitics', 165), ('amherst', 165), ('reflects', 165), ('widespread', 165), ('ail', 165), ('hardcopy', 165), ('pipe', 165), ('saou', 165), ('ali', 165), ('referring', 165), ('pig', 165), ('attachment', 165), ('sheila', 165), ('mcgill', 165), ('bryan', 164), ('recognize', 164), ('eff', 164), ('consultation', 164), ('cnrs', 164), ('dramatically', 164), ('muscle', 164), ('module', 164), ('repair', 164), ('demonstrate', 164), ('sides', 164), ('avec', 164), ('mental', 164), ('considerations', 164), ('counting', 164), ('measures', 164), ('zur', 164), ('saarbruecken', 164), ('examines', 164), ('vary', 164), ('predicate', 164), ('matches', 163), ('obligations', 163), ('falling', 163), ('invested', 163), ('bp', 163), ('warranty', 163), ('believed', 163), ('swedish', 163), ('jacques', 163), ('religious', 163), ('allocated', 163), ('cruise', 163), ('leaves', 163), ('ubs', 163), ('keith', 163), ('menu', 162), ('priced', 162), ('holidays', 162), ('quit', 162), ('quarterly', 162), ('clark', 162), ('powers', 162), ('analogy', 162), ('raymond', 162), ('lo', 162), ('determining', 162), ('fifth', 162), ('hosting', 162), ('vo', 162), ('toner', 162), ('turkish', 162), ('gls', 162), ('counterparty', 161), ('adequate', 161), ('studied', 161), ('motivated', 161), ('ar', 161), ('phones', 161), ('evaluate', 161), ('legally', 161), ('aging', 161), ('channel', 161), ('nels', 161), ('charset', 161), ('capable', 161), ('demonstrations', 161), ('ellen', 161), ('entering', 160), ('ended', 160), ('engineer', 160), ('subsidiary', 160), ('golden', 160), ('applies', 160), ('ews', 160), ('hate', 160), ('ur', 160), ('assigned', 160), ('comp', 160), ('ha', 160), ('fallen', 160), ('studying', 160), ('valley', 160), ('attachments', 160), ('rapid', 160), ('adaptive', 160), ('afraid', 160), ('acoustic', 160), ('technique', 160), ('keyboard', 160), ('unmarked', 160), ('inventory', 160), ('editing', 160), ('upcoming', 159), ('affixes', 159), ('ba', 159), ('cal', 159), ('reviewers', 159), ('additionally', 159), ('focuses', 159), ('resell', 159), ('postfach', 159), ('rated', 159), ('absolute', 159), ('indicates', 159), ('elra', 159), ('prospective', 159), ('ministry', 159), ('mapping', 159), ('sleep', 159), ('slip', 159), ('considerable', 159), ('friendly', 159), ('interpreting', 159), ('animal', 159), ('methodological', 159), ('stlg', 159), ('ordinary', 158), ('circle', 158), ('patch', 158), ('opposed', 158), ('photo', 158), ('forthcoming', 158), ('charged', 158), ('tables', 158), ('foot', 158), ('pure', 158), ('gordon', 158), ('paliourg', 158), ('zimin', 158), ('basin', 158), ('margins', 158), ('anniversary', 158), ('handled', 158), ('translations', 158), ('arent', 158), ('christmas', 158), ('surprise', 158), ('ease', 158), ('matching', 158), ('depends', 158), ('exit', 158), ('csli', 158), ('granted', 157), ('vast', 157), ('philippe', 157), ('explicitly', 157), ('materia', 157), ('percentage', 157), ('pcs', 157), ('ebs', 157), ('asl', 157), ('stopped', 157), ('sans', 157), ('argued', 157), ('informative', 157), ('downgrade', 157), ('readings', 157), ('osdn', 156), ('jump', 156), ('accusative', 156), ('arm', 156), ('introducing', 156), ('hopefully', 156), ('depth', 156), ('manufacturer', 156), ('literally', 156), ('bottle', 156), ('export', 156), ('inn', 156), ('faces', 156), ('decade', 156), ('corpusbased', 156), ('catherine', 156), ('icslp', 156), ('bergamo', 156), ('factual', 155), ('sub', 155), ('stars', 155), ('carl', 155), ('peace', 155), ('gained', 155), ('pool', 155), ('opened', 155), ('leaders', 155), ('preparing', 155), ('noon', 155), ('duration', 155), ('lewis', 155), ('sometime', 155), ('blocks', 155), ('controversial', 155), ('urbana', 155), ('op', 154), ('unlikely', 154), ('prime', 154), ('dragon', 154), ('score', 154), ('mood', 154), ('youd', 154), ('sorts', 154), ('cup', 154), ('fight', 154), ('vehicle', 154), ('quebec', 154), ('andersen', 154), ('learners', 154), ('socalled', 154), ('catalan', 154), ('anticipates', 153), ('cities', 153), ('plc', 153), ('commonly', 153), ('ooo', 153), ('planck', 153), ('petroleum', 153), ('sprachwissenschaft', 153), ('collins', 153), ('counterparties', 153), ('shot', 153), ('nilotic', 153), ('thai', 153), ('coreference', 153), ('assumes', 153), ('attitudes', 153), ('vincent', 152), ('puts', 152), ('patent', 152), ('flight', 152), ('visitors', 152), ('operator', 152), ('matrix', 152), ('actively', 152), ('causes', 152), ('worse', 152), ('governments', 152), ('equally', 152), ('diagrams', 152), ('pharmacy', 152), ('complicated', 152), ('suit', 152), ('hypertext', 152), ('syllables', 152), ('producer', 151), ('exploring', 151), ('retirement', 151), ('formed', 151), ('stronger', 151), ('tap', 151), ('historically', 151), ('stored', 151), ('continental', 151), ('garland', 151), ('conversations', 151), ('publicity', 151), ('falls', 151), ('desirable', 151), ('telecom', 151), ('exhibition', 151), ('cfo', 151), ('patricia', 151), ('ana', 151), ('demos', 151), ('tags', 151), ('brother', 150), ('impression', 150), ('revealed', 150), ('behaviour', 150), ('ra', 150), ('ellipsis', 150), ('jackson', 150), ('requirement', 150), ('forwarding', 150), ('claiming', 150), ('kluwer', 150), ('boxes', 150), ('rapidly', 150), ('weve', 150), ('enhanced', 150), ('eliminate', 150), ('ragga', 150), ('dagga', 150), ('intro', 150), ('spammers', 150), ('mseb', 150), ('platforms', 150), ('dean', 150), ('rto', 150), ('twente', 150), ('relax', 150), ('bolzano', 150), ('inches', 149), ('lf', 149), ('apr', 149), ('uc', 149), ('pill', 149), ('companys', 149), ('notions', 149), ('minister', 149), ('observed', 149), ('sc', 149), ('dose', 149), ('por', 149), ('quoted', 149), ('vasant', 149), ('algorithm', 149), ('baby', 149), ('arthur', 149), ('guinea', 149), ('sont', 149), ('thorough', 148), ('owe', 148), ('victor', 148), ('segment', 148), ('explains', 148), ('calendar', 148), ('sitting', 148), ('jonathan', 148), ('founded', 148), ('planet', 148), ('ia', 148), ('netco', 148), ('redhat', 148), ('secured', 148), ('inclusion', 148), ('preceding', 148), ('iris', 148), ('workers', 148), ('purely', 148), ('sil', 148), ('gathered', 147), ('recommendations', 147), ('mhz', 147), ('creoles', 147), ('dissertations', 147), ('psycholinguistic', 147), ('hamburg', 147), ('conducted', 147), ('todays', 147), ('zealand', 147), ('simultaneously', 147), ('hpsg', 147), ('cartridge', 147), ('booking', 147), ('anthropological', 147), ('algonquian', 147), ('pisin', 147), ('rac', 146), ('arrangement', 146), ('expanded', 146), ('criminal', 146), ('lawyers', 146), ('parser', 146), ('consultant', 146), ('trace', 146), ('structured', 146), ('synchronic', 146), ('demonstration', 146), ('paradigms', 146), ('doctors', 146), ('cfp', 146), ('dependency', 146), ('feeling', 146), ('departure', 146), ('ron', 146), ('jordan', 146), ('uci', 146), ('langue', 146), ('listserv', 146), ('comme', 146), ('invoice', 145), ('dvds', 145), ('valued', 145), ('ratio', 145), ('contacting', 145), ('km', 145), ('prohibited', 145), ('wisconsin', 145), ('anymore', 145), ('curves', 145), ('hypotheses', 145), ('laptop', 145), ('stuart', 145), ('roberto', 145), ('bare', 145), ('nevertheless', 145), ('segments', 145), ('frequent', 145), ('invoked', 145), ('relate', 145), ('morris', 145), ('depend', 144), ('joining', 144), ('omit', 144), ('standing', 144), ('nick', 144), ('crosslinguistic', 144), ('colloquial', 144), ('accompanying', 144), ('proved', 144), ('fashion', 144), ('abroad', 144), ('bb', 144), ('curious', 144), ('marketplace', 144), ('dozen', 144), ('recruit', 144), ('gnu', 144), ('fantastic', 144), ('atoll', 144), ('goldrush', 144), ('wild', 143), ('designated', 143), ('vulnerability', 143), ('capture', 143), ('disclaimer', 143), ('dependent', 143), ('rely', 143), ('wells', 143), ('logics', 143), ('exception', 143), ('thinks', 143), ('sap', 143), ('stops', 143), ('clearance', 143), ('cuny', 143), ('girlfriend', 143), ('lawsuits', 142), ('genuine', 142), ('deadlines', 142), ('memo', 142), ('establishing', 142), ('blvd', 142), ('eligible', 142), ('httpswwwinphoniccomrasprsourceforgerefcodevs', 142), ('logistics', 142), ('calger', 142), ('refers', 142), ('couid', 142), ('aviv', 142), ('dark', 142), ('comparing', 142), ('tex', 142), ('plenty', 142), ('specification', 142), ('cindy', 142), ('applying', 142), ('eur', 142), ('configure', 142), ('regularly', 142), ('sophisticated', 142), ('sponsors', 142), ('ear', 141), ('categorial', 141), ('polarity', 141), ('processor', 141), ('xanax', 141), ('hardly', 141), ('wine', 141), ('subscriber', 141), ('born', 141), ('alice', 141), ('nelson', 141), ('matt', 141), ('assured', 141), ('limitations', 141), ('respectively', 141), ('zu', 141), ('pas', 141), ('ronald', 141), ('ems', 141), ('clitic', 141), ('sells', 141), ('dallas', 141), ('scrambling', 141), ('colorado', 141), ('billing', 140), ('dog', 140), ('composition', 140), ('temporary', 140), ('robin', 140), ('bucks', 140), ('genre', 140), ('divided', 140), ('bonn', 140), ('ideal', 140), ('classic', 140), ('manfred', 140), ('summit', 140), ('ion', 140), ('span', 140), ('vance', 139), ('lawyer', 139), ('attendance', 139), ('edwards', 139), ('hopes', 139), ('mouse', 139), ('sr', 139), ('dennis', 139), ('colleague', 139), ('cancer', 139), ('kimberly', 139), ('tenaska', 139), ('compile', 139), ('resort', 139), ('amid', 139), ('paradise', 139), ('boyfriend', 139), ('esl', 139), ('httpwwwtheregistercoukcontenthtml', 139), ('exhibit', 139), ('bird', 138), ('collapse', 138), ('efficiency', 138), ('takeover', 138), ('ontario', 138), ('ross', 138), ('justin', 138), ('fox', 138), ('possession', 138), ('roots', 138), ('comfort', 138), ('preregistration', 138), ('minnesota', 138), ('bulgaria', 138), ('constitute', 138), ('blind', 138), ('peak', 138), ('amta', 138), ('indication', 138), ('accomodation', 138), ('joan', 138), ('disclosed', 138), ('periods', 138), ('lies', 138), ('bc', 138), ('dj', 138), ('translator', 138), ('advises', 137), ('tanya', 137), ('summaries', 137), ('rita', 137), ('thru', 137), ('ss', 137), ('postings', 137), ('floppy', 137), ('partially', 137), ('drivers', 137), ('viruses', 137), ('treasury', 137), ('affiliates', 137), ('vendors', 137), ('boundary', 137), ('pair', 137), ('stupid', 137), ('drawing', 137), ('significance', 137), ('geoffrey', 137), ('terry', 137), ('graphs', 137), ('lsa', 137), ('sarah', 137), ('lingua', 137), ('httpdocsyahoocominfoterms', 136), ('piease', 136), ('viii', 136), ('incorporated', 136), ('indonesia', 136), ('mill', 136), ('chances', 136), ('picks', 136), ('lexicography', 136), ('ae', 136), ('linear', 136), ('austria', 136), ('ilan', 136), ('mcmahon', 136), ('empire', 135), ('millennium', 135), ('apparent', 135), ('forteanaunsubscribeegroupscom', 135), ('viewed', 135), ('writers', 135), ('highlights', 135), ('push', 135), ('recovery', 135), ('superior', 135), ('poland', 135), ('aimee', 135), ('cvs', 135), ('orthography', 135), ('repeat', 135), ('musical', 135), ('botanical', 135), ('andrea', 135), ('carnie', 135), ('achieved', 135), ('briefly', 135), ('clock', 135), ('zdnet', 135), ('negotiation', 135), ('thesaurus', 135), ('consortium', 135), ('taln', 135), ('tvsr', 135), ('utterances', 134), ('indicative', 134), ('cook', 134), ('jason', 134), ('rogers', 134), ('michel', 134), ('laser', 134), ('intervention', 134), ('accessing', 134), ('ottawa', 134), ('organising', 134), ('bloomington', 134), ('luis', 134), ('stick', 134), ('translated', 134), ('tapes', 134), ('helen', 134), ('kayne', 134), ('sam', 134), ('gray', 134), ('aus', 134), ('closer', 134), ('mq', 134), ('hindi', 134), ('bay', 134), ('malay', 134), ('methodologies', 134), ('qu', 134), ('excluding', 133), ('va', 133), ('fwd', 133), ('meyer', 133), ('sixth', 133), ('construct', 133), ('solely', 133), ('spirit', 133), ('labelled', 133), ('deduction', 133), ('sri', 133), ('flat', 133), ('sought', 133), ('wood', 133), ('shore', 133), ('cars', 133), ('moneymaking', 133), ('resolve', 133), ('futures', 133), ('lng', 133), ('congo', 133), ('experiment', 133), ('articulatory', 133), ('auxiliary', 133), ('birth', 133), ('intensive', 133), ('labels', 133), ('pidgin', 133), ('induction', 133), ('exercises', 132), ('asp', 132), ('hire', 132), ('hoping', 132), ('resuits', 132), ('bugs', 132), ('walking', 132), ('alternatively', 132), ('gateway', 132), ('trend', 132), ('administrator', 132), ('delaware', 132), ('complaints', 132), ('interpreted', 132), ('goods', 132), ('alternate', 132), ('independence', 132), ('glasgow', 132), ('perceived', 132), ('manuscript', 132), ('lagb', 132), ('gopher', 132), ('confused', 132), ('lauraan', 132), ('fcc', 132), ('ippe', 132), ('hettinga', 131), ('array', 131), ('recipients', 131), ('irvine', 131), ('damage', 131), ('negotiated', 131), ('extraordinary', 131), ('freiburg', 131), ('resolved', 131), ('wilks', 131), ('finish', 131), ('christine', 131), ('funny', 131), ('desired', 131), ('malaysia', 131), ('implement', 131), ('recording', 131), ('lit', 131), ('easiest', 131), ('forest', 131), ('clusters', 131), ('newswires', 131), ('flexibility', 131), ('simulation', 131), ('ta', 131), ('nicolas', 131), ('sameday', 131), ('ldc', 131), ('urge', 130), ('causing', 130), ('battle', 130), ('employed', 130), ('rss', 130), ('insider', 130), ('facing', 130), ('cruz', 130), ('structuring', 130), ('targets', 130), ('signals', 130), ('comic', 130), ('template', 130), ('coding', 130), ('extending', 130), ('unify', 130), ('fails', 130), ('burn', 130), ('typing', 130), ('alternatives', 130), ('silver', 130), ('stone', 130), ('timetable', 130), ('acrobat', 130), ('ot', 130), ('startup', 130), ('gent', 130), ('awesome', 130), ('ljm', 130), ('province', 130), ('odd', 129), ('calpine', 129), ('camp', 129), ('specialists', 129), ('tracks', 129), ('yo', 129), ('fuzzy', 129), ('involvement', 129), ('suzanne', 129), ('baylor', 129), ('authorized', 129), ('hes', 129), ('proud', 129), ('throw', 129), ('integrate', 129), ('rocket', 129), ('unseen', 129), ('vietnamese', 129), ('outlined', 129), ('prizes', 129), ('catalog', 129), ('uncertainty', 129), ('euros', 129), ('markedness', 129), ('aspectual', 129), ('trento', 129), ('automation', 129), ('favourite', 129), ('searches', 129), ('staggering', 129), ('gesture', 129), ('ces', 129), ('src', 129), ('bergen', 129), ('foresee', 128), ('vendor', 128), ('manufacturers', 128), ('listening', 128), ('functionality', 128), ('textbook', 128), ('capability', 128), ('residence', 128), ('luton', 128), ('diana', 128), ('stationery', 128), ('youth', 128), ('killed', 128), ('daughter', 128), ('synthetic', 128), ('protected', 128), ('formatting', 128), ('competing', 128), ('begun', 128), ('nous', 128), ('yiddish', 128), ('citation', 128), ('ix', 128), ('centers', 128), ('dialog', 128), ('essays', 128), ('arlington', 128), ('echo', 128), ('earned', 128), ('palo', 128), ('umass', 128), ('alliance', 128), ('xx', 128), ('uva', 128), ('provisional', 128), ('buffalo', 128), ('amendment', 127), ('rx', 127), ('modality', 127), ('stephanie', 127), ('cuts', 127), ('dangerous', 127), ('fulltime', 127), ('insight', 127), ('symposia', 127), ('applicable', 127), ('eva', 127), ('residential', 127), ('surrounding', 127), ('lease', 127), ('terrorism', 127), ('lance', 127), ('cum', 127), ('ein', 127), ('una', 127), ('extract', 127), ('francais', 127), ('sky', 127), ('bag', 127), ('admit', 127), ('motion', 127), ('purchases', 127), ('moscow', 127), ('improving', 127), ('hague', 127), ('stanley', 127), ('incredibly', 126), ('mirror', 126), ('specially', 126), ('brenda', 126), ('wellhead', 126), ('conflicts', 126), ('compound', 126), ('trademarks', 126), ('brad', 126), ('ranging', 126), ('announcing', 126), ('spamassassinsightings', 126), ('nc', 126), ('maintained', 126), ('transwestern', 126), ('douglas', 126), ('saved', 126), ('exclusively', 126), ('silence', 126), ('technological', 126), ('boys', 126), ('rush', 126), ('reverse', 126), ('potsdam', 126), ('publicly', 126), ('meals', 126), ('webmaster', 126), ('kent', 126), ('cedex', 126), ('cuba', 126), ('regulations', 125), ('mountain', 125), ('responding', 125), ('answered', 125), ('noms', 125), ('mason', 125), ('raises', 125), ('accommodations', 125), ('ami', 125), ('christie', 125), ('pieces', 125), ('spamassassinsightingslistssourceforgenet', 125), ('httpslistssourceforgenetlistslistinfospamassassinsightings', 125), ('bu', 125), ('couldnt', 125), ('wondered', 125), ('conversion', 125), ('classifieds', 125), ('lincoln', 125), ('apes', 125), ('utterance', 124), ('noting', 124), ('optimal', 124), ('foreigner', 124), ('privileged', 124), ('projection', 124), ('beneficiary', 124), ('oxley', 124), ('epson', 124), ('verdana', 124), ('mechanism', 124), ('commodities', 124), ('assisted', 124), ('newest', 124), ('graham', 124), ('borrowing', 124), ('pitch', 124), ('grid', 124), ('francis', 124), ('mc', 124), ('rejected', 124), ('collective', 124), ('bible', 124), ('mmcf', 124), ('gu', 124), ('fraser', 124), ('alb', 124), ('molly', 124), ('xii', 124), ('teen', 123), ('dental', 123), ('freely', 123), ('lan', 123), ('compete', 123), ('hell', 123), ('swap', 123), ('cancel', 123), ('greetings', 123), ('specialized', 123), ('eh', 123), ('combine', 123), ('scenario', 123), ('demands', 123), ('collecting', 123), ('onepage', 123), ('exhibits', 123), ('approached', 123), ('proposes', 123), ('packard', 123), ('alabama', 123), ('societies', 123), ('vous', 123), ('annually', 123), ('eine', 123), ('poised', 123), ('awareness', 123), ('horse', 123), ('chart', 123), ('argentina', 123), ('promoting', 123), ('morpheme', 123), ('kub', 123), ('umontreal', 123), ('unified', 123), ('bases', 123), ('umist', 123), ('organize', 123), ('nominals', 123), ('iia', 123), ('guvax', 123), ('gross', 122), ('raw', 122), ('apache', 122), ('electronics', 122), ('cameras', 122), ('redmond', 122), ('teco', 122), ('jon', 122), ('liability', 122), ('ets', 122), ('survive', 122), ('gambling', 122), ('inconvenience', 122), ('ranking', 122), ('village', 122), ('accountant', 122), ('crystal', 122), ('correspondences', 122), ('static', 122), ('cheaper', 122), ('geoff', 122), ('todd', 122), ('collateral', 122), ('feed', 122), ('ap', 122), ('hub', 122), ('downtown', 122), ('chuck', 122), ('technoiogy', 122), ('lynn', 122), ('kay', 122), ('vocal', 122), ('masculine', 122), ('envelopes', 122), ('brazilian', 122), ('gay', 121), ('pays', 121), ('accordance', 121), ('picked', 121), ('ez', 121), ('integrating', 121), ('chen', 121), ('stands', 121), ('hospital', 121), ('wyoming', 121), ('dpr', 121), ('incorporate', 121), ('rolling', 121), ('aimed', 121), ('enables', 121), ('robotics', 121), ('ilug', 121), ('engage', 121), ('explorer', 121), ('banquet', 121), ('calculate', 121), ('cyber', 121), ('wang', 121), ('nps', 121), ('toulouse', 121), ('frames', 121), ('crete', 121), ('extensions', 120), ('prepositions', 120), ('consequently', 120), ('comrie', 120), ('newsietter', 120), ('parking', 120), ('suny', 120), ('finds', 120), ('toshiba', 120), ('yorick', 120), ('vegas', 120), ('advertisements', 120), ('julia', 120), ('anjam', 120), ('ffffff', 120), ('alexander', 120), ('chip', 120), ('citations', 120), ('circulars', 120), ('quantification', 120), ('attitude', 120), ('probability', 120), ('banner', 120), ('jody', 120), ('deixis', 120), ('receives', 119), ('coordinate', 119), ('distinctive', 119), ('micro', 119), ('unsecured', 119), ('choices', 119), ('settlements', 119), ('portable', 119), ('dating', 119), ('continuous', 119), ('broader', 119), ('meaningful', 119), ('harder', 119), ('skeptical', 119), ('hewlett', 119), ('disclose', 119), ('proxy', 119), ('achievements', 119), ('revolution', 119), ('fifteen', 119), ('housing', 119), ('iit', 119), ('crazy', 119), ('marketers', 119), ('restaurant', 119), ('vassar', 119), ('jersey', 119), ('occurring', 119), ('cantonese', 119), ('yap', 119), ('misleading', 118), ('launched', 118), ('indefinite', 118), ('hardcore', 118), ('stefan', 118), ('guarantees', 118), ('caught', 118), ('foster', 118), ('monitoring', 118), ('lock', 118), ('tor', 118), ('keys', 118), ('suggesting', 118), ('awards', 118), ('klaus', 118), ('ebook', 118), ('virus', 118), ('featuring', 118), ('mitchell', 118), ('mba', 118), ('serving', 118), ('plug', 118), ('math', 118), ('tonight', 118), ('lowlands', 118), ('gm', 118), ('baker', 118), ('traditions', 118), ('refreshments', 118), ('ov', 118), ('regions', 117), ('bias', 117), ('generators', 117), ('coal', 117), ('rebecca', 117), ('quantifiers', 117), ('inflection', 117), ('gulf', 117), ('jointly', 117), ('orlando', 117), ('plane', 117), ('valium', 117), ('feels', 117), ('prague', 117), ('realized', 117), ('austronesian', 117), ('packaging', 117), ('oupusa', 117), ('discreet', 117), ('differently', 117), ('martha', 117), ('thread', 117), ('citing', 117), ('adams', 117), ('laugh', 117), ('drops', 117), ('aids', 117), ('retain', 117), ('longman', 117), ('implicit', 117), ('frame', 117), ('billions', 117), ('chose', 117), ('rio', 117), ('elena', 117), ('producers', 116), ('attempting', 116), ('execution', 116), ('improvements', 116), ('advantages', 116), ('emai', 116), ('religion', 116), ('jabber', 116), ('constant', 116), ('restore', 116), ('borrow', 116), ('excel', 116), ('utf', 116), ('brandeis', 116), ('whatsoever', 116), ('wing', 116), ('mai', 116), ('judith', 116), ('fraction', 116), ('duties', 116), ('airlines', 116), ('dealings', 116), ('southeast', 116), ('encyclopedia', 116), ('archives', 116), ('attested', 116), ('alpha', 116), ('architectures', 116), ('cheques', 116), ('particle', 115), ('upto', 115), ('bunch', 115), ('formerly', 115), ('nichols', 115), ('passive', 115), ('emergency', 115), ('acquisitions', 115), ('analyze', 115), ('explaining', 115), ('paola', 115), ('hang', 115), ('consequence', 115), ('convince', 115), ('innate', 115), ('intends', 115), ('harold', 115), ('auf', 115), ('pronounced', 115), ('guidance', 115), ('wel', 115), ('ruu', 115), ('nominations', 115), ('thailand', 115), ('dominant', 114), ('import', 114), ('investigating', 114), ('cynthia', 114), ('ucl', 114), ('patented', 114), ('ing', 114), ('yeah', 114), ('flows', 114), ('linking', 114), ('eugene', 114), ('copying', 114), ('predication', 114), ('basili', 114), ('forecast', 114), ('rain', 114), ('discounted', 114), ('crude', 114), ('celtic', 114), ('accents', 114), ('wright', 114), ('lfg', 114), ('mentions', 114), ('nyse', 114), ('clarify', 114), ('accepting', 114), ('ingush', 114), ('melbourne', 114), ('newly', 114), ('inversion', 114), ('constituent', 114), ('nostratic', 114), ('morphemes', 114), ('bozen', 114), ('laryngeal', 114), ('assure', 113), ('otcbb', 113), ('fx', 113), ('exmhusers', 113), ('vitae', 113), ('dynamics', 113), ('jerusalem', 113), ('terminal', 113), ('assess', 113), ('oniy', 113), ('gcc', 113), ('appendix', 113), ('hawthorne', 113), ('convergence', 113), ('married', 113), ('translating', 113), ('convert', 113), ('philology', 113), ('drink', 113), ('dispute', 113), ('samuel', 113), ('andreas', 113), ('politically', 113), ('twelve', 113), ('fn', 113), ('maps', 113), ('wp', 113), ('evil', 112), ('reliance', 112), ('therein', 112), ('confusion', 112), ('stages', 112), ('hil', 112), ('exmhusersredhatcom', 112), ('httpslistmanredhatcommailmanlistinfoexmhusers', 112), ('edt', 112), ('sick', 112), ('ham', 112), ('lodging', 112), ('whenever', 112), ('commands', 112), ('sfs', 112), ('finger', 112), ('switching', 112), ('dramatic', 112), ('rpms', 112), ('ng', 112), ('isi', 112), ('mistakes', 112), ('ho', 112), ('meg', 112), ('violation', 112), ('klein', 112), ('analyse', 112), ('electrical', 112), ('shi', 112), ('adresse', 112), ('innovations', 112), ('eogi', 112), ('execute', 112), ('films', 112), ('summarize', 112), ('defend', 112), ('downline', 112), ('nasdaq', 112), ('reflexive', 112), ('hydro', 112), ('fontsizept', 112), ('hedge', 111), ('neal', 111), ('walker', 111), ('lorraine', 111), ('acknowledged', 111), ('huang', 111), ('oniine', 111), ('downloaded', 111), ('reliant', 111), ('incurred', 111), ('tab', 111), ('swing', 111), ('belong', 111), ('projected', 111), ('opposition', 111), ('cite', 111), ('whalley', 111), ('reaction', 111), ('healthy', 111), ('megan', 111), ('welsh', 111), ('obtaining', 111), ('interact', 111), ('possess', 111), ('franklin', 111), ('asks', 111), ('suppliers', 111), ('owed', 111), ('ob', 111), ('kristin', 111), ('murray', 111), ('powell', 111), ('pronominal', 111), ('beer', 111), ('repeated', 111), ('gemination', 111), ('consisting', 111), ('meanwhile', 110), ('salt', 110), ('adopted', 110), ('lawsuit', 110), ('httpboingboingnet', 110), ('skin', 110), ('district', 110), ('graphical', 110), ('hamilton', 110), ('enormous', 110), ('strike', 110), ('procmail', 110), ('browse', 110), ('norwegian', 110), ('conclude', 110), ('loading', 110), ('occurred', 110), ('modalities', 110), ('faced', 110), ('atlanta', 110), ('suse', 110), ('xi', 110), ('app', 110), ('indexing', 110), ('stability', 110), ('acm', 110), ('node', 110), ('perez', 110), ('hermios', 110), ('installing', 109), ('oriental', 109), ('doctoral', 109), ('cheers', 109), ('txu', 109), ('profiles', 109), ('permit', 109), ('wave', 109), ('resulted', 109), ('quoting', 109), ('lokay', 109), ('systematic', 109), ('earliest', 109), ('alaska', 109), ('explode', 109), ('ci', 109), ('ford', 109), ('reg', 109), ('listings', 109), ('burning', 109), ('citigroup', 109), ('mount', 109), ('definitions', 109), ('stewart', 109), ('ward', 109), ('influences', 109), ('ses', 109), ('implies', 109), ('criticism', 109), ('route', 109), ('trebuchet', 109), ('maintaining', 109), ('bulgarian', 109), ('seller', 108), ('ir', 108), ('exceptions', 108), ('modals', 108), ('grew', 108), ('subsequently', 108), ('band', 108), ('faxed', 108), ('rental', 108), ('positioned', 108), ('morphosyntactic', 108), ('dimensions', 108), ('serves', 108), ('ua', 108), ('bright', 108), ('dated', 108), ('thereby', 108), ('justice', 108), ('concrete', 108), ('strings', 108), ('excited', 108), ('durham', 108), ('territory', 108), ('mccarthy', 108), ('arbitrary', 108), ('reflected', 108), ('pudge', 108), ('longterm', 108), ('glow', 108), ('realization', 108), ('hovy', 108), ('wisdom', 108), ('springer', 108), ('accordingly', 108), ('genie', 108), ('systemic', 108), ('console', 108), ('literatures', 108), ('summarization', 108), ('bok', 108), ('indefinites', 108), ('soco', 108), ('moncton', 108), ('lezae', 108), ('artists', 107), ('stations', 107), ('belden', 107), ('torrego', 107), ('nationwide', 107), ('certificate', 107), ('eliminated', 107), ('battery', 107), ('internationa', 107), ('draws', 107), ('lynch', 107), ('cz', 107), ('turning', 107), ('songs', 107), ('coherent', 107), ('engaged', 107), ('harmony', 107), ('lie', 107), ('arms', 107), ('mumbai', 107), ('implementing', 107), ('researcher', 107), ('quantity', 107), ('doubts', 107), ('hudson', 106), ('fantasy', 106), ('enhancement', 106), ('sharp', 106), ('distant', 106), ('generator', 106), ('hunter', 106), ('preposition', 106), ('interpretations', 106), ('heavily', 106), ('enjoyed', 106), ('fits', 106), ('fraud', 106), ('unclaimed', 106), ('informational', 106), ('counts', 106), ('upper', 106), ('delays', 106), ('expires', 106), ('partly', 106), ('academia', 106), ('happiness', 106), ('swiss', 106), ('ryan', 106), ('constantly', 106), ('certified', 106), ('proceeds', 106), ('gesellschaft', 106), ('situated', 106), ('descrambler', 106), ('declared', 106), ('organizational', 106), ('specialization', 106), ('dialectology', 106), ('expletive', 106), ('mri', 106), ('macquarie', 106), ('warm', 105), ('verge', 105), ('schemes', 105), ('attendees', 105), ('newscom', 105), ('ages', 105), ('kill', 105), ('disambiguation', 105), ('gonzalez', 105), ('similarly', 105), ('shouid', 105), ('temperature', 105), ('charlotte', 105), ('strip', 105), ('campbell', 105), ('cgi', 105), ('derivational', 105), ('dealt', 105), ('watches', 105), ('beberg', 105), ('sapir', 105), ('precisely', 105), ('hurt', 105), ('als', 105), ('caroline', 105), ('funded', 105), ('shippers', 105), ('distinguish', 105), ('meters', 105), ('concordia', 105), ('pencil', 105), ('paulo', 105), ('diane', 105), ('metaphors', 105), ('collaborative', 105), ('segmental', 105), ('scholarly', 105), ('crl', 105), ('anu', 105), ('innateness', 105), ('pidgins', 105), ('albert', 104), ('problematic', 104), ('rejection', 104), ('pipelines', 104), ('referential', 104), ('wes', 104), ('newman', 104), ('alain', 104), ('underline', 104), ('spaces', 104), ('approve', 104), ('duplicate', 104), ('delta', 104), ('terrorists', 104), ('ambiguity', 104), ('explores', 104), ('bristol', 104), ('incremental', 104), ('translate', 104), ('nz', 104), ('scandinavian', 104), ('gif', 104), ('shocked', 104), ('makers', 104), ('compressed', 104), ('christina', 104), ('sofia', 104), ('ruslan', 104), ('grasshopper', 104), ('hungarian', 104), ('instructor', 104), ('recordings', 104), ('airmail', 104), ('croft', 104), ('stamped', 103), ('appearance', 103), ('visible', 103), ('distinctions', 103), ('skip', 103), ('meyers', 103), ('trained', 103), ('patient', 103), ('marco', 103), ('impressive', 103), ('historic', 103), ('cache', 103), ('johanna', 103), ('heather', 103), ('sister', 103), ('rarely', 103), ('disease', 103), ('instruments', 103), ('bull', 103), ('poverty', 103), ('likewise', 103), ('poetry', 103), ('capillaris', 103), ('liquid', 103), ('demokritos', 103), ('imc', 103), ('madam', 103), ('obligatory', 103), ('powershot', 103), ('northwestern', 103), ('alignment', 103), ('uiuc', 103), ('ti', 103), ('chechen', 103), ('violations', 103), ('dns', 103), ('msgs', 103), ('hsc', 103), ('scam', 103), ('investigated', 103), ('frameworks', 103), ('inserted', 103), ('gpl', 103), ('deletion', 103), ('denmark', 103), ('consolidation', 102), ('utah', 102), ('affirmative', 102), ('outcome', 102), ('notices', 102), ('allan', 102), ('consistently', 102), ('soma', 102), ('predict', 102), ('settle', 102), ('bernie', 102), ('extracted', 102), ('solving', 102), ('verlag', 102), ('randy', 102), ('attach', 102), ('sellers', 102), ('claudia', 102), ('dordrecht', 102), ('biological', 102), ('weapons', 102), ('danger', 102), ('colin', 102), ('highway', 102), ('slang', 102), ('vietnam', 102), ('nmsu', 102), ('benjamin', 102), ('distributing', 102), ('articulation', 102), ('lin', 102), ('poser', 102), ('percentages', 102), ('auditorium', 102), ('linguistlist', 102), ('eurodl', 102), ('observations', 101), ('wider', 101), ('globe', 101), ('ring', 101), ('regulation', 101), ('nuclear', 101), ('louisiana', 101), ('amateur', 101), ('promising', 101), ('convinced', 101), ('maya', 101), ('drinks', 101), ('queen', 101), ('younger', 101), ('steel', 101), ('meets', 101), ('grounds', 101), ('titled', 101), ('thereof', 101), ('adjective', 101), ('commit', 101), ('flag', 101), ('ventures', 101), ('corrected', 101), ('observation', 101), ('entrepreneurs', 101), ('marriage', 101), ('lowered', 101), ('retire', 101), ('santiago', 101), ('modify', 101), ('tough', 101), ('ivan', 101), ('dupont', 101), ('cohen', 101), ('clues', 101), ('courts', 101), ('cho', 101), ('universita', 101), ('egm', 101), ('bgcolor', 101), ('passage', 101), ('leslie', 100), ('gifts', 100), ('insertion', 100), ('semantically', 100), ('measurement', 100), ('prominent', 100), ('packet', 100), ('reasonably', 100), ('performing', 100), ('actuals', 100), ('invisible', 100), ('pep', 100), ('remarkable', 100), ('grown', 100), ('unsubscribed', 100), ('expecting', 100), ('modules', 100), ('doorstep', 100), ('influenced', 100), ('pics', 100), ('caps', 100), ('pentium', 100), ('replicas', 100), ('relay', 100), ('combining', 100), ('tammie', 100), ('derive', 100), ('consent', 100), ('difficulties', 100), ('refunds', 100), ('provisions', 100), ('delphi', 100), ('projecthoneypot', 100), ('atlantic', 100), ('bradford', 100), ('enforcement', 100), ('snail', 100), ('alsa', 100), ('liberal', 100), ('wysk', 100), ('applicant', 99), ('expressing', 99), ('accomplish', 99), ('labor', 99), ('worried', 99), ('cats', 99), ('variables', 99), ('pace', 99), ('specifications', 99), ('annotated', 99), ('alt', 99), ('revolutionary', 99), ('velardi', 99), ('characteristic', 99), ('mall', 99), ('necessity', 99), ('rural', 99), ('wealthy', 99), ('centuries', 99), ('sends', 99), ('dialup', 99), ('backed', 99), ('movements', 99), ('phillip', 99), ('downloading', 99), ('bra', 99), ('unitn', 99), ('referees', 99), ('hurry', 98), ('pharmaceutical', 98), ('substantially', 98), ('operators', 98), ('scripts', 98), ('abilities', 98), ('solicit', 98), ('correlation', 98), ('kathy', 98), ('permanently', 98), ('optical', 98), ('bbb', 98), ('combinations', 98), ('reward', 98), ('db', 98), ('dry', 98), ('az', 98), ('aptget', 98), ('supervisor', 98), ('charts', 98), ('initiatives', 98), ('mouth', 98), ('replied', 98), ('nowadays', 98), ('artist', 98), ('hiring', 98), ('newsgroups', 98), ('spokeswoman', 98), ('fort', 98), ('transitive', 98), ('tang', 98), ('autonomous', 98), ('entre', 98), ('ata', 98), ('vital', 98), ('hale', 98), ('cette', 98), ('hu', 98), ('learner', 98), ('fontfont', 98), ('ics', 98), ('tina', 97), ('circulation', 97), ('usefulness', 97), ('clynes', 97), ('andrews', 97), ('attributed', 97), ('underground', 97), ('picking', 97), ('lived', 97), ('counsel', 97), ('viewing', 97), ('accommodate', 97), ('concluded', 97), ('colloquia', 97), ('weird', 97), ('posts', 97), ('nsf', 97), ('repository', 97), ('rep', 97), ('memorial', 97), ('metrics', 97), ('graphic', 97), ('variations', 97), ('farmers', 97), ('mnei', 97), ('remained', 97), ('mailman', 97), ('filters', 97), ('floating', 97), ('prince', 97), ('theoretic', 97), ('elementary', 97), ('loose', 97), ('hotlist', 97), ('potentia', 97), ('ought', 97), ('carolyn', 97), ('mile', 97), ('bang', 97), ('irs', 97), ('dialogues', 97), ('andre', 96), ('trusted', 96), ('exclude', 96), ('dat', 96), ('strict', 96), ('intuitions', 96), ('laid', 96), ('bearing', 96), ('uu', 96), ('rr', 96), ('pairs', 96), ('complimentary', 96), ('radar', 96), ('tower', 96), ('calgary', 96), ('xiv', 96), ('challenging', 96), ('wanting', 96), ('vergata', 96), ('sansserif', 96), ('conventions', 96), ('scholarship', 96), ('messaging', 96), ('exceptional', 96), ('sensitivity', 96), ('conventional', 96), ('grab', 96), ('shifts', 96), ('imperative', 96), ('sql', 96), ('fed', 96), ('citibank', 96), ('extracting', 96), ('mega', 96), ('wor', 96), ('celebrity', 96), ('dieting', 96), ('screens', 96), ('quantifier', 96), ('garcia', 96), ('bpa', 96), ('shankman', 96), ('reveal', 96), ('chemical', 96), ('sanskrit', 96), ('segmentation', 96), ('wordnet', 96), ('piper', 96), ('annotation', 96), ('adverbs', 96), ('indonesian', 96), ('satiation', 96), ('discrete', 95), ('removing', 95), ('individually', 95), ('optimization', 95), ('grace', 95), ('ride', 95), ('climate', 95), ('constructed', 95), ('login', 95), ('junior', 95), ('vl', 95), ('loads', 95), ('occasionally', 95), ('fieldwork', 95), ('adverb', 95), ('biology', 95), ('farm', 95), ('displays', 95), ('operates', 95), ('img', 95), ('placement', 95), ('downgraded', 95), ('maintains', 95), ('deutsche', 95), ('wit', 95), ('squirrelmail', 95), ('tracy', 95), ('engineers', 95), ('wan', 95), ('bcf', 95), ('brec', 95), ('mediated', 95), ('nodes', 95), ('zimbabwe', 95), ('occasion', 94), ('fifty', 94), ('presenter', 94), ('assign', 94), ('stems', 94), ('speeds', 94), ('finances', 94), ('sharon', 94), ('banned', 94), ('bs', 94), ('rhetoric', 94), ('passing', 94), ('ug', 94), ('quotation', 94), ('bernadette', 94), ('bel', 94), ('arrived', 94), ('ballot', 94), ('ah', 94), ('facultad', 94), ('traduccion', 94), ('ocean', 94), ('contextual', 94), ('urban', 94), ('anticipate', 94), ('duncan', 94), ('supplement', 94), ('exotic', 94), ('httpuseperlorgarticleplsid', 94), ('mere', 94), ('nec', 94), ('integrity', 94), ('borrowed', 94), ('examination', 94), ('hoped', 94), ('acting', 94), ('lp', 94), ('comparable', 94), ('turkic', 94), ('dirk', 94), ('fixes', 94), ('spider', 94), ('delegates', 94), ('cubic', 94), ('commitments', 94), ('importantly', 94), ('bother', 94), ('albany', 94), ('relates', 94), ('regulators', 93), ('predicting', 93), ('wynne', 93), ('fly', 93), ('cotten', 93), ('dawn', 93), ('jeremy', 93), ('clausal', 93), ('reducing', 93), ('stimulate', 93), ('minds', 93), ('rtf', 93), ('mystery', 93), ('consensus', 93), ('kern', 93), ('neg', 93), ('variants', 93), ('ru', 93), ('violence', 93), ('flights', 93), ('pink', 93), ('demonstrates', 93), ('darren', 93), ('millionaire', 93), ('harbor', 93), ('defining', 93), ('alive', 93), ('tricks', 93), ('herba', 93), ('lawful', 93), ('erlbaum', 93), ('developmental', 93), ('sprache', 93), ('heritage', 93), ('universiteit', 93), ('claire', 93), ('anaphoric', 93), ('constraintbased', 93), ('haskins', 93), ('doug', 93), ('tons', 93), ('silva', 93), ('returning', 93), ('pilot', 93), ('auctions', 93), ('newcastle', 93), ('fig', 93), ('fingers', 93), ('pitt', 93), ('feminist', 93), ('discourses', 93), ('yuen', 93), ('millionaires', 93), ('glot', 93), ('itec', 93), ('muc', 93), ('severe', 92), ('okay', 92), ('cheryl', 92), ('zhang', 92), ('attn', 92), ('pubiisher', 92), ('cbyi', 92), ('chokshi', 92), ('meantime', 92), ('wifi', 92), ('hedging', 92), ('refereed', 92), ('webb', 92), ('precise', 92), ('este', 92), ('fabulous', 92), ('andor', 92), ('gentle', 92), ('bangkok', 92), ('nasal', 92), ('upgrades', 92), ('contributing', 92), ('jumped', 92), ('dot', 92), ('marketer', 92), ('maximize', 92), ('cmc', 92), ('trigger', 92), ('blame', 92), ('nds', 92), ('burns', 92), ('tones', 92), ('bt', 92), ('infinitive', 92), ('tentative', 92), ('danish', 92), ('athens', 92), ('automatique', 92), ('rising', 91), ('hanks', 91), ('het', 91), ('nathan', 91), ('inbox', 91), ('jk', 91), ('nonnative', 91), ('inciude', 91), ('afro', 91), ('melanie', 91), ('enemies', 91), ('emerge', 91), ('mature', 91), ('bargain', 91), ('utilizing', 91), ('billy', 91), ('emergence', 91), ('perceptual', 91), ('deny', 91), ('ct', 91), ('carroll', 91), ('constitution', 91), ('likes', 91), ('loop', 91), ('retention', 91), ('fam', 91), ('keller', 91), ('ya', 91), ('purdue', 91), ('recurring', 91), ('suffix', 91), ('representational', 91), ('ridge', 91), ('brno', 91), ('streams', 91), ('pisa', 91), ('khmer', 91), ('alba', 91), ('syntactically', 90), ('deeper', 90), ('performed', 90), ('bodies', 90), ('quiet', 90), ('marcus', 90), ('arriving', 90), ('partition', 90), ('minimalism', 90), ('incomplete', 90), ('hyatt', 90), ('northeast', 90), ('professionai', 90), ('cognate', 90), ('claude', 90), ('mom', 90), ('terrorist', 90), ('creativity', 90), ('reporter', 90), ('mira', 90), ('apps', 90), ('hopkins', 90), ('puc', 90), ('stuck', 90), ('onset', 90), ('generalizations', 90), ('residual', 90), ('clarification', 90), ('armstrong', 90), ('ramer', 90), ('wien', 90), ('maharashtra', 90), ('compensated', 90), ('creates', 90), ('penn', 90), ('dk', 90), ('tesol', 90), ('marilyn', 90), ('unisb', 90), ('preview', 90), ('medieval', 90), ('golf', 90), ('composite', 90), ('vernacular', 90), ('repetition', 90), ('pjm', 90), ('trains', 90), ('louvain', 90), ('papua', 90), ('extraposition', 90), ('lacl', 90), ('tesl', 90), ('helpe', 90), ('ncst', 90), ('slowly', 89), ('speaks', 89), ('frontier', 89), ('requiring', 89), ('carter', 89), ('incorrect', 89), ('trick', 89), ('andmanyother', 89), ('leverage', 89), ('peters', 89), ('presto', 89), ('richter', 89), ('diamond', 89), ('moon', 89), ('httpwwwjabbercomosdnxim', 89), ('gala', 89), ('imagined', 89), ('forgot', 89), ('dad', 89), ('investigations', 89), ('noam', 89), ('communicating', 89), ('happier', 89), ('worthwhile', 89), ('cisco', 89), ('booked', 89), ('ecole', 89), ('fundamentals', 89), ('implied', 89), ('produces', 89), ('motor', 89), ('interpret', 89), ('utilize', 89), ('talent', 89), ('fa', 89), ('av', 89), ('pinnacle', 89), ('eng', 89), ('reject', 89), ('sobre', 89), ('gaming', 89), ('concealed', 89), ('ter', 89), ('feelings', 89), ('administrators', 89), ('editions', 89), ('horn', 89), ('rev', 89), ('ton', 89), ('pause', 89), ('completeness', 88), ('dozens', 88), ('manually', 88), ('interchange', 88), ('jo', 88), ('magazines', 88), ('garden', 88), ('alto', 88), ('evolved', 88), ('rid', 88), ('retained', 88), ('tariff', 88), ('geometry', 88), ('fbi', 88), ('attended', 88), ('enabling', 88), ('fitness', 88), ('breath', 88), ('fool', 88), ('parker', 88), ('emotional', 88), ('alvarez', 88), ('forkadminxentcom', 88), ('rent', 88), ('stack', 88), ('katherine', 88), ('highlight', 88), ('identities', 88), ('wallace', 88), ('occasional', 88), ('considers', 88), ('failing', 88), ('tommy', 88), ('fernando', 88), ('ntt', 88), ('welcomes', 88), ('sandra', 88), ('wei', 88), ('tie', 88), ('comply', 88), ('vinoble', 88), ('followup', 88), ('organiser', 88), ('pubs', 88), ('sla', 88), ('fatigue', 88), ('frf', 88), ('ruling', 87), ('iraq', 87), ('agfl', 87), ('reveals', 87), ('appointed', 87), ('pan', 87), ('newmeyer', 87), ('deleting', 87), ('encouraging', 87), ('ml', 87), ('morphosyntax', 87), ('ports', 87), ('clarity', 87), ('sooner', 87), ('carr', 87), ('emerged', 87), ('fin', 87), ('sweepstakes', 87), ('docs', 87), ('infoseek', 87), ('continent', 87), ('interpretacion', 87), ('ugr', 87), ('disagree', 87), ('miami', 87), ('forbes', 87), ('recieve', 87), ('robinson', 87), ('johns', 87), ('clue', 87), ('excluded', 87), ('yang', 87), ('ohiostate', 87), ('inflectional', 87), ('ox', 87), ('credibility', 87), ('boat', 87), ('invented', 87), ('afx', 87), ('issco', 87), ('dgfs', 87), ('uwe', 87), ('registering', 87), ('monica', 87), ('varying', 87), ('sage', 87), ('prepaid', 87), ('inflation', 87), ('kno', 87), ('stockholm', 87), ('dual', 87), ('owen', 87), ('lexicalized', 87), ('disorders', 87), ('hierarchy', 87), ('formalisms', 87), ('cues', 87), ('metathesis', 87), ('enseignement', 87), ('sudanic', 87), ('interprtation', 87), ('datapower', 87), ('ralph', 86), ('underwriting', 86), ('solicited', 86), ('threats', 86), ('adverbial', 86), ('maureen', 86), ('familiarity', 86), ('proposition', 86), ('reputation', 86), ('tiger', 86), ('verified', 86), ('distributor', 86), ('gang', 86), ('johan', 86), ('duplicates', 86), ('norma', 86), ('hole', 86), ('teledynamics', 86), ('hightech', 86), ('employ', 86), ('detection', 86), ('jokes', 86), ('carriers', 86), ('appetite', 86), ('testimonials', 86), ('practitioners', 86), ('concentration', 86), ('analytic', 86), ('pge', 86), ('ahmad', 86), ('kid', 86), ('allies', 86), ('indians', 86), ('spur', 86), ('prolog', 86), ('prefixes', 86), ('favorable', 85), ('explosive', 85), ('folders', 85), ('prescriptions', 85), ('constituents', 85), ('davies', 85), ('technoiogies', 85), ('deceased', 85), ('dimension', 85), ('brussels', 85), ('unwanted', 85), ('fired', 85), ('emerson', 85), ('evaluated', 85), ('unnecessary', 85), ('football', 85), ('contest', 85), ('amongst', 85), ('spell', 85), ('weil', 85), ('mais', 85), ('passes', 85), ('magnitude', 85), ('crossing', 85), ('troubled', 85), ('admin', 85), ('tournament', 85), ('crown', 85), ('guides', 85), ('sb', 85), ('antivirus', 85), ('io', 85), ('bids', 85), ('einer', 85), ('lucent', 85), ('turkey', 85), ('graph', 85), ('rochester', 85), ('rescue', 85), ('hobby', 85), ('onsite', 85), ('liked', 85), ('tent', 85), ('indirect', 85), ('jenny', 85), ('pians', 85), ('manuals', 85), ('searcher', 85), ('nebraska', 85), ('narratives', 85), ('za', 85), ('char', 85), ('classics', 85), ('causative', 85), ('aaas', 85), ('elisabeth', 85), ('dcs', 85), ('bearer', 84), ('crime', 84), ('tight', 84), ('leidenuniv', 84), ('routine', 84), ('captured', 84), ('warned', 84), ('forster', 84), ('confusing', 84), ('favour', 84), ('opens', 84), ('harald', 84), ('geert', 84), ('lannou', 84), ('codeswitching', 84), ('keck', 84), ('denis', 84), ('hunt', 84), ('excite', 84), ('frankfurt', 84), ('birthday', 84), ('predicted', 84), ('plugin', 84), ('burton', 84), ('masters', 84), ('mainstream', 84), ('silly', 84), ('contrasts', 84), ('pamela', 84), ('hardback', 84), ('researching', 84), ('anonymously', 84), ('reuse', 84), ('productivity', 84), ('everywhere', 84), ('firewall', 84), ('mills', 84), ('prompted', 84), ('bbc', 84), ('buys', 84), ('gen', 84), ('era', 84), ('cooperative', 84), ('retired', 84), ('jong', 84), ('champaign', 84), ('fronting', 84), ('measuring', 83), ('bath', 83), ('highlighted', 83), ('suddenly', 83), ('dash', 83), ('bennett', 83), ('bi', 83), ('fighting', 83), ('removes', 83), ('slots', 83), ('wear', 83), ('filling', 83), ('inspired', 83), ('taste', 83), ('accessories', 83), ('vkamins', 83), ('validity', 83), ('gem', 83), ('lasts', 83), ('fewer', 83), ('myers', 83), ('blow', 83), ('advertisers', 83), ('invaluable', 83), ('pe', 83), ('prefix', 83), ('herbal', 83), ('thoroughly', 83), ('sanders', 83), ('judy', 83), ('arguing', 83), ('dwr', 83), ('similarity', 83), ('heading', 83), ('cbs', 83), ('castle', 83), ('believer', 83), ('alleged', 83), ('staying', 83), ('museum', 83), ('wn', 83), ('departement', 83), ('toys', 83), ('kathleen', 83), ('newspapers', 83), ('olson', 83), ('contracted', 83), ('cst', 83), ('nomad', 83), ('restaurants', 83), ('dare', 83), ('geographical', 83), ('chevrontexaco', 83), ('cartel', 83), ('bantu', 83), ('recherche', 83), ('std', 83), ('jeans', 83), ('authorities', 82), ('rail', 82), ('python', 82), ('tall', 82), ('sierra', 82), ('chad', 82), ('neighbors', 82), ('complaint', 82), ('gate', 82), ('truck', 82), ('theater', 82), ('similarities', 82), ('branches', 82), ('citizen', 82), ('trivial', 82), ('ks', 82), ('debit', 82), ('preserve', 82), ('reaching', 82), ('marina', 82), ('lately', 82), ('houses', 82), ('watt', 82), ('sizes', 82), ('debbie', 82), ('appointments', 82), ('differential', 82), ('trillion', 82), ('enpower', 82), ('sorted', 82), ('disks', 82), ('attracted', 82), ('probabilistic', 82), ('lisp', 82), ('approximate', 82), ('clothes', 82), ('iro', 82), ('suits', 82), ('critique', 82), ('koontz', 82), ('wellknown', 82), ('httpaptfreshrpmsnet', 82), ('philosophers', 82), ('alumni', 82), ('buffet', 82), ('encountered', 82), ('rhetorical', 82), ('lisbon', 82), ('develops', 82), ('piers', 82), ('phonemic', 82), ('telnet', 82), ('incorporation', 82), ('clinton', 82), ('visits', 82), ('dia', 82), ('eneenkio', 82), ('geec', 82), ('glass', 81), ('antiquity', 81), ('gibbon', 81), ('gather', 81), ('linguistically', 81), ('alison', 81), ('schneider', 81), ('jill', 81), ('tp', 81), ('scene', 81), ('doubling', 81), ('nearby', 81), ('tries', 81), ('seoul', 81), ('amazed', 81), ('mozilla', 81), ('dissemination', 81), ('stating', 81), ('jerry', 81), ('addressee', 81), ('coral', 81), ('forgotten', 81), ('remitted', 81), ('mil', 81), ('munich', 81), ('dominance', 81), ('arena', 81), ('physicians', 81), ('lady', 81), ('gpg', 81), ('displayed', 81), ('marginal', 81), ('euralex', 81), ('modes', 81), ('warming', 81), ('schoppe', 81), ('formally', 81), ('negotiate', 81), ('simultaneous', 81), ('simpson', 81), ('dowjones', 81), ('manaster', 81), ('ppa', 81), ('provision', 81), ('uncertain', 81), ('extractor', 81), ('dp', 81), ('raid', 81), ('heat', 81), ('mwh', 81), ('traditionally', 81), ('respected', 81), ('eastrans', 81), ('appel', 81), ('liberty', 81), ('leon', 81), ('ostertag', 81), ('cec', 81), ('realm', 81), ('persistent', 81), ('regarded', 81), ('barrels', 81), ('grammarians', 81), ('semiotic', 81), ('isolated', 81), ('rough', 81), ('filologia', 81), ('nsw', 81), ('limsi', 81), ('langage', 81), ('shal', 81), ('irit', 81), ('mahidol', 81), ('eval', 81), ('een', 81), ('iulc', 81), ('icsc', 81), ('cocosda', 81), ('marginleftcm', 81), ('marginrightcm', 81), ('ayi', 81), ('bef', 81), ('masta', 81), ('kitahara', 81), ('flmp', 81), ('broke', 80), ('gil', 80), ('shops', 80), ('liz', 80), ('intuition', 80), ('tendency', 80), ('shower', 80), ('delivers', 80), ('steady', 80), ('blackberry', 80), ('chaos', 80), ('btw', 80), ('internship', 80), ('randomly', 80), ('selecting', 80), ('magic', 80), ('scores', 80), ('impotence', 80), ('slot', 80), ('subsidiaries', 80), ('assertion', 80), ('dealers', 80), ('nymex', 80), ('sabine', 80), ('portions', 80), ('bin', 80), ('solaris', 80), ('caucasian', 80), ('struggling', 80), ('capitalization', 80), ('bei', 80), ('roland', 80), ('baxter', 80), ('sponsoring', 80), ('ire', 80), ('lund', 80), ('shuttle', 80), ('spaced', 80), ('lateral', 80), ('ties', 80), ('specifying', 80), ('restructuring', 80), ('janus', 80), ('optionality', 80), ('vnbl', 80), ('respondent', 80), ('sport', 80), ('promptly', 80), ('informatique', 80), ('montana', 80), ('majordomo', 80), ('updatel', 80), ('metro', 80), ('connecting', 80), ('cure', 80), ('silent', 79), ('justify', 79), ('fuels', 79), ('vulnerable', 79), ('enjoying', 79), ('notifications', 79), ('complements', 79), ('accident', 79), ('classifier', 79), ('resumes', 79), ('interconnect', 79), ('void', 79), ('conditional', 79), ('spots', 79), ('credits', 79), ('vicodin', 79), ('shorter', 79), ('prospect', 79), ('rebuild', 79), ('tk', 79), ('aquila', 79), ('joke', 79), ('election', 79), ('resistance', 79), ('esp', 79), ('undervalued', 79), ('blast', 79), ('targeting', 79), ('queensland', 79), ('como', 79), ('fish', 79), ('denied', 79), ('rue', 79), ('quantities', 79), ('lcd', 79), ('dsl', 79), ('fran', 79), ('hierarchies', 79), ('welcomed', 79), ('upset', 79), ('handy', 79), ('calculation', 79), ('theft', 79), ('tick', 79), ('sanchez', 79), ('missouri', 79), ('terminated', 79), ('analyzing', 79), ('lou', 79), ('dysfunction', 79), ('copied', 79), ('pulled', 79), ('independently', 79), ('questioning', 79), ('hide', 79), ('volunteers', 79), ('spare', 79), ('covert', 79), ('declaration', 79), ('commissions', 79), ('viewpoint', 79), ('introduces', 79), ('eindhoven', 79), ('tamu', 79), ('auditory', 79), ('bitterly', 79), ('quot', 79), ('attribute', 78), ('herod', 78), ('delivering', 78), ('nb', 78), ('sic', 78), ('compounding', 78), ('sight', 78), ('ku', 78), ('ink', 78), ('advertised', 78), ('destination', 78), ('med', 78), ('heidi', 78), ('anxiety', 78), ('escape', 78), ('failures', 78), ('sized', 78), ('handheld', 78), ('diet', 78), ('divergence', 78), ('labov', 78), ('wolf', 78), ('locating', 78), ('compiling', 78), ('sendmail', 78), ('pakistan', 78), ('continuity', 78), ('aboriginal', 78), ('ideology', 78), ('examining', 78), ('enabled', 78), ('threatened', 78), ('fluent', 78), ('wherever', 78), ('substance', 78), ('mandatory', 78), ('benji', 78), ('excuse', 78), ('treasurer', 78), ('legislature', 78), ('ol', 78), ('lane', 78), ('democracy', 78), ('traveling', 78), ('lift', 78), ('fedex', 78), ('consciousness', 78), ('fitch', 78), ('critics', 78), ('incorporating', 78), ('overlap', 78), ('ciick', 78), ('aaa', 78), ('niger', 78), ('borderbottom', 78), ('borderleft', 78), ('borderright', 78), ('bordertop', 78), ('philippines', 78), ('initiated', 78), ('overhead', 78), ('supplier', 78), ('sw', 78), ('sgml', 78), ('silverman', 78), ('kansas', 78), ('monash', 78), ('eduard', 78), ('exploit', 78), ('imbalance', 78), ('uib', 78), ('valign', 78), ('router', 78), ('sov', 78), ('deictic', 78), ('loria', 78), ('svo', 78), ('massaro', 78), ('itl', 78), ('galician', 78), ('sfax', 78), ('conflits', 78), ('erections', 77), ('deregulation', 77), ('insiders', 77), ('issn', 77), ('amazon', 77), ('nominated', 77), ('collections', 77), ('bernhard', 77), ('derek', 77), ('transmitted', 77), ('beiieves', 77), ('screening', 77), ('triple', 77), ('waterloo', 77), ('inclusive', 77), ('occasions', 77), ('desert', 77), ('killing', 77), ('compatibility', 77), ('ger', 77), ('evaluations', 77), ('brochure', 77), ('optout', 77), ('barney', 77), ('merrill', 77), ('headline', 77), ('bytes', 77), ('demonstrative', 77), ('charlie', 77), ('autres', 77), ('buffer', 77), ('closest', 77), ('undeliverables', 77), ('belongs', 77), ('boards', 77), ('prominence', 77), ('levin', 77), ('profession', 77), ('vm', 77), ('satisfactory', 77), ('powered', 77), ('cnn', 77), ('umich', 77), ('merit', 77), ('concord', 77), ('surrey', 77), ('upwards', 77), ('males', 77), ('bo', 77), ('standardisation', 77), ('hosts', 77), ('stats', 77), ('chung', 77), ('petition', 77), ('totals', 77), ('sich', 77), ('spencer', 77), ('equistar', 76), ('tiny', 76), ('timeline', 76), ('uniform', 76), ('struggle', 76), ('pf', 76), ('ver', 76), ('definitive', 76), ('disappear', 76), ('phentermine', 76), ('lotus', 76), ('pulling', 76), ('abandoned', 76), ('hereby', 76), ('illustrate', 76), ('bottles', 76), ('clayton', 76), ('explanatory', 76), ('blake', 76), ('regret', 76), ('gp', 76), ('frederick', 76), ('loaded', 76), ('laurent', 76), ('letting', 76), ('diversified', 76), ('drilling', 76), ('carson', 76), ('wow', 76), ('costa', 76), ('heidelberg', 76), ('radical', 76), ('documented', 76), ('bf', 76), ('pdx', 76), ('hin', 76), ('personality', 76), ('kathryn', 76), ('scholar', 76), ('shanbhogue', 76), ('secrecy', 76), ('lord', 76), ('moments', 76), ('maine', 76), ('eating', 76), ('politeness', 76), ('etymology', 76), ('adv', 76), ('decent', 76), ('victim', 76), ('admission', 76), ('fontsizepx', 76), ('sle', 75), ('graves', 75), ('slide', 75), ('duran', 75), ('areal', 75), ('thereafter', 75), ('transmissions', 75), ('malcolm', 75), ('taxi', 75), ('ic', 75), ('permits', 75), ('essay', 75), ('pioneer', 75), ('household', 75), ('shed', 75), ('tablet', 75), ('poznan', 75), ('controller', 75), ('stacey', 75), ('antwerp', 75), ('trudgill', 75), ('refused', 75), ('airline', 75), ('pazienza', 75), ('bankers', 75), ('army', 75), ('alcohol', 75), ('leipzig', 75), ('norte', 75), ('offset', 75), ('compiler', 75), ('itc', 75), ('gibson', 75), ('transfers', 75), ('debug', 75), ('repay', 75), ('laserjet', 75), ('soviet', 75), ('adjacent', 75), ('spe', 75), ('ni', 75), ('sullivan', 75), ('translators', 75), ('deveiopment', 75), ('establishment', 75), ('liverpool', 75), ('res', 75), ('cunningham', 75), ('semiotics', 75), ('hag', 75), ('phillips', 75), ('ssh', 75), ('scobbie', 75), ('sexist', 75), ('lecturers', 75), ('workplace', 75), ('werden', 75), ('coimbra', 75), ('csliwww', 75), ('ecu', 75), ('characterization', 75), ('spotlight', 75), ('parametric', 75), ('istituto', 75), ('eurocheque', 75), ('demonstratives', 75), ('prodigy', 75), ('ilsa', 75), ('marshallese', 75), ('gplurl', 75), ('permitted', 74), ('replacing', 74), ('yu', 74), ('colwell', 74), ('justification', 74), ('bless', 74), ('inciuding', 74), ('participle', 74), ('surgery', 74), ('spouse', 74), ('contractor', 74), ('brands', 74), ('analyzed', 74), ('nguyen', 74), ('interestingly', 74), ('consultants', 74), ('perry', 74), ('consumption', 74), ('snapshot', 74), ('systematically', 74), ('tuning', 74), ('resellers', 74), ('encounter', 74), ('continuum', 74), ('gra', 74), ('icq', 74), ('compelling', 74), ('popularity', 74), ('polite', 74), ('edificio', 74), ('internally', 74), ('regulated', 74), ('midwest', 74), ('equivalence', 74), ('httpuseperlorgmymessagesyou', 74), ('aiso', 74), ('endless', 74), ('theyve', 74), ('reliability', 74), ('wholly', 74), ('headquarters', 74), ('canberra', 74), ('sandeep', 74), ('crore', 74), ('yellow', 74), ('rea', 74), ('sexually', 74), ('behavioral', 74), ('lars', 74), ('kb', 74), ('coordinating', 74), ('prototype', 74), ('piaced', 74), ('turbine', 74), ('privately', 74), ('config', 74), ('fm', 74), ('sag', 74), ('adopt', 74), ('harding', 74), ('unrelated', 74), ('varied', 74), ('diploma', 74), ('boas', 74), ('liable', 74), ('bookings', 74), ('duane', 74), ('div', 74), ('originator', 74), ('loader', 74), ('satisfy', 73), ('barriers', 73), ('agreeable', 73), ('succeeded', 73), ('parsers', 73), ('brokers', 73), ('reads', 73), ('dieter', 73), ('ensuring', 73), ('yearold', 73), ('avoided', 73), ('microcap', 73), ('inception', 73), ('suffixes', 73), ('concentrate', 73), ('troubles', 73), ('nevada', 73), ('trash', 73), ('considerably', 73), ('implementations', 73), ('adoption', 73), ('completing', 73), ('delayed', 73), ('cautioned', 73), ('ambiguous', 73), ('suffer', 73), ('adjust', 73), ('plaza', 73), ('formulated', 73), ('cls', 73), ('woes', 73), ('finest', 73), ('overwhelming', 73), ('suffered', 73), ('outage', 73), ('substantive', 73), ('ik', 73), ('programmer', 73), ('plunged', 73), ('azurix', 73), ('speculation', 73), ('fluency', 73), ('cooper', 73), ('qmail', 73), ('timothy', 73), ('iceland', 73), ('officially', 73), ('excursion', 73), ('associations', 73), ('textbooks', 73), ('destruction', 73), ('ao', 73), ('wrapping', 73), ('fears', 73), ('delighted', 73), ('stamps', 73), ('brooklyn', 73), ('herbert', 73), ('sherman', 73), ('buyout', 73), ('celebrate', 73), ('nordic', 73), ('dong', 73), ('poli', 73), ('moopid', 73), ('causey', 72), ('banker', 72), ('prom', 72), ('fuller', 72), ('determination', 72), ('guido', 72), ('oklahoma', 72), ('monograph', 72), ('validation', 72), ('ws', 72), ('sleeping', 72), ('vehicles', 72), ('pushed', 72), ('smooth', 72), ('hired', 72), ('hplno', 72), ('inner', 72), ('carrying', 72), ('showcase', 72), ('kazan', 72), ('linecuts', 72), ('orleans', 72), ('destroy', 72), ('dice', 72), ('await', 72), ('pushing', 72), ('warren', 72), ('ethics', 72), ('persian', 72), ('nigerian', 72), ('lynne', 72), ('connectionist', 72), ('acknowledge', 72), ('existential', 72), ('existed', 72), ('nationa', 72), ('koch', 72), ('broadly', 72), ('shareware', 72), ('gldv', 72), ('signatures', 72), ('lowering', 72), ('armenian', 72), ('yr', 72), ('ects', 72), ('implicature', 72), ('noel', 72), ('avant', 72), ('acs', 72), ('hector', 72), ('amex', 72), ('ass', 72), ('ccl', 72), ('boom', 72), ('fromkin', 72), ('fan', 72), ('penguin', 72), ('bham', 72), ('typed', 72), ('seegmiller', 72), ('irst', 72), ('payroll', 72), ('lopez', 72), ('mitwpl', 72), ('perfective', 72), ('alberto', 72), ('layer', 72), ('wheeler', 72), ('lisboa', 72), ('erickson', 72), ('zum', 72), ('tammy', 72), ('autosegmental', 72), ('saint', 72), ('oslo', 72), ('alternations', 72), ('tke', 72), ('brunswick', 72), ('subfields', 72), ('enschede', 72), ('torino', 72), ('shef', 72), ('ircs', 72), ('scil', 72), ('walloon', 72), ('meulen', 72), ('gurt', 72), ('dats', 72), ('gecco', 72), ('brothers', 71), ('bait', 71), ('loved', 71), ('utmost', 71), ('homeowners', 71), ('spams', 71), ('ars', 71), ('theatre', 71), ('pls', 71), ('invoices', 71), ('ideally', 71), ('steffes', 71), ('architect', 71), ('stood', 71), ('freebsd', 71), ('razorcheck', 71), ('cope', 71), ('joel', 71), ('morrill', 71), ('unauthorized', 71), ('accessed', 71), ('opted', 71), ('beauty', 71), ('locked', 71), ('attained', 71), ('aix', 71), ('updating', 71), ('bart', 71), ('invoive', 71), ('awhile', 71), ('tune', 71), ('scratch', 71), ('primitive', 71), ('stimulus', 71), ('cabinet', 71), ('quicker', 71), ('sherriff', 71), ('delainey', 71), ('ups', 71), ('crap', 71), ('companion', 71), ('sig', 71), ('emory', 71), ('cartridges', 71), ('spectrum', 71), ('impaired', 71), ('bat', 71), ('intrusion', 71), ('holes', 71), ('bind', 71), ('answering', 71), ('rfid', 71), ('evans', 71), ('informatics', 71), ('scrutiny', 71), ('nvidia', 71), ('pet', 71), ('atr', 71), ('buyback', 70), ('treating', 70), ('finalize', 70), ('unclear', 70), ('lauri', 70), ('distinguished', 70), ('tenure', 70), ('rewrite', 70), ('pointing', 70), ('susanne', 70), ('investigates', 70), ('definiteness', 70), ('examined', 70), ('strengthen', 70), ('transferring', 70), ('safely', 70), ('damn', 70), ('remittance', 70), ('harley', 70), ('texaco', 70), ('complications', 70), ('adaptation', 70), ('jurisdiction', 70), ('cancelled', 70), ('nonetheless', 70), ('varies', 70), ('bureau', 70), ('planta', 70), ('enters', 70), ('kathmandu', 70), ('seed', 70), ('pedagogical', 70), ('psychologists', 70), ('subset', 70), ('narrow', 70), ('gaps', 70), ('handed', 70), ('programmers', 70), ('attributes', 70), ('paths', 70), ('approvals', 70), ('norm', 70), ('solved', 70), ('categorization', 70), ('registrations', 70), ('harvey', 70), ('xual', 70), ('etre', 70), ('wu', 70), ('probe', 70), ('spy', 70), ('encoded', 70), ('surprising', 70), ('transcripts', 70), ('nigel', 70), ('jung', 70), ('vu', 70), ('prediction', 70), ('kirchner', 70), ('efl', 70), ('affiliations', 70), ('lai', 70), ('foundational', 70), ('instituto', 70), ('quantum', 70), ('temps', 70), ('tongues', 70), ('jacobs', 70), ('gh', 70), ('notation', 70), ('della', 70), ('leur', 70), ('pal', 70), ('cleaning', 69), ('farquhar', 69), ('goldman', 69), ('formalism', 69), ('opposites', 69), ('consolidate', 69), ('hassle', 69), ('fritz', 69), ('casual', 69), ('inheritance', 69), ('chevron', 69), ('cpuc', 69), ('sponsorship', 69), ('fda', 69), ('tri', 69), ('disappointed', 69), ('gene', 69), ('carthage', 69), ('plm', 69), ('communicated', 69), ('nm', 69), ('complain', 69), ('lindberg', 69), ('lending', 69), ('denver', 69), ('michele', 69), ('breathing', 69), ('sinica', 69), ('forkspamassassintaintorg', 69), ('prestigious', 69), ('smoke', 69), ('leo', 69), ('enw', 69), ('mexican', 69), ('pointers', 69), ('phrasal', 69), ('terminological', 69), ('specuiative', 69), ('tuition', 69), ('forming', 69), ('autumn', 69), ('hl', 69), ('modification', 69), ('authenticated', 69), ('overloaded', 69), ('exp', 69), ('eugenio', 69), ('forecasts', 69), ('struck', 69), ('kick', 69), ('leonard', 69), ('konvens', 69), ('ernst', 69), ('whereby', 69), ('mountains', 69), ('allegheny', 69), ('separated', 69), ('voices', 69), ('composed', 69), ('bogus', 69), ('erectile', 69), ('amended', 69), ('kees', 69), ('stevens', 69), ('wilhelm', 69), ('routing', 69), ('mario', 69), ('adjustments', 69), ('richer', 69), ('skill', 69), ('writings', 69), ('amerind', 69), ('laboratoire', 69), ('stateof', 69), ('dem', 69), ('cnr', 69), ('jakobson', 69), ('innsbruck', 69), ('connectives', 69), ('pragma', 69), ('neutral', 69), ('blkwell', 69), ('xiii', 69), ('adjuncts', 69), ('linguistiques', 69), ('evp', 69), ('ro', 69), ('inria', 69), ('sek', 69), ('relativity', 69), ('icsforth', 69), ('udel', 69), ('kbcs', 69), ('sac', 69), ('reduces', 68), ('fiscal', 68), ('hasnt', 68), ('observe', 68), ('destroyed', 68), ('undue', 68), ('mrha', 68), ('matthews', 68), ('arrested', 68), ('airports', 68), ('offline', 68), ('sectors', 68), ('deemed', 68), ('suspended', 68), ('commence', 68), ('willingness', 68), ('cloud', 68), ('lessons', 68), ('inter', 68), ('wccfl', 68), ('crawler', 68), ('bailey', 68), ('miliion', 68), ('accomplishments', 68), ('academics', 68), ('visited', 68), ('reap', 68), ('generates', 68), ('spray', 68), ('depression', 68), ('nic', 68), ('row', 68), ('peterson', 68), ('franz', 68), ('republican', 68), ('ine', 68), ('stopping', 68), ('choosing', 68), ('approaching', 68), ('instrumental', 68), ('sed', 68), ('transparent', 68), ('mirant', 68), ('disclosures', 68), ('heinrich', 68), ('choi', 68), ('robertson', 68), ('privilege', 68), ('methanol', 68), ('warner', 68), ('promises', 68), ('enemy', 68), ('maturity', 68), ('prudential', 68), ('selfaddressed', 68), ('accounted', 68), ('technically', 68), ('ate', 68), ('sao', 68), ('divx', 68), ('dust', 68), ('causal', 68), ('mini', 68), ('padova', 68), ('venice', 68), ('reed', 68), ('genres', 68), ('sens', 68), ('insure', 67), ('headlines', 67), ('fruit', 67), ('oversight', 67), ('esther', 67), ('distributors', 67), ('ns', 67), ('blair', 67), ('mack', 67), ('appreciation', 67), ('templates', 67), ('terminate', 67), ('informations', 67), ('brokerage', 67), ('navajo', 67), ('supreme', 67), ('pertinent', 67), ('amp', 67), ('contractual', 67), ('carpenter', 67), ('hills', 67), ('replying', 67), ('sketch', 67), ('thick', 67), ('localized', 67), ('reas', 67), ('arises', 67), ('humorous', 67), ('disabled', 67), ('ferocity', 67), ('corei', 67), ('vat', 67), ('nbc', 67), ('glossary', 67), ('gmt', 67), ('clearing', 67), ('economist', 67), ('league', 67), ('eth', 67), ('weber', 67), ('promoted', 67), ('shaw', 67), ('deliverable', 67), ('fernley', 67), ('newswire', 67), ('conducting', 67), ('largescale', 67), ('incoming', 67), ('expe', 67), ('rien', 67), ('shona', 67), ('violate', 67), ('vga', 67), ('bd', 67), ('lx', 67), ('ariel', 67), ('roundtable', 67), ('dyn', 67), ('gtv', 67), ('gradually', 67), ('tion', 67), ('rat', 67), ('patents', 67), ('exchanges', 67), ('pi', 67), ('layout', 67), ('zoom', 67), ('icc', 67), ('miilion', 67), ('fernandez', 67), ('uppsala', 67), ('pieter', 67), ('teeter', 67), ('thomason', 67), ('becky', 67), ('bundle', 67), ('preface', 67), ('coherence', 67), ('subliminal', 67), ('nonhuman', 67), ('hardcover', 67), ('exchanged', 67), ('talana', 67), ('ontology', 67), ('ips', 67), ('hull', 66), ('imagination', 66), ('mess', 66), ('renewable', 66), ('jacob', 66), ('sufficiently', 66), ('creek', 66), ('excellence', 66), ('dative', 66), ('imited', 66), ('remind', 66), ('rome', 66), ('vista', 66), ('clever', 66), ('analog', 66), ('hughes', 66), ('waha', 66), ('singlespaced', 66), ('lump', 66), ('compression', 66), ('xvi', 66), ('revisions', 66), ('obscure', 66), ('wedding', 66), ('caiso', 66), ('gates', 66), ('educators', 66), ('dance', 66), ('fans', 66), ('misc', 66), ('ursula', 66), ('trask', 66), ('olsen', 66), ('limbo', 66), ('converted', 66), ('patches', 66), ('humboldt', 66), ('gerard', 66), ('coin', 66), ('tennis', 66), ('eve', 66), ('coach', 66), ('lehmann', 66), ('holder', 66), ('fate', 66), ('isabelle', 66), ('assessing', 66), ('iccs', 66), ('symantec', 66), ('hayes', 66), ('additions', 66), ('julian', 66), ('arbor', 66), ('ui', 66), ('flaw', 66), ('gpgfin', 66), ('tzigov', 66), ('chark', 66), ('minorities', 66), ('kuleuven', 66), ('mins', 66), ('acknowledgement', 66), ('konstanz', 66), ('gps', 66), ('tba', 66), ('exceeding', 66), ('therapy', 66), ('aerofoam', 66), ('founder', 66), ('automata', 66), ('pronounce', 66), ('liquids', 66), ('theart', 66), ('crosscultural', 66), ('mh', 66), ('auch', 66), ('computermediated', 66), ('stylistics', 66), ('ieee', 66), ('numeral', 66), ('kurt', 66), ('glsa', 66), ('topicalization', 66), ('milan', 66), ('interactional', 66), ('berman', 66), ('imperatives', 66), ('ipo', 66), ('cas', 66), ('yeni', 66), ('bertinetto', 66), ('celiac', 66), ('aiml', 66), ('ipcug', 66), ('tollfree', 65), ('exxon', 65), ('finalized', 65), ('orientation', 65), ('broadcasting', 65), ('patients', 65), ('storm', 65), ('overlook', 65), ('judgements', 65), ('rodriguez', 65), ('lean', 65), ('specialize', 65), ('sigma', 65), ('minus', 65), ('birds', 65), ('explosion', 65), ('highquality', 65), ('affects', 65), ('arising', 65), ('systemworks', 65), ('integral', 65), ('vt', 65), ('breakthrough', 65), ('qualitative', 65), ('kentucky', 65), ('alien', 65), ('sergei', 65), ('liquidation', 65), ('carlo', 65), ('artwork', 65), ('formulation', 65), ('atlas', 65), ('ops', 65), ('debra', 65), ('subordinate', 65), ('deposits', 65), ('catholic', 65), ('metal', 65), ('whitelist', 65), ('qs', 65), ('bounced', 65), ('bln', 65), ('shapiro', 65), ('cast', 65), ('suisse', 65), ('adverse', 65), ('richards', 65), ('sino', 65), ('toners', 65), ('extends', 65), ('assimilation', 65), ('alphabet', 65), ('anglo', 65), ('sincere', 65), ('acy', 65), ('chile', 65), ('kamp', 65), ('saave', 65), ('pompeu', 65), ('fabra', 65), ('cfm', 65), ('continuously', 65), ('attempted', 65), ('mutation', 65), ('cyberspace', 65), ('cites', 65), ('vipul', 65), ('fu', 65), ('cheapest', 65), ('selfcontained', 65), ('generalized', 65), ('intermediate', 65), ('stochastic', 65), ('rz', 65), ('guests', 65), ('fur', 65), ('metaphorical', 65), ('heim', 65), ('afdecorecpp', 65), ('charity', 64), ('advertiser', 64), ('reflecting', 64), ('asiatic', 64), ('oppose', 64), ('unt', 64), ('complementary', 64), ('ellis', 64), ('costly', 64), ('marine', 64), ('fs', 64), ('masson', 64), ('ruled', 64), ('pennies', 64), ('accomplished', 64), ('alta', 64), ('logging', 64), ('soul', 64), ('computationally', 64), ('readable', 64), ('booklet', 64), ('mitre', 64), ('pk', 64), ('petersburg', 64), ('remedy', 64), ('implication', 64), ('utilized', 64), ('bayer', 64), ('cam', 64), ('packed', 64), ('modest', 64), ('architectural', 64), ('rachel', 64), ('authorization', 64), ('traces', 64), ('suffering', 64), ('sharply', 64), ('cleared', 64), ('generalization', 64), ('pride', 64), ('ppin', 64), ('saf', 64), ('ural', 64), ('tras', 64), ('folk', 64), ('incident', 64), ('plausible', 64), ('experiencing', 64), ('engaging', 64), ('noise', 64), ('proving', 64), ('quarters', 64), ('rub', 64), ('petroieum', 64), ('glover', 64), ('chocolate', 64), ('cn', 64), ('clustering', 64), ('semi', 64), ('edgar', 64), ('ts', 64), ('crammed', 64), ('trips', 64), ('harrison', 64), ('singles', 64), ('lite', 64), ('grep', 64), ('grad', 64), ('sociological', 64), ('milwaukee', 64), ('lanka', 64), ('milano', 64), ('textdecorationunderline', 64), ('knle', 64), ('wong', 63), ('coastal', 63), ('manipulation', 63), ('pursuing', 63), ('newer', 63), ('trademark', 63), ('prepositional', 63), ('sad', 63), ('rullet', 63), ('midcon', 63), ('homeowner', 63), ('numbered', 63), ('refinancing', 63), ('zas', 63), ('danny', 63), ('dana', 63), ('whmovement', 63), ('transformation', 63), ('compilation', 63), ('alike', 63), ('offerings', 63), ('suited', 63), ('languaging', 63), ('universitt', 63), ('impressed', 63), ('wise', 63), ('davidson', 63), ('hook', 63), ('norms', 63), ('underway', 63), ('regalis', 63), ('annoying', 63), ('replica', 63), ('uhcc', 63), ('scottish', 63), ('cotton', 63), ('paula', 63), ('cox', 63), ('ucsd', 63), ('referents', 63), ('exmhworkers', 63), ('countless', 63), ('retrieve', 63), ('demon', 63), ('quest', 63), ('grounding', 63), ('peer', 63), ('cia', 63), ('incompatible', 63), ('feasible', 63), ('unibonn', 63), ('bielefeld', 63), ('recover', 63), ('designing', 63), ('fo', 63), ('kiparsky', 63), ('manoa', 63), ('gear', 63), ('prolamat', 63), ('eamt', 63), ('kuala', 63), ('lumpur', 63), ('illustrator', 63), ('uga', 63), ('utwente', 63), ('immigration', 63), ('multidisciplinary', 63), ('deeply', 63), ('nonstudents', 63), ('subjunctive', 63), ('concluding', 63), ('licence', 63), ('rint', 63), ('sybesma', 63), ('cognates', 63), ('dna', 63), ('pullum', 63), ('kiel', 63), ('colloque', 63), ('mate', 63), ('geneve', 63), ('unige', 63), ('traitement', 63), ('deriving', 63), ('utoronto', 63), ('voiceless', 63), ('oac', 63), ('isla', 63), ('listslk', 63), ('stemberger', 63), ('separatism', 63), ('hlh', 63), ('tier', 62), ('inevitable', 62), ('nonprofit', 62), ('reproduce', 62), ('honored', 62), ('correspond', 62), ('erik', 62), ('departmental', 62), ('expose', 62), ('richardson', 62), ('ambien', 62), ('prozac', 62), ('designers', 62), ('soliciting', 62), ('caribbean', 62), ('angry', 62), ('itll', 62), ('effectiveness', 62), ('designer', 62), ('ranked', 62), ('designs', 62), ('jesse', 62), ('achievement', 62), ('aphrodisia', 62), ('jebel', 62), ('platinum', 62), ('explored', 62), ('spelled', 62), ('wars', 62), ('competitor', 62), ('upgrading', 62), ('scholarships', 62), ('shame', 62), ('migration', 62), ('ssl', 62), ('forcing', 62), ('wagner', 62), ('phoneme', 62), ('dig', 62), ('decrease', 62), ('mailwisconsin', 62), ('healthcare', 62), ('httpwwwteledyncom', 62), ('answerspablo', 62), ('palestinian', 62), ('israeli', 62), ('meta', 62), ('urls', 62), ('offsite', 62), ('bidding', 62), ('ant', 62), ('icon', 62), ('copenhagen', 62), ('diagnostic', 62), ('surveys', 62), ('evident', 62), ('dl', 62), ('asymmetry', 62), ('intercourse', 62), ('norman', 62), ('tar', 62), ('henwood', 62), ('villa', 62), ('wee', 62), ('reconstruct', 62), ('biblical', 62), ('buses', 62), ('demanding', 62), ('navigation', 62), ('carleton', 62), ('costing', 62), ('festival', 62), ('forums', 62), ('jpg', 62), ('amt', 62), ('sexy', 61), ('tends', 61), ('economies', 61), ('calculated', 61), ('parttime', 61), ('disney', 61), ('pops', 61), ('kun', 61), ('scan', 61), ('reid', 61), ('troy', 61), ('hewitt', 61), ('programmes', 61), ('watched', 61), ('luce', 61), ('ment', 61), ('genitive', 61), ('jesus', 61), ('becker', 61), ('brilliant', 61), ('assignments', 61), ('contractors', 61), ('notebooks', 61), ('cumulative', 61), ('consolidated', 61), ('unifreiburg', 61), ('buttons', 61), ('nottingham', 61), ('hack', 61), ('adjectival', 61), ('naive', 61), ('tibetan', 61), ('contenttype', 61), ('anton', 61), ('tiscali', 61), ('bullet', 61), ('imply', 61), ('peggy', 61), ('apc', 61), ('customerservice', 61), ('kabila', 61), ('populations', 61), ('amd', 61), ('shouldnt', 61), ('detect', 61), ('wives', 61), ('ban', 61), ('builtin', 61), ('filtered', 61), ('proves', 61), ('transparency', 61), ('triggered', 61), ('seat', 61), ('ql', 61), ('romanian', 61), ('joyce', 61), ('specialty', 61), ('esq', 61), ('nova', 61), ('thin', 61), ('iai', 61), ('tc', 61), ('zurich', 61), ('vocalscape', 61), ('fulfill', 61), ('copper', 61), ('admitted', 61), ('grumbled', 61), ('perlman', 61), ('expenditures', 61), ('ambitious', 61), ('emissions', 61), ('overcome', 61), ('infinite', 61), ('reminded', 61), ('neuter', 61), ('croatian', 61), ('notebook', 61), ('lighting', 61), ('columns', 61), ('cathy', 61), ('apollo', 61), ('microsofts', 61), ('lazy', 61), ('pinker', 61), ('picard', 61), ('classifiers', 61), ('originality', 61), ('internationally', 61), ('semester', 61), ('testimonial', 61), ('deutschen', 61), ('serrano', 61), ('braille', 61), ('manages', 60), ('koenig', 60), ('auspices', 60), ('referral', 60), ('faxes', 60), ('walton', 60), ('marion', 60), ('unbelievable', 60), ('intonational', 60), ('lg', 60), ('morphologically', 60), ('auditor', 60), ('alink', 60), ('lim', 60), ('recovered', 60), ('hourly', 60), ('scenarios', 60), ('fe', 60), ('patience', 60), ('drafts', 60), ('agrees', 60), ('diseases', 60), ('scalable', 60), ('potent', 60), ('roberta', 60), ('prnewswire', 60), ('founding', 60), ('spamd', 60), ('landscape', 60), ('doctorate', 60), ('departamento', 60), ('repairs', 60), ('dependence', 60), ('undoubtedly', 60), ('pardon', 60), ('hal', 60), ('stimulating', 60), ('pam', 60), ('constructing', 60), ('hawkins', 60), ('hoekstra', 60), ('politicians', 60), ('pubiication', 60), ('steal', 60), ('linguistik', 60), ('recession', 60), ('pustejovsky', 60), ('bridging', 60), ('hplc', 60), ('concordance', 60), ('altaic', 60), ('studios', 60), ('epenthesis', 60), ('unm', 60), ('organisations', 60), ('odds', 60), ('hash', 60), ('reaches', 60), ('gallery', 60), ('geege', 60), ('cliff', 60), ('juno', 60), ('proficiency', 60), ('pci', 60), ('sektion', 60), ('idioms', 60), ('prototypical', 60), ('stimuli', 60), ('armey', 60), ('adsl', 60), ('multilingualism', 60), ('ethnographic', 60), ('mari', 60), ('lexemes', 60), ('branner', 60), ('valhalla', 60), ('jackendoff', 60), ('willem', 60), ('questionnaire', 60), ('wolverhampton', 60), ('honesty', 60), ('etudes', 60), ('universiti', 60), ('lengua', 60), ('mla', 60), ('reconstructed', 60), ('akira', 60), ('liabilities', 60), ('astonishment', 60), ('kr', 60), ('qh', 60), ('hawai', 60), ('koningshof', 60), ('cancellations', 60), ('bangor', 60), ('spouting', 60), ('merciless', 60), ('semantique', 60), ('wilcox', 60), ('twlt', 60), ('muller', 60), ('phasing', 60), ('mas', 60), ('oe', 60), ('aaai', 60), ('pwc', 60), ('propositional', 60), ('elsnet', 60), ('tmi', 60), ('learnability', 60), ('rohini', 60), ('vextal', 60), ('usler', 60), ('kyle', 59), ('sing', 59), ('hospitals', 59), ('labelling', 59), ('compact', 59), ('portal', 59), ('clem', 59), ('allocate', 59), ('cholesterol', 59), ('senses', 59), ('powder', 59), ('postgraduate', 59), ('indications', 59), ('mn', 59), ('incentive', 59), ('sel', 59), ('rc', 59), ('miriam', 59), ('ranks', 59), ('inspection', 59), ('goodbye', 59), ('intriguing', 59), ('guard', 59), ('buried', 59), ('dispatch', 59), ('minimize', 59), ('angle', 59), ('cb', 59), ('mbr', 59), ('frazier', 59), ('reactions', 59), ('licenses', 59), ('preserved', 59), ('dreamweaver', 59), ('touched', 59), ('rhythm', 59), ('ethical', 59), ('exmhworkersredhatcom', 59), ('httpslistmanredhatcommailmanlistinfoexmhworkers', 59), ('maiiings', 59), ('neat', 59), ('celebration', 59), ('colonial', 59), ('forge', 59), ('eager', 59), ('mkt', 59), ('columbus', 59), ('dlrs', 59), ('denne', 59), ('hua', 59), ('bis', 59), ('reinhard', 59), ('virtue', 59), ('cedar', 59), ('occurrence', 59), ('thr', 59), ('propositions', 59), ('protecting', 59), ('roy', 59), ('phoenix', 59), ('lt', 59), ('spammer', 59), ('indepth', 59), ('combines', 59), ('pound', 59), ('cpu', 59), ('ck', 59), ('angela', 59), ('vancouver', 59), ('authoring', 59), ('bert', 59), ('coo', 59), ('mergers', 59), ('hungary', 59), ('appeals', 59), ('bedford', 59), ('drift', 59), ('hardcopies', 59), ('voiced', 59), ('coleman', 59), ('shallow', 59), ('fortunately', 59), ('identifies', 59), ('passport', 59), ('revisited', 59), ('nonstandard', 59), ('inscription', 59), ('gupta', 59), ('abraham', 59), ('mpg', 59), ('ri', 58), ('swaps', 58), ('weissman', 58), ('christy', 58), ('feeds', 58), ('erection', 58), ('harm', 58), ('albums', 58), ('remi', 58), ('derivations', 58), ('accumulated', 58), ('cancellation', 58), ('gaining', 58), ('logs', 58), ('interpreter', 58), ('levitra', 58), ('katy', 58), ('exhaustive', 58), ('ep', 58), ('hierarchical', 58), ('browsing', 58), ('retailers', 58), ('journey', 58), ('darrell', 58), ('workstation', 58), ('ecommerce', 58), ('tadalafil', 58), ('preprocessing', 58), ('niche', 58), ('builds', 58), ('appended', 58), ('pressing', 58), ('calm', 58), ('lyrics', 58), ('sustained', 58), ('essence', 58), ('ships', 58), ('mentioning', 58), ('autonomy', 58), ('congressional', 58), ('customized', 58), ('chapman', 58), ('oracle', 58), ('instructional', 58), ('kean', 58), ('baseball', 58), ('ulrich', 58), ('intentions', 58), ('wade', 58), ('keen', 58), ('olivier', 58), ('boeing', 58), ('bargains', 58), ('keyword', 58), ('beneficial', 58), ('probable', 58), ('pickering', 58), ('sentential', 58), ('ranch', 58), ('ugly', 58), ('macro', 58), ('entrance', 58), ('configured', 58), ('committees', 58), ('closes', 58), ('iow', 58), ('grows', 58), ('gun', 58), ('theresa', 58), ('locally', 58), ('excerpts', 58), ('coauthored', 58), ('argumentation', 58), ('wordperfect', 58), ('woods', 58), ('han', 58), ('operated', 58), ('eci', 58), ('pointer', 58), ('ladies', 58), ('locative', 58), ('fontweightbold', 58), ('raleigh', 58), ('orange', 58), ('liu', 58), ('eim', 58), ('hiroshima', 58), ('ict', 58), ('strongest', 57), ('webpage', 57), ('spin', 57), ('clinical', 57), ('intranet', 57), ('employers', 57), ('schwa', 57), ('arrest', 57), ('travelling', 57), ('jacqueline', 57), ('spreading', 57), ('sugar', 57), ('lookup', 57), ('campaigns', 57), ('encryption', 57), ('egg', 57), ('ostler', 57), ('sunderland', 57), ('interim', 57), ('messenger', 57), ('relied', 57), ('villarreal', 57), ('lausanne', 57), ('generations', 57), ('unwarranted', 57), ('subcategorization', 57), ('appearing', 57), ('monte', 57), ('wili', 57), ('roof', 57), ('strengths', 57), ('ocr', 57), ('ich', 57), ('isps', 57), ('vjestika', 57), ('prosaka', 57), ('tonal', 57), ('bari', 57), ('uwo', 57), ('blocked', 57), ('advisors', 57), ('attracting', 57), ('franchise', 57), ('settled', 57), ('shifted', 57), ('issuance', 57), ('mysql', 57), ('revealing', 57), ('terror', 57), ('chronicle', 57), ('questioned', 57), ('nervous', 57), ('focussing', 57), ('schmidt', 57), ('erlangen', 57), ('kiss', 57), ('hanging', 57), ('delhi', 57), ('ontologies', 57), ('stylus', 57), ('ergative', 57), ('acc', 57), ('crossover', 57), ('comite', 57), ('uil', 57), ('monographs', 57), ('reprint', 57), ('mpi', 57), ('webnet', 57), ('parasession', 57), ('natura', 57), ('rewards', 57), ('dress', 57), ('fowler', 57), ('ipp', 57), ('literate', 57), ('cells', 57), ('colombia', 57), ('schaufele', 57), ('ramat', 57), ('irrelevant', 57), ('gmbh', 57), ('javier', 57), ('reflections', 57), ('preconference', 57), ('vanish', 57), ('protolanguage', 57), ('fb', 57), ('acoustical', 57), ('epia', 57), ('threads', 57), ('transcriptions', 57), ('pda', 57), ('ere', 57), ('ans', 57), ('interrogatives', 57), ('modular', 57), ('quantificational', 57), ('ohala', 57), ('ijcai', 57), ('jussi', 57), ('lenguas', 57), ('vease', 57), ('striking', 57), ('zampolli', 57), ('oed', 57), ('sproat', 57), ('animate', 57), ('taiwanese', 57), ('srihari', 57), ('luong', 56), ('hmm', 56), ('badly', 56), ('desks', 56), ('volunteer', 56), ('wins', 56), ('sherlyn', 56), ('confirming', 56), ('merits', 56), ('meal', 56), ('mcdonald', 56), ('cte', 56), ('extender', 56), ('angels', 56), ('insist', 56), ('holders', 56), ('token', 56), ('adequately', 56), ('fake', 56), ('registry', 56), ('burned', 56), ('nightly', 56), ('confirms', 56), ('usages', 56), ('christiane', 56), ('yves', 56), ('commented', 56), ('digit', 56), ('nacional', 56), ('nantes', 56), ('singing', 56), ('judging', 56), ('chains', 56), ('iomega', 56), ('cooperate', 56), ('tamarchenko', 56), ('democrats', 56), ('derivative', 56), ('presupposition', 56), ('currentiy', 56), ('nv', 56), ('hunting', 56), ('excitement', 56), ('disable', 56), ('votes', 56), ('worldcom', 56), ('sociallinuxie', 56), ('hier', 56), ('expiry', 56), ('carmen', 56), ('issuing', 56), ('penalty', 56), ('fiber', 56), ('grades', 56), ('hospitality', 56), ('painter', 56), ('oceanic', 56), ('ume', 56), ('joshua', 56), ('baltimore', 56), ('laurie', 56), ('nineteenth', 56), ('catchy', 56), ('bradley', 56), ('lesson', 56), ('wc', 56), ('coalition', 56), ('zhiyong', 56), ('blocking', 56), ('jacoby', 56), ('cluster', 56), ('moral', 56), ('reflection', 56), ('ronn', 56), ('revise', 56), ('vertical', 56), ('oprah', 56), ('audrey', 56), ('ka', 56), ('lovely', 56), ('drama', 56), ('contour', 56), ('newsgroup', 56), ('accused', 56), ('upgraded', 56), ('diagnosis', 56), ('standardization', 56), ('manuel', 56), ('abc', 56), ('jury', 56), ('preservation', 56), ('imaging', 56), ('biennial', 56), ('montclair', 56), ('perceptions', 56), ('carbondale', 56), ('rightward', 56), ('listbot', 56), ('remainder', 55), ('intense', 55), ('winston', 55), ('repeatedly', 55), ('bod', 55), ('kee', 55), ('paperwork', 55), ('charging', 55), ('iron', 55), ('additiona', 55), ('leisure', 55), ('iferc', 55), ('loves', 55), ('dynamically', 55), ('owning', 55), ('ghz', 55), ('straightforward', 55), ('nasty', 55), ('freight', 55), ('voted', 55), ('russ', 55), ('diagnostics', 55), ('convey', 55), ('compositional', 55), ('constrained', 55), ('deathtospamdeathtospamdeathtospam', 55), ('xv', 55), ('rocks', 55), ('maxwell', 55), ('breach', 55), ('eleven', 55), ('advent', 55), ('babel', 55), ('exposed', 55), ('bedroom', 55), ('dump', 55), ('madison', 55), ('telecommunication', 55), ('lovers', 55), ('improves', 55), ('aaron', 55), ('tin', 55), ('sl', 55), ('viewsonic', 55), ('incidentally', 55), ('spectacular', 55), ('heck', 55), ('inherently', 55), ('thierry', 55), ('terrible', 55), ('mcconnell', 55), ('egypt', 55), ('httpwwwlinuxiemailmanlistinfosocial', 55), ('eliminating', 55), ('homebased', 55), ('drinking', 55), ('hess', 55), ('mcgregor', 55), ('chi', 55), ('awaiting', 55), ('glen', 55), ('seront', 55), ('demonstrating', 55), ('unacceptable', 55), ('surf', 55), ('violent', 55), ('barely', 55), ('simplified', 55), ('soiutions', 55), ('scenes', 55), ('brook', 55), ('goodness', 55), ('lucrative', 55), ('teeth', 55), ('goldsmith', 55), ('priorities', 55), ('diffusion', 55), ('achieving', 55), ('fusion', 55), ('transcript', 55), ('asn', 55), ('killen', 55), ('throwing', 55), ('closure', 55), ('extensively', 55), ('buenos', 55), ('mot', 55), ('calculations', 55), ('poem', 55), ('debates', 55), ('gon', 55), ('differing', 55), ('imposed', 55), ('basil', 55), ('poker', 55), ('absent', 55), ('handles', 55), ('payne', 55), ('werner', 55), ('zhou', 55), ('exceedingly', 55), ('immigrant', 55), ('lansing', 55), ('massimo', 55), ('comision', 55), ('hilton', 55), ('doublespaced', 55), ('sebastian', 55), ('donc', 55), ('visualization', 55), ('personalized', 54), ('cry', 54), ('impose', 54), ('beaumont', 54), ('hams', 54), ('alongside', 54), ('certification', 54), ('exampies', 54), ('conscious', 54), ('aided', 54), ('retrieving', 54), ('unituebingen', 54), ('ils', 54), ('cluk', 54), ('leg', 54), ('wt', 54), ('mplayer', 54), ('centered', 54), ('illustrated', 54), ('forty', 54), ('mines', 54), ('intern', 54), ('generous', 54), ('europeans', 54), ('nirenburg', 54), ('burden', 54), ('fp', 54), ('controversy', 54), ('nonlinguistic', 54), ('resigned', 54), ('uncommon', 54), ('whoever', 54), ('colleen', 54), ('slobin', 54), ('imho', 54), ('hackers', 54), ('divorce', 54), ('actua', 54), ('downloadable', 54), ('plate', 54), ('stealing', 54), ('passwords', 54), ('guided', 54), ('protocols', 54), ('macedonian', 54), ('cios', 54), ('judicial', 54), ('doubled', 54), ('portfolios', 54), ('vladimir', 54), ('uta', 54), ('lexeme', 54), ('citizenship', 54), ('lib', 54), ('geography', 54), ('bowen', 54), ('metrical', 54), ('heine', 54), ('viewer', 54), ('celebrities', 54), ('intuitive', 54), ('edith', 54), ('underspecification', 54), ('gcs', 54), ('hints', 54), ('eta', 54), ('autre', 54), ('multipart', 54), ('witched', 54), ('supporters', 54), ('monolingual', 54), ('honestly', 54), ('resolving', 54), ('judged', 54), ('corbett', 54), ('sty', 54), ('zajac', 54), ('patti', 54), ('females', 54), ('wim', 54), ('adjunct', 54), ('nus', 54), ('excl', 54), ('mahoney', 54), ('stepby', 54), ('universidade', 54), ('provence', 54), ('ravi', 54), ('kdd', 54), ('surname', 54), ('disregard', 54), ('springs', 54), ('compieted', 54), ('cinema', 54), ('ruhlen', 54), ('passe', 54), ('assoc', 54), ('ln', 54), ('infusion', 54), ('estonian', 54), ('rb', 54), ('rosenberg', 54), ('wkap', 54), ('turner', 54), ('bls', 54), ('antecedents', 54), ('variability', 54), ('esca', 54), ('bibliographies', 54), ('rubio', 54), ('programmatic', 54), ('tur', 54), ('tcw', 54), ('maxaman', 54), ('signup', 53), ('congestion', 53), ('baumbach', 53), ('donation', 53), ('declare', 53), ('forme', 53), ('msg', 53), ('positives', 53), ('redundancy', 53), ('norbert', 53), ('powerpoint', 53), ('plurals', 53), ('decides', 53), ('mei', 53), ('marathon', 53), ('crow', 53), ('zyban', 53), ('theyll', 53), ('curry', 53), ('bye', 53), ('voyage', 53), ('authentic', 53), ('shipment', 53), ('slight', 53), ('correctness', 53), ('sampson', 53), ('tutoring', 53), ('colors', 53), ('republicans', 53), ('debian', 53), ('elaine', 53), ('elected', 53), ('yen', 53), ('mad', 53), ('utterly', 53), ('buildings', 53), ('inappropriate', 53), ('compromise', 53), ('builder', 53), ('supposedly', 53), ('mesa', 53), ('trusts', 53), ('vicki', 53), ('corruption', 53), ('flowed', 53), ('bailout', 53), ('dominique', 53), ('cowan', 53), ('gillian', 53), ('enhancements', 53), ('slides', 53), ('bio', 53), ('honolulu', 53), ('chicken', 53), ('shen', 53), ('viable', 53), ('suck', 53), ('beings', 53), ('readily', 53), ('tagged', 53), ('janeiro', 53), ('shooting', 53), ('tl', 53), ('tes', 53), ('numerical', 53), ('qty', 53), ('locality', 53), ('compares', 53), ('handful', 53), ('tamil', 53), ('supervision', 53), ('greedy', 53), ('xanaax', 53), ('needless', 53), ('ventura', 53), ('witness', 53), ('ferguson', 53), ('nesa', 53), ('controlling', 53), ('colspan', 53), ('albrecht', 53), ('kyoto', 53), ('stylistic', 53), ('ape', 53), ('bunt', 53), ('faber', 53), ('archaeology', 53), ('racer', 53), ('dogs', 53), ('ihre', 53), ('gail', 53), ('ait', 53), ('outlines', 53), ('gc', 53), ('embodied', 53), ('tal', 53), ('vita', 53), ('pefs', 53), ('toy', 52), ('treats', 52), ('bl', 52), ('nicole', 52), ('welch', 52), ('causatives', 52), ('premiums', 52), ('pereira', 52), ('ul', 52), ('intra', 52), ('itri', 52), ('fitzpatrick', 52), ('ei', 52), ('warnings', 52), ('literal', 52), ('jar', 52), ('severely', 52), ('lotto', 52), ('launching', 52), ('revamping', 52), ('publishes', 52), ('firstcome', 52), ('weakness', 52), ('spamassassindevel', 52), ('forma', 52), ('comprised', 52), ('extracts', 52), ('tobacco', 52), ('koehler', 52), ('activists', 52), ('frankly', 52), ('spite', 52), ('concludes', 52), ('interns', 52), ('chang', 52), ('imminent', 52), ('inventories', 52), ('prosperous', 52), ('backing', 52), ('influential', 52), ('swift', 52), ('habits', 52), ('sand', 52), ('tagger', 52), ('cr', 52), ('guilty', 52), ('levinson', 52), ('dietary', 52), ('unrestricted', 52), ('moderate', 52), ('phonetically', 52), ('gilbert', 52), ('gui', 52), ('wizard', 52), ('fascinating', 52), ('investigative', 52), ('tahoma', 52), ('warburg', 52), ('tolerance', 52), ('capacities', 52), ('emphasize', 52), ('renewal', 52), ('analogous', 52), ('sperm', 52), ('clips', 52), ('complained', 52), ('nevin', 52), ('coli', 52), ('regina', 52), ('streets', 52), ('cole', 52), ('referent', 52), ('onetime', 52), ('herman', 52), ('serif', 52), ('penetration', 52), ('brackets', 52), ('cape', 52), ('oder', 52), ('dth', 52), ('acceptability', 52), ('possessive', 52), ('outdoor', 52), ('relaxed', 52), ('inductive', 52), ('sci', 52), ('octobre', 52), ('persistence', 52), ('diurnal', 52), ('tft', 52), ('hulme', 52), ('survival', 52), ('tanaka', 52), ('yesno', 52), ('sind', 52), ('wendy', 52), ('momentum', 51), ('enlargement', 51), ('conservation', 51), ('react', 51), ('angles', 51), ('legislative', 51), ('sm', 51), ('consistency', 51), ('elegant', 51), ('upstream', 51), ('ebooks', 51), ('westfield', 51), ('unexpected', 51), ('lis', 51), ('formatted', 51), ('delancey', 51), ('invalid', 51), ('fountain', 51), ('efficiently', 51), ('corn', 51), ('neurolinguistics', 51), ('insufficient', 51), ('picasso', 51), ('postcard', 51), ('chemicals', 51), ('lifestyle', 51), ('inferences', 51), ('hormone', 51), ('koza', 51), ('proposing', 51), ('undertaking', 51), ('limitation', 51), ('spamassassindevellistssourceforgenet', 51), ('httpslistssourceforgenetlistslistinfospamassassindevel', 51), ('inst', 51), ('uhunix', 51), ('sus', 51), ('bridgeline', 51), ('nilo', 51), ('shelly', 51), ('ample', 51), ('flowing', 51), ('gurion', 51), ('subordination', 51), ('voluntary', 51), ('murder', 51), ('mel', 51), ('mailers', 51), ('coda', 51), ('stud', 51), ('worries', 51), ('etymological', 51), ('ousted', 51), ('qfs', 51), ('voutilainen', 51), ('chalmers', 51), ('walt', 51), ('nominate', 51), ('slash', 51), ('suspension', 51), ('surprisingly', 51), ('reportedly', 51), ('sachs', 51), ('caucasus', 51), ('nominative', 51), ('armed', 51), ('duesseldorf', 51), ('voicing', 51), ('freeman', 51), ('deux', 51), ('authentication', 51), ('gerald', 51), ('tucson', 51), ('cleanest', 51), ('bitbitchmagnesiumnet', 51), ('victims', 51), ('cada', 51), ('prix', 51), ('shipper', 51), ('nicolov', 51), ('dai', 51), ('fiiings', 51), ('peers', 51), ('socialism', 51), ('risked', 51), ('longdistance', 51), ('convertible', 51), ('uszkoreit', 51), ('injection', 51), ('annabel', 51), ('tcps', 51), ('cams', 51), ('capitalize', 51), ('connor', 51), ('balancing', 51), ('savage', 51), ('techlite', 51), ('bickerton', 51), ('starter', 51), ('englishes', 51), ('browne', 51), ('relatedness', 51), ('saves', 51), ('shock', 51), ('anders', 51), ('cree', 51), ('raskin', 51), ('lpl', 51), ('prescriptive', 51), ('grammaticality', 51), ('schiffrin', 51), ('refereeing', 51), ('diaz', 51), ('mclaughlin', 51), ('beesley', 51), ('coale', 51), ('reread', 51), ('frisian', 51), ('ejaculation', 51), ('ibuyit', 51), ('sperber', 51), ('guarani', 51), ('multilinguality', 51), ('parlevink', 51), ('anthea', 51), ('pike', 51), ('doit', 51), ('lexicology', 51), ('lingue', 51), ('sli', 51), ('regensburg', 51), ('roviana', 51), ('ceres', 51), ('rowlett', 51), ('anshuman', 51), ('chadia', 51), ('moghrabi', 51), ('fracas', 51), ('fhcg', 51), ('majesty', 51), ('wholes', 51), ('sns', 51), ('kornfilt', 51), ('sakao', 51), ('blackfoot', 51), ('icgi', 51), ('qualifies', 50), ('acton', 50), ('yields', 50), ('stan', 50), ('clearer', 50), ('prestige', 50), ('kings', 50), ('indicator', 50), ('precious', 50), ('kempson', 50), ('shopper', 50), ('carrier', 50), ('deficit', 50), ('imperial', 50), ('tourist', 50), ('lea', 50), ('topical', 50), ('capturing', 50), ('float', 50), ('worthy', 50), ('deserves', 50), ('defaults', 50), ('afterwards', 50), ('ears', 50), ('bosch', 50), ('theo', 50), ('weapon', 50), ('beijing', 50), ('unavailable', 50), ('cologne', 50), ('concert', 50), ('dirty', 50), ('sums', 50), ('distributions', 50), ('plato', 50), ('profiie', 50), ('sha', 50), ('clothing', 50), ('heating', 50), ('blanks', 50), ('equivalents', 50), ('omaha', 50), ('indexed', 50), ('unemployment', 50), ('questionable', 50), ('respectfully', 50), ('avoiding', 50), ('federation', 50), ('inviting', 50), ('protest', 50), ('procedural', 50), ('damages', 50), ('reeves', 50), ('unification', 50), ('enhancing', 50), ('iranian', 50), ('opacity', 50), ('alp', 50), ('omitted', 50), ('cafe', 50), ('borland', 50), ('solmonson', 50), ('crew', 50), ('cms', 50), ('nos', 50), ('averaged', 50), ('immigrants', 50), ('ethnicity', 50), ('collector', 50), ('motley', 50), ('lasting', 50), ('governance', 50), ('relies', 50), ('neighbor', 50), ('atmosphere', 50), ('baltic', 50), ('traci', 50), ('hernandez', 50), ('pier', 50), ('intimate', 50), ('shit', 50), ('bowl', 50), ('ballroom', 50), ('usable', 50), ('lc', 50), ('facsimile', 50), ('sylvia', 50), ('informatica', 50), ('bobby', 50), ('toutes', 50), ('chaired', 50), ('soc', 50), ('fillmore', 50), ('flora', 50), ('angel', 50), ('ithaca', 50), ('incorrectly', 50), ('theorem', 50), ('jens', 50), ('arrow', 50), ('postcards', 50), ('aphasia', 50), ('benedict', 50), ('habeas', 50), ('ypil', 50), ('precedence', 50), ('coates', 50), ('geographic', 49), ('deliberately', 49), ('attorneys', 49), ('belize', 49), ('equipped', 49), ('lagos', 49), ('functioning', 49), ('oldest', 49), ('governing', 49), ('premature', 49), ('taxonomy', 49), ('altogether', 49), ('proceeding', 49), ('processors', 49), ('encourages', 49), ('certainty', 49), ('lone', 49), ('xl', 49), ('fraudulent', 49), ('walsh', 49), ('hereto', 49), ('monkey', 49), ('hearer', 49), ('pledge', 49), ('foods', 49), ('erotic', 49), ('ahover', 49), ('maximally', 49), ('basket', 49), ('resident', 49), ('nicht', 49), ('scripting', 49), ('dma', 49), ('introductions', 49), ('todo', 49), ('arose', 49), ('culturally', 49), ('substitute', 49), ('prescribed', 49), ('labeled', 49), ('emirates', 49), ('aopen', 49), ('intellinet', 49), ('targus', 49), ('regime', 49), ('interviewed', 49), ('upward', 49), ('tens', 49), ('mou', 49), ('imperialism', 49), ('motivations', 49), ('francois', 49), ('hoc', 49), ('wheel', 49), ('twa', 49), ('ricardo', 49), ('fares', 49), ('butler', 49), ('elimination', 49), ('happily', 49), ('gs', 49), ('abacha', 49), ('mgmt', 49), ('egan', 49), ('carries', 49), ('sandy', 49), ('dyson', 49), ('kristina', 49), ('divide', 49), ('audition', 49), ('constructive', 49), ('cheney', 49), ('pres', 49), ('ims', 49), ('eighth', 49), ('bruno', 49), ('whitman', 49), ('correlates', 49), ('precision', 49), ('marta', 49), ('nowhere', 49), ('dd', 49), ('soldiers', 49), ('rex', 49), ('childhood', 49), ('lsrl', 49), ('krishnarao', 49), ('fault', 49), ('illustrates', 49), ('whos', 49), ('judges', 49), ('workflow', 49), ('aluminum', 49), ('jet', 49), ('audiovisual', 49), ('educated', 49), ('appropriately', 49), ('webster', 49), ('burst', 49), ('mccarty', 49), ('valencia', 49), ('profitability', 49), ('nam', 49), ('estimation', 49), ('parole', 49), ('toc', 49), ('myth', 49), ('dakota', 49), ('glm', 49), ('realnetworks', 49), ('informants', 49), ('esta', 49), ('httpuseperlorgcommentsplsidlinks', 49), ('lucia', 49), ('mln', 49), ('bonnie', 49), ('aiming', 49), ('glottal', 49), ('henk', 49), ('feat', 49), ('moo', 49), ('tls', 49), ('textaligncenter', 49), ('boardrooms', 49), ('rolete', 49), ('confirmations', 48), ('impacts', 48), ('interoperability', 48), ('drag', 48), ('nonspam', 48), ('graduates', 48), ('urgently', 48), ('compliant', 48), ('bands', 48), ('keio', 48), ('toilet', 48), ('cream', 48), ('hplo', 48), ('spreads', 48), ('nets', 48), ('upside', 48), ('bizarre', 48), ('ds', 48), ('wrap', 48), ('meridia', 48), ('janice', 48), ('quicktime', 48), ('dumb', 48), ('seemingly', 48), ('ste', 48), ('virgin', 48), ('credited', 48), ('recipe', 48), ('sublanguages', 48), ('blogging', 48), ('evolving', 48), ('accelerate', 48), ('lowcost', 48), ('avisited', 48), ('iconicity', 48), ('assistants', 48), ('specializes', 48), ('affecting', 48), ('photographs', 48), ('damaged', 48), ('luo', 48), ('stressed', 48), ('oliver', 48), ('lehman', 48), ('beiieve', 48), ('dish', 48), ('reporters', 48), ('dahl', 48), ('legacy', 48), ('allgemeine', 48), ('ccommand', 48), ('nero', 48), ('isdn', 48), ('slower', 48), ('teens', 48), ('hint', 48), ('intl', 48), ('frozen', 48), ('baa', 48), ('agreeing', 48), ('emnlp', 48), ('atro', 48), ('fulllength', 48), ('bernd', 48), ('newark', 48), ('hausser', 48), ('harsh', 48), ('billed', 48), ('sandi', 48), ('lend', 48), ('authoritative', 48), ('mci', 48), ('standalone', 48), ('lands', 48), ('highlighting', 48), ('faithfully', 48), ('assignee', 48), ('welcoming', 48), ('slim', 48), ('diachrony', 48), ('unprecedented', 48), ('coordinated', 48), ('climb', 48), ('packets', 48), ('notre', 48), ('defeat', 48), ('crm', 48), ('vcsc', 48), ('fortunes', 48), ('buddy', 48), ('hum', 48), ('strengthening', 48), ('occupation', 48), ('renew', 48), ('greenhouse', 48), ('dominated', 48), ('flames', 48), ('stein', 48), ('dialectal', 48), ('moderator', 48), ('username', 48), ('physicists', 48), ('irene', 48), ('dominion', 48), ('schuman', 48), ('shoot', 48), ('bars', 48), ('chimps', 48), ('paramount', 48), ('calif', 48), ('lexicographer', 48), ('clyne', 48), ('plot', 48), ('intensification', 48), ('rahil', 48), ('ishikawa', 48), ('hamp', 48), ('tibeto', 48), ('urged', 48), ('gloria', 48), ('instructors', 48), ('intersection', 48), ('immersion', 48), ('prager', 48), ('historia', 48), ('edwin', 48), ('rnd', 48), ('machinery', 48), ('seal', 48), ('longest', 48), ('stella', 48), ('syslync', 48), ('rdf', 48), ('peru', 48), ('hollywood', 48), ('roslin', 48), ('syntaxe', 48), ('tannen', 48), ('daelemans', 48), ('induce', 48), ('hung', 48), ('hartmann', 48), ('claw', 48), ('vanuatu', 48), ('bernstein', 48), ('kroch', 48), ('captain', 48), ('whphrases', 48), ('espanol', 48), ('exec', 48), ('chips', 48), ('netter', 48), ('lpx', 48), ('futuresignals', 48), ('elsevier', 48), ('entex', 48), ('wyngaerd', 48), ('ethnography', 48), ('celex', 48), ('anglais', 48), ('sigir', 48), ('overtly', 48), ('septembre', 48), ('pala', 48), ('httpblogssaloncom', 48), ('thematisation', 48), ('ambra', 48), ('ceth', 48), ('semilexical', 48), ('adjustment', 47), ('affix', 47), ('shlpplng', 47), ('professionally', 47), ('chao', 47), ('wolfe', 47), ('responsive', 47), ('ensuite', 47), ('forwardlooking', 47), ('stretch', 47), ('beverly', 47), ('tracked', 47), ('interference', 47), ('legs', 47), ('guardian', 47), ('dies', 47), ('genetically', 47), ('prevents', 47), ('characterized', 47), ('contributor', 47), ('diplomatic', 47), ('frustrated', 47), ('dormant', 47), ('textplain', 47), ('lexmark', 47), ('interstate', 47), ('lilo', 47), ('downward', 47), ('sin', 47), ('sorting', 47), ('basics', 47), ('exam', 47), ('toois', 47), ('meredith', 47), ('digest', 47), ('hadnt', 47), ('evansville', 47), ('ja', 47), ('cellular', 47), ('deduct', 47), ('uae', 47), ('elaborate', 47), ('courier', 47), ('kristen', 47), ('mitigation', 47), ('liens', 47), ('restriction', 47), ('reiease', 47), ('unemployed', 47), ('laurence', 47), ('killer', 47), ('episode', 47), ('shin', 47), ('surfing', 47), ('afghanistan', 47), ('barrett', 47), ('motorola', 47), ('marlin', 47), ('declining', 47), ('kuhn', 47), ('durch', 47), ('voting', 47), ('moen', 47), ('forked', 47), ('trojan', 47), ('vip', 47), ('juice', 47), ('httpwwwmithralcombeberg', 47), ('vegetarian', 47), ('pedro', 47), ('mutually', 47), ('partitions', 47), ('nw', 47), ('footnote', 47), ('conferencing', 47), ('foo', 47), ('finishing', 47), ('analytical', 47), ('yielding', 47), ('accompany', 47), ('rel', 47), ('mayor', 47), ('muni', 47), ('joshi', 47), ('robbie', 47), ('yuan', 47), ('bears', 47), ('attacker', 47), ('deployment', 47), ('everett', 47), ('bite', 47), ('forgive', 47), ('expired', 47), ('abel', 47), ('annie', 47), ('reversing', 47), ('foremost', 47), ('kal', 47), ('adapter', 47), ('budapest', 47), ('graeme', 47), ('aztecan', 47), ('wording', 47), ('sensible', 47), ('counted', 47), ('desktops', 47), ('halle', 47), ('avail', 47), ('coffey', 47), ('cecilia', 47), ('dorothy', 47), ('parc', 47), ('ccs', 47), ('lass', 47), ('brasil', 47), ('keenan', 47), ('wir', 47), ('tunis', 47), ('bombay', 47), ('dy', 47), ('nasa', 47), ('sheri', 47), ('snyder', 47), ('homme', 47), ('towers', 47), ('luther', 47), ('dislocation', 47), ('recognizing', 46), ('savvy', 46), ('advancing', 46), ('ninety', 46), ('duplication', 46), ('rohit', 46), ('walters', 46), ('sweeney', 46), ('severance', 46), ('discovering', 46), ('connectivity', 46), ('mandated', 46), ('egyptian', 46), ('masses', 46), ('twin', 46), ('entrepreneur', 46), ('rf', 46), ('passion', 46), ('expectation', 46), ('merged', 46), ('intending', 46), ('spa', 46), ('modifications', 46), ('ama', 46), ('fathers', 46), ('brennan', 46), ('profound', 46), ('guild', 46), ('dg', 46), ('disaster', 46), ('humble', 46), ('cute', 46), ('val', 46), ('yard', 46), ('strikes', 46), ('vague', 46), ('informacin', 46), ('concentrated', 46), ('xga', 46), ('interviewing', 46), ('chan', 46), ('pension', 46), ('correlations', 46), ('inputs', 46), ('hemisphere', 46), ('prehistory', 46), ('champion', 46), ('anxious', 46), ('cargo', 46), ('rsvp', 46), ('furnish', 46), ('civilian', 46), ('poses', 46), ('ko', 46), ('restrictive', 46), ('paragraphs', 46), ('boulder', 46), ('haas', 46), ('alexandra', 46), ('lengthy', 46), ('sudden', 46), ('rational', 46), ('scanned', 46), ('stamp', 46), ('alfred', 46), ('networked', 46), ('discretion', 46), ('consecutive', 46), ('gtc', 46), ('preregister', 46), ('remembered', 46), ('campos', 46), ('albuquerque', 46), ('diskette', 46), ('guenter', 46), ('loud', 46), ('dmca', 46), ('laptops', 46), ('radically', 46), ('frustrating', 46), ('df', 46), ('assisting', 46), ('gco', 46), ('stern', 46), ('advancement', 46), ('strive', 46), ('reorganization', 46), ('comprehend', 46), ('hunger', 46), ('reimburse', 46), ('grass', 46), ('goto', 46), ('pascal', 46), ('wasted', 46), ('diesel', 46), ('adj', 46), ('disposition', 46), ('paolo', 46), ('orchard', 46), ('uto', 46), ('hermann', 46), ('outsourcing', 46), ('woodbury', 46), ('dist', 46), ('lamphier', 46), ('superty', 46), ('felix', 46), ('swahili', 46), ('nucleus', 46), ('eott', 46), ('marriott', 46), ('millenium', 46), ('hgh', 46), ('justified', 46), ('attraction', 46), ('talented', 46), ('coombs', 46), ('plaintiff', 46), ('igtt', 46), ('laval', 46), ('tn', 46), ('assigning', 46), ('nunes', 46), ('ek', 46), ('princess', 46), ('hk', 46), ('gtk', 46), ('hillsdale', 46), ('bloomfield', 46), ('elle', 46), ('cardiff', 46), ('ofs', 46), ('ftar', 46), ('sons', 45), ('cwtd', 45), ('unhappy', 45), ('depot', 45), ('corrections', 45), ('poorly', 45), ('periodically', 45), ('asymmetries', 45), ('milnthorp', 45), ('logically', 45), ('reductions', 45), ('abidjan', 45), ('adapt', 45), ('vain', 45), ('peopie', 45), ('sempra', 45), ('rendering', 45), ('vioxx', 45), ('propecia', 45), ('fancy', 45), ('postmarked', 45), ('peek', 45), ('sq', 45), ('joy', 45), ('typologically', 45), ('cheating', 45), ('disseminate', 45), ('dir', 45), ('dep', 45), ('kills', 45), ('pioneering', 45), ('plastic', 45), ('pin', 45), ('behave', 45), ('optimize', 45), ('boguraev', 45), ('scientist', 45), ('aactive', 45), ('excelled', 45), ('particulars', 45), ('lange', 45), ('emerges', 45), ('carey', 45), ('audiences', 45), ('ironic', 45), ('gg', 45), ('wald', 45), ('alternates', 45), ('omega', 45), ('buckley', 45), ('knight', 45), ('uchicago', 45), ('strangers', 45), ('versa', 45), ('saussure', 45), ('levi', 45), ('mandate', 45), ('highspeed', 45), ('encode', 45), ('needing', 45), ('chamber', 45), ('threatening', 45), ('bal', 45), ('matched', 45), ('uebersetzung', 45), ('disputes', 45), ('sovereign', 45)]\n"
          ]
        }
      ]
    },
    {
      "cell_type": "markdown",
      "source": [
        "**More Data Analysis on Text Set**"
      ],
      "metadata": {
        "id": "PSAVZhuW-jI6"
      }
    },
    {
      "cell_type": "code",
      "source": [
        "# most_common_words = counter.most_common(1)\n",
        "#print(most_common_words[0][0])\n",
        "#common_word = most_common_words[0][0]\n",
        "COEF = 0.50\n",
        "most_common_words = counter.most_common(50)\n",
        "common_word_ref_safe = []\n",
        "common_word_ref_phish = []\n",
        "for common_word in most_common_words:\n",
        "  phishing_count = 0\n",
        "  safe_count = 0\n",
        "  for index, row in df.iterrows():\n",
        "    if common_word[0] in row['Email Text']:\n",
        "      if row['Email Type'] == 'Safe Email':\n",
        "        # df.at[index, 'Email Type'] = 'Phishing Email'\n",
        "        safe_count += 1\n",
        "      else:\n",
        "        # df.at[index, 'Email Type'] = 'Safe Email'\n",
        "        phishing_count += 1\n",
        "\n",
        "  # if phishing_count < safe_count and phishing_count / safe_count < COEF:\n",
        "  if phishing_count > safe_count and phishing_count:\n",
        "    # df.at[index, 'Email Type'] = 'Safe Email'\n",
        "    common_word_ref_phish.append(common_word[0])\n",
        "    #print(f'Phishing Count: {phishing_count}')\n",
        "    #print(f'Safe Count: {safe_count}\\n')\n",
        "  elif phishing_count < safe_count and safe_count:\n",
        "    # df.at[index, 'Email Type'] = 'Phishing Email'\n",
        "    common_word_ref_safe.append(common_word[0])\n",
        "    #common_word_ref_safes[common_word[0]] = {\n",
        "    #    'phishing_count': phishing_count,\n",
        "    #    'safe_count': safe_count\n",
        "    #}\n",
        "print('Total Safe Common Words:', len(common_word_ref_safe))\n",
        "print('Total Phishing Common Words:', len(common_word_ref_phish))\n",
        "#word_list = dict(zip(most_common_words[0], most_common_words[1]))"
      ],
      "metadata": {
        "colab": {
          "base_uri": "https://localhost:8080/"
        },
        "id": "3bp6nVVs-ixJ",
        "outputId": "3c009171-eec1-45ad-fb5e-66d3822fd0aa"
      },
      "execution_count": null,
      "outputs": [
        {
          "output_type": "stream",
          "name": "stdout",
          "text": [
            "Total Safe Common Words: 44\n",
            "Total Phishing Common Words: 6\n"
          ]
        }
      ]
    },
    {
      "cell_type": "code",
      "source": [
        "import random\n",
        "mal_X = X_train.copy()\n",
        "\n",
        "count = 0\n",
        "safe_poison_count = 0\n",
        "phishing_poison_count = 0\n",
        "for text in mal_X:\n",
        "  # safe list\n",
        "  #if y_train[count] == 'Safe Email':\n",
        "  #  mal_X[count] = text.replace(common_word, random.choice(common_word_ref_phish))\n",
        "  #  safe_poison_count\n",
        "  #else:\n",
        "  #  mal_X[count] = text.replace(common_word, random.choice(common_word_ref_safe))\n",
        "  #  phishing_poison_count += 1\n",
        "\n",
        "  for common_word in common_word_ref_safe:\n",
        "    if common_word in text and y_train[count] == 'Safe Email':\n",
        "      mal_X[count] = text.replace(common_word, random.choice(common_word_ref_phish))\n",
        "      safe_poison_count += 1\n",
        "  # phishing list\n",
        "  for common_word in common_word_ref_phish:\n",
        "    if common_word in text and y_train[count] == 'Phishing Email':\n",
        "      mal_X[count] = text.replace(common_word, random.choice(common_word_ref_safe))\n",
        "      phishing_poison_count += 1\n",
        "  count += 1\n",
        "\n",
        "print(mal_X.shape)\n",
        "print(y_train.shape)\n",
        "print('Total Poisoned Safe Entries:', safe_poison_count)\n",
        "print('Total Poisoned Phishing Entries:', phishing_poison_count)"
      ],
      "metadata": {
        "colab": {
          "base_uri": "https://localhost:8080/"
        },
        "id": "EmzG2-4Bv9yy",
        "outputId": "c2a75d2e-a90e-42ec-9bb4-41fb2bc2ab61"
      },
      "execution_count": null,
      "outputs": [
        {
          "output_type": "stream",
          "name": "stdout",
          "text": [
            "(14030,)\n",
            "(14030,)\n",
            "Total Poisoned Safe Entries: 115590\n",
            "Total Poisoned Phishing Entries: 6352\n"
          ]
        }
      ]
    },
    {
      "cell_type": "code",
      "source": [
        "# most_common_words = counter.most_common(1)\n",
        "#print(most_common_words[0][0])\n",
        "#common_word = most_common_words[0][0]\n",
        "COEF = 0.33\n",
        "most_common_words = counter.most_common(10)\n",
        "common_word_ref = {}\n",
        "for common_word in most_common_words:\n",
        "  phishing_count = 0\n",
        "  safe_count = 0\n",
        "  for index, row in df.iterrows():\n",
        "    if common_word[0] in row['Email Text']:\n",
        "      if row['Email Type'] == 'Safe Email':\n",
        "        # df.at[index, 'Email Type'] = 'Phishing Email'\n",
        "        safe_count += 1\n",
        "      else:\n",
        "        # df.at[index, 'Email Type'] = 'Safe Email'\n",
        "        phishing_count += 1\n",
        "\n",
        "  if phishing_count < safe_count and phishing_count / safe_count < COEF:\n",
        "    # df.at[index, 'Email Type'] = 'Safe Email'\n",
        "    common_word_ref[common_word[0]] = {\n",
        "        'phishing_count': phishing_count,\n",
        "        'safe_count': safe_count\n",
        "    }\n",
        "    print(f'Common Word: {common_word[0]}, Count: {common_word[1]}')\n",
        "    print(f'Phishing Count: {phishing_count}')\n",
        "    print(f'Safe Count: {safe_count}\\n')\n",
        "\n",
        "#word_list = dict(zip(most_common_words[0], most_common_words[1]))"
      ],
      "metadata": {
        "colab": {
          "base_uri": "https://localhost:8080/"
        },
        "id": "3_YkMmD6tiw8",
        "outputId": "151c0362-8efa-4a0c-9b73-0a6848ab04da"
      },
      "execution_count": null,
      "outputs": [
        {
          "output_type": "stream",
          "name": "stdout",
          "text": [
            "Common Word: enron, Count: 17841\n",
            "Phishing Count: 1\n",
            "Safe Count: 2264\n",
            "\n",
            "Common Word: university, Count: 17233\n",
            "Phishing Count: 43\n",
            "Safe Count: 1492\n",
            "\n",
            "Common Word: language, Count: 16892\n",
            "Phishing Count: 92\n",
            "Safe Count: 1622\n",
            "\n",
            "Common Word: subject, Count: 11993\n",
            "Phishing Count: 823\n",
            "Safe Count: 2549\n",
            "\n"
          ]
        }
      ]
    },
    {
      "cell_type": "code",
      "source": [],
      "metadata": {
        "id": "shhRelJwta8R"
      },
      "execution_count": null,
      "outputs": []
    },
    {
      "cell_type": "code",
      "source": [
        "#print(common_word_ref_phish)\n",
        "#print(common_word_ref_safe)"
      ],
      "metadata": {
        "colab": {
          "base_uri": "https://localhost:8080/"
        },
        "id": "2S_wFTN9pDZ9",
        "outputId": "f261014d-c499-40ea-f88f-7ebb98088899"
      },
      "execution_count": null,
      "outputs": [
        {
          "output_type": "stream",
          "name": "stdout",
          "text": [
            "['email']\n",
            "['enron', 'university', 'language', 'one', 'information', 'please', 'new', 'would', 'subject']\n"
          ]
        }
      ]
    },
    {
      "cell_type": "markdown",
      "source": [
        "**Poisoning Dataset**"
      ],
      "metadata": {
        "id": "Q2lDSCjbGpGO"
      }
    },
    {
      "cell_type": "code",
      "source": [
        "mal_X = X_train.copy()\n",
        "print(type(mal_X[0]))\n",
        "print(mal_X.shape)\n",
        "print(list(common_word_ref.keys()))\n",
        "count = 0\n",
        "poison_count = 0\n",
        "for text in mal_X:\n",
        "  for common_word in list(common_word_ref.keys()):\n",
        "    if common_word in text and y_train[count] == 'Safe Email':\n",
        "      mal_X[count] = text.replace(common_word, 'spam')\n",
        "      poison_count += 1\n",
        "  count += 1\n",
        "\n",
        "print(mal_X.shape)\n",
        "print(y_train.shape)\n",
        "print('Total Poisoned Entries:', poison_count)\n"
      ],
      "metadata": {
        "colab": {
          "base_uri": "https://localhost:8080/"
        },
        "id": "RjSlnYDtGrp_",
        "outputId": "08f77fcd-35c2-4939-a2c9-a9ce5c9ff302"
      },
      "execution_count": null,
      "outputs": [
        {
          "output_type": "stream",
          "name": "stdout",
          "text": [
            "<class 'str'>\n",
            "(14030,)\n",
            "['enron', 'university', 'language', 'subject']\n",
            "(14030,)\n",
            "(14030,)\n",
            "Total Poisoned Entries: 6343\n"
          ]
        }
      ]
    },
    {
      "cell_type": "markdown",
      "source": [
        "**Training Poison Model**"
      ],
      "metadata": {
        "id": "LEvdNtkIPzPE"
      }
    },
    {
      "cell_type": "code",
      "source": [
        "#ap2_X_train, ap2_X_test, ap2_y_train, ap2_y_test = train_test_split(mal_X, Y, test_size=0.2, random_state = 101)\n",
        "#print(\"\\n X_train Shape: \", ap2_X_train.shape)\n",
        "#print(\"\\n X_test Shape: \", ap2_X_test.shape)\n",
        "#print(\"\\n y_train  Shape: \", ap2_y_train.shape)\n",
        "#print(\"\\n y_test Shape: \", ap2_y_test.shape)\n",
        "\n",
        "poison_classifier = Pipeline([(\"tfidf\",TfidfVectorizer() ),(\"classifier\",RandomForestClassifier(n_estimators=10))])\n",
        "poison_classifier.fit(mal_X,y_train)"
      ],
      "metadata": {
        "colab": {
          "base_uri": "https://localhost:8080/",
          "height": 142
        },
        "id": "q-mX4FqTPx2u",
        "outputId": "269e044e-6de8-41b7-d323-c53cf1066660"
      },
      "execution_count": null,
      "outputs": [
        {
          "output_type": "execute_result",
          "data": {
            "text/plain": [
              "Pipeline(steps=[('tfidf', TfidfVectorizer()),\n",
              "                ('classifier', RandomForestClassifier(n_estimators=10))])"
            ],
            "text/html": [
              "<style>#sk-container-id-12 {\n",
              "  /* Definition of color scheme common for light and dark mode */\n",
              "  --sklearn-color-text: black;\n",
              "  --sklearn-color-line: gray;\n",
              "  /* Definition of color scheme for unfitted estimators */\n",
              "  --sklearn-color-unfitted-level-0: #fff5e6;\n",
              "  --sklearn-color-unfitted-level-1: #f6e4d2;\n",
              "  --sklearn-color-unfitted-level-2: #ffe0b3;\n",
              "  --sklearn-color-unfitted-level-3: chocolate;\n",
              "  /* Definition of color scheme for fitted estimators */\n",
              "  --sklearn-color-fitted-level-0: #f0f8ff;\n",
              "  --sklearn-color-fitted-level-1: #d4ebff;\n",
              "  --sklearn-color-fitted-level-2: #b3dbfd;\n",
              "  --sklearn-color-fitted-level-3: cornflowerblue;\n",
              "\n",
              "  /* Specific color for light theme */\n",
              "  --sklearn-color-text-on-default-background: var(--sg-text-color, var(--theme-code-foreground, var(--jp-content-font-color1, black)));\n",
              "  --sklearn-color-background: var(--sg-background-color, var(--theme-background, var(--jp-layout-color0, white)));\n",
              "  --sklearn-color-border-box: var(--sg-text-color, var(--theme-code-foreground, var(--jp-content-font-color1, black)));\n",
              "  --sklearn-color-icon: #696969;\n",
              "\n",
              "  @media (prefers-color-scheme: dark) {\n",
              "    /* Redefinition of color scheme for dark theme */\n",
              "    --sklearn-color-text-on-default-background: var(--sg-text-color, var(--theme-code-foreground, var(--jp-content-font-color1, white)));\n",
              "    --sklearn-color-background: var(--sg-background-color, var(--theme-background, var(--jp-layout-color0, #111)));\n",
              "    --sklearn-color-border-box: var(--sg-text-color, var(--theme-code-foreground, var(--jp-content-font-color1, white)));\n",
              "    --sklearn-color-icon: #878787;\n",
              "  }\n",
              "}\n",
              "\n",
              "#sk-container-id-12 {\n",
              "  color: var(--sklearn-color-text);\n",
              "}\n",
              "\n",
              "#sk-container-id-12 pre {\n",
              "  padding: 0;\n",
              "}\n",
              "\n",
              "#sk-container-id-12 input.sk-hidden--visually {\n",
              "  border: 0;\n",
              "  clip: rect(1px 1px 1px 1px);\n",
              "  clip: rect(1px, 1px, 1px, 1px);\n",
              "  height: 1px;\n",
              "  margin: -1px;\n",
              "  overflow: hidden;\n",
              "  padding: 0;\n",
              "  position: absolute;\n",
              "  width: 1px;\n",
              "}\n",
              "\n",
              "#sk-container-id-12 div.sk-dashed-wrapped {\n",
              "  border: 1px dashed var(--sklearn-color-line);\n",
              "  margin: 0 0.4em 0.5em 0.4em;\n",
              "  box-sizing: border-box;\n",
              "  padding-bottom: 0.4em;\n",
              "  background-color: var(--sklearn-color-background);\n",
              "}\n",
              "\n",
              "#sk-container-id-12 div.sk-container {\n",
              "  /* jupyter's `normalize.less` sets `[hidden] { display: none; }`\n",
              "     but bootstrap.min.css set `[hidden] { display: none !important; }`\n",
              "     so we also need the `!important` here to be able to override the\n",
              "     default hidden behavior on the sphinx rendered scikit-learn.org.\n",
              "     See: https://github.com/scikit-learn/scikit-learn/issues/21755 */\n",
              "  display: inline-block !important;\n",
              "  position: relative;\n",
              "}\n",
              "\n",
              "#sk-container-id-12 div.sk-text-repr-fallback {\n",
              "  display: none;\n",
              "}\n",
              "\n",
              "div.sk-parallel-item,\n",
              "div.sk-serial,\n",
              "div.sk-item {\n",
              "  /* draw centered vertical line to link estimators */\n",
              "  background-image: linear-gradient(var(--sklearn-color-text-on-default-background), var(--sklearn-color-text-on-default-background));\n",
              "  background-size: 2px 100%;\n",
              "  background-repeat: no-repeat;\n",
              "  background-position: center center;\n",
              "}\n",
              "\n",
              "/* Parallel-specific style estimator block */\n",
              "\n",
              "#sk-container-id-12 div.sk-parallel-item::after {\n",
              "  content: \"\";\n",
              "  width: 100%;\n",
              "  border-bottom: 2px solid var(--sklearn-color-text-on-default-background);\n",
              "  flex-grow: 1;\n",
              "}\n",
              "\n",
              "#sk-container-id-12 div.sk-parallel {\n",
              "  display: flex;\n",
              "  align-items: stretch;\n",
              "  justify-content: center;\n",
              "  background-color: var(--sklearn-color-background);\n",
              "  position: relative;\n",
              "}\n",
              "\n",
              "#sk-container-id-12 div.sk-parallel-item {\n",
              "  display: flex;\n",
              "  flex-direction: column;\n",
              "}\n",
              "\n",
              "#sk-container-id-12 div.sk-parallel-item:first-child::after {\n",
              "  align-self: flex-end;\n",
              "  width: 50%;\n",
              "}\n",
              "\n",
              "#sk-container-id-12 div.sk-parallel-item:last-child::after {\n",
              "  align-self: flex-start;\n",
              "  width: 50%;\n",
              "}\n",
              "\n",
              "#sk-container-id-12 div.sk-parallel-item:only-child::after {\n",
              "  width: 0;\n",
              "}\n",
              "\n",
              "/* Serial-specific style estimator block */\n",
              "\n",
              "#sk-container-id-12 div.sk-serial {\n",
              "  display: flex;\n",
              "  flex-direction: column;\n",
              "  align-items: center;\n",
              "  background-color: var(--sklearn-color-background);\n",
              "  padding-right: 1em;\n",
              "  padding-left: 1em;\n",
              "}\n",
              "\n",
              "\n",
              "/* Toggleable style: style used for estimator/Pipeline/ColumnTransformer box that is\n",
              "clickable and can be expanded/collapsed.\n",
              "- Pipeline and ColumnTransformer use this feature and define the default style\n",
              "- Estimators will overwrite some part of the style using the `sk-estimator` class\n",
              "*/\n",
              "\n",
              "/* Pipeline and ColumnTransformer style (default) */\n",
              "\n",
              "#sk-container-id-12 div.sk-toggleable {\n",
              "  /* Default theme specific background. It is overwritten whether we have a\n",
              "  specific estimator or a Pipeline/ColumnTransformer */\n",
              "  background-color: var(--sklearn-color-background);\n",
              "}\n",
              "\n",
              "/* Toggleable label */\n",
              "#sk-container-id-12 label.sk-toggleable__label {\n",
              "  cursor: pointer;\n",
              "  display: block;\n",
              "  width: 100%;\n",
              "  margin-bottom: 0;\n",
              "  padding: 0.5em;\n",
              "  box-sizing: border-box;\n",
              "  text-align: center;\n",
              "}\n",
              "\n",
              "#sk-container-id-12 label.sk-toggleable__label-arrow:before {\n",
              "  /* Arrow on the left of the label */\n",
              "  content: \"▸\";\n",
              "  float: left;\n",
              "  margin-right: 0.25em;\n",
              "  color: var(--sklearn-color-icon);\n",
              "}\n",
              "\n",
              "#sk-container-id-12 label.sk-toggleable__label-arrow:hover:before {\n",
              "  color: var(--sklearn-color-text);\n",
              "}\n",
              "\n",
              "/* Toggleable content - dropdown */\n",
              "\n",
              "#sk-container-id-12 div.sk-toggleable__content {\n",
              "  max-height: 0;\n",
              "  max-width: 0;\n",
              "  overflow: hidden;\n",
              "  text-align: left;\n",
              "  /* unfitted */\n",
              "  background-color: var(--sklearn-color-unfitted-level-0);\n",
              "}\n",
              "\n",
              "#sk-container-id-12 div.sk-toggleable__content.fitted {\n",
              "  /* fitted */\n",
              "  background-color: var(--sklearn-color-fitted-level-0);\n",
              "}\n",
              "\n",
              "#sk-container-id-12 div.sk-toggleable__content pre {\n",
              "  margin: 0.2em;\n",
              "  border-radius: 0.25em;\n",
              "  color: var(--sklearn-color-text);\n",
              "  /* unfitted */\n",
              "  background-color: var(--sklearn-color-unfitted-level-0);\n",
              "}\n",
              "\n",
              "#sk-container-id-12 div.sk-toggleable__content.fitted pre {\n",
              "  /* unfitted */\n",
              "  background-color: var(--sklearn-color-fitted-level-0);\n",
              "}\n",
              "\n",
              "#sk-container-id-12 input.sk-toggleable__control:checked~div.sk-toggleable__content {\n",
              "  /* Expand drop-down */\n",
              "  max-height: 200px;\n",
              "  max-width: 100%;\n",
              "  overflow: auto;\n",
              "}\n",
              "\n",
              "#sk-container-id-12 input.sk-toggleable__control:checked~label.sk-toggleable__label-arrow:before {\n",
              "  content: \"▾\";\n",
              "}\n",
              "\n",
              "/* Pipeline/ColumnTransformer-specific style */\n",
              "\n",
              "#sk-container-id-12 div.sk-label input.sk-toggleable__control:checked~label.sk-toggleable__label {\n",
              "  color: var(--sklearn-color-text);\n",
              "  background-color: var(--sklearn-color-unfitted-level-2);\n",
              "}\n",
              "\n",
              "#sk-container-id-12 div.sk-label.fitted input.sk-toggleable__control:checked~label.sk-toggleable__label {\n",
              "  background-color: var(--sklearn-color-fitted-level-2);\n",
              "}\n",
              "\n",
              "/* Estimator-specific style */\n",
              "\n",
              "/* Colorize estimator box */\n",
              "#sk-container-id-12 div.sk-estimator input.sk-toggleable__control:checked~label.sk-toggleable__label {\n",
              "  /* unfitted */\n",
              "  background-color: var(--sklearn-color-unfitted-level-2);\n",
              "}\n",
              "\n",
              "#sk-container-id-12 div.sk-estimator.fitted input.sk-toggleable__control:checked~label.sk-toggleable__label {\n",
              "  /* fitted */\n",
              "  background-color: var(--sklearn-color-fitted-level-2);\n",
              "}\n",
              "\n",
              "#sk-container-id-12 div.sk-label label.sk-toggleable__label,\n",
              "#sk-container-id-12 div.sk-label label {\n",
              "  /* The background is the default theme color */\n",
              "  color: var(--sklearn-color-text-on-default-background);\n",
              "}\n",
              "\n",
              "/* On hover, darken the color of the background */\n",
              "#sk-container-id-12 div.sk-label:hover label.sk-toggleable__label {\n",
              "  color: var(--sklearn-color-text);\n",
              "  background-color: var(--sklearn-color-unfitted-level-2);\n",
              "}\n",
              "\n",
              "/* Label box, darken color on hover, fitted */\n",
              "#sk-container-id-12 div.sk-label.fitted:hover label.sk-toggleable__label.fitted {\n",
              "  color: var(--sklearn-color-text);\n",
              "  background-color: var(--sklearn-color-fitted-level-2);\n",
              "}\n",
              "\n",
              "/* Estimator label */\n",
              "\n",
              "#sk-container-id-12 div.sk-label label {\n",
              "  font-family: monospace;\n",
              "  font-weight: bold;\n",
              "  display: inline-block;\n",
              "  line-height: 1.2em;\n",
              "}\n",
              "\n",
              "#sk-container-id-12 div.sk-label-container {\n",
              "  text-align: center;\n",
              "}\n",
              "\n",
              "/* Estimator-specific */\n",
              "#sk-container-id-12 div.sk-estimator {\n",
              "  font-family: monospace;\n",
              "  border: 1px dotted var(--sklearn-color-border-box);\n",
              "  border-radius: 0.25em;\n",
              "  box-sizing: border-box;\n",
              "  margin-bottom: 0.5em;\n",
              "  /* unfitted */\n",
              "  background-color: var(--sklearn-color-unfitted-level-0);\n",
              "}\n",
              "\n",
              "#sk-container-id-12 div.sk-estimator.fitted {\n",
              "  /* fitted */\n",
              "  background-color: var(--sklearn-color-fitted-level-0);\n",
              "}\n",
              "\n",
              "/* on hover */\n",
              "#sk-container-id-12 div.sk-estimator:hover {\n",
              "  /* unfitted */\n",
              "  background-color: var(--sklearn-color-unfitted-level-2);\n",
              "}\n",
              "\n",
              "#sk-container-id-12 div.sk-estimator.fitted:hover {\n",
              "  /* fitted */\n",
              "  background-color: var(--sklearn-color-fitted-level-2);\n",
              "}\n",
              "\n",
              "/* Specification for estimator info (e.g. \"i\" and \"?\") */\n",
              "\n",
              "/* Common style for \"i\" and \"?\" */\n",
              "\n",
              ".sk-estimator-doc-link,\n",
              "a:link.sk-estimator-doc-link,\n",
              "a:visited.sk-estimator-doc-link {\n",
              "  float: right;\n",
              "  font-size: smaller;\n",
              "  line-height: 1em;\n",
              "  font-family: monospace;\n",
              "  background-color: var(--sklearn-color-background);\n",
              "  border-radius: 1em;\n",
              "  height: 1em;\n",
              "  width: 1em;\n",
              "  text-decoration: none !important;\n",
              "  margin-left: 1ex;\n",
              "  /* unfitted */\n",
              "  border: var(--sklearn-color-unfitted-level-1) 1pt solid;\n",
              "  color: var(--sklearn-color-unfitted-level-1);\n",
              "}\n",
              "\n",
              ".sk-estimator-doc-link.fitted,\n",
              "a:link.sk-estimator-doc-link.fitted,\n",
              "a:visited.sk-estimator-doc-link.fitted {\n",
              "  /* fitted */\n",
              "  border: var(--sklearn-color-fitted-level-1) 1pt solid;\n",
              "  color: var(--sklearn-color-fitted-level-1);\n",
              "}\n",
              "\n",
              "/* On hover */\n",
              "div.sk-estimator:hover .sk-estimator-doc-link:hover,\n",
              ".sk-estimator-doc-link:hover,\n",
              "div.sk-label-container:hover .sk-estimator-doc-link:hover,\n",
              ".sk-estimator-doc-link:hover {\n",
              "  /* unfitted */\n",
              "  background-color: var(--sklearn-color-unfitted-level-3);\n",
              "  color: var(--sklearn-color-background);\n",
              "  text-decoration: none;\n",
              "}\n",
              "\n",
              "div.sk-estimator.fitted:hover .sk-estimator-doc-link.fitted:hover,\n",
              ".sk-estimator-doc-link.fitted:hover,\n",
              "div.sk-label-container:hover .sk-estimator-doc-link.fitted:hover,\n",
              ".sk-estimator-doc-link.fitted:hover {\n",
              "  /* fitted */\n",
              "  background-color: var(--sklearn-color-fitted-level-3);\n",
              "  color: var(--sklearn-color-background);\n",
              "  text-decoration: none;\n",
              "}\n",
              "\n",
              "/* Span, style for the box shown on hovering the info icon */\n",
              ".sk-estimator-doc-link span {\n",
              "  display: none;\n",
              "  z-index: 9999;\n",
              "  position: relative;\n",
              "  font-weight: normal;\n",
              "  right: .2ex;\n",
              "  padding: .5ex;\n",
              "  margin: .5ex;\n",
              "  width: min-content;\n",
              "  min-width: 20ex;\n",
              "  max-width: 50ex;\n",
              "  color: var(--sklearn-color-text);\n",
              "  box-shadow: 2pt 2pt 4pt #999;\n",
              "  /* unfitted */\n",
              "  background: var(--sklearn-color-unfitted-level-0);\n",
              "  border: .5pt solid var(--sklearn-color-unfitted-level-3);\n",
              "}\n",
              "\n",
              ".sk-estimator-doc-link.fitted span {\n",
              "  /* fitted */\n",
              "  background: var(--sklearn-color-fitted-level-0);\n",
              "  border: var(--sklearn-color-fitted-level-3);\n",
              "}\n",
              "\n",
              ".sk-estimator-doc-link:hover span {\n",
              "  display: block;\n",
              "}\n",
              "\n",
              "/* \"?\"-specific style due to the `<a>` HTML tag */\n",
              "\n",
              "#sk-container-id-12 a.estimator_doc_link {\n",
              "  float: right;\n",
              "  font-size: 1rem;\n",
              "  line-height: 1em;\n",
              "  font-family: monospace;\n",
              "  background-color: var(--sklearn-color-background);\n",
              "  border-radius: 1rem;\n",
              "  height: 1rem;\n",
              "  width: 1rem;\n",
              "  text-decoration: none;\n",
              "  /* unfitted */\n",
              "  color: var(--sklearn-color-unfitted-level-1);\n",
              "  border: var(--sklearn-color-unfitted-level-1) 1pt solid;\n",
              "}\n",
              "\n",
              "#sk-container-id-12 a.estimator_doc_link.fitted {\n",
              "  /* fitted */\n",
              "  border: var(--sklearn-color-fitted-level-1) 1pt solid;\n",
              "  color: var(--sklearn-color-fitted-level-1);\n",
              "}\n",
              "\n",
              "/* On hover */\n",
              "#sk-container-id-12 a.estimator_doc_link:hover {\n",
              "  /* unfitted */\n",
              "  background-color: var(--sklearn-color-unfitted-level-3);\n",
              "  color: var(--sklearn-color-background);\n",
              "  text-decoration: none;\n",
              "}\n",
              "\n",
              "#sk-container-id-12 a.estimator_doc_link.fitted:hover {\n",
              "  /* fitted */\n",
              "  background-color: var(--sklearn-color-fitted-level-3);\n",
              "}\n",
              "</style><div id=\"sk-container-id-12\" class=\"sk-top-container\"><div class=\"sk-text-repr-fallback\"><pre>Pipeline(steps=[(&#x27;tfidf&#x27;, TfidfVectorizer()),\n",
              "                (&#x27;classifier&#x27;, RandomForestClassifier(n_estimators=10))])</pre><b>In a Jupyter environment, please rerun this cell to show the HTML representation or trust the notebook. <br />On GitHub, the HTML representation is unable to render, please try loading this page with nbviewer.org.</b></div><div class=\"sk-container\" hidden><div class=\"sk-item sk-dashed-wrapped\"><div class=\"sk-label-container\"><div class=\"sk-label fitted sk-toggleable\"><input class=\"sk-toggleable__control sk-hidden--visually\" id=\"sk-estimator-id-34\" type=\"checkbox\" ><label for=\"sk-estimator-id-34\" class=\"sk-toggleable__label fitted sk-toggleable__label-arrow fitted\">&nbsp;&nbsp;Pipeline<a class=\"sk-estimator-doc-link fitted\" rel=\"noreferrer\" target=\"_blank\" href=\"https://scikit-learn.org/1.5/modules/generated/sklearn.pipeline.Pipeline.html\">?<span>Documentation for Pipeline</span></a><span class=\"sk-estimator-doc-link fitted\">i<span>Fitted</span></span></label><div class=\"sk-toggleable__content fitted\"><pre>Pipeline(steps=[(&#x27;tfidf&#x27;, TfidfVectorizer()),\n",
              "                (&#x27;classifier&#x27;, RandomForestClassifier(n_estimators=10))])</pre></div> </div></div><div class=\"sk-serial\"><div class=\"sk-item\"><div class=\"sk-estimator fitted sk-toggleable\"><input class=\"sk-toggleable__control sk-hidden--visually\" id=\"sk-estimator-id-35\" type=\"checkbox\" ><label for=\"sk-estimator-id-35\" class=\"sk-toggleable__label fitted sk-toggleable__label-arrow fitted\">&nbsp;TfidfVectorizer<a class=\"sk-estimator-doc-link fitted\" rel=\"noreferrer\" target=\"_blank\" href=\"https://scikit-learn.org/1.5/modules/generated/sklearn.feature_extraction.text.TfidfVectorizer.html\">?<span>Documentation for TfidfVectorizer</span></a></label><div class=\"sk-toggleable__content fitted\"><pre>TfidfVectorizer()</pre></div> </div></div><div class=\"sk-item\"><div class=\"sk-estimator fitted sk-toggleable\"><input class=\"sk-toggleable__control sk-hidden--visually\" id=\"sk-estimator-id-36\" type=\"checkbox\" ><label for=\"sk-estimator-id-36\" class=\"sk-toggleable__label fitted sk-toggleable__label-arrow fitted\">&nbsp;RandomForestClassifier<a class=\"sk-estimator-doc-link fitted\" rel=\"noreferrer\" target=\"_blank\" href=\"https://scikit-learn.org/1.5/modules/generated/sklearn.ensemble.RandomForestClassifier.html\">?<span>Documentation for RandomForestClassifier</span></a></label><div class=\"sk-toggleable__content fitted\"><pre>RandomForestClassifier(n_estimators=10)</pre></div> </div></div></div></div></div></div>"
            ]
          },
          "metadata": {},
          "execution_count": 96
        }
      ]
    },
    {
      "cell_type": "markdown",
      "source": [
        "**Prediction and Accuracy Score of Approach 2's Data Poisoned Model**"
      ],
      "metadata": {
        "id": "KnW8cWh0Reu2"
      }
    },
    {
      "cell_type": "code",
      "source": [
        "ap2_y_pred = poison_classifier.predict(X_test)\n",
        "\n",
        "#accuracy_score\n",
        "ap2_accuracy = accuracy_score(y_test,ap2_y_pred)\n",
        "print(\"Accuracy: %.2f%%\" % (ap2_accuracy * 100.0))\n",
        "#confusion_matrix\n",
        "ap2_cm = confusion_matrix(y_test,ap2_y_pred)\n",
        "print(ap2_cm)\n",
        "\n",
        "#classification_report\n",
        "ap2_cr = classification_report(y_test,ap2_y_pred)\n",
        "print(ap2_cr)\n",
        "\n",
        "labels = ['Safe', 'Phishing']\n",
        "\n",
        "plt.figure(figsize=(7,5))\n",
        "ax= plt.subplot()\n",
        "sns.heatmap(ap2_cm,cmap=\"Blues\",annot=True,fmt='.1f', ax = ax);\n",
        "\n",
        "# labels, title and ticks\n",
        "\n",
        "ax.set_xticklabels(labels)\n",
        "ax.set_yticklabels(labels)\n",
        "ax.set_xlabel('Predicted labels');ax.set_ylabel('True labels');\n",
        "ax.set_title('Confusion Matrix Random Forest');"
      ],
      "metadata": {
        "colab": {
          "base_uri": "https://localhost:8080/",
          "height": 706
        },
        "id": "Hr8-ADmbRjTU",
        "outputId": "aaadd547-976b-499e-978b-bedcf6474ddf"
      },
      "execution_count": null,
      "outputs": [
        {
          "output_type": "stream",
          "name": "stdout",
          "text": [
            "Accuracy: 74.89%\n",
            "[[1278   40]\n",
            " [ 841 1349]]\n",
            "                precision    recall  f1-score   support\n",
            "\n",
            "Phishing Email       0.60      0.97      0.74      1318\n",
            "    Safe Email       0.97      0.62      0.75      2190\n",
            "\n",
            "      accuracy                           0.75      3508\n",
            "     macro avg       0.79      0.79      0.75      3508\n",
            "  weighted avg       0.83      0.75      0.75      3508\n",
            "\n"
          ]
        },
        {
          "output_type": "display_data",
          "data": {
            "text/plain": [
              "<Figure size 700x500 with 2 Axes>"
            ],
            "image/png": "[encoded data removed]"
          },
          "metadata": {}
        }
      ]
    },
    {
      "cell_type": "markdown",
      "source": [
        "**Train Poison Model - SVM**"
      ],
      "metadata": {
        "id": "yP6PzPlTSaXB"
      }
    },
    {
      "cell_type": "code",
      "source": [
        "poison_classifier_svm = Pipeline([(\"tfidf\",TfidfVectorizer() ),(\"classifier\",SVC(kernel='rbf', random_state=0))])\n",
        "poison_classifier_svm.fit(mal_X,y_train)"
      ],
      "metadata": {
        "colab": {
          "base_uri": "https://localhost:8080/",
          "height": 142
        },
        "id": "kOTlTbrsSfbK",
        "outputId": "065c3c06-4140-4f25-9a96-29b4924755d3"
      },
      "execution_count": null,
      "outputs": [
        {
          "output_type": "execute_result",
          "data": {
            "text/plain": [
              "Pipeline(steps=[('tfidf', TfidfVectorizer()),\n",
              "                ('classifier', SVC(random_state=0))])"
            ],
            "text/html": [
              "<style>#sk-container-id-8 {\n",
              "  /* Definition of color scheme common for light and dark mode */\n",
              "  --sklearn-color-text: black;\n",
              "  --sklearn-color-line: gray;\n",
              "  /* Definition of color scheme for unfitted estimators */\n",
              "  --sklearn-color-unfitted-level-0: #fff5e6;\n",
              "  --sklearn-color-unfitted-level-1: #f6e4d2;\n",
              "  --sklearn-color-unfitted-level-2: #ffe0b3;\n",
              "  --sklearn-color-unfitted-level-3: chocolate;\n",
              "  /* Definition of color scheme for fitted estimators */\n",
              "  --sklearn-color-fitted-level-0: #f0f8ff;\n",
              "  --sklearn-color-fitted-level-1: #d4ebff;\n",
              "  --sklearn-color-fitted-level-2: #b3dbfd;\n",
              "  --sklearn-color-fitted-level-3: cornflowerblue;\n",
              "\n",
              "  /* Specific color for light theme */\n",
              "  --sklearn-color-text-on-default-background: var(--sg-text-color, var(--theme-code-foreground, var(--jp-content-font-color1, black)));\n",
              "  --sklearn-color-background: var(--sg-background-color, var(--theme-background, var(--jp-layout-color0, white)));\n",
              "  --sklearn-color-border-box: var(--sg-text-color, var(--theme-code-foreground, var(--jp-content-font-color1, black)));\n",
              "  --sklearn-color-icon: #696969;\n",
              "\n",
              "  @media (prefers-color-scheme: dark) {\n",
              "    /* Redefinition of color scheme for dark theme */\n",
              "    --sklearn-color-text-on-default-background: var(--sg-text-color, var(--theme-code-foreground, var(--jp-content-font-color1, white)));\n",
              "    --sklearn-color-background: var(--sg-background-color, var(--theme-background, var(--jp-layout-color0, #111)));\n",
              "    --sklearn-color-border-box: var(--sg-text-color, var(--theme-code-foreground, var(--jp-content-font-color1, white)));\n",
              "    --sklearn-color-icon: #878787;\n",
              "  }\n",
              "}\n",
              "\n",
              "#sk-container-id-8 {\n",
              "  color: var(--sklearn-color-text);\n",
              "}\n",
              "\n",
              "#sk-container-id-8 pre {\n",
              "  padding: 0;\n",
              "}\n",
              "\n",
              "#sk-container-id-8 input.sk-hidden--visually {\n",
              "  border: 0;\n",
              "  clip: rect(1px 1px 1px 1px);\n",
              "  clip: rect(1px, 1px, 1px, 1px);\n",
              "  height: 1px;\n",
              "  margin: -1px;\n",
              "  overflow: hidden;\n",
              "  padding: 0;\n",
              "  position: absolute;\n",
              "  width: 1px;\n",
              "}\n",
              "\n",
              "#sk-container-id-8 div.sk-dashed-wrapped {\n",
              "  border: 1px dashed var(--sklearn-color-line);\n",
              "  margin: 0 0.4em 0.5em 0.4em;\n",
              "  box-sizing: border-box;\n",
              "  padding-bottom: 0.4em;\n",
              "  background-color: var(--sklearn-color-background);\n",
              "}\n",
              "\n",
              "#sk-container-id-8 div.sk-container {\n",
              "  /* jupyter's `normalize.less` sets `[hidden] { display: none; }`\n",
              "     but bootstrap.min.css set `[hidden] { display: none !important; }`\n",
              "     so we also need the `!important` here to be able to override the\n",
              "     default hidden behavior on the sphinx rendered scikit-learn.org.\n",
              "     See: https://github.com/scikit-learn/scikit-learn/issues/21755 */\n",
              "  display: inline-block !important;\n",
              "  position: relative;\n",
              "}\n",
              "\n",
              "#sk-container-id-8 div.sk-text-repr-fallback {\n",
              "  display: none;\n",
              "}\n",
              "\n",
              "div.sk-parallel-item,\n",
              "div.sk-serial,\n",
              "div.sk-item {\n",
              "  /* draw centered vertical line to link estimators */\n",
              "  background-image: linear-gradient(var(--sklearn-color-text-on-default-background), var(--sklearn-color-text-on-default-background));\n",
              "  background-size: 2px 100%;\n",
              "  background-repeat: no-repeat;\n",
              "  background-position: center center;\n",
              "}\n",
              "\n",
              "/* Parallel-specific style estimator block */\n",
              "\n",
              "#sk-container-id-8 div.sk-parallel-item::after {\n",
              "  content: \"\";\n",
              "  width: 100%;\n",
              "  border-bottom: 2px solid var(--sklearn-color-text-on-default-background);\n",
              "  flex-grow: 1;\n",
              "}\n",
              "\n",
              "#sk-container-id-8 div.sk-parallel {\n",
              "  display: flex;\n",
              "  align-items: stretch;\n",
              "  justify-content: center;\n",
              "  background-color: var(--sklearn-color-background);\n",
              "  position: relative;\n",
              "}\n",
              "\n",
              "#sk-container-id-8 div.sk-parallel-item {\n",
              "  display: flex;\n",
              "  flex-direction: column;\n",
              "}\n",
              "\n",
              "#sk-container-id-8 div.sk-parallel-item:first-child::after {\n",
              "  align-self: flex-end;\n",
              "  width: 50%;\n",
              "}\n",
              "\n",
              "#sk-container-id-8 div.sk-parallel-item:last-child::after {\n",
              "  align-self: flex-start;\n",
              "  width: 50%;\n",
              "}\n",
              "\n",
              "#sk-container-id-8 div.sk-parallel-item:only-child::after {\n",
              "  width: 0;\n",
              "}\n",
              "\n",
              "/* Serial-specific style estimator block */\n",
              "\n",
              "#sk-container-id-8 div.sk-serial {\n",
              "  display: flex;\n",
              "  flex-direction: column;\n",
              "  align-items: center;\n",
              "  background-color: var(--sklearn-color-background);\n",
              "  padding-right: 1em;\n",
              "  padding-left: 1em;\n",
              "}\n",
              "\n",
              "\n",
              "/* Toggleable style: style used for estimator/Pipeline/ColumnTransformer box that is\n",
              "clickable and can be expanded/collapsed.\n",
              "- Pipeline and ColumnTransformer use this feature and define the default style\n",
              "- Estimators will overwrite some part of the style using the `sk-estimator` class\n",
              "*/\n",
              "\n",
              "/* Pipeline and ColumnTransformer style (default) */\n",
              "\n",
              "#sk-container-id-8 div.sk-toggleable {\n",
              "  /* Default theme specific background. It is overwritten whether we have a\n",
              "  specific estimator or a Pipeline/ColumnTransformer */\n",
              "  background-color: var(--sklearn-color-background);\n",
              "}\n",
              "\n",
              "/* Toggleable label */\n",
              "#sk-container-id-8 label.sk-toggleable__label {\n",
              "  cursor: pointer;\n",
              "  display: block;\n",
              "  width: 100%;\n",
              "  margin-bottom: 0;\n",
              "  padding: 0.5em;\n",
              "  box-sizing: border-box;\n",
              "  text-align: center;\n",
              "}\n",
              "\n",
              "#sk-container-id-8 label.sk-toggleable__label-arrow:before {\n",
              "  /* Arrow on the left of the label */\n",
              "  content: \"▸\";\n",
              "  float: left;\n",
              "  margin-right: 0.25em;\n",
              "  color: var(--sklearn-color-icon);\n",
              "}\n",
              "\n",
              "#sk-container-id-8 label.sk-toggleable__label-arrow:hover:before {\n",
              "  color: var(--sklearn-color-text);\n",
              "}\n",
              "\n",
              "/* Toggleable content - dropdown */\n",
              "\n",
              "#sk-container-id-8 div.sk-toggleable__content {\n",
              "  max-height: 0;\n",
              "  max-width: 0;\n",
              "  overflow: hidden;\n",
              "  text-align: left;\n",
              "  /* unfitted */\n",
              "  background-color: var(--sklearn-color-unfitted-level-0);\n",
              "}\n",
              "\n",
              "#sk-container-id-8 div.sk-toggleable__content.fitted {\n",
              "  /* fitted */\n",
              "  background-color: var(--sklearn-color-fitted-level-0);\n",
              "}\n",
              "\n",
              "#sk-container-id-8 div.sk-toggleable__content pre {\n",
              "  margin: 0.2em;\n",
              "  border-radius: 0.25em;\n",
              "  color: var(--sklearn-color-text);\n",
              "  /* unfitted */\n",
              "  background-color: var(--sklearn-color-unfitted-level-0);\n",
              "}\n",
              "\n",
              "#sk-container-id-8 div.sk-toggleable__content.fitted pre {\n",
              "  /* unfitted */\n",
              "  background-color: var(--sklearn-color-fitted-level-0);\n",
              "}\n",
              "\n",
              "#sk-container-id-8 input.sk-toggleable__control:checked~div.sk-toggleable__content {\n",
              "  /* Expand drop-down */\n",
              "  max-height: 200px;\n",
              "  max-width: 100%;\n",
              "  overflow: auto;\n",
              "}\n",
              "\n",
              "#sk-container-id-8 input.sk-toggleable__control:checked~label.sk-toggleable__label-arrow:before {\n",
              "  content: \"▾\";\n",
              "}\n",
              "\n",
              "/* Pipeline/ColumnTransformer-specific style */\n",
              "\n",
              "#sk-container-id-8 div.sk-label input.sk-toggleable__control:checked~label.sk-toggleable__label {\n",
              "  color: var(--sklearn-color-text);\n",
              "  background-color: var(--sklearn-color-unfitted-level-2);\n",
              "}\n",
              "\n",
              "#sk-container-id-8 div.sk-label.fitted input.sk-toggleable__control:checked~label.sk-toggleable__label {\n",
              "  background-color: var(--sklearn-color-fitted-level-2);\n",
              "}\n",
              "\n",
              "/* Estimator-specific style */\n",
              "\n",
              "/* Colorize estimator box */\n",
              "#sk-container-id-8 div.sk-estimator input.sk-toggleable__control:checked~label.sk-toggleable__label {\n",
              "  /* unfitted */\n",
              "  background-color: var(--sklearn-color-unfitted-level-2);\n",
              "}\n",
              "\n",
              "#sk-container-id-8 div.sk-estimator.fitted input.sk-toggleable__control:checked~label.sk-toggleable__label {\n",
              "  /* fitted */\n",
              "  background-color: var(--sklearn-color-fitted-level-2);\n",
              "}\n",
              "\n",
              "#sk-container-id-8 div.sk-label label.sk-toggleable__label,\n",
              "#sk-container-id-8 div.sk-label label {\n",
              "  /* The background is the default theme color */\n",
              "  color: var(--sklearn-color-text-on-default-background);\n",
              "}\n",
              "\n",
              "/* On hover, darken the color of the background */\n",
              "#sk-container-id-8 div.sk-label:hover label.sk-toggleable__label {\n",
              "  color: var(--sklearn-color-text);\n",
              "  background-color: var(--sklearn-color-unfitted-level-2);\n",
              "}\n",
              "\n",
              "/* Label box, darken color on hover, fitted */\n",
              "#sk-container-id-8 div.sk-label.fitted:hover label.sk-toggleable__label.fitted {\n",
              "  color: var(--sklearn-color-text);\n",
              "  background-color: var(--sklearn-color-fitted-level-2);\n",
              "}\n",
              "\n",
              "/* Estimator label */\n",
              "\n",
              "#sk-container-id-8 div.sk-label label {\n",
              "  font-family: monospace;\n",
              "  font-weight: bold;\n",
              "  display: inline-block;\n",
              "  line-height: 1.2em;\n",
              "}\n",
              "\n",
              "#sk-container-id-8 div.sk-label-container {\n",
              "  text-align: center;\n",
              "}\n",
              "\n",
              "/* Estimator-specific */\n",
              "#sk-container-id-8 div.sk-estimator {\n",
              "  font-family: monospace;\n",
              "  border: 1px dotted var(--sklearn-color-border-box);\n",
              "  border-radius: 0.25em;\n",
              "  box-sizing: border-box;\n",
              "  margin-bottom: 0.5em;\n",
              "  /* unfitted */\n",
              "  background-color: var(--sklearn-color-unfitted-level-0);\n",
              "}\n",
              "\n",
              "#sk-container-id-8 div.sk-estimator.fitted {\n",
              "  /* fitted */\n",
              "  background-color: var(--sklearn-color-fitted-level-0);\n",
              "}\n",
              "\n",
              "/* on hover */\n",
              "#sk-container-id-8 div.sk-estimator:hover {\n",
              "  /* unfitted */\n",
              "  background-color: var(--sklearn-color-unfitted-level-2);\n",
              "}\n",
              "\n",
              "#sk-container-id-8 div.sk-estimator.fitted:hover {\n",
              "  /* fitted */\n",
              "  background-color: var(--sklearn-color-fitted-level-2);\n",
              "}\n",
              "\n",
              "/* Specification for estimator info (e.g. \"i\" and \"?\") */\n",
              "\n",
              "/* Common style for \"i\" and \"?\" */\n",
              "\n",
              ".sk-estimator-doc-link,\n",
              "a:link.sk-estimator-doc-link,\n",
              "a:visited.sk-estimator-doc-link {\n",
              "  float: right;\n",
              "  font-size: smaller;\n",
              "  line-height: 1em;\n",
              "  font-family: monospace;\n",
              "  background-color: var(--sklearn-color-background);\n",
              "  border-radius: 1em;\n",
              "  height: 1em;\n",
              "  width: 1em;\n",
              "  text-decoration: none !important;\n",
              "  margin-left: 1ex;\n",
              "  /* unfitted */\n",
              "  border: var(--sklearn-color-unfitted-level-1) 1pt solid;\n",
              "  color: var(--sklearn-color-unfitted-level-1);\n",
              "}\n",
              "\n",
              ".sk-estimator-doc-link.fitted,\n",
              "a:link.sk-estimator-doc-link.fitted,\n",
              "a:visited.sk-estimator-doc-link.fitted {\n",
              "  /* fitted */\n",
              "  border: var(--sklearn-color-fitted-level-1) 1pt solid;\n",
              "  color: var(--sklearn-color-fitted-level-1);\n",
              "}\n",
              "\n",
              "/* On hover */\n",
              "div.sk-estimator:hover .sk-estimator-doc-link:hover,\n",
              ".sk-estimator-doc-link:hover,\n",
              "div.sk-label-container:hover .sk-estimator-doc-link:hover,\n",
              ".sk-estimator-doc-link:hover {\n",
              "  /* unfitted */\n",
              "  background-color: var(--sklearn-color-unfitted-level-3);\n",
              "  color: var(--sklearn-color-background);\n",
              "  text-decoration: none;\n",
              "}\n",
              "\n",
              "div.sk-estimator.fitted:hover .sk-estimator-doc-link.fitted:hover,\n",
              ".sk-estimator-doc-link.fitted:hover,\n",
              "div.sk-label-container:hover .sk-estimator-doc-link.fitted:hover,\n",
              ".sk-estimator-doc-link.fitted:hover {\n",
              "  /* fitted */\n",
              "  background-color: var(--sklearn-color-fitted-level-3);\n",
              "  color: var(--sklearn-color-background);\n",
              "  text-decoration: none;\n",
              "}\n",
              "\n",
              "/* Span, style for the box shown on hovering the info icon */\n",
              ".sk-estimator-doc-link span {\n",
              "  display: none;\n",
              "  z-index: 9999;\n",
              "  position: relative;\n",
              "  font-weight: normal;\n",
              "  right: .2ex;\n",
              "  padding: .5ex;\n",
              "  margin: .5ex;\n",
              "  width: min-content;\n",
              "  min-width: 20ex;\n",
              "  max-width: 50ex;\n",
              "  color: var(--sklearn-color-text);\n",
              "  box-shadow: 2pt 2pt 4pt #999;\n",
              "  /* unfitted */\n",
              "  background: var(--sklearn-color-unfitted-level-0);\n",
              "  border: .5pt solid var(--sklearn-color-unfitted-level-3);\n",
              "}\n",
              "\n",
              ".sk-estimator-doc-link.fitted span {\n",
              "  /* fitted */\n",
              "  background: var(--sklearn-color-fitted-level-0);\n",
              "  border: var(--sklearn-color-fitted-level-3);\n",
              "}\n",
              "\n",
              ".sk-estimator-doc-link:hover span {\n",
              "  display: block;\n",
              "}\n",
              "\n",
              "/* \"?\"-specific style due to the `<a>` HTML tag */\n",
              "\n",
              "#sk-container-id-8 a.estimator_doc_link {\n",
              "  float: right;\n",
              "  font-size: 1rem;\n",
              "  line-height: 1em;\n",
              "  font-family: monospace;\n",
              "  background-color: var(--sklearn-color-background);\n",
              "  border-radius: 1rem;\n",
              "  height: 1rem;\n",
              "  width: 1rem;\n",
              "  text-decoration: none;\n",
              "  /* unfitted */\n",
              "  color: var(--sklearn-color-unfitted-level-1);\n",
              "  border: var(--sklearn-color-unfitted-level-1) 1pt solid;\n",
              "}\n",
              "\n",
              "#sk-container-id-8 a.estimator_doc_link.fitted {\n",
              "  /* fitted */\n",
              "  border: var(--sklearn-color-fitted-level-1) 1pt solid;\n",
              "  color: var(--sklearn-color-fitted-level-1);\n",
              "}\n",
              "\n",
              "/* On hover */\n",
              "#sk-container-id-8 a.estimator_doc_link:hover {\n",
              "  /* unfitted */\n",
              "  background-color: var(--sklearn-color-unfitted-level-3);\n",
              "  color: var(--sklearn-color-background);\n",
              "  text-decoration: none;\n",
              "}\n",
              "\n",
              "#sk-container-id-8 a.estimator_doc_link.fitted:hover {\n",
              "  /* fitted */\n",
              "  background-color: var(--sklearn-color-fitted-level-3);\n",
              "}\n",
              "</style><div id=\"sk-container-id-8\" class=\"sk-top-container\"><div class=\"sk-text-repr-fallback\"><pre>Pipeline(steps=[(&#x27;tfidf&#x27;, TfidfVectorizer()),\n",
              "                (&#x27;classifier&#x27;, SVC(random_state=0))])</pre><b>In a Jupyter environment, please rerun this cell to show the HTML representation or trust the notebook. <br />On GitHub, the HTML representation is unable to render, please try loading this page with nbviewer.org.</b></div><div class=\"sk-container\" hidden><div class=\"sk-item sk-dashed-wrapped\"><div class=\"sk-label-container\"><div class=\"sk-label fitted sk-toggleable\"><input class=\"sk-toggleable__control sk-hidden--visually\" id=\"sk-estimator-id-22\" type=\"checkbox\" ><label for=\"sk-estimator-id-22\" class=\"sk-toggleable__label fitted sk-toggleable__label-arrow fitted\">&nbsp;&nbsp;Pipeline<a class=\"sk-estimator-doc-link fitted\" rel=\"noreferrer\" target=\"_blank\" href=\"https://scikit-learn.org/1.5/modules/generated/sklearn.pipeline.Pipeline.html\">?<span>Documentation for Pipeline</span></a><span class=\"sk-estimator-doc-link fitted\">i<span>Fitted</span></span></label><div class=\"sk-toggleable__content fitted\"><pre>Pipeline(steps=[(&#x27;tfidf&#x27;, TfidfVectorizer()),\n",
              "                (&#x27;classifier&#x27;, SVC(random_state=0))])</pre></div> </div></div><div class=\"sk-serial\"><div class=\"sk-item\"><div class=\"sk-estimator fitted sk-toggleable\"><input class=\"sk-toggleable__control sk-hidden--visually\" id=\"sk-estimator-id-23\" type=\"checkbox\" ><label for=\"sk-estimator-id-23\" class=\"sk-toggleable__label fitted sk-toggleable__label-arrow fitted\">&nbsp;TfidfVectorizer<a class=\"sk-estimator-doc-link fitted\" rel=\"noreferrer\" target=\"_blank\" href=\"https://scikit-learn.org/1.5/modules/generated/sklearn.feature_extraction.text.TfidfVectorizer.html\">?<span>Documentation for TfidfVectorizer</span></a></label><div class=\"sk-toggleable__content fitted\"><pre>TfidfVectorizer()</pre></div> </div></div><div class=\"sk-item\"><div class=\"sk-estimator fitted sk-toggleable\"><input class=\"sk-toggleable__control sk-hidden--visually\" id=\"sk-estimator-id-24\" type=\"checkbox\" ><label for=\"sk-estimator-id-24\" class=\"sk-toggleable__label fitted sk-toggleable__label-arrow fitted\">&nbsp;SVC<a class=\"sk-estimator-doc-link fitted\" rel=\"noreferrer\" target=\"_blank\" href=\"https://scikit-learn.org/1.5/modules/generated/sklearn.svm.SVC.html\">?<span>Documentation for SVC</span></a></label><div class=\"sk-toggleable__content fitted\"><pre>SVC(random_state=0)</pre></div> </div></div></div></div></div></div>"
            ]
          },
          "metadata": {},
          "execution_count": 69
        }
      ]
    },
    {
      "cell_type": "markdown",
      "source": [
        "**Poison SVM Model Analysis**"
      ],
      "metadata": {
        "id": "8NizkclWUuBP"
      }
    },
    {
      "cell_type": "code",
      "source": [
        "ap2_y_pred_svm = poison_classifier_svm.predict(X_test)\n",
        "\n",
        "#accuracy_score\n",
        "ap2_accuracy_svm = accuracy_score(y_test,ap2_y_pred_svm)\n",
        "print(\"Accuracy: %.2f%%\" % (ap2_accuracy_svm * 100.0))\n",
        "#confusion_matrix\n",
        "ap2_cm_svm = confusion_matrix(y_test,ap2_y_pred_svm)\n",
        "print(ap2_cm_svm)\n",
        "\n",
        "#classification_report\n",
        "ap2_cr_svm = classification_report(y_test,ap2_y_pred_svm)\n",
        "print(ap2_cr_svm)\n",
        "\n",
        "labels = ['Safe', 'Phishing']\n",
        "\n",
        "plt.figure(figsize=(7,5))\n",
        "ax= plt.subplot()\n",
        "sns.heatmap(ap2_cm_svm,cmap=\"Greens\",annot=True,fmt='.1f', ax = ax);\n",
        "\n",
        "# labels, title and ticks\n",
        "\n",
        "ax.set_xticklabels(labels)\n",
        "ax.set_yticklabels(labels)\n",
        "ax.set_xlabel('Predicted labels');ax.set_ylabel('True labels');\n",
        "ax.set_title('Confusion Matrix Support Vector Machine');"
      ],
      "metadata": {
        "colab": {
          "base_uri": "https://localhost:8080/",
          "height": 706
        },
        "id": "2qzBodEmUxh7",
        "outputId": "32dd47b7-6c42-40c9-b396-b945ce179eeb"
      },
      "execution_count": null,
      "outputs": [
        {
          "output_type": "stream",
          "name": "stdout",
          "text": [
            "Accuracy: 89.71%\n",
            "[[1304   14]\n",
            " [ 347 1843]]\n",
            "                precision    recall  f1-score   support\n",
            "\n",
            "Phishing Email       0.79      0.99      0.88      1318\n",
            "    Safe Email       0.99      0.84      0.91      2190\n",
            "\n",
            "      accuracy                           0.90      3508\n",
            "     macro avg       0.89      0.92      0.89      3508\n",
            "  weighted avg       0.92      0.90      0.90      3508\n",
            "\n"
          ]
        },
        {
          "output_type": "display_data",
          "data": {
            "text/plain": [
              "<Figure size 700x500 with 2 Axes>"
            ],
            "image/png": "[encoded data removed]"
          },
          "metadata": {}
        }
      ]
    },
    {
      "cell_type": "markdown",
      "source": [
        "**Testing Email Samples to see if Poisoned Model Works**"
      ],
      "metadata": {
        "id": "LF74MsEuSQBp"
      }
    },
    {
      "cell_type": "code",
      "source": [
        "ham_test = 'Hi Kurt! How was your day? This is Prof Charles. I would like to arrange a work meeting with you soon. Please let me know your availabilityes.'\n",
        "spam_test = 'Would you like a free Amazon Gift Card? Follow the link provided!! <link>'\n",
        "spam_test_2 = 'Thanks for your subscription to Hulu and you will be charged $9.99/month.'\n",
        "ham_test_2 = 'omw to work now'\n",
        "\n",
        "test_list = [ham_test, ham_test_2, spam_test, spam_test_2]\n",
        "test_expected = ['Safe Email', 'Safe Email', 'Phishing Email', 'Phishing Email']\n",
        "\n",
        "# RF test\n",
        "test_pred = poison_classifier.predict(test_list)\n",
        "print('RF Results', test_pred)\n",
        "test_accuracy = accuracy_score(test_expected,test_pred)\n",
        "print(\"RF Accuracy: %.2f%%\" % (test_accuracy * 100.0))\n",
        "\n",
        "# SVM test\n",
        "test_pred_svm = poison_classifier_svm.predict(test_list)\n",
        "print('SVM Results', test_pred_svm)\n",
        "test_accuracy_svm = accuracy_score(test_expected,test_pred_svm)\n",
        "print(\"SVM Accuracy: %.2f%%\" % (test_accuracy_svm * 100.0))"
      ],
      "metadata": {
        "colab": {
          "base_uri": "https://localhost:8080/"
        },
        "id": "2XKmXs9ySPyG",
        "outputId": "0e727af7-872a-47e8-dece-08ce678f9950"
      },
      "execution_count": null,
      "outputs": [
        {
          "output_type": "stream",
          "name": "stdout",
          "text": [
            "RF Results ['Safe Email' 'Phishing Email' 'Phishing Email' 'Safe Email']\n",
            "RF Accuracy: 50.00%\n",
            "SVM Results ['Safe Email' 'Phishing Email' 'Phishing Email' 'Phishing Email']\n",
            "SVM Accuracy: 75.00%\n"
          ]
        }
      ]
    }
  ]
}